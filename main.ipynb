{
 "cells": [
  {
   "cell_type": "code",
   "execution_count": 1,
   "id": "03f3fb41-ce21-4294-9652-9e7107a34892",
   "metadata": {},
   "outputs": [],
   "source": [
    "from PIL import Image\n",
    "import cv2\n",
    "import numpy as np\n",
    "from datasets import load_dataset\n",
    "import random\n",
    "from tqdm.notebook import tqdm, trange\n",
    "\n",
    "ds = load_dataset(\"Chris1/cityscapes\")"
   ]
  },
  {
   "cell_type": "code",
   "execution_count": 2,
   "id": "74393b52-a5c9-4fba-97b6-3768f67c0be1",
   "metadata": {},
   "outputs": [],
   "source": [
    "def RGB2gray(img: np.array):\n",
    "    return cv2.cvtColor(img, cv2.COLOR_BGR2GRAY)\n",
    "\n",
    "\n",
    "def RGB2Lab(img: np.array):\n",
    "    return cv2.cvtColor(img, cv2.COLOR_BGR2LAB)\n",
    "\n",
    "\n",
    "def RGB2YCC(img: np.array):\n",
    "    return cv2.cvtColor(img, cv2.COLOR_BGR2YCR_CB)\n",
    "\n",
    "\n",
    "def RGB2HSL(img: np.array):\n",
    "    return cv2.cvtColor(img, cv2.COLOR_BGR2HLS)"
   ]
  },
  {
   "cell_type": "code",
   "execution_count": 3,
   "id": "8900ed69-58f6-4e7c-9b8a-452ad0da27e0",
   "metadata": {},
   "outputs": [],
   "source": [
    "def get_same_color_pixels(img, color):\n",
    "    return ((img == color * np.ones(img.shape))).astype(np.uint8) * 255"
   ]
  },
  {
   "cell_type": "code",
   "execution_count": 4,
   "id": "85d64f72-52f2-43a1-abed-3bc65a2fd568",
   "metadata": {},
   "outputs": [],
   "source": [
    "def is_inside(coord, shape):\n",
    "    return coord[0] >= 0 and coord[0] < shape[0] and coord[1] >= 0 and coord[1] < shape[1]\n",
    "\n",
    "\n",
    "def tuple_sum(t1, t2):\n",
    "    if len(t1) != len(t2):\n",
    "        raise ValueError\n",
    "    return tuple(t1[i] + t2[i] for i in range(len(t1)))"
   ]
  },
  {
   "cell_type": "code",
   "execution_count": 5,
   "id": "35a2782f-4201-441b-b204-bcbc8bf02648",
   "metadata": {},
   "outputs": [],
   "source": [
    "def intersection_over_union(pred: np.array, true: np.array):\n",
    "    \"\"\"\n",
    "    Computes IntersectionOverUnion metrics\n",
    "    \"\"\"\n",
    "    res = {}\n",
    "    for c in tqdm(np.unique(pred), desc=\"calculating IoU\"):\n",
    "        res |= {c: np.vectorize(lambda x, y: x == c and y == c)(pred, true).sum() / (np.vectorize(lambda x, y: x == c or y == c)(pred, true)).sum()}\n",
    "    wmean = sum(res[c] * (true == c).sum() for c in res)\n",
    "    res |= {'mean': sum(res.values()) / len(res)}\n",
    "    res |= {'weighted_mean': wmean / (1 << 21)}\n",
    "    return res"
   ]
  },
  {
   "cell_type": "code",
   "execution_count": 64,
   "id": "1ba74ab8-0588-4399-8216-038414e8c17e",
   "metadata": {},
   "outputs": [],
   "source": [
    "def process_image(img: np.array, class_map: np.array, criteria):\n",
    "    seeds = []\n",
    "    label_dict = {}\n",
    "    for l in tqdm(np.unique(class_map), desc=\"finding centroids\"):\n",
    "        seeds += (curr := find_centroids(get_same_color_pixels(class_map, l)))\n",
    "        if l:\n",
    "            label_dict |= {tuple(seed.tolist()): l for seed in curr}\n",
    "    \n",
    "    return regional_growth(img, label_dict, criteria)"
   ]
  },
  {
   "cell_type": "code",
   "execution_count": 28,
   "id": "6f445d1e-ff23-4b5f-a427-7696acbdbf24",
   "metadata": {},
   "outputs": [],
   "source": [
    "def find_centroids(cmap: np.array):\n",
    "    *_, centroids = cv2.connectedComponentsWithStats(cmap)\n",
    "    \n",
    "    res = []\n",
    "    for c in centroids.astype(int):\n",
    "        c = c[::-1]\n",
    "        if is_inside(c, cmap.shape) and cmap[*c] != 0:\n",
    "           res.append(c)\n",
    "    return res"
   ]
  },
  {
   "cell_type": "code",
   "execution_count": 63,
   "id": "60cd53b0-23bb-4763-a6cb-377bf73cd8af",
   "metadata": {},
   "outputs": [],
   "source": [
    "def regional_growth(img: np.array, labels: dict, grow_criteria: callable):\n",
    "    directions = tuple((x, y) for x in range(-2, 3) for y in range(-2, 3) if x and y)\n",
    "\n",
    "    mask = np.zeros(img.shape[:2], dtype=np.uint8)\n",
    "    for current_point, label in tqdm(labels.items(), desc=f\"class growing\"):\n",
    "        current_class = [current_point]\n",
    "        \n",
    "        for x in range(-4, 5):\n",
    "            for y in range(-4, 5):\n",
    "                if is_inside(p := tuple_sum(current_point, (x, y)), img.shape):\n",
    "                    current_class.append(p)\n",
    "                    mask[*p] = label\n",
    "        while current_class:\n",
    "            current_point = current_class.pop()\n",
    "            for direction in random.sample(directions, 6):\n",
    "                new_point = tuple_sum(current_point, direction)\n",
    "                if is_inside(new_point, img.shape) and not mask[*new_point] and grow_criteria(img[*new_point], img[*current_point]):\n",
    "                    current_class.append(new_point)\n",
    "                    mask[*new_point] = label\n",
    "    \n",
    "    return mask"
   ]
  },
  {
   "cell_type": "code",
   "execution_count": 10,
   "id": "9245180c-63f2-4a88-9b9a-a248195a625e",
   "metadata": {},
   "outputs": [],
   "source": [
    "def show_image(img: np.array):\n",
    "    cv2.imshow('window', img)\n",
    "    cv2.waitKey(0)\n",
    "    cv2.destroyAllWindows()"
   ]
  },
  {
   "cell_type": "code",
   "execution_count": 66,
   "id": "a484769f-14bb-4cf5-85c5-b3553a60983c",
   "metadata": {
    "scrolled": true
   },
   "outputs": [
    {
     "data": {
      "application/vnd.jupyter.widget-view+json": {
       "model_id": "74cd4f1ddb0b4c49a2af1c85fa24f126",
       "version_major": 2,
       "version_minor": 0
      },
      "text/plain": [
       "  0%|          | 0/500 [00:00<?, ?it/s]"
      ]
     },
     "metadata": {},
     "output_type": "display_data"
    },
    {
     "data": {
      "application/vnd.jupyter.widget-view+json": {
       "model_id": "41777a9e74024724be70fbda76353f63",
       "version_major": 2,
       "version_minor": 0
      },
      "text/plain": [
       "finding centroids:   0%|          | 0/14 [00:00<?, ?it/s]"
      ]
     },
     "metadata": {},
     "output_type": "display_data"
    },
    {
     "data": {
      "application/vnd.jupyter.widget-view+json": {
       "model_id": "baeb5f94eff54bfe9ab59dc63333e07a",
       "version_major": 2,
       "version_minor": 0
      },
      "text/plain": [
       "class growing:   0%|          | 0/66 [00:00<?, ?it/s]"
      ]
     },
     "metadata": {},
     "output_type": "display_data"
    },
    {
     "data": {
      "application/vnd.jupyter.widget-view+json": {
       "model_id": "0890684b2d0f4aa4895d54566bc06461",
       "version_major": 2,
       "version_minor": 0
      },
      "text/plain": [
       "calculating IoU:   0%|          | 0/14 [00:00<?, ?it/s]"
      ]
     },
     "metadata": {},
     "output_type": "display_data"
    },
    {
     "name": "stdout",
     "output_type": "stream",
     "text": [
      "{np.uint8(0): np.float64(0.0), np.uint8(1): np.float64(0.14971708946977716), np.uint8(2): np.float64(0.023092267235337458), np.uint8(4): np.float64(0.18880093814130752), np.uint8(7): np.float64(0.0002641644159324764), np.uint8(8): np.float64(0.06993763130522014), np.uint8(11): np.float64(0.06893922219245276), np.uint8(13): np.float64(0.0375), np.uint8(17): np.float64(0.051680820580968005), np.uint8(20): np.float64(0.12752104176592027), np.uint8(21): np.float64(0.035206932474666164), np.uint8(23): np.float64(0.8849290391684316), np.uint8(24): np.float64(0.03650491130332796), np.uint8(26): np.float64(0.001995557714999653), 'mean': np.float64(0.11972068684059581), 'weighted_mean': np.float64(0.06151639994604427)}\n"
     ]
    },
    {
     "data": {
      "application/vnd.jupyter.widget-view+json": {
       "model_id": "3c5a0632bb80424e8933a4bf775d2f7c",
       "version_major": 2,
       "version_minor": 0
      },
      "text/plain": [
       "finding centroids:   0%|          | 0/16 [00:00<?, ?it/s]"
      ]
     },
     "metadata": {},
     "output_type": "display_data"
    },
    {
     "data": {
      "application/vnd.jupyter.widget-view+json": {
       "model_id": "c27552195bc845cf82c872df850d9414",
       "version_major": 2,
       "version_minor": 0
      },
      "text/plain": [
       "class growing:   0%|          | 0/51 [00:00<?, ?it/s]"
      ]
     },
     "metadata": {},
     "output_type": "display_data"
    },
    {
     "data": {
      "application/vnd.jupyter.widget-view+json": {
       "model_id": "9ba3ce31ce2f4a3a94419448f63aa0b8",
       "version_major": 2,
       "version_minor": 0
      },
      "text/plain": [
       "calculating IoU:   0%|          | 0/16 [00:00<?, ?it/s]"
      ]
     },
     "metadata": {},
     "output_type": "display_data"
    },
    {
     "name": "stdout",
     "output_type": "stream",
     "text": [
      "{np.uint8(0): np.float64(0.0), np.uint8(1): np.float64(0.11005598175409496), np.uint8(2): np.float64(0.028341756855099848), np.uint8(4): np.float64(0.0055488390836665735), np.uint8(7): np.float64(0.000111777482771088), np.uint8(8): np.float64(0.054326287978863935), np.uint8(9): np.float64(0.07088654451230798), np.uint8(11): np.float64(0.10059149284606102), np.uint8(13): np.float64(0.24125255275697755), np.uint8(17): np.float64(0.05098684210526316), np.uint8(20): np.float64(0.2437266417512013), np.uint8(21): np.float64(0.32947695420282413), np.uint8(23): np.float64(0.0026171326439422956), np.uint8(25): np.float64(0.03968590831918506), np.uint8(26): np.float64(0.09295116153915149), np.uint8(33): np.float64(0.17836676217765043), 'mean': np.float64(0.09680791475056628), 'weighted_mean': np.float64(0.07915679651753312)}\n"
     ]
    },
    {
     "data": {
      "application/vnd.jupyter.widget-view+json": {
       "model_id": "0aeb630eb0774c28a45e2993a8611599",
       "version_major": 2,
       "version_minor": 0
      },
      "text/plain": [
       "finding centroids:   0%|          | 0/14 [00:00<?, ?it/s]"
      ]
     },
     "metadata": {},
     "output_type": "display_data"
    },
    {
     "data": {
      "application/vnd.jupyter.widget-view+json": {
       "model_id": "a194a7b0a8434021b7d2b1d64b4b89fb",
       "version_major": 2,
       "version_minor": 0
      },
      "text/plain": [
       "class growing:   0%|          | 0/46 [00:00<?, ?it/s]"
      ]
     },
     "metadata": {},
     "output_type": "display_data"
    },
    {
     "data": {
      "application/vnd.jupyter.widget-view+json": {
       "model_id": "02c72929300744219e042bfb57634157",
       "version_major": 2,
       "version_minor": 0
      },
      "text/plain": [
       "calculating IoU:   0%|          | 0/14 [00:00<?, ?it/s]"
      ]
     },
     "metadata": {},
     "output_type": "display_data"
    },
    {
     "name": "stdout",
     "output_type": "stream",
     "text": [
      "{np.uint8(0): np.float64(0.0), np.uint8(1): np.float64(0.09941457744837194), np.uint8(2): np.float64(0.03618855788634262), np.uint8(4): np.float64(0.45151869158878505), np.uint8(7): np.float64(0.003989371104847914), np.uint8(8): np.float64(0.14411758848015296), np.uint8(11): np.float64(0.0025267173577904942), np.uint8(17): np.float64(0.00727399318406684), np.uint8(20): np.float64(0.3074965746721472), np.uint8(21): np.float64(0.45249950209121687), np.uint8(24): np.float64(0.11793611793611794), np.uint8(25): np.float64(0.4605484560462049), np.uint8(26): np.float64(0.08776260321892633), np.uint8(33): np.float64(0.08468761285662695), 'mean': np.float64(0.16114002599082844), 'weighted_mean': np.float64(0.03641394125402109)}\n"
     ]
    },
    {
     "data": {
      "application/vnd.jupyter.widget-view+json": {
       "model_id": "320270af96dc4f6a94ceb1662c2a7953",
       "version_major": 2,
       "version_minor": 0
      },
      "text/plain": [
       "finding centroids:   0%|          | 0/19 [00:00<?, ?it/s]"
      ]
     },
     "metadata": {},
     "output_type": "display_data"
    },
    {
     "data": {
      "application/vnd.jupyter.widget-view+json": {
       "model_id": "f925f2023baf422a9b6ced836ecdb701",
       "version_major": 2,
       "version_minor": 0
      },
      "text/plain": [
       "class growing:   0%|          | 0/141 [00:00<?, ?it/s]"
      ]
     },
     "metadata": {},
     "output_type": "display_data"
    },
    {
     "data": {
      "application/vnd.jupyter.widget-view+json": {
       "model_id": "1b10bc7152a94a1e9b7ff725bb2ca64e",
       "version_major": 2,
       "version_minor": 0
      },
      "text/plain": [
       "calculating IoU:   0%|          | 0/19 [00:00<?, ?it/s]"
      ]
     },
     "metadata": {},
     "output_type": "display_data"
    },
    {
     "name": "stdout",
     "output_type": "stream",
     "text": [
      "{np.uint8(0): np.float64(0.0), np.uint8(1): np.float64(0.11278724864510938), np.uint8(2): np.float64(0.01247069467531675), np.uint8(4): np.float64(0.4889376249758111), np.uint8(5): np.float64(0.045417960216166495), np.uint8(7): np.float64(0.0002186130935501642), np.uint8(8): np.float64(0.12338819266193568), np.uint8(11): np.float64(0.09617032306374156), np.uint8(13): np.float64(0.2784050120733538), np.uint8(17): np.float64(0.08782449463214966), np.uint8(19): np.float64(0.037834757834757836), np.uint8(20): np.float64(0.1895615866388309), np.uint8(21): np.float64(0.0006233870324365342), np.uint8(22): np.float64(0.15963855421686746), np.uint8(23): np.float64(0.0034416033172080165), np.uint8(24): np.float64(0.11426616489907629), np.uint8(25): np.float64(0.1897810218978102), np.uint8(26): np.float64(0.026050091267106088), np.uint8(33): np.float64(0.5498783454987834), 'mean': np.float64(0.13245766719157953), 'weighted_mean': np.float64(0.02305903203660684)}\n"
     ]
    },
    {
     "data": {
      "application/vnd.jupyter.widget-view+json": {
       "model_id": "84f9cbdba0e24014be73e7d3ca76fb0a",
       "version_major": 2,
       "version_minor": 0
      },
      "text/plain": [
       "finding centroids:   0%|          | 0/18 [00:00<?, ?it/s]"
      ]
     },
     "metadata": {},
     "output_type": "display_data"
    },
    {
     "data": {
      "application/vnd.jupyter.widget-view+json": {
       "model_id": "ba290cb47b04402cafca046810ae7ee3",
       "version_major": 2,
       "version_minor": 0
      },
      "text/plain": [
       "class growing:   0%|          | 0/91 [00:00<?, ?it/s]"
      ]
     },
     "metadata": {},
     "output_type": "display_data"
    },
    {
     "data": {
      "application/vnd.jupyter.widget-view+json": {
       "model_id": "5f28e17d6d9b4d2db076133cfe2edf46",
       "version_major": 2,
       "version_minor": 0
      },
      "text/plain": [
       "calculating IoU:   0%|          | 0/18 [00:00<?, ?it/s]"
      ]
     },
     "metadata": {},
     "output_type": "display_data"
    },
    {
     "name": "stdout",
     "output_type": "stream",
     "text": [
      "{np.uint8(0): np.float64(0.0), np.uint8(1): np.float64(0.12751545802437658), np.uint8(2): np.float64(0.011579894656044044), np.uint8(4): np.float64(0.16945228505280518), np.uint8(5): np.float64(0.0008791570212389157), np.uint8(7): np.float64(0.00010167666068740955), np.uint8(8): np.float64(0.09096856044086746), np.uint8(11): np.float64(0.06330090001000666), np.uint8(17): np.float64(0.09162793182668162), np.uint8(19): np.float64(0.016555579445280584), np.uint8(20): np.float64(0.34737193021446827), np.uint8(21): np.float64(0.0029124984171204253), np.uint8(23): np.float64(0.018327561759060085), np.uint8(24): np.float64(0.2835164835164835), np.uint8(25): np.float64(0.25512784490025286), np.uint8(26): np.float64(0.4204887297686637), np.uint8(27): np.float64(0.051559516231699555), np.uint8(33): np.float64(0.04809286898839138), 'mean': np.float64(0.11107660427411822), 'weighted_mean': np.float64(0.06595406092077395)}\n"
     ]
    },
    {
     "data": {
      "application/vnd.jupyter.widget-view+json": {
       "model_id": "1ab82a108b014729854b6b6efcc44b99",
       "version_major": 2,
       "version_minor": 0
      },
      "text/plain": [
       "finding centroids:   0%|          | 0/15 [00:00<?, ?it/s]"
      ]
     },
     "metadata": {},
     "output_type": "display_data"
    },
    {
     "data": {
      "application/vnd.jupyter.widget-view+json": {
       "model_id": "8c730b55fdca4419a31165ebee1468e8",
       "version_major": 2,
       "version_minor": 0
      },
      "text/plain": [
       "class growing:   0%|          | 0/77 [00:00<?, ?it/s]"
      ]
     },
     "metadata": {},
     "output_type": "display_data"
    },
    {
     "data": {
      "application/vnd.jupyter.widget-view+json": {
       "model_id": "e5dbf47ef8fc4e99bfc727af1f6e3ab5",
       "version_major": 2,
       "version_minor": 0
      },
      "text/plain": [
       "calculating IoU:   0%|          | 0/15 [00:00<?, ?it/s]"
      ]
     },
     "metadata": {},
     "output_type": "display_data"
    },
    {
     "name": "stdout",
     "output_type": "stream",
     "text": [
      "{np.uint8(0): np.float64(0.0), np.uint8(1): np.float64(0.1242549543906286), np.uint8(2): np.float64(0.003996144492352443), np.uint8(4): np.float64(0.06905399952405095), np.uint8(5): np.float64(0.2738469168457596), np.uint8(7): np.float64(9.826972491756261e-05), np.uint8(8): np.float64(0.15964532688473124), np.uint8(11): np.float64(0.09537610159461318), np.uint8(17): np.float64(0.05976921153227823), np.uint8(19): np.float64(0.1958154506437768), np.uint8(20): np.float64(0.33458518265619663), np.uint8(21): np.float64(0.023165822889866378), np.uint8(23): np.float64(0.0008220262439489734), np.uint8(24): np.float64(0.05842743188646017), np.uint8(26): np.float64(0.16346500695681052), 'mean': np.float64(0.10415478975109274), 'weighted_mean': np.float64(0.058280162832005385)}\n"
     ]
    },
    {
     "data": {
      "application/vnd.jupyter.widget-view+json": {
       "model_id": "9de5bbf008584034acef774d16476b98",
       "version_major": 2,
       "version_minor": 0
      },
      "text/plain": [
       "finding centroids:   0%|          | 0/17 [00:00<?, ?it/s]"
      ]
     },
     "metadata": {},
     "output_type": "display_data"
    },
    {
     "data": {
      "application/vnd.jupyter.widget-view+json": {
       "model_id": "49963b56ca3e46a78de5cecf38f1cf99",
       "version_major": 2,
       "version_minor": 0
      },
      "text/plain": [
       "class growing:   0%|          | 0/105 [00:00<?, ?it/s]"
      ]
     },
     "metadata": {},
     "output_type": "display_data"
    },
    {
     "data": {
      "application/vnd.jupyter.widget-view+json": {
       "model_id": "b6b6dc2971704b4b87c6f4e9b01179e1",
       "version_major": 2,
       "version_minor": 0
      },
      "text/plain": [
       "calculating IoU:   0%|          | 0/17 [00:00<?, ?it/s]"
      ]
     },
     "metadata": {},
     "output_type": "display_data"
    },
    {
     "name": "stdout",
     "output_type": "stream",
     "text": [
      "{np.uint8(0): np.float64(0.0), np.uint8(1): np.float64(0.0857596303081932), np.uint8(2): np.float64(0.01155937129938637), np.uint8(4): np.float64(0.11548930654569022), np.uint8(7): np.float64(0.0004921175289563917), np.uint8(8): np.float64(0.0011099083297935023), np.uint8(11): np.float64(0.17633863023319882), np.uint8(13): np.float64(0.32741994847258005), np.uint8(17): np.float64(0.0514996415531585), np.uint8(19): np.float64(0.1426220515633571), np.uint8(20): np.float64(0.04242512147363841), np.uint8(21): np.float64(0.01256665467265826), np.uint8(23): np.float64(0.015670686659105336), np.uint8(26): np.float64(0.15503151354360692), np.uint8(27): np.float64(0.2924137931034483), np.uint8(32): np.float64(0.0041345232692986435), np.uint8(33): np.float64(0.10673624288425047), 'mean': np.float64(0.09066289067296002), 'weighted_mean': np.float64(0.04554932249232292)}\n"
     ]
    },
    {
     "data": {
      "application/vnd.jupyter.widget-view+json": {
       "model_id": "c8cfa96a1201414da6e2e119db3cbab6",
       "version_major": 2,
       "version_minor": 0
      },
      "text/plain": [
       "finding centroids:   0%|          | 0/16 [00:00<?, ?it/s]"
      ]
     },
     "metadata": {},
     "output_type": "display_data"
    },
    {
     "data": {
      "application/vnd.jupyter.widget-view+json": {
       "model_id": "4d43d3e750254d3cae21a2066fed59af",
       "version_major": 2,
       "version_minor": 0
      },
      "text/plain": [
       "class growing:   0%|          | 0/113 [00:00<?, ?it/s]"
      ]
     },
     "metadata": {},
     "output_type": "display_data"
    },
    {
     "data": {
      "application/vnd.jupyter.widget-view+json": {
       "model_id": "54b99dcf343f4ea282ea02b060fd2cc1",
       "version_major": 2,
       "version_minor": 0
      },
      "text/plain": [
       "calculating IoU:   0%|          | 0/16 [00:00<?, ?it/s]"
      ]
     },
     "metadata": {},
     "output_type": "display_data"
    },
    {
     "name": "stdout",
     "output_type": "stream",
     "text": [
      "{np.uint8(0): np.float64(0.0), np.uint8(1): np.float64(0.11343713386315835), np.uint8(2): np.float64(0.006150891489969116), np.uint8(4): np.float64(0.018291157449682897), np.uint8(7): np.float64(0.0033993703146957583), np.uint8(8): np.float64(0.17567831730393307), np.uint8(11): np.float64(0.005256574944222838), np.uint8(17): np.float64(0.03382960728932293), np.uint8(19): np.float64(0.10996563573883161), np.uint8(20): np.float64(0.18679549114331723), np.uint8(21): np.float64(0.04371270542989116), np.uint8(23): np.float64(0.002775921935429233), np.uint8(24): np.float64(0.15132924335378323), np.uint8(26): np.float64(0.021107992258038364), np.uint8(27): np.float64(0.012716027975261546), np.uint8(33): np.float64(0.17896873120865905), 'mean': np.float64(0.06646342510613727), 'weighted_mean': np.float64(0.02513600563972424)}\n"
     ]
    },
    {
     "data": {
      "application/vnd.jupyter.widget-view+json": {
       "model_id": "6cd82f6d23ea4542bae7775a194af832",
       "version_major": 2,
       "version_minor": 0
      },
      "text/plain": [
       "finding centroids:   0%|          | 0/15 [00:00<?, ?it/s]"
      ]
     },
     "metadata": {},
     "output_type": "display_data"
    },
    {
     "data": {
      "application/vnd.jupyter.widget-view+json": {
       "model_id": "805a7c46b91643fe9406610da4ee8e4b",
       "version_major": 2,
       "version_minor": 0
      },
      "text/plain": [
       "class growing:   0%|          | 0/95 [00:00<?, ?it/s]"
      ]
     },
     "metadata": {},
     "output_type": "display_data"
    },
    {
     "data": {
      "application/vnd.jupyter.widget-view+json": {
       "model_id": "a160b8e43051447d803279945fddc649",
       "version_major": 2,
       "version_minor": 0
      },
      "text/plain": [
       "calculating IoU:   0%|          | 0/15 [00:00<?, ?it/s]"
      ]
     },
     "metadata": {},
     "output_type": "display_data"
    },
    {
     "name": "stdout",
     "output_type": "stream",
     "text": [
      "{np.uint8(0): np.float64(0.0), np.uint8(1): np.float64(0.1890390224438529), np.uint8(2): np.float64(0.014107727680037757), np.uint8(4): np.float64(0.04571442760744194), np.uint8(7): np.float64(0.05031982315261685), np.uint8(8): np.float64(0.146116363871051), np.uint8(11): np.float64(0.006532870908549414), np.uint8(17): np.float64(0.04146969739859031), np.uint8(19): np.float64(0.11731895509900529), np.uint8(20): np.float64(0.060447338618346544), np.uint8(21): np.float64(0.04883341236636914), np.uint8(23): np.float64(0.0020816953755985993), np.uint8(26): np.float64(0.022249369090609695), np.uint8(31): np.float64(0.0048500881834215165), np.uint8(33): np.float64(0.10783612129886394), 'mean': np.float64(0.05712779420629032), 'weighted_mean': np.float64(0.04844308740838947)}\n"
     ]
    },
    {
     "data": {
      "application/vnd.jupyter.widget-view+json": {
       "model_id": "342959c8fafa48a5a77c5dce2b6f6a6c",
       "version_major": 2,
       "version_minor": 0
      },
      "text/plain": [
       "finding centroids:   0%|          | 0/17 [00:00<?, ?it/s]"
      ]
     },
     "metadata": {},
     "output_type": "display_data"
    },
    {
     "data": {
      "application/vnd.jupyter.widget-view+json": {
       "model_id": "9535bceaf33949819d982e6400a19d02",
       "version_major": 2,
       "version_minor": 0
      },
      "text/plain": [
       "class growing:   0%|          | 0/132 [00:00<?, ?it/s]"
      ]
     },
     "metadata": {},
     "output_type": "display_data"
    },
    {
     "data": {
      "application/vnd.jupyter.widget-view+json": {
       "model_id": "c8056845a571480dae2f07c180c0a7a5",
       "version_major": 2,
       "version_minor": 0
      },
      "text/plain": [
       "calculating IoU:   0%|          | 0/17 [00:00<?, ?it/s]"
      ]
     },
     "metadata": {},
     "output_type": "display_data"
    },
    {
     "name": "stdout",
     "output_type": "stream",
     "text": [
      "{np.uint8(0): np.float64(0.0), np.uint8(1): np.float64(0.1924608342946452), np.uint8(2): np.float64(0.03962067169941028), np.uint8(4): np.float64(0.05887561130687457), np.uint8(5): np.float64(0.16744186046511628), np.uint8(7): np.float64(0.0018577548834599888), np.uint8(8): np.float64(0.014189288727584405), np.uint8(11): np.float64(0.002806863808914189), np.uint8(17): np.float64(0.05614916019540297), np.uint8(19): np.float64(0.18641732283464568), np.uint8(20): np.float64(0.25722576900754496), np.uint8(21): np.float64(0.02126319856702976), np.uint8(22): np.float64(0.13191743942566558), np.uint8(23): np.float64(0.595271324193416), np.uint8(24): np.float64(0.18445839874411302), np.uint8(26): np.float64(0.3215616268239677), np.uint8(28): np.float64(0.04211963456336447), 'mean': np.float64(0.13374333879653855), 'weighted_mean': np.float64(0.03932949197997537)}\n"
     ]
    },
    {
     "data": {
      "application/vnd.jupyter.widget-view+json": {
       "model_id": "908fe43023654577b771b2a91b2d6415",
       "version_major": 2,
       "version_minor": 0
      },
      "text/plain": [
       "finding centroids:   0%|          | 0/17 [00:00<?, ?it/s]"
      ]
     },
     "metadata": {},
     "output_type": "display_data"
    },
    {
     "data": {
      "application/vnd.jupyter.widget-view+json": {
       "model_id": "1d2c4396280643bc89d259a4b4f1fe68",
       "version_major": 2,
       "version_minor": 0
      },
      "text/plain": [
       "class growing:   0%|          | 0/112 [00:00<?, ?it/s]"
      ]
     },
     "metadata": {},
     "output_type": "display_data"
    },
    {
     "data": {
      "application/vnd.jupyter.widget-view+json": {
       "model_id": "8e041fb160bc4be0a5e0429f431207c0",
       "version_major": 2,
       "version_minor": 0
      },
      "text/plain": [
       "calculating IoU:   0%|          | 0/16 [00:00<?, ?it/s]"
      ]
     },
     "metadata": {},
     "output_type": "display_data"
    },
    {
     "name": "stdout",
     "output_type": "stream",
     "text": [
      "{np.uint8(0): np.float64(0.0), np.uint8(1): np.float64(0.08860886972693469), np.uint8(2): np.float64(0.04875418800785612), np.uint8(4): np.float64(0.01813346228239845), np.uint8(6): np.float64(0.0007064240986551779), np.uint8(7): np.float64(0.0006503473502706043), np.uint8(9): np.float64(0.249928754630949), np.uint8(10): np.float64(0.002619086593550499), np.uint8(11): np.float64(0.018653797361299053), np.uint8(13): np.float64(0.16480238627889635), np.uint8(17): np.float64(0.0643223466632583), np.uint8(19): np.float64(0.3257918552036199), np.uint8(21): np.float64(0.03906936665230504), np.uint8(22): np.float64(0.03650725875320239), np.uint8(23): np.float64(0.189245382585752), np.uint8(26): np.float64(0.14626114913918276), 'mean': np.float64(0.08712841720800815), 'weighted_mean': np.float64(0.035046214000442805)}\n"
     ]
    },
    {
     "data": {
      "application/vnd.jupyter.widget-view+json": {
       "model_id": "802afa4ffd92400baff27124fbbe5a43",
       "version_major": 2,
       "version_minor": 0
      },
      "text/plain": [
       "finding centroids:   0%|          | 0/22 [00:00<?, ?it/s]"
      ]
     },
     "metadata": {},
     "output_type": "display_data"
    },
    {
     "data": {
      "application/vnd.jupyter.widget-view+json": {
       "model_id": "0f828511a96f4aa086e46831bbfdb07e",
       "version_major": 2,
       "version_minor": 0
      },
      "text/plain": [
       "class growing:   0%|          | 0/236 [00:00<?, ?it/s]"
      ]
     },
     "metadata": {},
     "output_type": "display_data"
    },
    {
     "data": {
      "application/vnd.jupyter.widget-view+json": {
       "model_id": "26fd8ba4357f431994d803be76c0c743",
       "version_major": 2,
       "version_minor": 0
      },
      "text/plain": [
       "calculating IoU:   0%|          | 0/21 [00:00<?, ?it/s]"
      ]
     },
     "metadata": {},
     "output_type": "display_data"
    },
    {
     "name": "stdout",
     "output_type": "stream",
     "text": [
      "{np.uint8(0): np.float64(4.371306742541954e-05), np.uint8(1): np.float64(0.12049718955674668), np.uint8(2): np.float64(0.012661810177663645), np.uint8(4): np.float64(0.08308353177382453), np.uint8(5): np.float64(0.02827521206409048), np.uint8(7): np.float64(0.0003591993120788932), np.uint8(8): np.float64(0.5748205283089004), np.uint8(9): np.float64(0.05536021482817941), np.uint8(10): np.float64(0.3744698897370653), np.uint8(11): np.float64(0.4533644778095607), np.uint8(12): np.float64(0.5143721633888049), np.uint8(13): np.float64(0.00834553845303562), np.uint8(17): np.float64(0.17403292010448193), np.uint8(18): np.float64(0.23696145124716553), np.uint8(20): np.float64(0.11440677966101695), np.uint8(21): np.float64(0.06515040352164343), np.uint8(22): np.float64(0.008913310383013554), np.uint8(23): np.float64(0.07577169041744297), np.uint8(24): np.float64(0.07554389417295287), np.uint8(26): np.float64(0.07064752229732432), np.uint8(31): np.float64(0.11782243388701746), 'mean': np.float64(0.15070970829378258), 'weighted_mean': np.float64(0.08668391196583154)}\n"
     ]
    },
    {
     "data": {
      "application/vnd.jupyter.widget-view+json": {
       "model_id": "2c5485479c374e58a0a9fd7d454cc3ba",
       "version_major": 2,
       "version_minor": 0
      },
      "text/plain": [
       "finding centroids:   0%|          | 0/20 [00:00<?, ?it/s]"
      ]
     },
     "metadata": {},
     "output_type": "display_data"
    },
    {
     "data": {
      "application/vnd.jupyter.widget-view+json": {
       "model_id": "db500bc8a5494bcb96aebaa833301ba6",
       "version_major": 2,
       "version_minor": 0
      },
      "text/plain": [
       "class growing:   0%|          | 0/144 [00:00<?, ?it/s]"
      ]
     },
     "metadata": {},
     "output_type": "display_data"
    },
    {
     "data": {
      "application/vnd.jupyter.widget-view+json": {
       "model_id": "c988a66ececc41b0a5d09b6f395caa71",
       "version_major": 2,
       "version_minor": 0
      },
      "text/plain": [
       "calculating IoU:   0%|          | 0/20 [00:00<?, ?it/s]"
      ]
     },
     "metadata": {},
     "output_type": "display_data"
    },
    {
     "name": "stdout",
     "output_type": "stream",
     "text": [
      "{np.uint8(0): np.float64(0.0), np.uint8(1): np.float64(0.12337442781457442), np.uint8(2): np.float64(0.009336180629703898), np.uint8(4): np.float64(0.02117267459501062), np.uint8(6): np.float64(0.26208651399491095), np.uint8(7): np.float64(0.09286922967824603), np.uint8(8): np.float64(0.32080572488735754), np.uint8(11): np.float64(0.13774111942658374), np.uint8(17): np.float64(0.02364963503649635), np.uint8(19): np.float64(0.11845831794114026), np.uint8(20): np.float64(0.22330470452506088), np.uint8(21): np.float64(0.00647839021632123), np.uint8(22): np.float64(0.023367191200463135), np.uint8(23): np.float64(0.43858526994053965), np.uint8(24): np.float64(0.04250386398763524), np.uint8(25): np.float64(0.1491749174917492), np.uint8(26): np.float64(0.11725007416196974), np.uint8(27): np.float64(0.06392276422764227), np.uint8(28): np.float64(0.07736657325989629), np.uint8(32): np.float64(0.020324368712789982), 'mean': np.float64(0.11358859708640459), 'weighted_mean': np.float64(0.08074158483657544)}\n"
     ]
    },
    {
     "data": {
      "application/vnd.jupyter.widget-view+json": {
       "model_id": "5cd5a579f87b47f89c3f25b89db935f3",
       "version_major": 2,
       "version_minor": 0
      },
      "text/plain": [
       "finding centroids:   0%|          | 0/18 [00:00<?, ?it/s]"
      ]
     },
     "metadata": {},
     "output_type": "display_data"
    },
    {
     "data": {
      "application/vnd.jupyter.widget-view+json": {
       "model_id": "cfbedbcae5954c62ba2db0c2c086b661",
       "version_major": 2,
       "version_minor": 0
      },
      "text/plain": [
       "class growing:   0%|          | 0/89 [00:00<?, ?it/s]"
      ]
     },
     "metadata": {},
     "output_type": "display_data"
    },
    {
     "data": {
      "application/vnd.jupyter.widget-view+json": {
       "model_id": "1d3b88e17c894ffdb7857d05ed43fe81",
       "version_major": 2,
       "version_minor": 0
      },
      "text/plain": [
       "calculating IoU:   0%|          | 0/17 [00:00<?, ?it/s]"
      ]
     },
     "metadata": {},
     "output_type": "display_data"
    },
    {
     "name": "stdout",
     "output_type": "stream",
     "text": [
      "{np.uint8(0): np.float64(1.2535667892550523e-05), np.uint8(1): np.float64(0.14126663661132563), np.uint8(2): np.float64(0.004266314953635789), np.uint8(4): np.float64(0.04887338658593769), np.uint8(7): np.float64(0.00013156970320174233), np.uint8(8): np.float64(0.0578378833028934), np.uint8(10): np.float64(0.38395593759362107), np.uint8(11): np.float64(0.31928184610048055), np.uint8(17): np.float64(0.019926447611951063), np.uint8(19): np.float64(0.3694581280788177), np.uint8(20): np.float64(0.39844509232264336), np.uint8(21): np.float64(0.006429377030285157), np.uint8(22): np.float64(0.032903700179494386), np.uint8(23): np.float64(0.008525276697577027), np.uint8(26): np.float64(0.1055066125607115), np.uint8(27): np.float64(0.2874896437448219), np.uint8(31): np.float64(0.13798090830199594), 'mean': np.float64(0.13660537041454626), 'weighted_mean': np.float64(0.06870396198533431)}\n"
     ]
    },
    {
     "data": {
      "application/vnd.jupyter.widget-view+json": {
       "model_id": "1c0f12f7b9cf4fde9055237132a537d6",
       "version_major": 2,
       "version_minor": 0
      },
      "text/plain": [
       "finding centroids:   0%|          | 0/16 [00:00<?, ?it/s]"
      ]
     },
     "metadata": {},
     "output_type": "display_data"
    },
    {
     "data": {
      "application/vnd.jupyter.widget-view+json": {
       "model_id": "95f0b4d8bfe34623be476852317bd8e0",
       "version_major": 2,
       "version_minor": 0
      },
      "text/plain": [
       "class growing:   0%|          | 0/82 [00:00<?, ?it/s]"
      ]
     },
     "metadata": {},
     "output_type": "display_data"
    },
    {
     "data": {
      "application/vnd.jupyter.widget-view+json": {
       "model_id": "569793ecfafc49febf5d72c954abf4a9",
       "version_major": 2,
       "version_minor": 0
      },
      "text/plain": [
       "calculating IoU:   0%|          | 0/16 [00:00<?, ?it/s]"
      ]
     },
     "metadata": {},
     "output_type": "display_data"
    },
    {
     "name": "stdout",
     "output_type": "stream",
     "text": [
      "{np.uint8(0): np.float64(0.0), np.uint8(1): np.float64(0.392792355598692), np.uint8(2): np.float64(0.0021768792318018764), np.uint8(4): np.float64(0.027177576021884788), np.uint8(7): np.float64(0.00023272050267628578), np.uint8(8): np.float64(0.2843294364902141), np.uint8(11): np.float64(0.3086596697137268), np.uint8(17): np.float64(0.051608315712655076), np.uint8(18): np.float64(0.19910657306955967), np.uint8(20): np.float64(0.4564102564102564), np.uint8(21): np.float64(0.08541225857778831), np.uint8(22): np.float64(0.06797648005559925), np.uint8(23): np.float64(0.3010462521859736), np.uint8(24): np.float64(0.3387096774193548), np.uint8(26): np.float64(0.17871263640676893), np.uint8(28): np.float64(0.0009403515289419304), 'mean': np.float64(0.16845571493286837), 'weighted_mean': np.float64(0.1026158720244401)}\n"
     ]
    },
    {
     "data": {
      "application/vnd.jupyter.widget-view+json": {
       "model_id": "3ed30eb6db6545389d1325f9594a5e64",
       "version_major": 2,
       "version_minor": 0
      },
      "text/plain": [
       "finding centroids:   0%|          | 0/16 [00:00<?, ?it/s]"
      ]
     },
     "metadata": {},
     "output_type": "display_data"
    },
    {
     "data": {
      "application/vnd.jupyter.widget-view+json": {
       "model_id": "15ebf0548e4a4ceb88096908cb025097",
       "version_major": 2,
       "version_minor": 0
      },
      "text/plain": [
       "class growing:   0%|          | 0/243 [00:00<?, ?it/s]"
      ]
     },
     "metadata": {},
     "output_type": "display_data"
    },
    {
     "data": {
      "application/vnd.jupyter.widget-view+json": {
       "model_id": "8b36a89c7dcb49f3820da57c870aa182",
       "version_major": 2,
       "version_minor": 0
      },
      "text/plain": [
       "calculating IoU:   0%|          | 0/16 [00:00<?, ?it/s]"
      ]
     },
     "metadata": {},
     "output_type": "display_data"
    },
    {
     "name": "stdout",
     "output_type": "stream",
     "text": [
      "{np.uint8(0): np.float64(0.0), np.uint8(1): np.float64(0.13846697280113035), np.uint8(2): np.float64(0.03343994194962667), np.uint8(4): np.float64(0.08584537368696422), np.uint8(7): np.float64(0.009418045122930629), np.uint8(8): np.float64(0.1878248700519792), np.uint8(11): np.float64(0.30551142612733717), np.uint8(17): np.float64(0.046553505323270294), np.uint8(19): np.float64(0.2903172092248772), np.uint8(20): np.float64(0.35845213849287166), np.uint8(21): np.float64(0.050153561674406745), np.uint8(22): np.float64(0.0007788934048971153), np.uint8(23): np.float64(0.012185032855859689), np.uint8(24): np.float64(0.17702384951293249), np.uint8(26): np.float64(0.14210805901605633), np.uint8(33): np.float64(0.04221954161640531), 'mean': np.float64(0.11751865130384656), 'weighted_mean': np.float64(0.06228494348463312)}\n"
     ]
    },
    {
     "data": {
      "application/vnd.jupyter.widget-view+json": {
       "model_id": "11fd7f141b934928956afd31194b89e5",
       "version_major": 2,
       "version_minor": 0
      },
      "text/plain": [
       "finding centroids:   0%|          | 0/19 [00:00<?, ?it/s]"
      ]
     },
     "metadata": {},
     "output_type": "display_data"
    },
    {
     "data": {
      "application/vnd.jupyter.widget-view+json": {
       "model_id": "95845892d8cb48ef86ebd77dc374e239",
       "version_major": 2,
       "version_minor": 0
      },
      "text/plain": [
       "class growing:   0%|          | 0/246 [00:00<?, ?it/s]"
      ]
     },
     "metadata": {},
     "output_type": "display_data"
    },
    {
     "data": {
      "application/vnd.jupyter.widget-view+json": {
       "model_id": "f950eaad8ffe4eeeb40d24e2512b7bf8",
       "version_major": 2,
       "version_minor": 0
      },
      "text/plain": [
       "calculating IoU:   0%|          | 0/18 [00:00<?, ?it/s]"
      ]
     },
     "metadata": {},
     "output_type": "display_data"
    },
    {
     "name": "stdout",
     "output_type": "stream",
     "text": [
      "{np.uint8(0): np.float64(0.0), np.uint8(1): np.float64(0.10986022305192995), np.uint8(2): np.float64(0.02581484321708957), np.uint8(4): np.float64(0.07298067761434694), np.uint8(5): np.float64(0.6111411573823688), np.uint8(7): np.float64(0.003941119398319351), np.uint8(8): np.float64(0.17862542522363614), np.uint8(11): np.float64(0.11373143968696253), np.uint8(12): np.float64(0.2724133678628684), np.uint8(17): np.float64(0.031664170190174624), np.uint8(19): np.float64(0.10544863106532935), np.uint8(20): np.float64(0.22486698403808458), np.uint8(21): np.float64(0.10857707747799474), np.uint8(22): np.float64(0.1297309621523028), np.uint8(23): np.float64(0.13662784684442422), np.uint8(24): np.float64(0.09995615957913195), np.uint8(26): np.float64(0.08081212181827274), np.uint8(33): np.float64(0.03315440479949479), 'mean': np.float64(0.1299637006334851), 'weighted_mean': np.float64(0.06200277327509411)}\n"
     ]
    },
    {
     "data": {
      "application/vnd.jupyter.widget-view+json": {
       "model_id": "fe4c3e732d504ed39a5f7ac77eac9909",
       "version_major": 2,
       "version_minor": 0
      },
      "text/plain": [
       "finding centroids:   0%|          | 0/16 [00:00<?, ?it/s]"
      ]
     },
     "metadata": {},
     "output_type": "display_data"
    },
    {
     "data": {
      "application/vnd.jupyter.widget-view+json": {
       "model_id": "4c47f9f70e834ee29f88e5d6373e1a4a",
       "version_major": 2,
       "version_minor": 0
      },
      "text/plain": [
       "class growing:   0%|          | 0/148 [00:00<?, ?it/s]"
      ]
     },
     "metadata": {},
     "output_type": "display_data"
    },
    {
     "data": {
      "application/vnd.jupyter.widget-view+json": {
       "model_id": "8688fe920d2a4d60aa888f183c309d79",
       "version_major": 2,
       "version_minor": 0
      },
      "text/plain": [
       "calculating IoU:   0%|          | 0/16 [00:00<?, ?it/s]"
      ]
     },
     "metadata": {},
     "output_type": "display_data"
    },
    {
     "name": "stdout",
     "output_type": "stream",
     "text": [
      "{np.uint8(0): np.float64(0.0), np.uint8(1): np.float64(0.20454064352243861), np.uint8(2): np.float64(0.014799894567470917), np.uint8(4): np.float64(0.05439103003399992), np.uint8(7): np.float64(0.008229440339017518), np.uint8(8): np.float64(0.008447462954647508), np.uint8(11): np.float64(0.010640965208757484), np.uint8(12): np.float64(0.11487895623738259), np.uint8(13): np.float64(0.12309542902967122), np.uint8(17): np.float64(0.0630455537370431), np.uint8(20): np.float64(0.42799637352674524), np.uint8(21): np.float64(0.0037964697761561977), np.uint8(22): np.float64(0.03603396832683039), np.uint8(23): np.float64(0.33009388403971324), np.uint8(24): np.float64(0.17246937459703418), np.uint8(26): np.float64(0.02622509423801831), 'mean': np.float64(0.0999177837584329), 'weighted_mean': np.float64(0.03898665233352217)}\n"
     ]
    },
    {
     "data": {
      "application/vnd.jupyter.widget-view+json": {
       "model_id": "d8ae4e3029234d6783ce41cf0ce9f73e",
       "version_major": 2,
       "version_minor": 0
      },
      "text/plain": [
       "finding centroids:   0%|          | 0/21 [00:00<?, ?it/s]"
      ]
     },
     "metadata": {},
     "output_type": "display_data"
    },
    {
     "data": {
      "application/vnd.jupyter.widget-view+json": {
       "model_id": "37fa5912911c43b0b25cc587982e5f01",
       "version_major": 2,
       "version_minor": 0
      },
      "text/plain": [
       "class growing:   0%|          | 0/211 [00:00<?, ?it/s]"
      ]
     },
     "metadata": {},
     "output_type": "display_data"
    },
    {
     "data": {
      "application/vnd.jupyter.widget-view+json": {
       "model_id": "99bc6141584141f89c9bfc49929d8303",
       "version_major": 2,
       "version_minor": 0
      },
      "text/plain": [
       "calculating IoU:   0%|          | 0/20 [00:00<?, ?it/s]"
      ]
     },
     "metadata": {},
     "output_type": "display_data"
    },
    {
     "name": "stdout",
     "output_type": "stream",
     "text": [
      "{np.uint8(0): np.float64(0.0), np.uint8(1): np.float64(0.33978254314549744), np.uint8(2): np.float64(0.017275862234351243), np.uint8(4): np.float64(0.01856936786532815), np.uint8(6): np.float64(0.29928595151112586), np.uint8(7): np.float64(0.49006717605442435), np.uint8(8): np.float64(0.22942185662164086), np.uint8(11): np.float64(0.06085816232960997), np.uint8(12): np.float64(0.4108416547788873), np.uint8(13): np.float64(0.10151191762594104), np.uint8(17): np.float64(0.05581092898625468), np.uint8(19): np.float64(0.302637562528422), np.uint8(20): np.float64(0.43126747437092267), np.uint8(21): np.float64(0.009560475733852386), np.uint8(23): np.float64(0.010959274793667975), np.uint8(24): np.float64(0.03493961777465119), np.uint8(25): np.float64(0.17008196721311475), np.uint8(26): np.float64(0.04890930796223275), np.uint8(32): np.float64(0.03258476442095993), np.uint8(33): np.float64(0.4292237442922374), 'mean': np.float64(0.17467948051215607), 'weighted_mean': np.float64(0.24956663592899916)}\n"
     ]
    },
    {
     "data": {
      "application/vnd.jupyter.widget-view+json": {
       "model_id": "5f7880180b6c46a2b8dc4b6f21b3323d",
       "version_major": 2,
       "version_minor": 0
      },
      "text/plain": [
       "finding centroids:   0%|          | 0/15 [00:00<?, ?it/s]"
      ]
     },
     "metadata": {},
     "output_type": "display_data"
    },
    {
     "data": {
      "application/vnd.jupyter.widget-view+json": {
       "model_id": "dfba16f99d8342dfab86189fbff34904",
       "version_major": 2,
       "version_minor": 0
      },
      "text/plain": [
       "class growing:   0%|          | 0/124 [00:00<?, ?it/s]"
      ]
     },
     "metadata": {},
     "output_type": "display_data"
    },
    {
     "data": {
      "application/vnd.jupyter.widget-view+json": {
       "model_id": "b82ba28c6e3d497ab0e4f13f45c59061",
       "version_major": 2,
       "version_minor": 0
      },
      "text/plain": [
       "calculating IoU:   0%|          | 0/15 [00:00<?, ?it/s]"
      ]
     },
     "metadata": {},
     "output_type": "display_data"
    },
    {
     "name": "stdout",
     "output_type": "stream",
     "text": [
      "{np.uint8(0): np.float64(0.0), np.uint8(1): np.float64(0.11363731010127932), np.uint8(2): np.float64(0.010003343684592634), np.uint8(4): np.float64(0.0205963223921636), np.uint8(6): np.float64(0.0012188699119705063), np.uint8(7): np.float64(0.009474229602033011), np.uint8(8): np.float64(0.0032952504982339827), np.uint8(11): np.float64(0.2276854323384292), np.uint8(13): np.float64(0.061266776052841934), np.uint8(17): np.float64(0.08704552590266876), np.uint8(21): np.float64(0.05880253083532337), np.uint8(23): np.float64(0.03407476159576828), np.uint8(24): np.float64(0.09819277108433735), np.uint8(25): np.float64(0.07763259031514219), np.uint8(33): np.float64(0.12723268901394666), 'mean': np.float64(0.06201056022191539), 'weighted_mean': np.float64(0.045954345309169746)}\n"
     ]
    },
    {
     "data": {
      "application/vnd.jupyter.widget-view+json": {
       "model_id": "3ac8c40c078f40a59ee2ceabdbb4f597",
       "version_major": 2,
       "version_minor": 0
      },
      "text/plain": [
       "finding centroids:   0%|          | 0/21 [00:00<?, ?it/s]"
      ]
     },
     "metadata": {},
     "output_type": "display_data"
    },
    {
     "data": {
      "application/vnd.jupyter.widget-view+json": {
       "model_id": "80c07c6c8c1d444c937ad7e7aa82bdbb",
       "version_major": 2,
       "version_minor": 0
      },
      "text/plain": [
       "class growing:   0%|          | 0/160 [00:00<?, ?it/s]"
      ]
     },
     "metadata": {},
     "output_type": "display_data"
    },
    {
     "data": {
      "application/vnd.jupyter.widget-view+json": {
       "model_id": "fa2913131c544ca8a053c4d7014b1b3d",
       "version_major": 2,
       "version_minor": 0
      },
      "text/plain": [
       "calculating IoU:   0%|          | 0/21 [00:00<?, ?it/s]"
      ]
     },
     "metadata": {},
     "output_type": "display_data"
    },
    {
     "name": "stdout",
     "output_type": "stream",
     "text": [
      "{np.uint8(0): np.float64(0.0), np.uint8(1): np.float64(0.09735028797761587), np.uint8(2): np.float64(0.025677570892671857), np.uint8(4): np.float64(0.03939741343775763), np.uint8(5): np.float64(0.27399406332453824), np.uint8(6): np.float64(0.16734343981230826), np.uint8(7): np.float64(0.0036047826970430543), np.uint8(8): np.float64(0.0006916487842942523), np.uint8(11): np.float64(0.04859530969505014), np.uint8(12): np.float64(0.40489266100848725), np.uint8(13): np.float64(0.1697034792282021), np.uint8(17): np.float64(0.06030876494023905), np.uint8(18): np.float64(0.17926186291739896), np.uint8(20): np.float64(0.08145454545454546), np.uint8(21): np.float64(0.12839382951573575), np.uint8(23): np.float64(0.06051109747035829), np.uint8(24): np.float64(0.17598712569687913), np.uint8(25): np.float64(0.031229298760291475), np.uint8(26): np.float64(0.10289577620254911), np.uint8(27): np.float64(0.2725947521865889), np.uint8(33): np.float64(0.08524542550101656), 'mean': np.float64(0.11472062550017006), 'weighted_mean': np.float64(0.05558451005194699)}\n"
     ]
    },
    {
     "data": {
      "application/vnd.jupyter.widget-view+json": {
       "model_id": "2432ed97a9b64673835e3382970852c3",
       "version_major": 2,
       "version_minor": 0
      },
      "text/plain": [
       "finding centroids:   0%|          | 0/16 [00:00<?, ?it/s]"
      ]
     },
     "metadata": {},
     "output_type": "display_data"
    },
    {
     "data": {
      "application/vnd.jupyter.widget-view+json": {
       "model_id": "46b7e5442d564b8588f3bed1770b42e1",
       "version_major": 2,
       "version_minor": 0
      },
      "text/plain": [
       "class growing:   0%|          | 0/96 [00:00<?, ?it/s]"
      ]
     },
     "metadata": {},
     "output_type": "display_data"
    },
    {
     "data": {
      "application/vnd.jupyter.widget-view+json": {
       "model_id": "fe9f105066e34972a93abbc01a918e3a",
       "version_major": 2,
       "version_minor": 0
      },
      "text/plain": [
       "calculating IoU:   0%|          | 0/16 [00:00<?, ?it/s]"
      ]
     },
     "metadata": {},
     "output_type": "display_data"
    },
    {
     "name": "stdout",
     "output_type": "stream",
     "text": [
      "{np.uint8(0): np.float64(0.0), np.uint8(1): np.float64(0.08771241429913833), np.uint8(2): np.float64(0.0071227387005916715), np.uint8(4): np.float64(0.08914473684210526), np.uint8(5): np.float64(0.18835192069392812), np.uint8(7): np.float64(0.00048407801664272174), np.uint8(8): np.float64(0.005156390821919832), np.uint8(11): np.float64(0.06041935264979304), np.uint8(12): np.float64(0.006467065868263473), np.uint8(17): np.float64(0.04852778927044545), np.uint8(19): np.float64(0.4435221941537351), np.uint8(20): np.float64(0.18509353657329505), np.uint8(21): np.float64(0.06429284781439656), np.uint8(23): np.float64(0.7479706223424817), np.uint8(26): np.float64(0.12806880375293198), np.uint8(27): np.float64(0.0002090980902374425), 'mean': np.float64(0.12890897436811913), 'weighted_mean': np.float64(0.026356574154014496)}\n"
     ]
    },
    {
     "data": {
      "application/vnd.jupyter.widget-view+json": {
       "model_id": "01248004142b4035bfe7149b3a4cabb4",
       "version_major": 2,
       "version_minor": 0
      },
      "text/plain": [
       "finding centroids:   0%|          | 0/22 [00:00<?, ?it/s]"
      ]
     },
     "metadata": {},
     "output_type": "display_data"
    },
    {
     "data": {
      "application/vnd.jupyter.widget-view+json": {
       "model_id": "8c4481f0b1df42da809927abdf97716c",
       "version_major": 2,
       "version_minor": 0
      },
      "text/plain": [
       "class growing:   0%|          | 0/188 [00:00<?, ?it/s]"
      ]
     },
     "metadata": {},
     "output_type": "display_data"
    },
    {
     "data": {
      "application/vnd.jupyter.widget-view+json": {
       "model_id": "56e272ec5c994b858baca03e0e331c3f",
       "version_major": 2,
       "version_minor": 0
      },
      "text/plain": [
       "calculating IoU:   0%|          | 0/22 [00:00<?, ?it/s]"
      ]
     },
     "metadata": {},
     "output_type": "display_data"
    },
    {
     "name": "stdout",
     "output_type": "stream",
     "text": [
      "{np.uint8(0): np.float64(0.0), np.uint8(1): np.float64(0.07652646943424307), np.uint8(2): np.float64(0.004287736803074226), np.uint8(4): np.float64(0.09048399620395134), np.uint8(5): np.float64(0.022443984183769534), np.uint8(7): np.float64(0.00026343826229718165), np.uint8(8): np.float64(0.00046808112271384925), np.uint8(11): np.float64(0.03978429907948262), np.uint8(12): np.float64(0.014781921041425878), np.uint8(13): np.float64(0.3075352256483561), np.uint8(17): np.float64(0.08388402084364356), np.uint8(18): np.float64(0.08833522083805209), np.uint8(19): np.float64(0.21428571428571427), np.uint8(20): np.float64(0.19169510807736065), np.uint8(21): np.float64(0.08550100217090761), np.uint8(22): np.float64(0.028849089243919813), np.uint8(23): np.float64(0.9103891660213582), np.uint8(25): np.float64(0.06861198738170347), np.uint8(26): np.float64(0.057663504742885674), np.uint8(27): np.float64(0.40109485208969364), np.uint8(32): np.float64(0.13509060955518945), np.uint8(33): np.float64(0.23476297968397292), 'mean': np.float64(0.13894265485062338), 'weighted_mean': np.float64(0.056494232880070584)}\n"
     ]
    },
    {
     "data": {
      "application/vnd.jupyter.widget-view+json": {
       "model_id": "f648277da04945c3adb1d25d644288b3",
       "version_major": 2,
       "version_minor": 0
      },
      "text/plain": [
       "finding centroids:   0%|          | 0/20 [00:00<?, ?it/s]"
      ]
     },
     "metadata": {},
     "output_type": "display_data"
    },
    {
     "data": {
      "application/vnd.jupyter.widget-view+json": {
       "model_id": "803f7dd6f932427895c31b703ba4c7ed",
       "version_major": 2,
       "version_minor": 0
      },
      "text/plain": [
       "class growing:   0%|          | 0/178 [00:00<?, ?it/s]"
      ]
     },
     "metadata": {},
     "output_type": "display_data"
    },
    {
     "data": {
      "application/vnd.jupyter.widget-view+json": {
       "model_id": "c47b8d0067714b4d95f2e657d5c66b53",
       "version_major": 2,
       "version_minor": 0
      },
      "text/plain": [
       "calculating IoU:   0%|          | 0/20 [00:00<?, ?it/s]"
      ]
     },
     "metadata": {},
     "output_type": "display_data"
    },
    {
     "name": "stdout",
     "output_type": "stream",
     "text": [
      "{np.uint8(0): np.float64(0.0), np.uint8(1): np.float64(0.11463463216707183), np.uint8(2): np.float64(0.015851747240066823), np.uint8(4): np.float64(0.0666837836781853), np.uint8(7): np.float64(0.001246033756187213), np.uint8(8): np.float64(0.0867933176826209), np.uint8(9): np.float64(0.17857142857142858), np.uint8(11): np.float64(0.2040351276260419), np.uint8(12): np.float64(0.0652569132140465), np.uint8(13): np.float64(0.023467070401211203), np.uint8(17): np.float64(0.05144398394842445), np.uint8(18): np.float64(0.2757352941176471), np.uint8(19): np.float64(0.3095723014256619), np.uint8(20): np.float64(0.12547421099362338), np.uint8(21): np.float64(0.06453115447690949), np.uint8(22): np.float64(0.01702082672586954), np.uint8(23): np.float64(0.001106890048921807), np.uint8(24): np.float64(0.13798449612403102), np.uint8(26): np.float64(0.021391380716391694), np.uint8(27): np.float64(0.4076120319214242), 'mean': np.float64(0.10842063124178822), 'weighted_mean': np.float64(0.07732558294851673)}\n"
     ]
    },
    {
     "data": {
      "application/vnd.jupyter.widget-view+json": {
       "model_id": "d8899f4549ba448eaefaca76a7897ab8",
       "version_major": 2,
       "version_minor": 0
      },
      "text/plain": [
       "finding centroids:   0%|          | 0/18 [00:00<?, ?it/s]"
      ]
     },
     "metadata": {},
     "output_type": "display_data"
    },
    {
     "data": {
      "application/vnd.jupyter.widget-view+json": {
       "model_id": "064b16bfba4e47eda5d05554f4168750",
       "version_major": 2,
       "version_minor": 0
      },
      "text/plain": [
       "class growing:   0%|          | 0/87 [00:00<?, ?it/s]"
      ]
     },
     "metadata": {},
     "output_type": "display_data"
    },
    {
     "data": {
      "application/vnd.jupyter.widget-view+json": {
       "model_id": "3d58d9fe59df4e4a8a9f91b7372514da",
       "version_major": 2,
       "version_minor": 0
      },
      "text/plain": [
       "calculating IoU:   0%|          | 0/18 [00:00<?, ?it/s]"
      ]
     },
     "metadata": {},
     "output_type": "display_data"
    },
    {
     "name": "stdout",
     "output_type": "stream",
     "text": [
      "{np.uint8(0): np.float64(0.0), np.uint8(1): np.float64(0.4644558269249355), np.uint8(2): np.float64(0.043798093330642975), np.uint8(4): np.float64(0.1497031405028837), np.uint8(7): np.float64(0.000550038365175971), np.uint8(8): np.float64(0.0001979888246307875), np.uint8(11): np.float64(0.22840436909374617), np.uint8(12): np.float64(0.11352865676062596), np.uint8(13): np.float64(0.06689122344184294), np.uint8(17): np.float64(0.08146853146853147), np.uint8(19): np.float64(0.23639774859287055), np.uint8(20): np.float64(0.28040540540540543), np.uint8(21): np.float64(0.006761434646957804), np.uint8(22): np.float64(0.05206463195691203), np.uint8(23): np.float64(0.5723830734966593), np.uint8(24): np.float64(0.024554834329448313), np.uint8(28): np.float64(0.08604407135362015), np.uint8(32): np.float64(0.019523099850968704), 'mean': np.float64(0.13484067601921432), 'weighted_mean': np.float64(0.09184675016784666)}\n"
     ]
    },
    {
     "data": {
      "application/vnd.jupyter.widget-view+json": {
       "model_id": "5866e260e70b41c5b365de2adec3ec0a",
       "version_major": 2,
       "version_minor": 0
      },
      "text/plain": [
       "finding centroids:   0%|          | 0/16 [00:00<?, ?it/s]"
      ]
     },
     "metadata": {},
     "output_type": "display_data"
    },
    {
     "data": {
      "application/vnd.jupyter.widget-view+json": {
       "model_id": "d38bf3b821f44980a864d9eba283022a",
       "version_major": 2,
       "version_minor": 0
      },
      "text/plain": [
       "class growing:   0%|          | 0/144 [00:00<?, ?it/s]"
      ]
     },
     "metadata": {},
     "output_type": "display_data"
    },
    {
     "data": {
      "application/vnd.jupyter.widget-view+json": {
       "model_id": "aa3ead37795642129727d1bb8189f29c",
       "version_major": 2,
       "version_minor": 0
      },
      "text/plain": [
       "calculating IoU:   0%|          | 0/16 [00:00<?, ?it/s]"
      ]
     },
     "metadata": {},
     "output_type": "display_data"
    },
    {
     "name": "stdout",
     "output_type": "stream",
     "text": [
      "{np.uint8(0): np.float64(0.0), np.uint8(1): np.float64(0.10102345457383703), np.uint8(2): np.float64(0.04083925585284281), np.uint8(4): np.float64(0.08914487811039536), np.uint8(7): np.float64(0.0008516728782575425), np.uint8(8): np.float64(0.1252051796461791), np.uint8(11): np.float64(0.10251320581383903), np.uint8(12): np.float64(0.18443157132512672), np.uint8(17): np.float64(0.22972895289011527), np.uint8(18): np.float64(0.23084291187739464), np.uint8(20): np.float64(0.20412108018841368), np.uint8(21): np.float64(0.0019743158472233253), np.uint8(22): np.float64(0.12123126918216284), np.uint8(24): np.float64(0.07228915662650602), np.uint8(26): np.float64(0.13453849832615974), np.uint8(28): np.float64(0.10747160203681942), 'mean': np.float64(0.10913793782345454), 'weighted_mean': np.float64(0.046123055529232015)}\n"
     ]
    },
    {
     "data": {
      "application/vnd.jupyter.widget-view+json": {
       "model_id": "6419c30cc717486cadc8387622e4a14b",
       "version_major": 2,
       "version_minor": 0
      },
      "text/plain": [
       "finding centroids:   0%|          | 0/21 [00:00<?, ?it/s]"
      ]
     },
     "metadata": {},
     "output_type": "display_data"
    },
    {
     "data": {
      "application/vnd.jupyter.widget-view+json": {
       "model_id": "f3a80a839fce420baaa617ee83dc8da6",
       "version_major": 2,
       "version_minor": 0
      },
      "text/plain": [
       "class growing:   0%|          | 0/201 [00:00<?, ?it/s]"
      ]
     },
     "metadata": {},
     "output_type": "display_data"
    },
    {
     "data": {
      "application/vnd.jupyter.widget-view+json": {
       "model_id": "92540ab0dde1422590abebe855285bed",
       "version_major": 2,
       "version_minor": 0
      },
      "text/plain": [
       "calculating IoU:   0%|          | 0/21 [00:00<?, ?it/s]"
      ]
     },
     "metadata": {},
     "output_type": "display_data"
    },
    {
     "name": "stdout",
     "output_type": "stream",
     "text": [
      "{np.uint8(0): np.float64(0.0), np.uint8(1): np.float64(0.09710477637576799), np.uint8(2): np.float64(0.04382890332672031), np.uint8(4): np.float64(0.04558544133637635), np.uint8(6): np.float64(0.28096957194430117), np.uint8(7): np.float64(0.004151732285169116), np.uint8(8): np.float64(0.0040290438205963855), np.uint8(11): np.float64(0.35148171699291364), np.uint8(12): np.float64(0.01530224787363305), np.uint8(13): np.float64(0.14339554917444364), np.uint8(17): np.float64(0.07435864781876583), np.uint8(19): np.float64(0.2199205448354143), np.uint8(20): np.float64(0.18902018285319994), np.uint8(21): np.float64(0.039677731134865335), np.uint8(23): np.float64(0.01267391498767104), np.uint8(24): np.float64(0.05698778833107191), np.uint8(25): np.float64(0.5242718446601942), np.uint8(26): np.float64(0.007689630074997626), np.uint8(31): np.float64(0.11587020222117715), np.uint8(32): np.float64(0.2720411112895455), np.uint8(33): np.float64(0.14583333333333334), 'mean': np.float64(0.12591399593667418), 'weighted_mean': np.float64(0.05576351812713595)}\n"
     ]
    },
    {
     "data": {
      "application/vnd.jupyter.widget-view+json": {
       "model_id": "e65dc468a2694c34a66b5ec1d24e34aa",
       "version_major": 2,
       "version_minor": 0
      },
      "text/plain": [
       "finding centroids:   0%|          | 0/17 [00:00<?, ?it/s]"
      ]
     },
     "metadata": {},
     "output_type": "display_data"
    },
    {
     "data": {
      "application/vnd.jupyter.widget-view+json": {
       "model_id": "e2249b3072084564b58b45703379ec0a",
       "version_major": 2,
       "version_minor": 0
      },
      "text/plain": [
       "class growing:   0%|          | 0/119 [00:00<?, ?it/s]"
      ]
     },
     "metadata": {},
     "output_type": "display_data"
    },
    {
     "data": {
      "application/vnd.jupyter.widget-view+json": {
       "model_id": "935d30ae6b8b4ad286f0474e7da25c86",
       "version_major": 2,
       "version_minor": 0
      },
      "text/plain": [
       "calculating IoU:   0%|          | 0/17 [00:00<?, ?it/s]"
      ]
     },
     "metadata": {},
     "output_type": "display_data"
    },
    {
     "name": "stdout",
     "output_type": "stream",
     "text": [
      "{np.uint8(0): np.float64(0.0), np.uint8(1): np.float64(0.09617292866918907), np.uint8(2): np.float64(0.005959877945854703), np.uint8(4): np.float64(0.06449830965375522), np.uint8(5): np.float64(0.23920265780730898), np.uint8(6): np.float64(0.2552318109450828), np.uint8(7): np.float64(0.00010489850098747046), np.uint8(8): np.float64(0.0011896893588896232), np.uint8(11): np.float64(0.009245285558014215), np.uint8(13): np.float64(0.03163895214769619), np.uint8(17): np.float64(0.11769971652603485), np.uint8(20): np.float64(0.20241581259150807), np.uint8(21): np.float64(0.006615312614629581), np.uint8(23): np.float64(0.056821064380295265), np.uint8(24): np.float64(0.15978386723272867), np.uint8(26): np.float64(0.020190599256985946), np.uint8(27): np.float64(0.2096505823627288), 'mean': np.float64(0.08684831562068762), 'weighted_mean': np.float64(0.020027687356416614)}\n"
     ]
    },
    {
     "data": {
      "application/vnd.jupyter.widget-view+json": {
       "model_id": "c14e896abb474001936562efaa299675",
       "version_major": 2,
       "version_minor": 0
      },
      "text/plain": [
       "finding centroids:   0%|          | 0/22 [00:00<?, ?it/s]"
      ]
     },
     "metadata": {},
     "output_type": "display_data"
    },
    {
     "data": {
      "application/vnd.jupyter.widget-view+json": {
       "model_id": "0a81182ad3ba44558efc23a0d751e96b",
       "version_major": 2,
       "version_minor": 0
      },
      "text/plain": [
       "class growing:   0%|          | 0/131 [00:00<?, ?it/s]"
      ]
     },
     "metadata": {},
     "output_type": "display_data"
    },
    {
     "data": {
      "application/vnd.jupyter.widget-view+json": {
       "model_id": "a0ea92b843d844d79966e8173541b103",
       "version_major": 2,
       "version_minor": 0
      },
      "text/plain": [
       "calculating IoU:   0%|          | 0/22 [00:00<?, ?it/s]"
      ]
     },
     "metadata": {},
     "output_type": "display_data"
    },
    {
     "name": "stdout",
     "output_type": "stream",
     "text": [
      "{np.uint8(0): np.float64(0.0), np.uint8(1): np.float64(0.09824770344641776), np.uint8(2): np.float64(0.0042123112534653995), np.uint8(4): np.float64(0.1556631680434735), np.uint8(5): np.float64(0.584070796460177), np.uint8(6): np.float64(0.0007651823373520959), np.uint8(7): np.float64(0.00037256524647965477), np.uint8(8): np.float64(0.011076980359303733), np.uint8(11): np.float64(0.07593351810773792), np.uint8(12): np.float64(0.4063280599500416), np.uint8(13): np.float64(0.1842948717948718), np.uint8(17): np.float64(0.013578229759423067), np.uint8(18): np.float64(0.1979256698357822), np.uint8(19): np.float64(0.1903409090909091), np.uint8(20): np.float64(0.039468807906114886), np.uint8(21): np.float64(0.0075411489339283965), np.uint8(22): np.float64(0.23908045977011494), np.uint8(23): np.float64(0.003741996885274269), np.uint8(24): np.float64(0.12178810278071102), np.uint8(26): np.float64(0.023948065482652308), np.uint8(27): np.float64(0.25499884689175994), np.uint8(31): np.float64(0.12102564102564102), 'mean': np.float64(0.12429104706189235), 'weighted_mean': np.float64(0.052382533781143006)}\n"
     ]
    },
    {
     "data": {
      "application/vnd.jupyter.widget-view+json": {
       "model_id": "866bb0319db446348d7358651d2006ae",
       "version_major": 2,
       "version_minor": 0
      },
      "text/plain": [
       "finding centroids:   0%|          | 0/19 [00:00<?, ?it/s]"
      ]
     },
     "metadata": {},
     "output_type": "display_data"
    },
    {
     "data": {
      "application/vnd.jupyter.widget-view+json": {
       "model_id": "dd724ff998134ce9b9786474ccc7df46",
       "version_major": 2,
       "version_minor": 0
      },
      "text/plain": [
       "class growing:   0%|          | 0/128 [00:00<?, ?it/s]"
      ]
     },
     "metadata": {},
     "output_type": "display_data"
    },
    {
     "data": {
      "application/vnd.jupyter.widget-view+json": {
       "model_id": "22a2eddf325a4a048b9a4a77d30c9372",
       "version_major": 2,
       "version_minor": 0
      },
      "text/plain": [
       "calculating IoU:   0%|          | 0/19 [00:00<?, ?it/s]"
      ]
     },
     "metadata": {},
     "output_type": "display_data"
    },
    {
     "name": "stdout",
     "output_type": "stream",
     "text": [
      "{np.uint8(0): np.float64(0.0), np.uint8(1): np.float64(0.11870033210553153), np.uint8(2): np.float64(0.11868726888536714), np.uint8(4): np.float64(0.048739662680681445), np.uint8(5): np.float64(0.34542085759661195), np.uint8(7): np.float64(0.0002058460271716756), np.uint8(8): np.float64(0.018378075047244938), np.uint8(11): np.float64(0.019774876368226117), np.uint8(13): np.float64(0.1393764736704218), np.uint8(17): np.float64(0.0619439045700123), np.uint8(19): np.float64(0.1107967939651108), np.uint8(20): np.float64(0.14064697609001406), np.uint8(21): np.float64(0.005267871874042473), np.uint8(23): np.float64(0.5735294117647058), np.uint8(24): np.float64(0.032682468413908324), np.uint8(26): np.float64(0.39187565162717775), np.uint8(28): np.float64(0.03337953337953338), np.uint8(32): np.float64(0.00944752515917026), np.uint8(33): np.float64(0.046922083512699095), 'mean': np.float64(0.11661976909145425), 'weighted_mean': np.float64(0.06872848082779667)}\n"
     ]
    },
    {
     "data": {
      "application/vnd.jupyter.widget-view+json": {
       "model_id": "1a2d8a7140b848dbbee419ff0994fcee",
       "version_major": 2,
       "version_minor": 0
      },
      "text/plain": [
       "finding centroids:   0%|          | 0/20 [00:00<?, ?it/s]"
      ]
     },
     "metadata": {},
     "output_type": "display_data"
    },
    {
     "data": {
      "application/vnd.jupyter.widget-view+json": {
       "model_id": "828f5b664e474c9aba78e3077df6c22f",
       "version_major": 2,
       "version_minor": 0
      },
      "text/plain": [
       "class growing:   0%|          | 0/204 [00:00<?, ?it/s]"
      ]
     },
     "metadata": {},
     "output_type": "display_data"
    },
    {
     "data": {
      "application/vnd.jupyter.widget-view+json": {
       "model_id": "7f326a0e9fb643cdb06100e44ef78100",
       "version_major": 2,
       "version_minor": 0
      },
      "text/plain": [
       "calculating IoU:   0%|          | 0/20 [00:00<?, ?it/s]"
      ]
     },
     "metadata": {},
     "output_type": "display_data"
    },
    {
     "name": "stdout",
     "output_type": "stream",
     "text": [
      "{np.uint8(0): np.float64(0.0), np.uint8(1): np.float64(0.11213359417635578), np.uint8(2): np.float64(0.009964155788572652), np.uint8(4): np.float64(0.021737841043890867), np.uint8(6): np.float64(0.3961636545071516), np.uint8(7): np.float64(0.0012524803332442055), np.uint8(8): np.float64(0.04105985577058192), np.uint8(11): np.float64(0.028479834539813856), np.uint8(12): np.float64(0.315100453661698), np.uint8(13): np.float64(0.06498548066636099), np.uint8(17): np.float64(0.06766192486061175), np.uint8(18): np.float64(0.21604938271604937), np.uint8(19): np.float64(0.12475678150394873), np.uint8(20): np.float64(0.19141166099987408), np.uint8(21): np.float64(0.2016144067504022), np.uint8(24): np.float64(0.08831390997540896), np.uint8(25): np.float64(0.2273781902552204), np.uint8(26): np.float64(0.14550228265767973), np.uint8(28): np.float64(0.13918191603875135), np.uint8(33): np.float64(0.0547462782135425), 'mean': np.float64(0.12237470422295797), 'weighted_mean': np.float64(0.0629800387217669)}\n"
     ]
    },
    {
     "data": {
      "application/vnd.jupyter.widget-view+json": {
       "model_id": "38a6917c5b1b4225977dd65cb3cedf4a",
       "version_major": 2,
       "version_minor": 0
      },
      "text/plain": [
       "finding centroids:   0%|          | 0/18 [00:00<?, ?it/s]"
      ]
     },
     "metadata": {},
     "output_type": "display_data"
    },
    {
     "data": {
      "application/vnd.jupyter.widget-view+json": {
       "model_id": "bbdc01e00ace4daab30efa17dae0f709",
       "version_major": 2,
       "version_minor": 0
      },
      "text/plain": [
       "class growing:   0%|          | 0/62 [00:00<?, ?it/s]"
      ]
     },
     "metadata": {},
     "output_type": "display_data"
    },
    {
     "data": {
      "application/vnd.jupyter.widget-view+json": {
       "model_id": "14c93b26ef744063964052e69d1678b1",
       "version_major": 2,
       "version_minor": 0
      },
      "text/plain": [
       "calculating IoU:   0%|          | 0/18 [00:00<?, ?it/s]"
      ]
     },
     "metadata": {},
     "output_type": "display_data"
    },
    {
     "name": "stdout",
     "output_type": "stream",
     "text": [
      "{np.uint8(0): np.float64(0.0), np.uint8(1): np.float64(0.14451138067329972), np.uint8(2): np.float64(0.017301195190176918), np.uint8(4): np.float64(0.06286003561079496), np.uint8(5): np.float64(0.08281444582814446), np.uint8(6): np.float64(0.03582139286904365), np.uint8(7): np.float64(0.19075267353495562), np.uint8(8): np.float64(0.07336765738357126), np.uint8(11): np.float64(0.015460304641467594), np.uint8(12): np.float64(0.22611036339165544), np.uint8(13): np.float64(0.007601090805888377), np.uint8(17): np.float64(0.11543706211501387), np.uint8(19): np.float64(0.16620784583620096), np.uint8(20): np.float64(0.0721776175651319), np.uint8(21): np.float64(0.005987238877720479), np.uint8(24): np.float64(0.06159359614160833), np.uint8(26): np.float64(0.5723065011734534), np.uint8(33): np.float64(0.005473596413491112), 'mean': np.float64(0.10309911100286767), 'weighted_mean': np.float64(0.10002524034004014)}\n"
     ]
    },
    {
     "data": {
      "application/vnd.jupyter.widget-view+json": {
       "model_id": "e543fdfa32d24cfc82147101e7863ca9",
       "version_major": 2,
       "version_minor": 0
      },
      "text/plain": [
       "finding centroids:   0%|          | 0/18 [00:00<?, ?it/s]"
      ]
     },
     "metadata": {},
     "output_type": "display_data"
    },
    {
     "data": {
      "application/vnd.jupyter.widget-view+json": {
       "model_id": "8e7e3d4443e54b7d88831a0252978cbb",
       "version_major": 2,
       "version_minor": 0
      },
      "text/plain": [
       "class growing:   0%|          | 0/133 [00:00<?, ?it/s]"
      ]
     },
     "metadata": {},
     "output_type": "display_data"
    },
    {
     "data": {
      "application/vnd.jupyter.widget-view+json": {
       "model_id": "6842c744b03b4dea867054ef7206e6e1",
       "version_major": 2,
       "version_minor": 0
      },
      "text/plain": [
       "calculating IoU:   0%|          | 0/18 [00:00<?, ?it/s]"
      ]
     },
     "metadata": {},
     "output_type": "display_data"
    },
    {
     "name": "stdout",
     "output_type": "stream",
     "text": [
      "{np.uint8(0): np.float64(0.0), np.uint8(1): np.float64(0.09788255165646258), np.uint8(2): np.float64(0.025168804258511663), np.uint8(4): np.float64(0.05677550371285615), np.uint8(5): np.float64(0.47549019607843135), np.uint8(7): np.float64(0.0004317681737036576), np.uint8(8): np.float64(0.0488328608480608), np.uint8(11): np.float64(0.11516959597287932), np.uint8(13): np.float64(0.22764227642276422), np.uint8(17): np.float64(0.06433089214380826), np.uint8(19): np.float64(0.3933649289099526), np.uint8(20): np.float64(0.09402606489985131), np.uint8(21): np.float64(0.006782839728061265), np.uint8(23): np.float64(0.7919062361786819), np.uint8(24): np.float64(0.13220338983050847), np.uint8(26): np.float64(0.015095975348894187), np.uint8(28): np.float64(0.3963550983899821), np.uint8(33): np.float64(0.18900675024108005), 'mean': np.float64(0.1739147629330272), 'weighted_mean': np.float64(0.05672028971197877)}\n"
     ]
    },
    {
     "data": {
      "application/vnd.jupyter.widget-view+json": {
       "model_id": "75fd56c598f74732a767893de5cc7dd1",
       "version_major": 2,
       "version_minor": 0
      },
      "text/plain": [
       "finding centroids:   0%|          | 0/18 [00:00<?, ?it/s]"
      ]
     },
     "metadata": {},
     "output_type": "display_data"
    },
    {
     "data": {
      "application/vnd.jupyter.widget-view+json": {
       "model_id": "ab234838598148d285866e22af4c69ef",
       "version_major": 2,
       "version_minor": 0
      },
      "text/plain": [
       "class growing:   0%|          | 0/196 [00:00<?, ?it/s]"
      ]
     },
     "metadata": {},
     "output_type": "display_data"
    },
    {
     "data": {
      "application/vnd.jupyter.widget-view+json": {
       "model_id": "10d906883f094fa8afd0662cb10bf8ca",
       "version_major": 2,
       "version_minor": 0
      },
      "text/plain": [
       "calculating IoU:   0%|          | 0/18 [00:00<?, ?it/s]"
      ]
     },
     "metadata": {},
     "output_type": "display_data"
    },
    {
     "name": "stdout",
     "output_type": "stream",
     "text": [
      "{np.uint8(0): np.float64(0.0), np.uint8(1): np.float64(0.11105185991397375), np.uint8(2): np.float64(0.022767575059619658), np.uint8(4): np.float64(0.12390634464958256), np.uint8(7): np.float64(0.005058017972004533), np.uint8(8): np.float64(0.020009720579199794), np.uint8(11): np.float64(0.07063296262330092), np.uint8(12): np.float64(0.326778854947869), np.uint8(13): np.float64(0.012104444060176378), np.uint8(17): np.float64(0.04917418823265046), np.uint8(19): np.float64(0.10885924746167629), np.uint8(20): np.float64(0.14305734626380404), np.uint8(21): np.float64(0.030128340560244944), np.uint8(23): np.float64(0.4268432034976153), np.uint8(25): np.float64(0.012790394152962672), np.uint8(26): np.float64(0.07121720260406392), np.uint8(32): np.float64(0.06790622473726758), np.uint8(33): np.float64(0.0057865988859445135), 'mean': np.float64(0.08933736256677534), 'weighted_mean': np.float64(0.04677486722262509)}\n"
     ]
    },
    {
     "data": {
      "application/vnd.jupyter.widget-view+json": {
       "model_id": "2fe720a64e034cecbff18b3b017fd59b",
       "version_major": 2,
       "version_minor": 0
      },
      "text/plain": [
       "finding centroids:   0%|          | 0/16 [00:00<?, ?it/s]"
      ]
     },
     "metadata": {},
     "output_type": "display_data"
    },
    {
     "data": {
      "application/vnd.jupyter.widget-view+json": {
       "model_id": "95b70dcd25b9464a9aa8d1954efaa16a",
       "version_major": 2,
       "version_minor": 0
      },
      "text/plain": [
       "class growing:   0%|          | 0/114 [00:00<?, ?it/s]"
      ]
     },
     "metadata": {},
     "output_type": "display_data"
    },
    {
     "data": {
      "application/vnd.jupyter.widget-view+json": {
       "model_id": "13372b6720404e9da82882ce04cc5a4f",
       "version_major": 2,
       "version_minor": 0
      },
      "text/plain": [
       "calculating IoU:   0%|          | 0/16 [00:00<?, ?it/s]"
      ]
     },
     "metadata": {},
     "output_type": "display_data"
    },
    {
     "name": "stdout",
     "output_type": "stream",
     "text": [
      "{np.uint8(0): np.float64(0.0), np.uint8(1): np.float64(0.1638237205059064), np.uint8(2): np.float64(0.013611135582768039), np.uint8(4): np.float64(0.10285544822911372), np.uint8(6): np.float64(0.12013229843601975), np.uint8(7): np.float64(0.05784804253759304), np.uint8(8): np.float64(0.05321581755781235), np.uint8(11): np.float64(0.061863332582876636), np.uint8(12): np.float64(0.15167391883491696), np.uint8(17): np.float64(0.06577762531623858), np.uint8(19): np.float64(0.1742633029467882), np.uint8(20): np.float64(0.2213005084292213), np.uint8(21): np.float64(0.005388507827545677), np.uint8(23): np.float64(0.8936267197082711), np.uint8(24): np.float64(0.0023902303043243597), np.uint8(26): np.float64(0.09131226036715727), 'mean': np.float64(0.1361926793229096), 'weighted_mean': np.float64(0.061917461487147)}\n"
     ]
    },
    {
     "data": {
      "application/vnd.jupyter.widget-view+json": {
       "model_id": "dcbe8378e3474245835c7b2080643968",
       "version_major": 2,
       "version_minor": 0
      },
      "text/plain": [
       "finding centroids:   0%|          | 0/19 [00:00<?, ?it/s]"
      ]
     },
     "metadata": {},
     "output_type": "display_data"
    },
    {
     "data": {
      "application/vnd.jupyter.widget-view+json": {
       "model_id": "c5062c1baad746109acbb810ac23dbd8",
       "version_major": 2,
       "version_minor": 0
      },
      "text/plain": [
       "class growing:   0%|          | 0/165 [00:00<?, ?it/s]"
      ]
     },
     "metadata": {},
     "output_type": "display_data"
    },
    {
     "data": {
      "application/vnd.jupyter.widget-view+json": {
       "model_id": "e8416d34f2c14433becc4a5df40680d0",
       "version_major": 2,
       "version_minor": 0
      },
      "text/plain": [
       "calculating IoU:   0%|          | 0/18 [00:00<?, ?it/s]"
      ]
     },
     "metadata": {},
     "output_type": "display_data"
    },
    {
     "name": "stdout",
     "output_type": "stream",
     "text": [
      "{np.uint8(0): np.float64(1.1786800355175584e-05), np.uint8(1): np.float64(0.5018731328900453), np.uint8(2): np.float64(0.024189364790491205), np.uint8(4): np.float64(0.09458689025549026), np.uint8(7): np.float64(0.01697519620292691), np.uint8(8): np.float64(0.20364679658539342), np.uint8(11): np.float64(0.03516928479554592), np.uint8(12): np.float64(0.20372473313649783), np.uint8(17): np.float64(0.19847546450690806), np.uint8(18): np.float64(0.1662062615101289), np.uint8(20): np.float64(0.31923601637107774), np.uint8(21): np.float64(0.0038532450388924647), np.uint8(23): np.float64(0.006134969325153374), np.uint8(24): np.float64(0.13308849247988808), np.uint8(25): np.float64(0.24), np.uint8(26): np.float64(0.022648805413616902), np.uint8(32): np.float64(0.0949961338782724), np.uint8(33): np.float64(0.18666666666666668), 'mean': np.float64(0.13619351336929722), 'weighted_mean': np.float64(0.06765529548408787)}\n"
     ]
    },
    {
     "data": {
      "application/vnd.jupyter.widget-view+json": {
       "model_id": "3ef79e7f06cb48a4a5c8e79be1ea6167",
       "version_major": 2,
       "version_minor": 0
      },
      "text/plain": [
       "finding centroids:   0%|          | 0/18 [00:00<?, ?it/s]"
      ]
     },
     "metadata": {},
     "output_type": "display_data"
    },
    {
     "data": {
      "application/vnd.jupyter.widget-view+json": {
       "model_id": "b38cfdbf1d8e4acbbae741309712c76c",
       "version_major": 2,
       "version_minor": 0
      },
      "text/plain": [
       "class growing:   0%|          | 0/134 [00:00<?, ?it/s]"
      ]
     },
     "metadata": {},
     "output_type": "display_data"
    },
    {
     "data": {
      "application/vnd.jupyter.widget-view+json": {
       "model_id": "3597f0c00f8543dbbd00cd910817174c",
       "version_major": 2,
       "version_minor": 0
      },
      "text/plain": [
       "calculating IoU:   0%|          | 0/18 [00:00<?, ?it/s]"
      ]
     },
     "metadata": {},
     "output_type": "display_data"
    },
    {
     "name": "stdout",
     "output_type": "stream",
     "text": [
      "{np.uint8(0): np.float64(0.0), np.uint8(1): np.float64(0.10364441559131825), np.uint8(2): np.float64(0.03994054407298728), np.uint8(4): np.float64(0.12004488925221665), np.uint8(5): np.float64(0.11671469740634005), np.uint8(7): np.float64(0.014267863533705552), np.uint8(8): np.float64(0.006168811180200702), np.uint8(11): np.float64(0.045979138993532655), np.uint8(12): np.float64(0.19624608967674662), np.uint8(13): np.float64(0.010061834546851561), np.uint8(17): np.float64(0.13869149188932328), np.uint8(19): np.float64(0.0587854700064701), np.uint8(20): np.float64(0.23896520146520148), np.uint8(21): np.float64(0.00633420470540921), np.uint8(23): np.float64(0.006702191946382464), np.uint8(24): np.float64(0.15863528825800025), np.uint8(26): np.float64(0.009458497000043165), np.uint8(33): np.float64(0.2786784949525849), 'mean': np.float64(0.08607328469318412), 'weighted_mean': np.float64(0.03531634312313987)}\n"
     ]
    },
    {
     "data": {
      "application/vnd.jupyter.widget-view+json": {
       "model_id": "4b6631982dfd4087ad8440173625d298",
       "version_major": 2,
       "version_minor": 0
      },
      "text/plain": [
       "finding centroids:   0%|          | 0/19 [00:00<?, ?it/s]"
      ]
     },
     "metadata": {},
     "output_type": "display_data"
    },
    {
     "data": {
      "application/vnd.jupyter.widget-view+json": {
       "model_id": "c0f29782ad494652b6e8d2523c54feb3",
       "version_major": 2,
       "version_minor": 0
      },
      "text/plain": [
       "class growing:   0%|          | 0/177 [00:00<?, ?it/s]"
      ]
     },
     "metadata": {},
     "output_type": "display_data"
    },
    {
     "data": {
      "application/vnd.jupyter.widget-view+json": {
       "model_id": "c14a95d2bb374307b128b08cdbd4a714",
       "version_major": 2,
       "version_minor": 0
      },
      "text/plain": [
       "calculating IoU:   0%|          | 0/19 [00:00<?, ?it/s]"
      ]
     },
     "metadata": {},
     "output_type": "display_data"
    },
    {
     "name": "stdout",
     "output_type": "stream",
     "text": [
      "{np.uint8(0): np.float64(0.0), np.uint8(1): np.float64(0.10575927200886041), np.uint8(2): np.float64(0.005911820948584664), np.uint8(4): np.float64(0.056788694700867066), np.uint8(5): np.float64(0.016363364836899708), np.uint8(7): np.float64(0.003892569895147856), np.uint8(8): np.float64(0.032224257856166935), np.uint8(11): np.float64(0.050607609122918534), np.uint8(12): np.float64(0.030177759404712692), np.uint8(13): np.float64(0.028268639556099876), np.uint8(17): np.float64(0.03429222161707184), np.uint8(19): np.float64(0.4836852207293666), np.uint8(20): np.float64(0.27649088220798423), np.uint8(21): np.float64(0.010412036593195572), np.uint8(22): np.float64(0.46131386861313867), np.uint8(23): np.float64(0.008870517873636272), np.uint8(25): np.float64(0.29931972789115646), np.uint8(26): np.float64(0.025842764631120257), np.uint8(33): np.float64(0.14157844909200448), 'mean': np.float64(0.10904208829362802), 'weighted_mean': np.float64(0.024306568415389772)}\n"
     ]
    },
    {
     "data": {
      "application/vnd.jupyter.widget-view+json": {
       "model_id": "26df7b5882ab4a97ac9c3c16f2506f30",
       "version_major": 2,
       "version_minor": 0
      },
      "text/plain": [
       "finding centroids:   0%|          | 0/20 [00:00<?, ?it/s]"
      ]
     },
     "metadata": {},
     "output_type": "display_data"
    },
    {
     "data": {
      "application/vnd.jupyter.widget-view+json": {
       "model_id": "0e4fbf3b5bdd4e4d962d554407b546a7",
       "version_major": 2,
       "version_minor": 0
      },
      "text/plain": [
       "class growing:   0%|          | 0/232 [00:00<?, ?it/s]"
      ]
     },
     "metadata": {},
     "output_type": "display_data"
    },
    {
     "data": {
      "application/vnd.jupyter.widget-view+json": {
       "model_id": "044e81136bdf49fd8808a7277894eaa4",
       "version_major": 2,
       "version_minor": 0
      },
      "text/plain": [
       "calculating IoU:   0%|          | 0/20 [00:00<?, ?it/s]"
      ]
     },
     "metadata": {},
     "output_type": "display_data"
    },
    {
     "name": "stdout",
     "output_type": "stream",
     "text": [
      "{np.uint8(0): np.float64(0.0), np.uint8(1): np.float64(0.13950042231827892), np.uint8(2): np.float64(0.009441802075781955), np.uint8(4): np.float64(0.14183975886103545), np.uint8(6): np.float64(0.04686180201185332), np.uint8(7): np.float64(0.05125564979280586), np.uint8(8): np.float64(0.16587431288070123), np.uint8(11): np.float64(0.16500534904651123), np.uint8(12): np.float64(0.07127798413813874), np.uint8(13): np.float64(0.05090071219103477), np.uint8(17): np.float64(0.07332324173265022), np.uint8(19): np.float64(0.48545454545454547), np.uint8(20): np.float64(0.10458278498725616), np.uint8(21): np.float64(0.0395559066823197), np.uint8(22): np.float64(0.2786413356361543), np.uint8(23): np.float64(0.029965448319672766), np.uint8(25): np.float64(0.007231404958677686), np.uint8(26): np.float64(0.026827146171693735), np.uint8(32): np.float64(0.10660486674391657), np.uint8(33): np.float64(0.07910413651253143), 'mean': np.float64(0.10366243052577798), 'weighted_mean': np.float64(0.061179721159860916)}\n"
     ]
    },
    {
     "data": {
      "application/vnd.jupyter.widget-view+json": {
       "model_id": "1cbeb27f651246e4a4c8cb9f8a39680d",
       "version_major": 2,
       "version_minor": 0
      },
      "text/plain": [
       "finding centroids:   0%|          | 0/19 [00:00<?, ?it/s]"
      ]
     },
     "metadata": {},
     "output_type": "display_data"
    },
    {
     "data": {
      "application/vnd.jupyter.widget-view+json": {
       "model_id": "095dd76993a847d8bb1c326ce364c06a",
       "version_major": 2,
       "version_minor": 0
      },
      "text/plain": [
       "class growing:   0%|          | 0/198 [00:00<?, ?it/s]"
      ]
     },
     "metadata": {},
     "output_type": "display_data"
    },
    {
     "data": {
      "application/vnd.jupyter.widget-view+json": {
       "model_id": "f92d71bf589149d38c2be730980b03f0",
       "version_major": 2,
       "version_minor": 0
      },
      "text/plain": [
       "calculating IoU:   0%|          | 0/19 [00:00<?, ?it/s]"
      ]
     },
     "metadata": {},
     "output_type": "display_data"
    },
    {
     "name": "stdout",
     "output_type": "stream",
     "text": [
      "{np.uint8(0): np.float64(0.0), np.uint8(1): np.float64(0.2512048778117864), np.uint8(2): np.float64(0.007273077019962031), np.uint8(4): np.float64(0.10142523741725257), np.uint8(6): np.float64(0.04707931378454262), np.uint8(7): np.float64(0.007536051533562697), np.uint8(8): np.float64(0.10552312528064661), np.uint8(11): np.float64(0.08820124403979357), np.uint8(12): np.float64(0.008160828025477707), np.uint8(17): np.float64(0.09852223755138033), np.uint8(19): np.float64(0.11714285714285715), np.uint8(20): np.float64(0.10179668590579036), np.uint8(21): np.float64(0.021724752958754503), np.uint8(23): np.float64(0.25818688286982516), np.uint8(24): np.float64(0.0893216924110141), np.uint8(25): np.float64(0.027422873169211593), np.uint8(26): np.float64(0.1298695374509625), np.uint8(32): np.float64(0.23366834170854273), np.uint8(33): np.float64(0.4050179211469534), 'mean': np.float64(0.1104777651172798), 'weighted_mean': np.float64(0.047635878119692145)}\n"
     ]
    },
    {
     "data": {
      "application/vnd.jupyter.widget-view+json": {
       "model_id": "55cb085a5cd04c37803de6a09779ddd6",
       "version_major": 2,
       "version_minor": 0
      },
      "text/plain": [
       "finding centroids:   0%|          | 0/19 [00:00<?, ?it/s]"
      ]
     },
     "metadata": {},
     "output_type": "display_data"
    },
    {
     "data": {
      "application/vnd.jupyter.widget-view+json": {
       "model_id": "5c57e7db36af42d492584804220cba6c",
       "version_major": 2,
       "version_minor": 0
      },
      "text/plain": [
       "class growing:   0%|          | 0/147 [00:00<?, ?it/s]"
      ]
     },
     "metadata": {},
     "output_type": "display_data"
    },
    {
     "data": {
      "application/vnd.jupyter.widget-view+json": {
       "model_id": "e4b21f4037e74ba7b8e7c00cf3fdc195",
       "version_major": 2,
       "version_minor": 0
      },
      "text/plain": [
       "calculating IoU:   0%|          | 0/19 [00:00<?, ?it/s]"
      ]
     },
     "metadata": {},
     "output_type": "display_data"
    },
    {
     "name": "stdout",
     "output_type": "stream",
     "text": [
      "{np.uint8(0): np.float64(0.0), np.uint8(1): np.float64(0.12231445838764829), np.uint8(2): np.float64(0.011124542978874373), np.uint8(4): np.float64(0.18231842270909054), np.uint8(6): np.float64(0.052477637370438736), np.uint8(7): np.float64(0.006788370005452602), np.uint8(8): np.float64(0.12331469911213416), np.uint8(11): np.float64(0.20338927973743642), np.uint8(17): np.float64(0.0390408482949753), np.uint8(19): np.float64(0.20594795539033459), np.uint8(20): np.float64(0.2543056064492488), np.uint8(21): np.float64(0.001223908423618988), np.uint8(23): np.float64(0.3531692703958788), np.uint8(24): np.float64(0.2592494011179132), np.uint8(25): np.float64(0.09221052631578948), np.uint8(26): np.float64(0.03381602764521968), np.uint8(28): np.float64(0.014905236106649533), np.uint8(32): np.float64(0.019083490269930947), np.uint8(33): np.float64(0.1411353032659409), 'mean': np.float64(0.1113586833671882), 'weighted_mean': np.float64(0.037360023122360614)}\n"
     ]
    },
    {
     "data": {
      "application/vnd.jupyter.widget-view+json": {
       "model_id": "cac66ffe952041538f735be74939e30e",
       "version_major": 2,
       "version_minor": 0
      },
      "text/plain": [
       "finding centroids:   0%|          | 0/18 [00:00<?, ?it/s]"
      ]
     },
     "metadata": {},
     "output_type": "display_data"
    },
    {
     "data": {
      "application/vnd.jupyter.widget-view+json": {
       "model_id": "ac3c34c2ea51408d8f9b0b76f7fe35c7",
       "version_major": 2,
       "version_minor": 0
      },
      "text/plain": [
       "class growing:   0%|          | 0/60 [00:00<?, ?it/s]"
      ]
     },
     "metadata": {},
     "output_type": "display_data"
    },
    {
     "data": {
      "application/vnd.jupyter.widget-view+json": {
       "model_id": "a27a614fe7e14fdd92a92d9212cdaf91",
       "version_major": 2,
       "version_minor": 0
      },
      "text/plain": [
       "calculating IoU:   0%|          | 0/18 [00:00<?, ?it/s]"
      ]
     },
     "metadata": {},
     "output_type": "display_data"
    },
    {
     "name": "stdout",
     "output_type": "stream",
     "text": [
      "{np.uint8(0): np.float64(0.0), np.uint8(1): np.float64(0.09431425954026666), np.uint8(2): np.float64(0.0051479715162997325), np.uint8(4): np.float64(0.006768877956760556), np.uint8(7): np.float64(0.000290589658819158), np.uint8(8): np.float64(0.0015916370281582205), np.uint8(11): np.float64(0.03511026328433059), np.uint8(12): np.float64(0.007286138346676262), np.uint8(17): np.float64(0.5498565279770444), np.uint8(19): np.float64(0.3747323340471092), np.uint8(20): np.float64(0.2071447613969608), np.uint8(21): np.float64(0.002405874252246662), np.uint8(22): np.float64(0.09788548348776431), np.uint8(23): np.float64(0.0011074499938475), np.uint8(25): np.float64(0.023837551500882872), np.uint8(26): np.float64(0.06164272237101527), np.uint8(27): np.float64(0.6479350853821), np.uint8(33): np.float64(0.2121931908155186), 'mean': np.float64(0.12940281769754447), 'weighted_mean': np.float64(0.02269508126611853)}\n"
     ]
    },
    {
     "data": {
      "application/vnd.jupyter.widget-view+json": {
       "model_id": "229e3ea37cd342d0858969c4752dec51",
       "version_major": 2,
       "version_minor": 0
      },
      "text/plain": [
       "finding centroids:   0%|          | 0/18 [00:00<?, ?it/s]"
      ]
     },
     "metadata": {},
     "output_type": "display_data"
    },
    {
     "data": {
      "application/vnd.jupyter.widget-view+json": {
       "model_id": "5307d7fcf3cc489ea80d7fdc2605d513",
       "version_major": 2,
       "version_minor": 0
      },
      "text/plain": [
       "class growing:   0%|          | 0/175 [00:00<?, ?it/s]"
      ]
     },
     "metadata": {},
     "output_type": "display_data"
    },
    {
     "data": {
      "application/vnd.jupyter.widget-view+json": {
       "model_id": "b5992f78a55d4b8193e8b988f693e83b",
       "version_major": 2,
       "version_minor": 0
      },
      "text/plain": [
       "calculating IoU:   0%|          | 0/18 [00:00<?, ?it/s]"
      ]
     },
     "metadata": {},
     "output_type": "display_data"
    },
    {
     "name": "stdout",
     "output_type": "stream",
     "text": [
      "{np.uint8(0): np.float64(0.0), np.uint8(1): np.float64(0.13881857238188205), np.uint8(2): np.float64(0.006495021416773206), np.uint8(4): np.float64(0.061975677208086), np.uint8(5): np.float64(0.012335526315789474), np.uint8(7): np.float64(0.18781027433137104), np.uint8(8): np.float64(0.02033204655617798), np.uint8(11): np.float64(0.012116975629164696), np.uint8(17): np.float64(0.06681088276894917), np.uint8(19): np.float64(0.05153007386563489), np.uint8(20): np.float64(0.07286500135269186), np.uint8(21): np.float64(0.20804055647253006), np.uint8(22): np.float64(0.23737373737373738), np.uint8(23): np.float64(0.004344082151991466), np.uint8(24): np.float64(0.017390077426409637), np.uint8(26): np.float64(0.13612043642467478), np.uint8(32): np.float64(0.13587921847246892), np.uint8(33): np.float64(0.18771653543307087), 'mean': np.float64(0.08655303864341131), 'weighted_mean': np.float64(0.10648722412209631)}\n"
     ]
    },
    {
     "data": {
      "application/vnd.jupyter.widget-view+json": {
       "model_id": "01c442ac93a44ebb937e756f85fe32ad",
       "version_major": 2,
       "version_minor": 0
      },
      "text/plain": [
       "finding centroids:   0%|          | 0/18 [00:00<?, ?it/s]"
      ]
     },
     "metadata": {},
     "output_type": "display_data"
    },
    {
     "data": {
      "application/vnd.jupyter.widget-view+json": {
       "model_id": "a4e75d7c0feb480991fee6f742cfc484",
       "version_major": 2,
       "version_minor": 0
      },
      "text/plain": [
       "class growing:   0%|          | 0/153 [00:00<?, ?it/s]"
      ]
     },
     "metadata": {},
     "output_type": "display_data"
    },
    {
     "data": {
      "application/vnd.jupyter.widget-view+json": {
       "model_id": "d4970acd2ca34645a1a2e1a3c63d4740",
       "version_major": 2,
       "version_minor": 0
      },
      "text/plain": [
       "calculating IoU:   0%|          | 0/18 [00:00<?, ?it/s]"
      ]
     },
     "metadata": {},
     "output_type": "display_data"
    },
    {
     "name": "stdout",
     "output_type": "stream",
     "text": [
      "{np.uint8(0): np.float64(0.0), np.uint8(1): np.float64(0.09996946510040594), np.uint8(2): np.float64(0.008141021328130256), np.uint8(4): np.float64(0.08863693414777006), np.uint8(7): np.float64(0.0006375330882403131), np.uint8(8): np.float64(0.023632718226710727), np.uint8(11): np.float64(0.09376884617629322), np.uint8(12): np.float64(0.034544612892026386), np.uint8(17): np.float64(0.05507110829917751), np.uint8(19): np.float64(0.5169082125603864), np.uint8(20): np.float64(0.3693181818181818), np.uint8(21): np.float64(0.004622883133514385), np.uint8(22): np.float64(0.23940677966101695), np.uint8(23): np.float64(0.9008461076977182), np.uint8(24): np.float64(0.048624525411310196), np.uint8(25): np.float64(0.02554802081690585), np.uint8(26): np.float64(0.006076843864268404), np.uint8(33): np.float64(0.09096661920582186), 'mean': np.float64(0.14481780074599326), 'weighted_mean': np.float64(0.042110296973136944)}\n"
     ]
    },
    {
     "data": {
      "application/vnd.jupyter.widget-view+json": {
       "model_id": "24a78c7dc0794364bf6815194724b9c1",
       "version_major": 2,
       "version_minor": 0
      },
      "text/plain": [
       "finding centroids:   0%|          | 0/17 [00:00<?, ?it/s]"
      ]
     },
     "metadata": {},
     "output_type": "display_data"
    },
    {
     "data": {
      "application/vnd.jupyter.widget-view+json": {
       "model_id": "c035fea0deb14071a3a79c80d38a5a79",
       "version_major": 2,
       "version_minor": 0
      },
      "text/plain": [
       "class growing:   0%|          | 0/135 [00:00<?, ?it/s]"
      ]
     },
     "metadata": {},
     "output_type": "display_data"
    },
    {
     "data": {
      "application/vnd.jupyter.widget-view+json": {
       "model_id": "dac3d005346a4628a4499322309019ca",
       "version_major": 2,
       "version_minor": 0
      },
      "text/plain": [
       "calculating IoU:   0%|          | 0/17 [00:00<?, ?it/s]"
      ]
     },
     "metadata": {},
     "output_type": "display_data"
    },
    {
     "name": "stdout",
     "output_type": "stream",
     "text": [
      "{np.uint8(0): np.float64(0.0), np.uint8(1): np.float64(0.0073495408601440175), np.uint8(2): np.float64(0.1760105633563159), np.uint8(4): np.float64(0.10282083823197365), np.uint8(5): np.float64(0.4211168751907232), np.uint8(7): np.float64(0.38211179760475533), np.uint8(8): np.float64(0.014067228265314468), np.uint8(11): np.float64(0.07845157732226211), np.uint8(17): np.float64(0.04127225846643709), np.uint8(19): np.float64(0.23426843392098828), np.uint8(20): np.float64(0.09362606232294618), np.uint8(21): np.float64(0.0017264795930112106), np.uint8(22): np.float64(0.1040582726326743), np.uint8(23): np.float64(0.8865679964683194), np.uint8(24): np.float64(0.10367099316976539), np.uint8(26): np.float64(0.031833798582778614), np.uint8(33): np.float64(0.0484832428136177), 'mean': np.float64(0.1604374093412957), 'weighted_mean': np.float64(0.1953376820459628)}\n"
     ]
    },
    {
     "data": {
      "application/vnd.jupyter.widget-view+json": {
       "model_id": "861f904ea060427897958e262898eec1",
       "version_major": 2,
       "version_minor": 0
      },
      "text/plain": [
       "finding centroids:   0%|          | 0/19 [00:00<?, ?it/s]"
      ]
     },
     "metadata": {},
     "output_type": "display_data"
    },
    {
     "data": {
      "application/vnd.jupyter.widget-view+json": {
       "model_id": "c2042b8bdda941d2b47038839498b9d5",
       "version_major": 2,
       "version_minor": 0
      },
      "text/plain": [
       "class growing:   0%|          | 0/100 [00:00<?, ?it/s]"
      ]
     },
     "metadata": {},
     "output_type": "display_data"
    },
    {
     "data": {
      "application/vnd.jupyter.widget-view+json": {
       "model_id": "3a5f3a7dd95c4dcab45a4ce79394502e",
       "version_major": 2,
       "version_minor": 0
      },
      "text/plain": [
       "calculating IoU:   0%|          | 0/19 [00:00<?, ?it/s]"
      ]
     },
     "metadata": {},
     "output_type": "display_data"
    },
    {
     "name": "stdout",
     "output_type": "stream",
     "text": [
      "{np.uint8(0): np.float64(0.0), np.uint8(1): np.float64(0.08266917137450447), np.uint8(2): np.float64(0.0064645493475359445), np.uint8(4): np.float64(0.16144267926148562), np.uint8(7): np.float64(0.0001171187123634138), np.uint8(8): np.float64(0.0036215007685500024), np.uint8(9): np.float64(0.004945540182513983), np.uint8(11): np.float64(0.032295331617917346), np.uint8(13): np.float64(0.5152284263959391), np.uint8(17): np.float64(0.04547585560243788), np.uint8(19): np.float64(0.015022255192878338), np.uint8(20): np.float64(0.22238056880847637), np.uint8(21): np.float64(0.0027844473704592984), np.uint8(23): np.float64(0.8967789643097936), np.uint8(24): np.float64(0.01774552550538159), np.uint8(25): np.float64(0.07145757206658547), np.uint8(26): np.float64(0.0028713425358418165), np.uint8(32): np.float64(0.02116527942925089), np.uint8(33): np.float64(0.4214876033057851), 'mean': np.float64(0.13283967009408948), 'weighted_mean': np.float64(0.035225206160050745)}\n"
     ]
    },
    {
     "data": {
      "application/vnd.jupyter.widget-view+json": {
       "model_id": "5397b71699544f4bb202dc42051e1d72",
       "version_major": 2,
       "version_minor": 0
      },
      "text/plain": [
       "finding centroids:   0%|          | 0/19 [00:00<?, ?it/s]"
      ]
     },
     "metadata": {},
     "output_type": "display_data"
    },
    {
     "data": {
      "application/vnd.jupyter.widget-view+json": {
       "model_id": "1c87c513e3d04fbca6456f1900422619",
       "version_major": 2,
       "version_minor": 0
      },
      "text/plain": [
       "class growing:   0%|          | 0/122 [00:00<?, ?it/s]"
      ]
     },
     "metadata": {},
     "output_type": "display_data"
    },
    {
     "data": {
      "application/vnd.jupyter.widget-view+json": {
       "model_id": "45df587467f84a4bbf62132d94a35c80",
       "version_major": 2,
       "version_minor": 0
      },
      "text/plain": [
       "calculating IoU:   0%|          | 0/18 [00:00<?, ?it/s]"
      ]
     },
     "metadata": {},
     "output_type": "display_data"
    },
    {
     "name": "stdout",
     "output_type": "stream",
     "text": [
      "{np.uint8(0): np.float64(0.0), np.uint8(1): np.float64(0.1253894165864526), np.uint8(2): np.float64(0.019836851373654575), np.uint8(4): np.float64(0.02210223748912745), np.uint8(7): np.float64(0.00022904260192395785), np.uint8(8): np.float64(0.4676409854905247), np.uint8(11): np.float64(0.015815498282747975), np.uint8(17): np.float64(0.08790842594598197), np.uint8(18): np.float64(0.07288542291541691), np.uint8(19): np.float64(0.06144), np.uint8(20): np.float64(0.6827195467422096), np.uint8(21): np.float64(0.018273411304166466), np.uint8(23): np.float64(0.002145638526131758), np.uint8(24): np.float64(0.31136363636363634), np.uint8(25): np.float64(0.4817073170731707), np.uint8(26): np.float64(0.4625409537677466), np.uint8(32): np.float64(0.2915194346289753), np.uint8(33): np.float64(0.007570093457943925), 'mean': np.float64(0.17394932847498948), 'weighted_mean': np.float64(0.06860653475518987)}\n"
     ]
    },
    {
     "data": {
      "application/vnd.jupyter.widget-view+json": {
       "model_id": "628a099f1b3449aaa22fc9be585229e8",
       "version_major": 2,
       "version_minor": 0
      },
      "text/plain": [
       "finding centroids:   0%|          | 0/19 [00:00<?, ?it/s]"
      ]
     },
     "metadata": {},
     "output_type": "display_data"
    },
    {
     "data": {
      "application/vnd.jupyter.widget-view+json": {
       "model_id": "4b2e546e4f24440fb7105b9c60e4e1b3",
       "version_major": 2,
       "version_minor": 0
      },
      "text/plain": [
       "class growing:   0%|          | 0/137 [00:00<?, ?it/s]"
      ]
     },
     "metadata": {},
     "output_type": "display_data"
    },
    {
     "data": {
      "application/vnd.jupyter.widget-view+json": {
       "model_id": "2b5601648b58422595b305bad6cf59d9",
       "version_major": 2,
       "version_minor": 0
      },
      "text/plain": [
       "calculating IoU:   0%|          | 0/19 [00:00<?, ?it/s]"
      ]
     },
     "metadata": {},
     "output_type": "display_data"
    },
    {
     "name": "stdout",
     "output_type": "stream",
     "text": [
      "{np.uint8(0): np.float64(0.0), np.uint8(1): np.float64(0.11252772894326335), np.uint8(2): np.float64(0.007611166255303667), np.uint8(4): np.float64(0.03884495125988597), np.uint8(6): np.float64(0.08263305322128851), np.uint8(7): np.float64(9.083467092924976e-05), np.uint8(8): np.float64(0.15880102040816327), np.uint8(11): np.float64(0.002565612597618743), np.uint8(13): np.float64(0.08626974483596597), np.uint8(17): np.float64(0.08066979382567907), np.uint8(19): np.float64(0.18907672301690506), np.uint8(20): np.float64(0.13713393786234576), np.uint8(21): np.float64(0.001780704339025609), np.uint8(23): np.float64(0.2963465961924338), np.uint8(24): np.float64(0.22381930184804927), np.uint8(25): np.float64(0.09608540925266904), np.uint8(26): np.float64(0.011913023363405042), np.uint8(32): np.float64(0.12693156732891833), np.uint8(33): np.float64(0.17222963951935916), 'mean': np.float64(0.0960700425653268), 'weighted_mean': np.float64(0.023056991634263207)}\n"
     ]
    },
    {
     "data": {
      "application/vnd.jupyter.widget-view+json": {
       "model_id": "5f815d50c315497aba2440a0f04e49ab",
       "version_major": 2,
       "version_minor": 0
      },
      "text/plain": [
       "finding centroids:   0%|          | 0/18 [00:00<?, ?it/s]"
      ]
     },
     "metadata": {},
     "output_type": "display_data"
    },
    {
     "data": {
      "application/vnd.jupyter.widget-view+json": {
       "model_id": "452ad5a95e654412bd4319fe3b5f6859",
       "version_major": 2,
       "version_minor": 0
      },
      "text/plain": [
       "class growing:   0%|          | 0/109 [00:00<?, ?it/s]"
      ]
     },
     "metadata": {},
     "output_type": "display_data"
    },
    {
     "data": {
      "application/vnd.jupyter.widget-view+json": {
       "model_id": "325bebfca3f04a799c5fcd366a7cb292",
       "version_major": 2,
       "version_minor": 0
      },
      "text/plain": [
       "calculating IoU:   0%|          | 0/18 [00:00<?, ?it/s]"
      ]
     },
     "metadata": {},
     "output_type": "display_data"
    },
    {
     "name": "stdout",
     "output_type": "stream",
     "text": [
      "{np.uint8(0): np.float64(0.0), np.uint8(1): np.float64(0.18174790079745334), np.uint8(2): np.float64(0.00768711886083254), np.uint8(4): np.float64(0.0467817954193976), np.uint8(6): np.float64(0.006809583858764187), np.uint8(7): np.float64(0.00012920026291626317), np.uint8(8): np.float64(0.00334695296879075), np.uint8(11): np.float64(0.007521299738800812), np.uint8(17): np.float64(0.06883100851746699), np.uint8(19): np.float64(0.013547001486866017), np.uint8(20): np.float64(0.09086987003181794), np.uint8(21): np.float64(0.003157108033163604), np.uint8(23): np.float64(0.7967628246965148), np.uint8(24): np.float64(0.03786180684143846), np.uint8(25): np.float64(0.006857683364206045), np.uint8(26): np.float64(0.007499426064331812), np.uint8(32): np.float64(0.016982451466817622), np.uint8(33): np.float64(0.01369057343571312), 'mean': np.float64(0.07278242254696066), 'weighted_mean': np.float64(0.022615746979554346)}\n"
     ]
    },
    {
     "data": {
      "application/vnd.jupyter.widget-view+json": {
       "model_id": "a9edcf947b844aedb69c79533cf38f4b",
       "version_major": 2,
       "version_minor": 0
      },
      "text/plain": [
       "finding centroids:   0%|          | 0/18 [00:00<?, ?it/s]"
      ]
     },
     "metadata": {},
     "output_type": "display_data"
    },
    {
     "data": {
      "application/vnd.jupyter.widget-view+json": {
       "model_id": "183e0b77a7f04971913f430c40e705e8",
       "version_major": 2,
       "version_minor": 0
      },
      "text/plain": [
       "class growing:   0%|          | 0/116 [00:00<?, ?it/s]"
      ]
     },
     "metadata": {},
     "output_type": "display_data"
    },
    {
     "data": {
      "application/vnd.jupyter.widget-view+json": {
       "model_id": "c45cde9e65e24ee2b3804db503b83439",
       "version_major": 2,
       "version_minor": 0
      },
      "text/plain": [
       "calculating IoU:   0%|          | 0/18 [00:00<?, ?it/s]"
      ]
     },
     "metadata": {},
     "output_type": "display_data"
    },
    {
     "name": "stdout",
     "output_type": "stream",
     "text": [
      "{np.uint8(0): np.float64(0.0), np.uint8(1): np.float64(0.11008771073040183), np.uint8(2): np.float64(0.005444885367364966), np.uint8(4): np.float64(0.05660704553336967), np.uint8(7): np.float64(0.021382194989853116), np.uint8(8): np.float64(0.07366226546212648), np.uint8(11): np.float64(0.01513349862537739), np.uint8(12): np.float64(0.1295414188674991), np.uint8(13): np.float64(0.035685550664962845), np.uint8(17): np.float64(0.23174037354721325), np.uint8(19): np.float64(0.030084158256215136), np.uint8(20): np.float64(0.05511908444169502), np.uint8(21): np.float64(0.00815224097508809), np.uint8(23): np.float64(0.056645044501433095), np.uint8(24): np.float64(0.16975568660488627), np.uint8(25): np.float64(0.1984924623115578), np.uint8(26): np.float64(0.19457907613560266), np.uint8(32): np.float64(0.02975344755536983), 'mean': np.float64(0.07899256358722312), 'weighted_mean': np.float64(0.040111418147738644)}\n"
     ]
    },
    {
     "data": {
      "application/vnd.jupyter.widget-view+json": {
       "model_id": "d017444619f34ebb8cd78f3fb6171cdb",
       "version_major": 2,
       "version_minor": 0
      },
      "text/plain": [
       "finding centroids:   0%|          | 0/17 [00:00<?, ?it/s]"
      ]
     },
     "metadata": {},
     "output_type": "display_data"
    },
    {
     "data": {
      "application/vnd.jupyter.widget-view+json": {
       "model_id": "19a84f9759f14c758a27ac2c4a7fb07b",
       "version_major": 2,
       "version_minor": 0
      },
      "text/plain": [
       "class growing:   0%|          | 0/177 [00:00<?, ?it/s]"
      ]
     },
     "metadata": {},
     "output_type": "display_data"
    },
    {
     "data": {
      "application/vnd.jupyter.widget-view+json": {
       "model_id": "6514c645d0fb4b70b4dda796afceb6c8",
       "version_major": 2,
       "version_minor": 0
      },
      "text/plain": [
       "calculating IoU:   0%|          | 0/17 [00:00<?, ?it/s]"
      ]
     },
     "metadata": {},
     "output_type": "display_data"
    },
    {
     "name": "stdout",
     "output_type": "stream",
     "text": [
      "{np.uint8(0): np.float64(0.0), np.uint8(1): np.float64(0.10943435280003971), np.uint8(2): np.float64(0.005377535108180543), np.uint8(4): np.float64(0.14063207461740468), np.uint8(7): np.float64(0.0019176235831790177), np.uint8(8): np.float64(0.03403735016564077), np.uint8(11): np.float64(0.04793082321974345), np.uint8(12): np.float64(0.02005092297899427), np.uint8(13): np.float64(0.03675249169435216), np.uint8(17): np.float64(0.11839976467127519), np.uint8(19): np.float64(0.017759662275274764), np.uint8(20): np.float64(0.18898872108583445), np.uint8(21): np.float64(0.028478214769260886), np.uint8(24): np.float64(0.0940466461306343), np.uint8(25): np.float64(0.00784959782924702), np.uint8(26): np.float64(0.26861878453038673), np.uint8(33): np.float64(0.0453818050061898), 'mean': np.float64(0.06856802179209635), 'weighted_mean': np.float64(0.03343215957854472)}\n"
     ]
    },
    {
     "data": {
      "application/vnd.jupyter.widget-view+json": {
       "model_id": "11c754865e9a46b7a5a483a03e154749",
       "version_major": 2,
       "version_minor": 0
      },
      "text/plain": [
       "finding centroids:   0%|          | 0/18 [00:00<?, ?it/s]"
      ]
     },
     "metadata": {},
     "output_type": "display_data"
    },
    {
     "data": {
      "application/vnd.jupyter.widget-view+json": {
       "model_id": "358db0533cfc45399687fd833544a3d7",
       "version_major": 2,
       "version_minor": 0
      },
      "text/plain": [
       "class growing:   0%|          | 0/131 [00:00<?, ?it/s]"
      ]
     },
     "metadata": {},
     "output_type": "display_data"
    },
    {
     "data": {
      "application/vnd.jupyter.widget-view+json": {
       "model_id": "c38b4cc329d2480987c8c9557a64fc58",
       "version_major": 2,
       "version_minor": 0
      },
      "text/plain": [
       "calculating IoU:   0%|          | 0/17 [00:00<?, ?it/s]"
      ]
     },
     "metadata": {},
     "output_type": "display_data"
    },
    {
     "name": "stdout",
     "output_type": "stream",
     "text": [
      "{np.uint8(0): np.float64(0.009829512124720276), np.uint8(1): np.float64(0.11268436397553686), np.uint8(2): np.float64(0.01457377182574141), np.uint8(4): np.float64(0.1025183864497437), np.uint8(7): np.float64(0.01740703887033293), np.uint8(8): np.float64(0.07556107083944975), np.uint8(11): np.float64(0.013128427906398068), np.uint8(17): np.float64(0.04422611585668056), np.uint8(19): np.float64(0.04596782252423304), np.uint8(20): np.float64(0.1028009885842062), np.uint8(21): np.float64(0.00801025088049742), np.uint8(24): np.float64(0.049399656946826756), np.uint8(25): np.float64(0.0033941687068773647), np.uint8(26): np.float64(0.12991452991452992), np.uint8(27): np.float64(0.053820598006644516), np.uint8(28): np.float64(0.0011569813305285302), np.uint8(33): np.float64(0.010347682119205299), 'mean': np.float64(0.046749492168361925), 'weighted_mean': np.float64(0.02268515965739626)}\n"
     ]
    },
    {
     "data": {
      "application/vnd.jupyter.widget-view+json": {
       "model_id": "b5f33aa2f4c44283a5dcfd027c3e06bb",
       "version_major": 2,
       "version_minor": 0
      },
      "text/plain": [
       "finding centroids:   0%|          | 0/18 [00:00<?, ?it/s]"
      ]
     },
     "metadata": {},
     "output_type": "display_data"
    },
    {
     "data": {
      "application/vnd.jupyter.widget-view+json": {
       "model_id": "ca4cf044f3f049f9ada000bbd4b89267",
       "version_major": 2,
       "version_minor": 0
      },
      "text/plain": [
       "class growing:   0%|          | 0/181 [00:00<?, ?it/s]"
      ]
     },
     "metadata": {},
     "output_type": "display_data"
    },
    {
     "data": {
      "application/vnd.jupyter.widget-view+json": {
       "model_id": "5d727ca14eaf4fe3b9abbdd8ae87f752",
       "version_major": 2,
       "version_minor": 0
      },
      "text/plain": [
       "calculating IoU:   0%|          | 0/17 [00:00<?, ?it/s]"
      ]
     },
     "metadata": {},
     "output_type": "display_data"
    },
    {
     "name": "stdout",
     "output_type": "stream",
     "text": [
      "{np.uint8(0): np.float64(0.034187802718608405), np.uint8(1): np.float64(0.12936596597751376), np.uint8(2): np.float64(0.004233090997439588), np.uint8(4): np.float64(0.06214839256140883), np.uint8(6): np.float64(0.04893152794712186), np.uint8(7): np.float64(0.04370947452530193), np.uint8(8): np.float64(0.05357015985790409), np.uint8(11): np.float64(0.04795966944569901), np.uint8(17): np.float64(0.029611248966087675), np.uint8(19): np.float64(0.41025641025641024), np.uint8(20): np.float64(0.10440665569573962), np.uint8(21): np.float64(0.0025854394615719726), np.uint8(22): np.float64(0.01738154796939376), np.uint8(24): np.float64(0.09919472913616398), np.uint8(25): np.float64(0.005664335664335664), np.uint8(26): np.float64(0.381025483573841), np.uint8(33): np.float64(0.038486627527723416), 'mean': np.float64(0.08898344484013322), 'weighted_mean': np.float64(0.04113814105579615)}\n"
     ]
    },
    {
     "data": {
      "application/vnd.jupyter.widget-view+json": {
       "model_id": "4228dddd3eb8474993c8ea7961e3ab79",
       "version_major": 2,
       "version_minor": 0
      },
      "text/plain": [
       "finding centroids:   0%|          | 0/19 [00:00<?, ?it/s]"
      ]
     },
     "metadata": {},
     "output_type": "display_data"
    },
    {
     "data": {
      "application/vnd.jupyter.widget-view+json": {
       "model_id": "6638d841f4534c5b907eee70b0c69d99",
       "version_major": 2,
       "version_minor": 0
      },
      "text/plain": [
       "class growing:   0%|          | 0/185 [00:00<?, ?it/s]"
      ]
     },
     "metadata": {},
     "output_type": "display_data"
    },
    {
     "data": {
      "application/vnd.jupyter.widget-view+json": {
       "model_id": "b41d08b798d4435092c52c23583003d4",
       "version_major": 2,
       "version_minor": 0
      },
      "text/plain": [
       "calculating IoU:   0%|          | 0/19 [00:00<?, ?it/s]"
      ]
     },
     "metadata": {},
     "output_type": "display_data"
    },
    {
     "name": "stdout",
     "output_type": "stream",
     "text": [
      "{np.uint8(0): np.float64(0.0), np.uint8(1): np.float64(0.08163370961025514), np.uint8(2): np.float64(0.03553344400672367), np.uint8(4): np.float64(0.033972786080749495), np.uint8(7): np.float64(0.07829934982159384), np.uint8(8): np.float64(0.20492532884976758), np.uint8(11): np.float64(0.004440998968884576), np.uint8(12): np.float64(0.19218870843000774), np.uint8(17): np.float64(0.02468902289770578), np.uint8(19): np.float64(0.1284072249589491), np.uint8(20): np.float64(0.05220655499826504), np.uint8(21): np.float64(0.021098794006578145), np.uint8(22): np.float64(0.0003498670083841624), np.uint8(23): np.float64(0.0019228068659328313), np.uint8(24): np.float64(0.04709753123346295), np.uint8(25): np.float64(0.048484848484848485), np.uint8(26): np.float64(0.008883429105159496), np.uint8(28): np.float64(0.03836858006042296), np.uint8(33): np.float64(0.15505346671265954), 'mean': np.float64(0.060924023794755276), 'weighted_mean': np.float64(0.0391589393028608)}\n"
     ]
    },
    {
     "data": {
      "application/vnd.jupyter.widget-view+json": {
       "model_id": "28c37c864dcc4f14b7ecc9afbb1711e1",
       "version_major": 2,
       "version_minor": 0
      },
      "text/plain": [
       "finding centroids:   0%|          | 0/18 [00:00<?, ?it/s]"
      ]
     },
     "metadata": {},
     "output_type": "display_data"
    },
    {
     "data": {
      "application/vnd.jupyter.widget-view+json": {
       "model_id": "40f35541fb7c45f18c2786ccbab9b6c4",
       "version_major": 2,
       "version_minor": 0
      },
      "text/plain": [
       "class growing:   0%|          | 0/127 [00:00<?, ?it/s]"
      ]
     },
     "metadata": {},
     "output_type": "display_data"
    },
    {
     "data": {
      "application/vnd.jupyter.widget-view+json": {
       "model_id": "64ec546d11ac46e3accc41980ac87e70",
       "version_major": 2,
       "version_minor": 0
      },
      "text/plain": [
       "calculating IoU:   0%|          | 0/18 [00:00<?, ?it/s]"
      ]
     },
     "metadata": {},
     "output_type": "display_data"
    },
    {
     "name": "stdout",
     "output_type": "stream",
     "text": [
      "{np.uint8(0): np.float64(0.0), np.uint8(1): np.float64(0.1365131927024655), np.uint8(2): np.float64(0.012008352445828912), np.uint8(4): np.float64(0.057961334372332925), np.uint8(5): np.float64(0.4657052409426662), np.uint8(7): np.float64(0.0015460086613578645), np.uint8(8): np.float64(0.04166639733686694), np.uint8(11): np.float64(0.0035157432343285553), np.uint8(13): np.float64(0.012824501365411871), np.uint8(17): np.float64(0.06306616421479817), np.uint8(19): np.float64(0.02902908375246009), np.uint8(20): np.float64(0.09887387387387388), np.uint8(21): np.float64(0.008169666466072178), np.uint8(22): np.float64(0.08171206225680934), np.uint8(23): np.float64(0.0010134120708637773), np.uint8(24): np.float64(0.02280242491044365), np.uint8(26): np.float64(0.1545459262205773), np.uint8(33): np.float64(0.22291573785109228), 'mean': np.float64(0.0785482845932361), 'weighted_mean': np.float64(0.021958078355741508)}\n"
     ]
    },
    {
     "data": {
      "application/vnd.jupyter.widget-view+json": {
       "model_id": "6195d944d6bd4ce0a128b7b5b2cafe51",
       "version_major": 2,
       "version_minor": 0
      },
      "text/plain": [
       "finding centroids:   0%|          | 0/18 [00:00<?, ?it/s]"
      ]
     },
     "metadata": {},
     "output_type": "display_data"
    },
    {
     "data": {
      "application/vnd.jupyter.widget-view+json": {
       "model_id": "372e238bccf24df18d5d80343b9fc0f2",
       "version_major": 2,
       "version_minor": 0
      },
      "text/plain": [
       "class growing:   0%|          | 0/133 [00:00<?, ?it/s]"
      ]
     },
     "metadata": {},
     "output_type": "display_data"
    },
    {
     "data": {
      "application/vnd.jupyter.widget-view+json": {
       "model_id": "73a430d7f0fc40608676ec2f40aaa265",
       "version_major": 2,
       "version_minor": 0
      },
      "text/plain": [
       "calculating IoU:   0%|          | 0/18 [00:00<?, ?it/s]"
      ]
     },
     "metadata": {},
     "output_type": "display_data"
    },
    {
     "name": "stdout",
     "output_type": "stream",
     "text": [
      "{np.uint8(0): np.float64(0.0), np.uint8(1): np.float64(0.12273760163696085), np.uint8(2): np.float64(0.004751123576521475), np.uint8(4): np.float64(0.020754333457163085), np.uint8(7): np.float64(0.0016157628264882747), np.uint8(8): np.float64(0.014493994122514195), np.uint8(11): np.float64(0.00665051821523885), np.uint8(12): np.float64(0.04652761861104744), np.uint8(13): np.float64(0.020815542271562768), np.uint8(17): np.float64(0.07967356333865187), np.uint8(19): np.float64(0.25477707006369427), np.uint8(20): np.float64(0.189078002742599), np.uint8(21): np.float64(0.0017715140540114952), np.uint8(22): np.float64(0.002660669601849799), np.uint8(23): np.float64(0.9056935613116733), np.uint8(26): np.float64(0.024413953562493027), np.uint8(28): np.float64(0.021184778344448804), np.uint8(31): np.float64(0.0031825919621049515), 'mean': np.float64(0.09559901109439019), 'weighted_mean': np.float64(0.05363304195163865)}\n"
     ]
    },
    {
     "data": {
      "application/vnd.jupyter.widget-view+json": {
       "model_id": "d20e6fa3dd524ec39aab8a882ab4660b",
       "version_major": 2,
       "version_minor": 0
      },
      "text/plain": [
       "finding centroids:   0%|          | 0/19 [00:00<?, ?it/s]"
      ]
     },
     "metadata": {},
     "output_type": "display_data"
    },
    {
     "data": {
      "application/vnd.jupyter.widget-view+json": {
       "model_id": "4217d7ec17f5434580c162fcc1edba1c",
       "version_major": 2,
       "version_minor": 0
      },
      "text/plain": [
       "class growing:   0%|          | 0/224 [00:00<?, ?it/s]"
      ]
     },
     "metadata": {},
     "output_type": "display_data"
    },
    {
     "data": {
      "application/vnd.jupyter.widget-view+json": {
       "model_id": "f86cd778a2dc46af9c2b3a10c376f011",
       "version_major": 2,
       "version_minor": 0
      },
      "text/plain": [
       "calculating IoU:   0%|          | 0/18 [00:00<?, ?it/s]"
      ]
     },
     "metadata": {},
     "output_type": "display_data"
    },
    {
     "name": "stdout",
     "output_type": "stream",
     "text": [
      "{np.uint8(0): np.float64(0.029214496758261647), np.uint8(1): np.float64(0.109905232774517), np.uint8(2): np.float64(0.01243366067286751), np.uint8(4): np.float64(0.08080269342311411), np.uint8(5): np.float64(0.02264280798348245), np.uint8(7): np.float64(0.0006960284358861918), np.uint8(8): np.float64(0.010012226913050499), np.uint8(11): np.float64(0.010554337181556116), np.uint8(12): np.float64(0.08803449514911965), np.uint8(13): np.float64(0.09118942731277534), np.uint8(17): np.float64(0.05922984989973059), np.uint8(19): np.float64(0.2996594778660613), np.uint8(20): np.float64(0.1829960513326752), np.uint8(21): np.float64(0.017532981422708843), np.uint8(24): np.float64(0.09134873723804406), np.uint8(25): np.float64(0.24615014436958613), np.uint8(26): np.float64(0.04024576306131706), np.uint8(33): np.float64(0.022990071694964323), 'mean': np.float64(0.07864658241609544), 'weighted_mean': np.float64(0.01856824526432916)}\n"
     ]
    },
    {
     "data": {
      "application/vnd.jupyter.widget-view+json": {
       "model_id": "fed953bd82064ee3b22b01d9c526ac8e",
       "version_major": 2,
       "version_minor": 0
      },
      "text/plain": [
       "finding centroids:   0%|          | 0/15 [00:00<?, ?it/s]"
      ]
     },
     "metadata": {},
     "output_type": "display_data"
    },
    {
     "data": {
      "application/vnd.jupyter.widget-view+json": {
       "model_id": "faef22d01a75410190844d8f5e515a39",
       "version_major": 2,
       "version_minor": 0
      },
      "text/plain": [
       "class growing:   0%|          | 0/102 [00:00<?, ?it/s]"
      ]
     },
     "metadata": {},
     "output_type": "display_data"
    },
    {
     "data": {
      "application/vnd.jupyter.widget-view+json": {
       "model_id": "9d5872a92b7343efac7b179f8fd7e96a",
       "version_major": 2,
       "version_minor": 0
      },
      "text/plain": [
       "calculating IoU:   0%|          | 0/15 [00:00<?, ?it/s]"
      ]
     },
     "metadata": {},
     "output_type": "display_data"
    },
    {
     "name": "stdout",
     "output_type": "stream",
     "text": [
      "{np.uint8(0): np.float64(0.0), np.uint8(1): np.float64(0.13346740335819707), np.uint8(2): np.float64(0.0038247846876080702), np.uint8(4): np.float64(0.06447412338227067), np.uint8(5): np.float64(0.007747596378232055), np.uint8(7): np.float64(0.0011246113475490089), np.uint8(8): np.float64(0.18684555503406755), np.uint8(11): np.float64(0.046579451712357306), np.uint8(12): np.float64(0.06531752111474201), np.uint8(13): np.float64(0.007356851622052828), np.uint8(17): np.float64(0.05154681756226508), np.uint8(19): np.float64(0.018747830112255524), np.uint8(21): np.float64(0.0017148172990928837), np.uint8(23): np.float64(0.0973664942107931), np.uint8(24): np.float64(0.007354610251055523), 'mean': np.float64(0.04623123120483592), 'weighted_mean': np.float64(0.03072794420397624)}\n"
     ]
    },
    {
     "data": {
      "application/vnd.jupyter.widget-view+json": {
       "model_id": "36dd1f099a5349a9b0d6c719d9fa4db4",
       "version_major": 2,
       "version_minor": 0
      },
      "text/plain": [
       "finding centroids:   0%|          | 0/21 [00:00<?, ?it/s]"
      ]
     },
     "metadata": {},
     "output_type": "display_data"
    },
    {
     "data": {
      "application/vnd.jupyter.widget-view+json": {
       "model_id": "97101307c6e347498377f069822ae6f7",
       "version_major": 2,
       "version_minor": 0
      },
      "text/plain": [
       "class growing:   0%|          | 0/295 [00:00<?, ?it/s]"
      ]
     },
     "metadata": {},
     "output_type": "display_data"
    },
    {
     "data": {
      "application/vnd.jupyter.widget-view+json": {
       "model_id": "b4726f86ca3b45238511cda75e39a89f",
       "version_major": 2,
       "version_minor": 0
      },
      "text/plain": [
       "calculating IoU:   0%|          | 0/21 [00:00<?, ?it/s]"
      ]
     },
     "metadata": {},
     "output_type": "display_data"
    },
    {
     "name": "stdout",
     "output_type": "stream",
     "text": [
      "{np.uint8(0): np.float64(0.0), np.uint8(1): np.float64(0.1007151656107453), np.uint8(2): np.float64(0.00754345687110528), np.uint8(4): np.float64(0.09995382010364821), np.uint8(5): np.float64(0.26872603951636687), np.uint8(7): np.float64(0.0008897356034725958), np.uint8(8): np.float64(0.06622281752284905), np.uint8(11): np.float64(0.035008321881510915), np.uint8(12): np.float64(0.0891755528905887), np.uint8(13): np.float64(0.04929168499780026), np.uint8(15): np.float64(0.05065123010130246), np.uint8(17): np.float64(0.07729714591236601), np.uint8(19): np.float64(0.2515180568871844), np.uint8(20): np.float64(0.2080802746237127), np.uint8(21): np.float64(0.013484239426340604), np.uint8(22): np.float64(0.02977892030848329), np.uint8(23): np.float64(0.9203370086963507), np.uint8(24): np.float64(0.14568788501026694), np.uint8(25): np.float64(0.1576923076923077), np.uint8(26): np.float64(0.051816557474687316), np.uint8(33): np.float64(0.13555787278415016), 'mean': np.float64(0.1314013378054876), 'weighted_mean': np.float64(0.0701387771624571)}\n"
     ]
    },
    {
     "data": {
      "application/vnd.jupyter.widget-view+json": {
       "model_id": "75004ea049234860a62fa7e74c980113",
       "version_major": 2,
       "version_minor": 0
      },
      "text/plain": [
       "finding centroids:   0%|          | 0/21 [00:00<?, ?it/s]"
      ]
     },
     "metadata": {},
     "output_type": "display_data"
    },
    {
     "data": {
      "application/vnd.jupyter.widget-view+json": {
       "model_id": "94607b2be72a4b8f8de5b8219cf982bd",
       "version_major": 2,
       "version_minor": 0
      },
      "text/plain": [
       "class growing:   0%|          | 0/219 [00:00<?, ?it/s]"
      ]
     },
     "metadata": {},
     "output_type": "display_data"
    },
    {
     "data": {
      "application/vnd.jupyter.widget-view+json": {
       "model_id": "300dd7a5a4334330a9ffee367bddd9f9",
       "version_major": 2,
       "version_minor": 0
      },
      "text/plain": [
       "calculating IoU:   0%|          | 0/21 [00:00<?, ?it/s]"
      ]
     },
     "metadata": {},
     "output_type": "display_data"
    },
    {
     "name": "stdout",
     "output_type": "stream",
     "text": [
      "{np.uint8(0): np.float64(0.0), np.uint8(1): np.float64(0.12573290429550424), np.uint8(2): np.float64(0.017037961507950544), np.uint8(4): np.float64(0.02154779155262169), np.uint8(5): np.float64(0.2964563526361279), np.uint8(7): np.float64(0.00032279596012649227), np.uint8(8): np.float64(0.015833141437612958), np.uint8(11): np.float64(0.010089020771513354), np.uint8(12): np.float64(0.24587885448315988), np.uint8(13): np.float64(0.3042975079083404), np.uint8(15): np.float64(0.21971333202434715), np.uint8(17): np.float64(0.040056230610134434), np.uint8(18): np.float64(0.12239657631954351), np.uint8(20): np.float64(0.41316431670281994), np.uint8(21): np.float64(0.11671240832688015), np.uint8(22): np.float64(0.019486904442656654), np.uint8(23): np.float64(0.002507636894177723), np.uint8(24): np.float64(0.15845481049562682), np.uint8(25): np.float64(0.1751170046801872), np.uint8(26): np.float64(0.3290451686678102), np.uint8(33): np.float64(0.037875489769264255), 'mean': np.float64(0.1272250575945907), 'weighted_mean': np.float64(0.046106593759178645)}\n"
     ]
    },
    {
     "data": {
      "application/vnd.jupyter.widget-view+json": {
       "model_id": "b0cfd724f3304f35b0d548bfee47d5df",
       "version_major": 2,
       "version_minor": 0
      },
      "text/plain": [
       "finding centroids:   0%|          | 0/20 [00:00<?, ?it/s]"
      ]
     },
     "metadata": {},
     "output_type": "display_data"
    },
    {
     "data": {
      "application/vnd.jupyter.widget-view+json": {
       "model_id": "828d957c918f4a828fc81e838e2b67de",
       "version_major": 2,
       "version_minor": 0
      },
      "text/plain": [
       "class growing:   0%|          | 0/183 [00:00<?, ?it/s]"
      ]
     },
     "metadata": {},
     "output_type": "display_data"
    },
    {
     "data": {
      "application/vnd.jupyter.widget-view+json": {
       "model_id": "b904761cfa2741198fe4acce1384185f",
       "version_major": 2,
       "version_minor": 0
      },
      "text/plain": [
       "calculating IoU:   0%|          | 0/20 [00:00<?, ?it/s]"
      ]
     },
     "metadata": {},
     "output_type": "display_data"
    },
    {
     "name": "stdout",
     "output_type": "stream",
     "text": [
      "{np.uint8(0): np.float64(0.0), np.uint8(1): np.float64(0.12324071010744579), np.uint8(2): np.float64(0.012720830515100557), np.uint8(4): np.float64(0.04463353089607417), np.uint8(5): np.float64(0.48556475483677236), np.uint8(7): np.float64(0.0005891695627222413), np.uint8(8): np.float64(0.09898577768324164), np.uint8(11): np.float64(0.2432795419052577), np.uint8(13): np.float64(0.05275048910735297), np.uint8(15): np.float64(0.31129723800977166), np.uint8(17): np.float64(0.07738252550346213), np.uint8(18): np.float64(0.22345803842264914), np.uint8(19): np.float64(0.16283405842137974), np.uint8(20): np.float64(0.13493064312736444), np.uint8(21): np.float64(0.003248422528628184), np.uint8(23): np.float64(0.6178704614610263), np.uint8(24): np.float64(0.11967699634205259), np.uint8(25): np.float64(0.20162748643761302), np.uint8(26): np.float64(0.026455537317756107), np.uint8(33): np.float64(0.13823933975240715), 'mean': np.float64(0.1539392775969039), 'weighted_mean': np.float64(0.10769503084876458)}\n"
     ]
    },
    {
     "data": {
      "application/vnd.jupyter.widget-view+json": {
       "model_id": "c7e733db32a7414b8ce48e0ce2b1f1e8",
       "version_major": 2,
       "version_minor": 0
      },
      "text/plain": [
       "finding centroids:   0%|          | 0/18 [00:00<?, ?it/s]"
      ]
     },
     "metadata": {},
     "output_type": "display_data"
    },
    {
     "data": {
      "application/vnd.jupyter.widget-view+json": {
       "model_id": "858e0fdb5951437b9f2f5d604988f02a",
       "version_major": 2,
       "version_minor": 0
      },
      "text/plain": [
       "class growing:   0%|          | 0/183 [00:00<?, ?it/s]"
      ]
     },
     "metadata": {},
     "output_type": "display_data"
    },
    {
     "data": {
      "application/vnd.jupyter.widget-view+json": {
       "model_id": "451f0a30691a41ca84f79599b2ca3a9d",
       "version_major": 2,
       "version_minor": 0
      },
      "text/plain": [
       "calculating IoU:   0%|          | 0/17 [00:00<?, ?it/s]"
      ]
     },
     "metadata": {},
     "output_type": "display_data"
    },
    {
     "name": "stdout",
     "output_type": "stream",
     "text": [
      "{np.uint8(0): np.float64(0.0), np.uint8(1): np.float64(0.11627582801445459), np.uint8(2): np.float64(0.015752221644616836), np.uint8(4): np.float64(0.0479306029754824), np.uint8(5): np.float64(0.15366795366795366), np.uint8(7): np.float64(0.00015056206921303306), np.uint8(8): np.float64(0.005397980787737748), np.uint8(11): np.float64(0.05475827788022128), np.uint8(12): np.float64(0.015676567656765675), np.uint8(13): np.float64(0.06238964096527369), np.uint8(17): np.float64(0.060984707198806415), np.uint8(19): np.float64(0.032831916285153695), np.uint8(20): np.float64(0.11182758220053444), np.uint8(21): np.float64(0.006094816411766183), np.uint8(24): np.float64(0.06265848911953766), np.uint8(26): np.float64(0.030198588544231086), np.uint8(33): np.float64(0.03130491200562299), 'mean': np.float64(0.04752356749572774), 'weighted_mean': np.float64(0.023715897372482597)}\n"
     ]
    },
    {
     "data": {
      "application/vnd.jupyter.widget-view+json": {
       "model_id": "2fda01e841634ba9b22051c5496a6dd6",
       "version_major": 2,
       "version_minor": 0
      },
      "text/plain": [
       "finding centroids:   0%|          | 0/20 [00:00<?, ?it/s]"
      ]
     },
     "metadata": {},
     "output_type": "display_data"
    },
    {
     "data": {
      "application/vnd.jupyter.widget-view+json": {
       "model_id": "47ffd5362b0246b29f76bdfa85224669",
       "version_major": 2,
       "version_minor": 0
      },
      "text/plain": [
       "class growing:   0%|          | 0/254 [00:00<?, ?it/s]"
      ]
     },
     "metadata": {},
     "output_type": "display_data"
    },
    {
     "data": {
      "application/vnd.jupyter.widget-view+json": {
       "model_id": "74a2b22bc5c64304ace00a1f338c921a",
       "version_major": 2,
       "version_minor": 0
      },
      "text/plain": [
       "calculating IoU:   0%|          | 0/20 [00:00<?, ?it/s]"
      ]
     },
     "metadata": {},
     "output_type": "display_data"
    },
    {
     "name": "stdout",
     "output_type": "stream",
     "text": [
      "{np.uint8(0): np.float64(0.0), np.uint8(1): np.float64(0.12964582501504832), np.uint8(2): np.float64(0.003646247213451382), np.uint8(4): np.float64(0.08033331320572429), np.uint8(7): np.float64(0.0008343948196508857), np.uint8(8): np.float64(0.008493206900089402), np.uint8(11): np.float64(0.09037947394174922), np.uint8(15): np.float64(0.15007193155145), np.uint8(17): np.float64(0.07500550017769805), np.uint8(18): np.float64(0.27842105263157896), np.uint8(19): np.float64(0.16679410158383398), np.uint8(20): np.float64(0.27257355427798446), np.uint8(21): np.float64(0.023204626002611452), np.uint8(22): np.float64(0.2792452830188679), np.uint8(23): np.float64(0.061675983546039446), np.uint8(24): np.float64(0.10178414741152383), np.uint8(25): np.float64(0.2220116099988153), np.uint8(26): np.float64(0.6015912102197445), np.uint8(28): np.float64(0.20521739130434782), np.uint8(33): np.float64(0.0693717277486911), 'mean': np.float64(0.14101502902844498), 'weighted_mean': np.float64(0.07356861315645886)}\n"
     ]
    },
    {
     "data": {
      "application/vnd.jupyter.widget-view+json": {
       "model_id": "9e45abc01b0e45938f172623e509b42d",
       "version_major": 2,
       "version_minor": 0
      },
      "text/plain": [
       "finding centroids:   0%|          | 0/20 [00:00<?, ?it/s]"
      ]
     },
     "metadata": {},
     "output_type": "display_data"
    },
    {
     "data": {
      "application/vnd.jupyter.widget-view+json": {
       "model_id": "c361eb804e944e249e0a7c3258e7dc7e",
       "version_major": 2,
       "version_minor": 0
      },
      "text/plain": [
       "class growing:   0%|          | 0/124 [00:00<?, ?it/s]"
      ]
     },
     "metadata": {},
     "output_type": "display_data"
    },
    {
     "data": {
      "application/vnd.jupyter.widget-view+json": {
       "model_id": "c9c06ad586194a45bf31aa23f2184958",
       "version_major": 2,
       "version_minor": 0
      },
      "text/plain": [
       "calculating IoU:   0%|          | 0/20 [00:00<?, ?it/s]"
      ]
     },
     "metadata": {},
     "output_type": "display_data"
    },
    {
     "name": "stdout",
     "output_type": "stream",
     "text": [
      "{np.uint8(0): np.float64(0.0), np.uint8(1): np.float64(0.12630567459948736), np.uint8(2): np.float64(0.006125799089805015), np.uint8(4): np.float64(0.07349664984557222), np.uint8(5): np.float64(0.2512690355329949), np.uint8(6): np.float64(0.14420055152632263), np.uint8(7): np.float64(0.00042757235301617313), np.uint8(8): np.float64(0.01837147018747357), np.uint8(11): np.float64(0.17299716474916232), np.uint8(13): np.float64(0.13146962091050718), np.uint8(15): np.float64(0.03479553903345725), np.uint8(17): np.float64(0.05025845158149458), np.uint8(18): np.float64(0.07912984364377974), np.uint8(20): np.float64(0.36725325172149964), np.uint8(21): np.float64(0.003120399509417505), np.uint8(22): np.float64(0.3463773069036227), np.uint8(23): np.float64(0.9218260808386394), np.uint8(24): np.float64(0.2750965250965251), np.uint8(26): np.float64(0.27028352791131166), np.uint8(28): np.float64(0.31449151959721394), 'mean': np.float64(0.17936479923156515), 'weighted_mean': np.float64(0.09873465325471274)}\n"
     ]
    },
    {
     "data": {
      "application/vnd.jupyter.widget-view+json": {
       "model_id": "e39807afd2194173a71a8b12302e58a8",
       "version_major": 2,
       "version_minor": 0
      },
      "text/plain": [
       "finding centroids:   0%|          | 0/18 [00:00<?, ?it/s]"
      ]
     },
     "metadata": {},
     "output_type": "display_data"
    },
    {
     "data": {
      "application/vnd.jupyter.widget-view+json": {
       "model_id": "e82a2a2c2a3a4e41ac0d5579fcd4a6c2",
       "version_major": 2,
       "version_minor": 0
      },
      "text/plain": [
       "class growing:   0%|          | 0/151 [00:00<?, ?it/s]"
      ]
     },
     "metadata": {},
     "output_type": "display_data"
    },
    {
     "data": {
      "application/vnd.jupyter.widget-view+json": {
       "model_id": "67270299f2bc476e86da92151b55882d",
       "version_major": 2,
       "version_minor": 0
      },
      "text/plain": [
       "calculating IoU:   0%|          | 0/17 [00:00<?, ?it/s]"
      ]
     },
     "metadata": {},
     "output_type": "display_data"
    },
    {
     "name": "stdout",
     "output_type": "stream",
     "text": [
      "{np.uint8(0): np.float64(0.0), np.uint8(1): np.float64(0.11290926988295884), np.uint8(2): np.float64(0.03959680861542503), np.uint8(4): np.float64(0.1225374780198492), np.uint8(5): np.float64(0.060630261888123524), np.uint8(7): np.float64(0.0009063146153009033), np.uint8(11): np.float64(0.02689762281815366), np.uint8(12): np.float64(0.08423845452284222), np.uint8(13): np.float64(0.0006072274352499098), np.uint8(17): np.float64(0.051575325349378136), np.uint8(19): np.float64(0.11123404883086228), np.uint8(20): np.float64(0.22109454840187476), np.uint8(21): np.float64(0.02414700857207805), np.uint8(23): np.float64(0.2337254191462378), np.uint8(24): np.float64(0.04256372185102698), np.uint8(25): np.float64(0.09212283044058744), np.uint8(26): np.float64(0.06543091822974133), 'mean': np.float64(0.07589513285998178), 'weighted_mean': np.float64(0.04396405233304531)}\n"
     ]
    },
    {
     "data": {
      "application/vnd.jupyter.widget-view+json": {
       "model_id": "78e4ed01ac774cc7a56a8da4f9a70517",
       "version_major": 2,
       "version_minor": 0
      },
      "text/plain": [
       "finding centroids:   0%|          | 0/18 [00:00<?, ?it/s]"
      ]
     },
     "metadata": {},
     "output_type": "display_data"
    },
    {
     "data": {
      "application/vnd.jupyter.widget-view+json": {
       "model_id": "2b10a4eec54044ecaf6c56525cf82033",
       "version_major": 2,
       "version_minor": 0
      },
      "text/plain": [
       "class growing:   0%|          | 0/109 [00:00<?, ?it/s]"
      ]
     },
     "metadata": {},
     "output_type": "display_data"
    },
    {
     "data": {
      "application/vnd.jupyter.widget-view+json": {
       "model_id": "ece51cda27e74c34b2b210d500683058",
       "version_major": 2,
       "version_minor": 0
      },
      "text/plain": [
       "calculating IoU:   0%|          | 0/18 [00:00<?, ?it/s]"
      ]
     },
     "metadata": {},
     "output_type": "display_data"
    },
    {
     "name": "stdout",
     "output_type": "stream",
     "text": [
      "{np.uint8(0): np.float64(0.0), np.uint8(1): np.float64(0.10984367341712159), np.uint8(2): np.float64(0.06305927483309358), np.uint8(4): np.float64(0.0234182282675602), np.uint8(5): np.float64(0.1766764864265577), np.uint8(7): np.float64(0.022999761585885885), np.uint8(8): np.float64(0.3795189592172714), np.uint8(11): np.float64(0.2179394541647443), np.uint8(12): np.float64(0.41835219892373354), np.uint8(17): np.float64(0.03507904374835808), np.uint8(19): np.float64(0.08917324802559232), np.uint8(20): np.float64(0.08832565284178187), np.uint8(21): np.float64(0.007903559716395215), np.uint8(22): np.float64(0.026244343891402715), np.uint8(24): np.float64(0.03960329692421095), np.uint8(25): np.float64(0.02679324894514768), np.uint8(26): np.float64(0.07852446316124034), np.uint8(33): np.float64(0.06792559188275085), 'mean': np.float64(0.10396558255404713), 'weighted_mean': np.float64(0.11539162869149683)}\n"
     ]
    },
    {
     "data": {
      "application/vnd.jupyter.widget-view+json": {
       "model_id": "9a4863d070fb459fad3e5358756ecb7b",
       "version_major": 2,
       "version_minor": 0
      },
      "text/plain": [
       "finding centroids:   0%|          | 0/16 [00:00<?, ?it/s]"
      ]
     },
     "metadata": {},
     "output_type": "display_data"
    },
    {
     "data": {
      "application/vnd.jupyter.widget-view+json": {
       "model_id": "9aa90f6afeb54eefb876f27d874d5c22",
       "version_major": 2,
       "version_minor": 0
      },
      "text/plain": [
       "class growing:   0%|          | 0/127 [00:00<?, ?it/s]"
      ]
     },
     "metadata": {},
     "output_type": "display_data"
    },
    {
     "data": {
      "application/vnd.jupyter.widget-view+json": {
       "model_id": "a2f4fffbdf0e464198b01de607bf45a3",
       "version_major": 2,
       "version_minor": 0
      },
      "text/plain": [
       "calculating IoU:   0%|          | 0/16 [00:00<?, ?it/s]"
      ]
     },
     "metadata": {},
     "output_type": "display_data"
    },
    {
     "name": "stdout",
     "output_type": "stream",
     "text": [
      "{np.uint8(0): np.float64(0.0), np.uint8(1): np.float64(0.10354048278155374), np.uint8(2): np.float64(0.041668327288669246), np.uint8(4): np.float64(0.20894187454325325), np.uint8(5): np.float64(0.05036896512917799), np.uint8(7): np.float64(0.0014314366682448819), np.uint8(8): np.float64(0.016762981117942933), np.uint8(11): np.float64(0.11568557254641232), np.uint8(13): np.float64(0.010952147431113765), np.uint8(17): np.float64(0.04112904150752962), np.uint8(20): np.float64(0.19710482529118137), np.uint8(21): np.float64(0.008833933563190451), np.uint8(22): np.float64(0.10202715624402371), np.uint8(24): np.float64(0.10488905964844876), np.uint8(26): np.float64(0.005197864002761365), np.uint8(33): np.float64(0.13866888981520079), 'mean': np.float64(0.07170015984866901), 'weighted_mean': np.float64(0.05114877472772032)}\n"
     ]
    },
    {
     "data": {
      "application/vnd.jupyter.widget-view+json": {
       "model_id": "02ab4535267c4ef4b00589b1506dbbb4",
       "version_major": 2,
       "version_minor": 0
      },
      "text/plain": [
       "finding centroids:   0%|          | 0/18 [00:00<?, ?it/s]"
      ]
     },
     "metadata": {},
     "output_type": "display_data"
    },
    {
     "data": {
      "application/vnd.jupyter.widget-view+json": {
       "model_id": "142ae0da953847dcbad15807fc07abc5",
       "version_major": 2,
       "version_minor": 0
      },
      "text/plain": [
       "class growing:   0%|          | 0/136 [00:00<?, ?it/s]"
      ]
     },
     "metadata": {},
     "output_type": "display_data"
    },
    {
     "data": {
      "application/vnd.jupyter.widget-view+json": {
       "model_id": "f46b81d9c61f417a8cf56f41b805348b",
       "version_major": 2,
       "version_minor": 0
      },
      "text/plain": [
       "calculating IoU:   0%|          | 0/18 [00:00<?, ?it/s]"
      ]
     },
     "metadata": {},
     "output_type": "display_data"
    },
    {
     "name": "stdout",
     "output_type": "stream",
     "text": [
      "{np.uint8(0): np.float64(0.0), np.uint8(1): np.float64(0.07291661829242807), np.uint8(2): np.float64(0.007358089673322549), np.uint8(4): np.float64(0.050131378785783436), np.uint8(5): np.float64(0.13321590803745248), np.uint8(7): np.float64(0.0002765019431942119), np.uint8(8): np.float64(0.012022764105076697), np.uint8(11): np.float64(0.04260809701364896), np.uint8(13): np.float64(0.0009626044152064125), np.uint8(17): np.float64(0.0956944079810974), np.uint8(18): np.float64(0.14875191034131433), np.uint8(19): np.float64(0.22164006336054587), np.uint8(20): np.float64(0.24751972942502817), np.uint8(21): np.float64(0.003427421783704989), np.uint8(24): np.float64(0.12849138296969181), np.uint8(25): np.float64(0.18233082706766918), np.uint8(26): np.float64(0.09481310637017724), np.uint8(33): np.float64(0.0057387429267588925), 'mean': np.float64(0.08043886413845003), 'weighted_mean': np.float64(0.02336721130338656)}\n"
     ]
    },
    {
     "data": {
      "application/vnd.jupyter.widget-view+json": {
       "model_id": "b15565cd747f41e28e7b6a50b4600ae5",
       "version_major": 2,
       "version_minor": 0
      },
      "text/plain": [
       "finding centroids:   0%|          | 0/20 [00:00<?, ?it/s]"
      ]
     },
     "metadata": {},
     "output_type": "display_data"
    },
    {
     "data": {
      "application/vnd.jupyter.widget-view+json": {
       "model_id": "4dea43155581441bb21607a2aa5aded6",
       "version_major": 2,
       "version_minor": 0
      },
      "text/plain": [
       "class growing:   0%|          | 0/249 [00:00<?, ?it/s]"
      ]
     },
     "metadata": {},
     "output_type": "display_data"
    },
    {
     "data": {
      "application/vnd.jupyter.widget-view+json": {
       "model_id": "096dfdb084b94707af47faaf769f2cc5",
       "version_major": 2,
       "version_minor": 0
      },
      "text/plain": [
       "calculating IoU:   0%|          | 0/20 [00:00<?, ?it/s]"
      ]
     },
     "metadata": {},
     "output_type": "display_data"
    },
    {
     "name": "stdout",
     "output_type": "stream",
     "text": [
      "{np.uint8(0): np.float64(0.0), np.uint8(1): np.float64(0.08496367117409234), np.uint8(2): np.float64(0.010672383191572736), np.uint8(4): np.float64(0.05279084898095051), np.uint8(5): np.float64(0.04256394702254575), np.uint8(7): np.float64(0.0017534011998273924), np.uint8(8): np.float64(0.047965436670634395), np.uint8(11): np.float64(0.025652583779037747), np.uint8(12): np.float64(0.18714304688537656), np.uint8(13): np.float64(0.025997150997150997), np.uint8(17): np.float64(0.13475697519929142), np.uint8(18): np.float64(0.2785714285714286), np.uint8(19): np.float64(0.1850091407678245), np.uint8(20): np.float64(0.2158074899095693), np.uint8(21): np.float64(0.044057300137620416), np.uint8(23): np.float64(0.003578115248595798), np.uint8(24): np.float64(0.08521800326285148), np.uint8(25): np.float64(0.11519497982967279), np.uint8(26): np.float64(0.04145761816741484), np.uint8(33): np.float64(0.12631154156577887), 'mean': np.float64(0.08547325312806184), 'weighted_mean': np.float64(0.030512347850114092)}\n"
     ]
    },
    {
     "data": {
      "application/vnd.jupyter.widget-view+json": {
       "model_id": "f4a1c23ab349463f9ef5110f11c71613",
       "version_major": 2,
       "version_minor": 0
      },
      "text/plain": [
       "finding centroids:   0%|          | 0/16 [00:00<?, ?it/s]"
      ]
     },
     "metadata": {},
     "output_type": "display_data"
    },
    {
     "data": {
      "application/vnd.jupyter.widget-view+json": {
       "model_id": "2fb17061b3bd416eb2cf8a19fe8bcb87",
       "version_major": 2,
       "version_minor": 0
      },
      "text/plain": [
       "class growing:   0%|          | 0/144 [00:00<?, ?it/s]"
      ]
     },
     "metadata": {},
     "output_type": "display_data"
    },
    {
     "data": {
      "application/vnd.jupyter.widget-view+json": {
       "model_id": "a0e3b62f1a8745dfbfd3f2efb149cb90",
       "version_major": 2,
       "version_minor": 0
      },
      "text/plain": [
       "calculating IoU:   0%|          | 0/16 [00:00<?, ?it/s]"
      ]
     },
     "metadata": {},
     "output_type": "display_data"
    },
    {
     "name": "stdout",
     "output_type": "stream",
     "text": [
      "{np.uint8(0): np.float64(0.0), np.uint8(1): np.float64(0.09236267243257999), np.uint8(2): np.float64(0.011175819415700053), np.uint8(4): np.float64(0.055781118548593585), np.uint8(7): np.float64(0.06185106155379271), np.uint8(8): np.float64(0.006953830831614142), np.uint8(11): np.float64(0.0647246620569364), np.uint8(17): np.float64(0.08863198458574181), np.uint8(19): np.float64(0.3487750556792873), np.uint8(20): np.float64(0.37678692988427503), np.uint8(21): np.float64(0.03562287331747418), np.uint8(22): np.float64(0.36), np.uint8(23): np.float64(0.8705761193132273), np.uint8(24): np.float64(0.04784240150093809), np.uint8(26): np.float64(0.06681143413392239), np.uint8(28): np.float64(0.5654823007384351), 'mean': np.float64(0.19083614149953237), 'weighted_mean': np.float64(0.11727229914347266)}\n"
     ]
    },
    {
     "data": {
      "application/vnd.jupyter.widget-view+json": {
       "model_id": "1e23e094b3a044fd8e814eb1f82ec01d",
       "version_major": 2,
       "version_minor": 0
      },
      "text/plain": [
       "finding centroids:   0%|          | 0/18 [00:00<?, ?it/s]"
      ]
     },
     "metadata": {},
     "output_type": "display_data"
    },
    {
     "data": {
      "application/vnd.jupyter.widget-view+json": {
       "model_id": "cde30951911648588f4d428de12fc3e5",
       "version_major": 2,
       "version_minor": 0
      },
      "text/plain": [
       "class growing:   0%|          | 0/165 [00:00<?, ?it/s]"
      ]
     },
     "metadata": {},
     "output_type": "display_data"
    },
    {
     "data": {
      "application/vnd.jupyter.widget-view+json": {
       "model_id": "52da76e6c86447ac839ea27649af5c20",
       "version_major": 2,
       "version_minor": 0
      },
      "text/plain": [
       "calculating IoU:   0%|          | 0/17 [00:00<?, ?it/s]"
      ]
     },
     "metadata": {},
     "output_type": "display_data"
    },
    {
     "name": "stdout",
     "output_type": "stream",
     "text": [
      "{np.uint8(0): np.float64(0.03098396015638261), np.uint8(1): np.float64(0.010710510669221114), np.uint8(2): np.float64(0.021523548128623768), np.uint8(4): np.float64(0.007453900144470861), np.uint8(6): np.float64(0.002876216177828279), np.uint8(7): np.float64(0.006247115348694842), np.uint8(8): np.float64(0.020653828109802843), np.uint8(11): np.float64(0.043725065210065854), np.uint8(12): np.float64(0.3418773813647385), np.uint8(13): np.float64(0.12026625123920125), np.uint8(17): np.float64(0.07013186025531705), np.uint8(19): np.float64(0.1322285316954456), np.uint8(20): np.float64(0.10209814018810912), np.uint8(21): np.float64(0.22584602192541073), np.uint8(23): np.float64(0.23226975554292212), np.uint8(24): np.float64(0.033350458087165), np.uint8(26): np.float64(0.1858903630345273), 'mean': np.float64(0.09341958278105451), 'weighted_mean': np.float64(0.05021605705029671)}\n"
     ]
    },
    {
     "data": {
      "application/vnd.jupyter.widget-view+json": {
       "model_id": "b1cd9888780a43578d6f8666765ee563",
       "version_major": 2,
       "version_minor": 0
      },
      "text/plain": [
       "finding centroids:   0%|          | 0/18 [00:00<?, ?it/s]"
      ]
     },
     "metadata": {},
     "output_type": "display_data"
    },
    {
     "data": {
      "application/vnd.jupyter.widget-view+json": {
       "model_id": "06e2685ac885416792b001f6dcbb49a1",
       "version_major": 2,
       "version_minor": 0
      },
      "text/plain": [
       "class growing:   0%|          | 0/79 [00:00<?, ?it/s]"
      ]
     },
     "metadata": {},
     "output_type": "display_data"
    },
    {
     "data": {
      "application/vnd.jupyter.widget-view+json": {
       "model_id": "1f3a7fd59b724a789ffb6dc017bfc1e6",
       "version_major": 2,
       "version_minor": 0
      },
      "text/plain": [
       "calculating IoU:   0%|          | 0/18 [00:00<?, ?it/s]"
      ]
     },
     "metadata": {},
     "output_type": "display_data"
    },
    {
     "name": "stdout",
     "output_type": "stream",
     "text": [
      "{np.uint8(0): np.float64(0.0), np.uint8(1): np.float64(0.11233651452151881), np.uint8(2): np.float64(0.0073758087770932875), np.uint8(4): np.float64(0.06600899025552841), np.uint8(6): np.float64(0.06682027649769585), np.uint8(7): np.float64(0.00021183869113460804), np.uint8(8): np.float64(0.15871121718377088), np.uint8(11): np.float64(0.10308404181046649), np.uint8(17): np.float64(0.05500297543143756), np.uint8(18): np.float64(0.0955595026642984), np.uint8(19): np.float64(0.11948051948051948), np.uint8(20): np.float64(0.3471433344470431), np.uint8(21): np.float64(0.11810724181018091), np.uint8(23): np.float64(0.8327878974992281), np.uint8(24): np.float64(0.042508165800248424), np.uint8(26): np.float64(0.018679037968502014), np.uint8(28): np.float64(0.03096098197567757), np.uint8(33): np.float64(0.02911978821972204), 'mean': np.float64(0.12243878516855923), 'weighted_mean': np.float64(0.061680852245140826)}\n"
     ]
    },
    {
     "data": {
      "application/vnd.jupyter.widget-view+json": {
       "model_id": "2bacfdb4c40e4f498a73efa5c5e69bdc",
       "version_major": 2,
       "version_minor": 0
      },
      "text/plain": [
       "finding centroids:   0%|          | 0/17 [00:00<?, ?it/s]"
      ]
     },
     "metadata": {},
     "output_type": "display_data"
    },
    {
     "data": {
      "application/vnd.jupyter.widget-view+json": {
       "model_id": "8c7a00b91fc549349f9593394d2e862f",
       "version_major": 2,
       "version_minor": 0
      },
      "text/plain": [
       "class growing:   0%|          | 0/132 [00:00<?, ?it/s]"
      ]
     },
     "metadata": {},
     "output_type": "display_data"
    },
    {
     "data": {
      "application/vnd.jupyter.widget-view+json": {
       "model_id": "6bc3efb3c2ca414886bce3dd2ae463a0",
       "version_major": 2,
       "version_minor": 0
      },
      "text/plain": [
       "calculating IoU:   0%|          | 0/17 [00:00<?, ?it/s]"
      ]
     },
     "metadata": {},
     "output_type": "display_data"
    },
    {
     "name": "stdout",
     "output_type": "stream",
     "text": [
      "{np.uint8(0): np.float64(0.0), np.uint8(1): np.float64(0.10968282329568294), np.uint8(2): np.float64(0.006824649737302977), np.uint8(4): np.float64(0.10095614136956606), np.uint8(7): np.float64(0.002602625877997739), np.uint8(8): np.float64(0.1196623190995176), np.uint8(11): np.float64(0.12504755802078535), np.uint8(17): np.float64(0.060204794999383145), np.uint8(19): np.float64(0.08449396471680594), np.uint8(20): np.float64(0.37653609831029183), np.uint8(21): np.float64(0.11703958691910499), np.uint8(23): np.float64(0.859335962192589), np.uint8(24): np.float64(0.05392134981922064), np.uint8(25): np.float64(0.09928099353620452), np.uint8(26): np.float64(0.17005044912021655), np.uint8(28): np.float64(0.032005716649742375), np.uint8(33): np.float64(0.12084998462957271), 'mean': np.float64(0.14344088342905792), 'weighted_mean': np.float64(0.0749156041869976)}\n"
     ]
    },
    {
     "data": {
      "application/vnd.jupyter.widget-view+json": {
       "model_id": "bb1e1d4053c04f549c8a7fc093e404bf",
       "version_major": 2,
       "version_minor": 0
      },
      "text/plain": [
       "finding centroids:   0%|          | 0/17 [00:00<?, ?it/s]"
      ]
     },
     "metadata": {},
     "output_type": "display_data"
    },
    {
     "data": {
      "application/vnd.jupyter.widget-view+json": {
       "model_id": "7c251201d6364802ab45cb4f484e5a1f",
       "version_major": 2,
       "version_minor": 0
      },
      "text/plain": [
       "class growing:   0%|          | 0/98 [00:00<?, ?it/s]"
      ]
     },
     "metadata": {},
     "output_type": "display_data"
    },
    {
     "data": {
      "application/vnd.jupyter.widget-view+json": {
       "model_id": "3d94222a05b4488d8bbd22e75604171a",
       "version_major": 2,
       "version_minor": 0
      },
      "text/plain": [
       "calculating IoU:   0%|          | 0/17 [00:00<?, ?it/s]"
      ]
     },
     "metadata": {},
     "output_type": "display_data"
    },
    {
     "name": "stdout",
     "output_type": "stream",
     "text": [
      "{np.uint8(0): np.float64(0.0), np.uint8(1): np.float64(0.11683052026230582), np.uint8(2): np.float64(0.006348951217552037), np.uint8(4): np.float64(0.2013065980372748), np.uint8(5): np.float64(0.009193163168639171), np.uint8(7): np.float64(0.00014305876469357774), np.uint8(8): np.float64(0.01953229697132136), np.uint8(11): np.float64(0.016150370720215773), np.uint8(17): np.float64(0.0894902393929935), np.uint8(19): np.float64(0.021623267854423634), np.uint8(20): np.float64(0.3387894937190712), np.uint8(21): np.float64(0.10234018591689095), np.uint8(23): np.float64(0.8876165113182424), np.uint8(24): np.float64(0.1681643132220796), np.uint8(25): np.float64(0.18095238095238095), np.uint8(26): np.float64(0.048639223713137746), np.uint8(33): np.float64(0.13748191027496381), 'mean': np.float64(0.13791779326506978), 'weighted_mean': np.float64(0.032307595148083505)}\n"
     ]
    },
    {
     "data": {
      "application/vnd.jupyter.widget-view+json": {
       "model_id": "14e34c7c8ceb4e72bbd692144ea997a3",
       "version_major": 2,
       "version_minor": 0
      },
      "text/plain": [
       "finding centroids:   0%|          | 0/19 [00:00<?, ?it/s]"
      ]
     },
     "metadata": {},
     "output_type": "display_data"
    },
    {
     "data": {
      "application/vnd.jupyter.widget-view+json": {
       "model_id": "31231ad24e3145c8994b17feb55acaf4",
       "version_major": 2,
       "version_minor": 0
      },
      "text/plain": [
       "class growing:   0%|          | 0/158 [00:00<?, ?it/s]"
      ]
     },
     "metadata": {},
     "output_type": "display_data"
    },
    {
     "data": {
      "application/vnd.jupyter.widget-view+json": {
       "model_id": "f2526700861c42b3a183090be1c9c494",
       "version_major": 2,
       "version_minor": 0
      },
      "text/plain": [
       "calculating IoU:   0%|          | 0/18 [00:00<?, ?it/s]"
      ]
     },
     "metadata": {},
     "output_type": "display_data"
    },
    {
     "name": "stdout",
     "output_type": "stream",
     "text": [
      "{np.uint8(0): np.float64(2.563858387113315e-05), np.uint8(1): np.float64(0.09659504557535632), np.uint8(2): np.float64(0.014332773402561137), np.uint8(4): np.float64(0.03307490155304674), np.uint8(5): np.float64(0.44540463925704193), np.uint8(7): np.float64(0.0008619681866714467), np.uint8(8): np.float64(0.01833135626729933), np.uint8(11): np.float64(0.17662915097831888), np.uint8(12): np.float64(0.16109333704270412), np.uint8(17): np.float64(0.05649335210958503), np.uint8(20): np.float64(0.15976854456320824), np.uint8(21): np.float64(0.003386840156897339), np.uint8(23): np.float64(0.5413142485361093), np.uint8(24): np.float64(0.01589545408318926), np.uint8(25): np.float64(0.15055762081784388), np.uint8(26): np.float64(0.04143126177024482), np.uint8(32): np.float64(0.22358456545257843), np.uint8(33): np.float64(0.023999386597147676), 'mean': np.float64(0.12015444916298192), 'weighted_mean': np.float64(0.07745652133367267)}\n"
     ]
    },
    {
     "data": {
      "application/vnd.jupyter.widget-view+json": {
       "model_id": "a9290d782ee84101af847c3414498deb",
       "version_major": 2,
       "version_minor": 0
      },
      "text/plain": [
       "finding centroids:   0%|          | 0/16 [00:00<?, ?it/s]"
      ]
     },
     "metadata": {},
     "output_type": "display_data"
    },
    {
     "data": {
      "application/vnd.jupyter.widget-view+json": {
       "model_id": "332c7896daff4a1192785d9c8a0f8cb8",
       "version_major": 2,
       "version_minor": 0
      },
      "text/plain": [
       "class growing:   0%|          | 0/150 [00:00<?, ?it/s]"
      ]
     },
     "metadata": {},
     "output_type": "display_data"
    },
    {
     "data": {
      "application/vnd.jupyter.widget-view+json": {
       "model_id": "45fb1f05d28b49349aef20a367bc250d",
       "version_major": 2,
       "version_minor": 0
      },
      "text/plain": [
       "calculating IoU:   0%|          | 0/16 [00:00<?, ?it/s]"
      ]
     },
     "metadata": {},
     "output_type": "display_data"
    },
    {
     "name": "stdout",
     "output_type": "stream",
     "text": [
      "{np.uint8(0): np.float64(0.0), np.uint8(1): np.float64(0.08901724994042415), np.uint8(2): np.float64(0.004017634449193103), np.uint8(4): np.float64(0.11187740295848991), np.uint8(6): np.float64(0.008456111226395517), np.uint8(7): np.float64(0.0074481704831880725), np.uint8(8): np.float64(0.03861406705883464), np.uint8(11): np.float64(0.060838046115888764), np.uint8(17): np.float64(0.14096203060531676), np.uint8(20): np.float64(0.13338454696154936), np.uint8(21): np.float64(0.002259175784203244), np.uint8(24): np.float64(0.04172749804773707), np.uint8(25): np.float64(0.23228200371057514), np.uint8(26): np.float64(0.17447238318005423), np.uint8(32): np.float64(0.032150894866573784), np.uint8(33): np.float64(0.10974606160357395), 'mean': np.float64(0.07420332981199987), 'weighted_mean': np.float64(0.030938074302746324)}\n"
     ]
    },
    {
     "data": {
      "application/vnd.jupyter.widget-view+json": {
       "model_id": "ba65053bf9c744cbb8c91d811f0c8d7f",
       "version_major": 2,
       "version_minor": 0
      },
      "text/plain": [
       "finding centroids:   0%|          | 0/20 [00:00<?, ?it/s]"
      ]
     },
     "metadata": {},
     "output_type": "display_data"
    },
    {
     "data": {
      "application/vnd.jupyter.widget-view+json": {
       "model_id": "2900a394ea1448c5b8a1a76eaa403349",
       "version_major": 2,
       "version_minor": 0
      },
      "text/plain": [
       "class growing:   0%|          | 0/120 [00:00<?, ?it/s]"
      ]
     },
     "metadata": {},
     "output_type": "display_data"
    },
    {
     "data": {
      "application/vnd.jupyter.widget-view+json": {
       "model_id": "c5cf1a1f5b944f1c9c5aaa7ae6772dcf",
       "version_major": 2,
       "version_minor": 0
      },
      "text/plain": [
       "calculating IoU:   0%|          | 0/19 [00:00<?, ?it/s]"
      ]
     },
     "metadata": {},
     "output_type": "display_data"
    },
    {
     "name": "stdout",
     "output_type": "stream",
     "text": [
      "{np.uint8(0): np.float64(1.467068503715875e-05), np.uint8(1): np.float64(0.049238590269480444), np.uint8(2): np.float64(0.03689939733655731), np.uint8(4): np.float64(0.09970893542487701), np.uint8(5): np.float64(0.37125388565442147), np.uint8(6): np.float64(0.03835337331764571), np.uint8(7): np.float64(0.0001487375897073588), np.uint8(8): np.float64(0.0024678740137851953), np.uint8(11): np.float64(0.07887206647644873), np.uint8(13): np.float64(0.25806451612903225), np.uint8(17): np.float64(0.23649785321515554), np.uint8(20): np.float64(0.09645186658648286), np.uint8(21): np.float64(0.0024856006582556225), np.uint8(23): np.float64(0.7211538461538461), np.uint8(24): np.float64(0.13993967264995302), np.uint8(25): np.float64(0.33022533022533024), np.uint8(26): np.float64(0.013869884537341306), np.uint8(28): np.float64(0.13787185354691076), np.uint8(33): np.float64(0.15208333333333332), 'mean': np.float64(0.145557962515979), 'weighted_mean': np.float64(0.06630411830690204)}\n"
     ]
    },
    {
     "data": {
      "application/vnd.jupyter.widget-view+json": {
       "model_id": "e70e0c68db664699b5fe390bdeb02c39",
       "version_major": 2,
       "version_minor": 0
      },
      "text/plain": [
       "finding centroids:   0%|          | 0/16 [00:00<?, ?it/s]"
      ]
     },
     "metadata": {},
     "output_type": "display_data"
    },
    {
     "data": {
      "application/vnd.jupyter.widget-view+json": {
       "model_id": "4f8db89cb18f4b12b083d1ab15455790",
       "version_major": 2,
       "version_minor": 0
      },
      "text/plain": [
       "class growing:   0%|          | 0/106 [00:00<?, ?it/s]"
      ]
     },
     "metadata": {},
     "output_type": "display_data"
    },
    {
     "data": {
      "application/vnd.jupyter.widget-view+json": {
       "model_id": "1e8c749d57a24a64a04d4eddd8aa71c0",
       "version_major": 2,
       "version_minor": 0
      },
      "text/plain": [
       "calculating IoU:   0%|          | 0/16 [00:00<?, ?it/s]"
      ]
     },
     "metadata": {},
     "output_type": "display_data"
    },
    {
     "name": "stdout",
     "output_type": "stream",
     "text": [
      "{np.uint8(0): np.float64(0.0), np.uint8(1): np.float64(0.0759829130773182), np.uint8(2): np.float64(0.12773753018569406), np.uint8(4): np.float64(0.015189517759366241), np.uint8(6): np.float64(0.0018046245984214492), np.uint8(7): np.float64(0.00050641513097222), np.uint8(8): np.float64(0.041783057425975476), np.uint8(9): np.float64(0.005522904874469577), np.uint8(11): np.float64(0.003044824501000108), np.uint8(17): np.float64(0.07274380541032052), np.uint8(20): np.float64(0.25771591596783955), np.uint8(21): np.float64(0.0013690166493236212), np.uint8(23): np.float64(0.750709823963657), np.uint8(24): np.float64(0.1219385193312629), np.uint8(26): np.float64(0.002959875373668477), np.uint8(33): np.float64(0.10295728368017525), 'mean': np.float64(0.09887287674559156), 'weighted_mean': np.float64(0.01828178210281572)}\n"
     ]
    },
    {
     "data": {
      "application/vnd.jupyter.widget-view+json": {
       "model_id": "9f9f05a7140546edbe31bf96e17e0924",
       "version_major": 2,
       "version_minor": 0
      },
      "text/plain": [
       "finding centroids:   0%|          | 0/17 [00:00<?, ?it/s]"
      ]
     },
     "metadata": {},
     "output_type": "display_data"
    },
    {
     "data": {
      "application/vnd.jupyter.widget-view+json": {
       "model_id": "5a92fdb944404abaa2a492fd7afa8e15",
       "version_major": 2,
       "version_minor": 0
      },
      "text/plain": [
       "class growing:   0%|          | 0/154 [00:00<?, ?it/s]"
      ]
     },
     "metadata": {},
     "output_type": "display_data"
    },
    {
     "data": {
      "application/vnd.jupyter.widget-view+json": {
       "model_id": "cf012a14eb8d46088420457db5b62fa3",
       "version_major": 2,
       "version_minor": 0
      },
      "text/plain": [
       "calculating IoU:   0%|          | 0/17 [00:00<?, ?it/s]"
      ]
     },
     "metadata": {},
     "output_type": "display_data"
    },
    {
     "name": "stdout",
     "output_type": "stream",
     "text": [
      "{np.uint8(0): np.float64(0.0), np.uint8(1): np.float64(0.06473376494681905), np.uint8(2): np.float64(0.03181476735451372), np.uint8(4): np.float64(0.39201889424606573), np.uint8(5): np.float64(0.2359177570093458), np.uint8(7): np.float64(0.0016063464498559418), np.uint8(8): np.float64(0.006256507597187796), np.uint8(11): np.float64(0.22543348214370415), np.uint8(17): np.float64(0.15019458044152723), np.uint8(18): np.float64(0.07654320987654321), np.uint8(20): np.float64(0.2360549717057397), np.uint8(21): np.float64(0.022467588859251906), np.uint8(23): np.float64(0.6291657347349586), np.uint8(24): np.float64(0.028495676490261024), np.uint8(25): np.float64(0.2153061224489796), np.uint8(26): np.float64(0.011136277840694602), np.uint8(33): np.float64(0.0754680563597761), 'mean': np.float64(0.141330219912072), 'weighted_mean': np.float64(0.10348966647104435)}\n"
     ]
    },
    {
     "data": {
      "application/vnd.jupyter.widget-view+json": {
       "model_id": "29b9242d37b34172afcdfa4b75f03783",
       "version_major": 2,
       "version_minor": 0
      },
      "text/plain": [
       "finding centroids:   0%|          | 0/18 [00:00<?, ?it/s]"
      ]
     },
     "metadata": {},
     "output_type": "display_data"
    },
    {
     "data": {
      "application/vnd.jupyter.widget-view+json": {
       "model_id": "941f6dca79ca4851ae34c242559bf95e",
       "version_major": 2,
       "version_minor": 0
      },
      "text/plain": [
       "class growing:   0%|          | 0/132 [00:00<?, ?it/s]"
      ]
     },
     "metadata": {},
     "output_type": "display_data"
    },
    {
     "data": {
      "application/vnd.jupyter.widget-view+json": {
       "model_id": "0edad28e5a2b46af93fb0a957f2f6017",
       "version_major": 2,
       "version_minor": 0
      },
      "text/plain": [
       "calculating IoU:   0%|          | 0/17 [00:00<?, ?it/s]"
      ]
     },
     "metadata": {},
     "output_type": "display_data"
    },
    {
     "name": "stdout",
     "output_type": "stream",
     "text": [
      "{np.uint8(0): np.float64(8.329883167203024e-05), np.uint8(1): np.float64(0.16560299204927303), np.uint8(2): np.float64(0.03109589929924734), np.uint8(4): np.float64(0.06494666910920775), np.uint8(7): np.float64(0.0010100990740439038), np.uint8(8): np.float64(0.23726301833983943), np.uint8(11): np.float64(0.01533494753833737), np.uint8(12): np.float64(0.01968408262454435), np.uint8(17): np.float64(0.036781536113936926), np.uint8(18): np.float64(0.23227611940298507), np.uint8(20): np.float64(0.3637451933541319), np.uint8(21): np.float64(0.002469338642491954), np.uint8(23): np.float64(0.8506339468302658), np.uint8(24): np.float64(0.06538853763002243), np.uint8(25): np.float64(0.05077107951131584), np.uint8(26): np.float64(0.20801267541874152), np.uint8(33): np.float64(0.04208424528664132), 'mean': np.float64(0.14042256935627634), 'weighted_mean': np.float64(0.07459151237316419)}\n"
     ]
    },
    {
     "data": {
      "application/vnd.jupyter.widget-view+json": {
       "model_id": "ccc936dc037445f4b0e8e6d8da887d68",
       "version_major": 2,
       "version_minor": 0
      },
      "text/plain": [
       "finding centroids:   0%|          | 0/16 [00:00<?, ?it/s]"
      ]
     },
     "metadata": {},
     "output_type": "display_data"
    },
    {
     "data": {
      "application/vnd.jupyter.widget-view+json": {
       "model_id": "cf569036196d406996bf306069de305f",
       "version_major": 2,
       "version_minor": 0
      },
      "text/plain": [
       "class growing:   0%|          | 0/144 [00:00<?, ?it/s]"
      ]
     },
     "metadata": {},
     "output_type": "display_data"
    },
    {
     "data": {
      "application/vnd.jupyter.widget-view+json": {
       "model_id": "e18f402099ed427ab305521f4c85a6ad",
       "version_major": 2,
       "version_minor": 0
      },
      "text/plain": [
       "calculating IoU:   0%|          | 0/16 [00:00<?, ?it/s]"
      ]
     },
     "metadata": {},
     "output_type": "display_data"
    },
    {
     "name": "stdout",
     "output_type": "stream",
     "text": [
      "{np.uint8(0): np.float64(0.0), np.uint8(1): np.float64(0.24886743597675967), np.uint8(2): np.float64(0.042615363631529915), np.uint8(4): np.float64(0.08098387283907646), np.uint8(5): np.float64(0.083171329557941), np.uint8(7): np.float64(0.22826554838137078), np.uint8(8): np.float64(0.19836565372248172), np.uint8(11): np.float64(0.0889368938732362), np.uint8(12): np.float64(0.03237268061587051), np.uint8(17): np.float64(0.07920934239494591), np.uint8(20): np.float64(0.1601996257018091), np.uint8(21): np.float64(0.0038651156862019483), np.uint8(23): np.float64(0.6977617863379014), np.uint8(24): np.float64(0.00790676685828641), np.uint8(26): np.float64(0.4251321197886083), np.uint8(33): np.float64(0.011198729532884288), 'mean': np.float64(0.14930326655618148), 'weighted_mean': np.float64(0.11910322595106011)}\n"
     ]
    },
    {
     "data": {
      "application/vnd.jupyter.widget-view+json": {
       "model_id": "53627c6b212f4f7facc5969946e1097c",
       "version_major": 2,
       "version_minor": 0
      },
      "text/plain": [
       "finding centroids:   0%|          | 0/19 [00:00<?, ?it/s]"
      ]
     },
     "metadata": {},
     "output_type": "display_data"
    },
    {
     "data": {
      "application/vnd.jupyter.widget-view+json": {
       "model_id": "4442e0b28c1547fbbb5eda65c5602532",
       "version_major": 2,
       "version_minor": 0
      },
      "text/plain": [
       "class growing:   0%|          | 0/140 [00:00<?, ?it/s]"
      ]
     },
     "metadata": {},
     "output_type": "display_data"
    },
    {
     "data": {
      "application/vnd.jupyter.widget-view+json": {
       "model_id": "dd1208ec46184575a44ff6c838fb613b",
       "version_major": 2,
       "version_minor": 0
      },
      "text/plain": [
       "calculating IoU:   0%|          | 0/19 [00:00<?, ?it/s]"
      ]
     },
     "metadata": {},
     "output_type": "display_data"
    },
    {
     "name": "stdout",
     "output_type": "stream",
     "text": [
      "{np.uint8(0): np.float64(0.0), np.uint8(1): np.float64(0.0893921877264592), np.uint8(2): np.float64(0.029291660122506676), np.uint8(4): np.float64(0.06921146786859347), np.uint8(5): np.float64(0.13694010703027637), np.uint8(7): np.float64(0.002209555098269405), np.uint8(8): np.float64(0.16242920615979858), np.uint8(11): np.float64(0.00803900339478932), np.uint8(12): np.float64(0.022656340307478904), np.uint8(17): np.float64(0.0386706703457231), np.uint8(20): np.float64(0.5715590995929895), np.uint8(21): np.float64(0.0010320136582548352), np.uint8(23): np.float64(0.8643568005897531), np.uint8(24): np.float64(0.031168664931518538), np.uint8(25): np.float64(0.0403828197945845), np.uint8(26): np.float64(0.009417509591907918), np.uint8(27): np.float64(0.013294026031816664), np.uint8(32): np.float64(0.054447852760736194), np.uint8(33): np.float64(0.05067441939082519), 'mean': np.float64(0.1155354423366464), 'weighted_mean': np.float64(0.039124165757426096)}\n"
     ]
    },
    {
     "data": {
      "application/vnd.jupyter.widget-view+json": {
       "model_id": "c7da08fa1dfb4ed7a14c1bcfb1dec271",
       "version_major": 2,
       "version_minor": 0
      },
      "text/plain": [
       "finding centroids:   0%|          | 0/18 [00:00<?, ?it/s]"
      ]
     },
     "metadata": {},
     "output_type": "display_data"
    },
    {
     "data": {
      "application/vnd.jupyter.widget-view+json": {
       "model_id": "571166d3be764d89a696f8a9ce529c44",
       "version_major": 2,
       "version_minor": 0
      },
      "text/plain": [
       "class growing:   0%|          | 0/183 [00:00<?, ?it/s]"
      ]
     },
     "metadata": {},
     "output_type": "display_data"
    },
    {
     "data": {
      "application/vnd.jupyter.widget-view+json": {
       "model_id": "47d1c00c937b454da0a972bb9f856207",
       "version_major": 2,
       "version_minor": 0
      },
      "text/plain": [
       "calculating IoU:   0%|          | 0/18 [00:00<?, ?it/s]"
      ]
     },
     "metadata": {},
     "output_type": "display_data"
    },
    {
     "name": "stdout",
     "output_type": "stream",
     "text": [
      "{np.uint8(0): np.float64(0.0), np.uint8(1): np.float64(0.09414303441883026), np.uint8(2): np.float64(0.016795438802152715), np.uint8(4): np.float64(0.07629649210405225), np.uint8(5): np.float64(0.0626009326631707), np.uint8(7): np.float64(0.00012847026383405402), np.uint8(8): np.float64(0.003452015181637448), np.uint8(11): np.float64(0.1018554296909425), np.uint8(13): np.float64(0.05704342563171433), np.uint8(17): np.float64(0.044751626542077726), np.uint8(20): np.float64(0.19688896243587622), np.uint8(21): np.float64(0.057334261353749784), np.uint8(22): np.float64(0.006138688897309587), np.uint8(23): np.float64(0.00430877533681272), np.uint8(24): np.float64(0.02937574157002335), np.uint8(25): np.float64(0.059271953669778984), np.uint8(26): np.float64(0.0019577712436649477), np.uint8(33): np.float64(0.03204903677758319), 'mean': np.float64(0.04691066981017838), 'weighted_mean': np.float64(0.045278842364817246)}\n"
     ]
    },
    {
     "data": {
      "application/vnd.jupyter.widget-view+json": {
       "model_id": "34673067c1b94141a28ee8ad876e084e",
       "version_major": 2,
       "version_minor": 0
      },
      "text/plain": [
       "finding centroids:   0%|          | 0/16 [00:00<?, ?it/s]"
      ]
     },
     "metadata": {},
     "output_type": "display_data"
    },
    {
     "data": {
      "application/vnd.jupyter.widget-view+json": {
       "model_id": "d8d56040004f474c8995929d91a54e71",
       "version_major": 2,
       "version_minor": 0
      },
      "text/plain": [
       "class growing:   0%|          | 0/106 [00:00<?, ?it/s]"
      ]
     },
     "metadata": {},
     "output_type": "display_data"
    },
    {
     "data": {
      "application/vnd.jupyter.widget-view+json": {
       "model_id": "9fcd76b76d65446bacfb5bfd9757399b",
       "version_major": 2,
       "version_minor": 0
      },
      "text/plain": [
       "calculating IoU:   0%|          | 0/16 [00:00<?, ?it/s]"
      ]
     },
     "metadata": {},
     "output_type": "display_data"
    },
    {
     "name": "stdout",
     "output_type": "stream",
     "text": [
      "{np.uint8(0): np.float64(0.0), np.uint8(1): np.float64(0.11152130410857489), np.uint8(2): np.float64(0.018829868676756376), np.uint8(4): np.float64(0.4838061981667394), np.uint8(5): np.float64(0.003123331121648083), np.uint8(7): np.float64(0.00017769143290371494), np.uint8(8): np.float64(0.003553425336749029), np.uint8(11): np.float64(0.00940257121250315), np.uint8(13): np.float64(0.02727769265690614), np.uint8(17): np.float64(0.03805306673124157), np.uint8(20): np.float64(0.11159420289855072), np.uint8(21): np.float64(0.06426635694928377), np.uint8(23): np.float64(0.044223506246166756), np.uint8(24): np.float64(0.02773026019627262), np.uint8(25): np.float64(0.34189723320158105), np.uint8(33): np.float64(0.13778162911611785), 'mean': np.float64(0.08895239612824969), 'weighted_mean': np.float64(0.03618887334365985)}\n"
     ]
    },
    {
     "data": {
      "application/vnd.jupyter.widget-view+json": {
       "model_id": "681b86314f974f3fbb39db584c1ff2be",
       "version_major": 2,
       "version_minor": 0
      },
      "text/plain": [
       "finding centroids:   0%|          | 0/18 [00:00<?, ?it/s]"
      ]
     },
     "metadata": {},
     "output_type": "display_data"
    },
    {
     "data": {
      "application/vnd.jupyter.widget-view+json": {
       "model_id": "9ab0b05bb73346b1a8a874d9ebc62188",
       "version_major": 2,
       "version_minor": 0
      },
      "text/plain": [
       "class growing:   0%|          | 0/120 [00:00<?, ?it/s]"
      ]
     },
     "metadata": {},
     "output_type": "display_data"
    },
    {
     "data": {
      "application/vnd.jupyter.widget-view+json": {
       "model_id": "e74d6f0162184e05a3fbd40cf4f4cd8d",
       "version_major": 2,
       "version_minor": 0
      },
      "text/plain": [
       "calculating IoU:   0%|          | 0/18 [00:00<?, ?it/s]"
      ]
     },
     "metadata": {},
     "output_type": "display_data"
    },
    {
     "name": "stdout",
     "output_type": "stream",
     "text": [
      "{np.uint8(0): np.float64(0.0), np.uint8(1): np.float64(0.08961624542649918), np.uint8(2): np.float64(0.0037614765480700526), np.uint8(4): np.float64(0.11369196205691463), np.uint8(5): np.float64(0.15704052210705155), np.uint8(6): np.float64(0.17484008528784648), np.uint8(7): np.float64(0.0003601708650583837), np.uint8(8): np.float64(0.009830729166666666), np.uint8(11): np.float64(0.021270751046832775), np.uint8(13): np.float64(0.00021167846754303136), np.uint8(17): np.float64(0.11367482793636466), np.uint8(20): np.float64(0.10819512984386377), np.uint8(21): np.float64(0.03723514748649771), np.uint8(23): np.float64(0.025851481292873617), np.uint8(24): np.float64(0.005758006382487006), np.uint8(25): np.float64(0.1044776119402985), np.uint8(26): np.float64(0.20047355958958168), np.uint8(33): np.float64(0.14541196508409623), 'mean': np.float64(0.07287229725158588), 'weighted_mean': np.float64(0.025901083245210454)}\n"
     ]
    },
    {
     "data": {
      "application/vnd.jupyter.widget-view+json": {
       "model_id": "5a0691e38e9c405e9b982e7c41077156",
       "version_major": 2,
       "version_minor": 0
      },
      "text/plain": [
       "finding centroids:   0%|          | 0/17 [00:00<?, ?it/s]"
      ]
     },
     "metadata": {},
     "output_type": "display_data"
    },
    {
     "data": {
      "application/vnd.jupyter.widget-view+json": {
       "model_id": "7ff06bec78bd49d2a3d6e53b4db81b7e",
       "version_major": 2,
       "version_minor": 0
      },
      "text/plain": [
       "class growing:   0%|          | 0/212 [00:00<?, ?it/s]"
      ]
     },
     "metadata": {},
     "output_type": "display_data"
    },
    {
     "data": {
      "application/vnd.jupyter.widget-view+json": {
       "model_id": "8a7baf200a36468e9e170044ef37604c",
       "version_major": 2,
       "version_minor": 0
      },
      "text/plain": [
       "calculating IoU:   0%|          | 0/17 [00:00<?, ?it/s]"
      ]
     },
     "metadata": {},
     "output_type": "display_data"
    },
    {
     "name": "stdout",
     "output_type": "stream",
     "text": [
      "{np.uint8(0): np.float64(0.0), np.uint8(1): np.float64(0.06716143649760048), np.uint8(2): np.float64(0.06899220880686956), np.uint8(4): np.float64(0.04263303567820922), np.uint8(5): np.float64(0.1427733802403987), np.uint8(6): np.float64(0.2569185631591468), np.uint8(7): np.float64(0.01869069268704276), np.uint8(8): np.float64(0.16443117872986573), np.uint8(11): np.float64(0.09087099767912972), np.uint8(17): np.float64(0.034449897555629674), np.uint8(20): np.float64(0.12341167210165299), np.uint8(21): np.float64(0.10629606606873279), np.uint8(23): np.float64(0.0023411535502038277), np.uint8(24): np.float64(0.02919507912712255), np.uint8(25): np.float64(0.11926605504587157), np.uint8(26): np.float64(0.19178940770918207), np.uint8(33): np.float64(0.009918673810886265), 'mean': np.float64(0.08641997049691441), 'weighted_mean': np.float64(0.05595910492147327)}\n"
     ]
    },
    {
     "data": {
      "application/vnd.jupyter.widget-view+json": {
       "model_id": "17e256adc23b4644b64dbc5938428e90",
       "version_major": 2,
       "version_minor": 0
      },
      "text/plain": [
       "finding centroids:   0%|          | 0/18 [00:00<?, ?it/s]"
      ]
     },
     "metadata": {},
     "output_type": "display_data"
    },
    {
     "data": {
      "application/vnd.jupyter.widget-view+json": {
       "model_id": "e69a0eb2947b4c379138c81fba87e3e1",
       "version_major": 2,
       "version_minor": 0
      },
      "text/plain": [
       "class growing:   0%|          | 0/139 [00:00<?, ?it/s]"
      ]
     },
     "metadata": {},
     "output_type": "display_data"
    },
    {
     "data": {
      "application/vnd.jupyter.widget-view+json": {
       "model_id": "a04a880fbee543129b6cd7f6f4208e00",
       "version_major": 2,
       "version_minor": 0
      },
      "text/plain": [
       "calculating IoU:   0%|          | 0/18 [00:00<?, ?it/s]"
      ]
     },
     "metadata": {},
     "output_type": "display_data"
    },
    {
     "name": "stdout",
     "output_type": "stream",
     "text": [
      "{np.uint8(0): np.float64(0.0), np.uint8(1): np.float64(0.28785068465273134), np.uint8(2): np.float64(0.1241270670906108), np.uint8(4): np.float64(0.06200275269394743), np.uint8(5): np.float64(0.12794348508634223), np.uint8(6): np.float64(0.17754957049667378), np.uint8(7): np.float64(0.07620250484685111), np.uint8(8): np.float64(0.25874362053437405), np.uint8(11): np.float64(0.021866341342376246), np.uint8(12): np.float64(0.29602137767220904), np.uint8(17): np.float64(0.03981815689678805), np.uint8(20): np.float64(0.30835505357660004), np.uint8(21): np.float64(0.051614302901209004), np.uint8(23): np.float64(0.9064146265881624), np.uint8(24): np.float64(0.08775951137764358), np.uint8(25): np.float64(0.009744947064485083), np.uint8(26): np.float64(0.006465200568153989), np.uint8(33): np.float64(0.1186161449752883), 'mean': np.float64(0.16450529713135817), 'weighted_mean': np.float64(0.10303024414722235)}\n"
     ]
    },
    {
     "data": {
      "application/vnd.jupyter.widget-view+json": {
       "model_id": "f9359a42ff5243c99971bfa81791c55a",
       "version_major": 2,
       "version_minor": 0
      },
      "text/plain": [
       "finding centroids:   0%|          | 0/19 [00:00<?, ?it/s]"
      ]
     },
     "metadata": {},
     "output_type": "display_data"
    },
    {
     "data": {
      "application/vnd.jupyter.widget-view+json": {
       "model_id": "12271cbfe0cd484389dc9ce0ee22fa41",
       "version_major": 2,
       "version_minor": 0
      },
      "text/plain": [
       "class growing:   0%|          | 0/147 [00:00<?, ?it/s]"
      ]
     },
     "metadata": {},
     "output_type": "display_data"
    },
    {
     "data": {
      "application/vnd.jupyter.widget-view+json": {
       "model_id": "1c7ecdfbf52a4dbdb750f4a3f533f7ba",
       "version_major": 2,
       "version_minor": 0
      },
      "text/plain": [
       "calculating IoU:   0%|          | 0/19 [00:00<?, ?it/s]"
      ]
     },
     "metadata": {},
     "output_type": "display_data"
    },
    {
     "name": "stdout",
     "output_type": "stream",
     "text": [
      "{np.uint8(0): np.float64(0.0), np.uint8(1): np.float64(0.06664874404637958), np.uint8(2): np.float64(0.0117889896271523), np.uint8(4): np.float64(0.2609636038186158), np.uint8(6): np.float64(0.037333333333333336), np.uint8(7): np.float64(0.004624363797977622), np.uint8(8): np.float64(0.04574032659605891), np.uint8(9): np.float64(0.0023262492820218268), np.uint8(11): np.float64(0.005788186193456377), np.uint8(12): np.float64(0.03058002326740901), np.uint8(17): np.float64(0.06272865173552244), np.uint8(19): np.float64(0.418732782369146), np.uint8(20): np.float64(0.11507406331687482), np.uint8(21): np.float64(0.0019589863287762586), np.uint8(23): np.float64(0.7738525730180806), np.uint8(24): np.float64(0.0639950816007154), np.uint8(25): np.float64(0.20347957639939485), np.uint8(26): np.float64(0.004572325448069097), np.uint8(33): np.float64(0.026257261410788383), 'mean': np.float64(0.11244448008367222), 'weighted_mean': np.float64(0.014042614390704464)}\n"
     ]
    },
    {
     "data": {
      "application/vnd.jupyter.widget-view+json": {
       "model_id": "d4d3cb22c92d44d0af57a6b31d2028ea",
       "version_major": 2,
       "version_minor": 0
      },
      "text/plain": [
       "finding centroids:   0%|          | 0/19 [00:00<?, ?it/s]"
      ]
     },
     "metadata": {},
     "output_type": "display_data"
    },
    {
     "data": {
      "application/vnd.jupyter.widget-view+json": {
       "model_id": "9fe13424ff8947a2a1c2880c19859044",
       "version_major": 2,
       "version_minor": 0
      },
      "text/plain": [
       "class growing:   0%|          | 0/238 [00:00<?, ?it/s]"
      ]
     },
     "metadata": {},
     "output_type": "display_data"
    },
    {
     "data": {
      "application/vnd.jupyter.widget-view+json": {
       "model_id": "cc1afd30f9434564bcdc2a2388fd974d",
       "version_major": 2,
       "version_minor": 0
      },
      "text/plain": [
       "calculating IoU:   0%|          | 0/19 [00:00<?, ?it/s]"
      ]
     },
     "metadata": {},
     "output_type": "display_data"
    },
    {
     "name": "stdout",
     "output_type": "stream",
     "text": [
      "{np.uint8(0): np.float64(0.0), np.uint8(1): np.float64(0.026507894562991345), np.uint8(2): np.float64(0.03092220688020926), np.uint8(4): np.float64(0.08883398792178723), np.uint8(5): np.float64(0.22311688311688313), np.uint8(7): np.float64(0.041141848691025364), np.uint8(8): np.float64(0.007416022341395476), np.uint8(11): np.float64(0.299549159797805), np.uint8(12): np.float64(0.0014011174343982978), np.uint8(17): np.float64(0.10278284841485676), np.uint8(19): np.float64(0.11077949438202248), np.uint8(20): np.float64(0.3972494049193335), np.uint8(21): np.float64(0.006146693403561313), np.uint8(22): np.float64(0.12), np.uint8(23): np.float64(0.85115267507612), np.uint8(24): np.float64(0.33001215066828676), np.uint8(25): np.float64(0.18097139055222888), np.uint8(26): np.float64(0.3817968738968979), np.uint8(33): np.float64(0.10178571428571428), 'mean': np.float64(0.17376665086029033), 'weighted_mean': np.float64(0.12061641531457258)}\n"
     ]
    },
    {
     "data": {
      "application/vnd.jupyter.widget-view+json": {
       "model_id": "40d9f173547d4118aa0268873d8e0be9",
       "version_major": 2,
       "version_minor": 0
      },
      "text/plain": [
       "finding centroids:   0%|          | 0/18 [00:00<?, ?it/s]"
      ]
     },
     "metadata": {},
     "output_type": "display_data"
    },
    {
     "data": {
      "application/vnd.jupyter.widget-view+json": {
       "model_id": "ce2bbf8c79cb4134929be2377d50fc63",
       "version_major": 2,
       "version_minor": 0
      },
      "text/plain": [
       "class growing:   0%|          | 0/263 [00:00<?, ?it/s]"
      ]
     },
     "metadata": {},
     "output_type": "display_data"
    },
    {
     "data": {
      "application/vnd.jupyter.widget-view+json": {
       "model_id": "ad5afeafd01e452ea72fce08e64a533d",
       "version_major": 2,
       "version_minor": 0
      },
      "text/plain": [
       "calculating IoU:   0%|          | 0/18 [00:00<?, ?it/s]"
      ]
     },
     "metadata": {},
     "output_type": "display_data"
    },
    {
     "name": "stdout",
     "output_type": "stream",
     "text": [
      "{np.uint8(0): np.float64(0.0), np.uint8(1): np.float64(0.07746531095053), np.uint8(2): np.float64(0.011258506142002212), np.uint8(4): np.float64(0.0868126629840451), np.uint8(5): np.float64(0.022531749283080705), np.uint8(7): np.float64(0.009539506190267798), np.uint8(8): np.float64(0.004630768184267946), np.uint8(9): np.float64(0.17033391693875297), np.uint8(11): np.float64(0.032135063108285615), np.uint8(17): np.float64(0.051902891364543756), np.uint8(18): np.float64(0.017241379310344827), np.uint8(20): np.float64(0.05344301308914067), np.uint8(21): np.float64(0.0036603902348233395), np.uint8(23): np.float64(0.8153505342715663), np.uint8(24): np.float64(0.07596177407498163), np.uint8(26): np.float64(0.004343665240265182), np.uint8(32): np.float64(0.05180870631514408), np.uint8(33): np.float64(0.029974341031024025), 'mean': np.float64(0.08435523215072588), 'weighted_mean': np.float64(0.026525050141304834)}\n"
     ]
    },
    {
     "data": {
      "application/vnd.jupyter.widget-view+json": {
       "model_id": "b9015d205aec44a8b3d3324b08b8fc98",
       "version_major": 2,
       "version_minor": 0
      },
      "text/plain": [
       "finding centroids:   0%|          | 0/18 [00:00<?, ?it/s]"
      ]
     },
     "metadata": {},
     "output_type": "display_data"
    },
    {
     "data": {
      "application/vnd.jupyter.widget-view+json": {
       "model_id": "6beecbaf07bd418aba1149baf10824ea",
       "version_major": 2,
       "version_minor": 0
      },
      "text/plain": [
       "class growing:   0%|          | 0/203 [00:00<?, ?it/s]"
      ]
     },
     "metadata": {},
     "output_type": "display_data"
    },
    {
     "data": {
      "application/vnd.jupyter.widget-view+json": {
       "model_id": "0c4406acda2d4311aaec6143da92878a",
       "version_major": 2,
       "version_minor": 0
      },
      "text/plain": [
       "calculating IoU:   0%|          | 0/17 [00:00<?, ?it/s]"
      ]
     },
     "metadata": {},
     "output_type": "display_data"
    },
    {
     "name": "stdout",
     "output_type": "stream",
     "text": [
      "{np.uint8(0): np.float64(0.0), np.uint8(1): np.float64(0.42050485731058385), np.uint8(2): np.float64(0.014976111954054698), np.uint8(4): np.float64(0.07247114192132795), np.uint8(5): np.float64(0.022462896109105495), np.uint8(7): np.float64(0.16682912319238513), np.uint8(8): np.float64(0.01131855309218203), np.uint8(9): np.float64(0.010719886694324108), np.uint8(11): np.float64(0.004525247465576813), np.uint8(17): np.float64(0.05576997298340409), np.uint8(20): np.float64(0.09052901184579747), np.uint8(21): np.float64(0.0063632240335103115), np.uint8(23): np.float64(0.25630252100840334), np.uint8(24): np.float64(0.020080116780391757), np.uint8(26): np.float64(0.08575803981623277), np.uint8(32): np.float64(0.010377119716527461), np.uint8(33): np.float64(0.03260869565217391), 'mean': np.float64(0.07538803056329299), 'weighted_mean': np.float64(0.10360931159121319)}\n"
     ]
    },
    {
     "data": {
      "application/vnd.jupyter.widget-view+json": {
       "model_id": "5219f692d8a447a292a328f9c854a50a",
       "version_major": 2,
       "version_minor": 0
      },
      "text/plain": [
       "finding centroids:   0%|          | 0/21 [00:00<?, ?it/s]"
      ]
     },
     "metadata": {},
     "output_type": "display_data"
    },
    {
     "data": {
      "application/vnd.jupyter.widget-view+json": {
       "model_id": "5f997b0026a64640b1515da49e234821",
       "version_major": 2,
       "version_minor": 0
      },
      "text/plain": [
       "class growing:   0%|          | 0/110 [00:00<?, ?it/s]"
      ]
     },
     "metadata": {},
     "output_type": "display_data"
    },
    {
     "data": {
      "application/vnd.jupyter.widget-view+json": {
       "model_id": "a0bc7d37af634c429a40d11a9dae3726",
       "version_major": 2,
       "version_minor": 0
      },
      "text/plain": [
       "calculating IoU:   0%|          | 0/20 [00:00<?, ?it/s]"
      ]
     },
     "metadata": {},
     "output_type": "display_data"
    },
    {
     "name": "stdout",
     "output_type": "stream",
     "text": [
      "{np.uint8(0): np.float64(0.0), np.uint8(1): np.float64(0.10201842234042835), np.uint8(2): np.float64(0.016195395255186904), np.uint8(4): np.float64(0.0772859638905067), np.uint8(5): np.float64(0.21592821088053843), np.uint8(7): np.float64(0.00022751066697258496), np.uint8(8): np.float64(0.0021591351252374666), np.uint8(9): np.float64(0.0036128838327783943), np.uint8(11): np.float64(0.01882364219330696), np.uint8(17): np.float64(0.051018789238684525), np.uint8(19): np.float64(0.4859154929577465), np.uint8(20): np.float64(0.3235780423280423), np.uint8(21): np.float64(0.136), np.uint8(23): np.float64(0.7776604172167942), np.uint8(24): np.float64(0.114380314545865), np.uint8(25): np.float64(0.21064400715563505), np.uint8(26): np.float64(0.021482674963423893), np.uint8(27): np.float64(0.25864223240316536), np.uint8(31): np.float64(0.2386048680529102), np.uint8(33): np.float64(0.2560553633217993), 'mean': np.float64(0.1655116683184511), 'weighted_mean': np.float64(0.07000062164643504)}\n"
     ]
    },
    {
     "data": {
      "application/vnd.jupyter.widget-view+json": {
       "model_id": "cc55a036ea184d1985a15d5207b4663c",
       "version_major": 2,
       "version_minor": 0
      },
      "text/plain": [
       "finding centroids:   0%|          | 0/20 [00:00<?, ?it/s]"
      ]
     },
     "metadata": {},
     "output_type": "display_data"
    },
    {
     "data": {
      "application/vnd.jupyter.widget-view+json": {
       "model_id": "178f01d5449c46ee9f12d49e8b2f32e1",
       "version_major": 2,
       "version_minor": 0
      },
      "text/plain": [
       "class growing:   0%|          | 0/291 [00:00<?, ?it/s]"
      ]
     },
     "metadata": {},
     "output_type": "display_data"
    },
    {
     "data": {
      "application/vnd.jupyter.widget-view+json": {
       "model_id": "ef0c1540f45347f090d89551f7bfbb57",
       "version_major": 2,
       "version_minor": 0
      },
      "text/plain": [
       "calculating IoU:   0%|          | 0/20 [00:00<?, ?it/s]"
      ]
     },
     "metadata": {},
     "output_type": "display_data"
    },
    {
     "name": "stdout",
     "output_type": "stream",
     "text": [
      "{np.uint8(0): np.float64(0.0), np.uint8(1): np.float64(0.10660672927061904), np.uint8(2): np.float64(0.08421973796112556), np.uint8(4): np.float64(0.07013812229072992), np.uint8(5): np.float64(0.17122730967217556), np.uint8(6): np.float64(0.3146341463414634), np.uint8(7): np.float64(0.004542442350976655), np.uint8(8): np.float64(0.014587340468088138), np.uint8(9): np.float64(0.0008049049516560174), np.uint8(11): np.float64(0.03713540705908837), np.uint8(17): np.float64(0.17252488213724462), np.uint8(19): np.float64(0.19327631266334047), np.uint8(20): np.float64(0.2298339533617639), np.uint8(21): np.float64(0.004463055231633627), np.uint8(23): np.float64(0.4411887424795079), np.uint8(24): np.float64(0.16708610905502097), np.uint8(25): np.float64(0.03118939883645766), np.uint8(26): np.float64(0.05428100767407289), np.uint8(32): np.float64(0.11578947368421053), np.uint8(33): np.float64(0.1680471194551813), 'mean': np.float64(0.11907880974721782), 'weighted_mean': np.float64(0.05044557302606683)}\n"
     ]
    },
    {
     "data": {
      "application/vnd.jupyter.widget-view+json": {
       "model_id": "c7d0f6636b4d44a68db8238ac08395a8",
       "version_major": 2,
       "version_minor": 0
      },
      "text/plain": [
       "finding centroids:   0%|          | 0/15 [00:00<?, ?it/s]"
      ]
     },
     "metadata": {},
     "output_type": "display_data"
    },
    {
     "data": {
      "application/vnd.jupyter.widget-view+json": {
       "model_id": "7bff4a574aa2441f8730ebc7a8ff1f60",
       "version_major": 2,
       "version_minor": 0
      },
      "text/plain": [
       "class growing:   0%|          | 0/111 [00:00<?, ?it/s]"
      ]
     },
     "metadata": {},
     "output_type": "display_data"
    },
    {
     "data": {
      "application/vnd.jupyter.widget-view+json": {
       "model_id": "1a2d9a2f0c444a4ea2383275db98a4ee",
       "version_major": 2,
       "version_minor": 0
      },
      "text/plain": [
       "calculating IoU:   0%|          | 0/15 [00:00<?, ?it/s]"
      ]
     },
     "metadata": {},
     "output_type": "display_data"
    },
    {
     "name": "stdout",
     "output_type": "stream",
     "text": [
      "{np.uint8(0): np.float64(0.0), np.uint8(1): np.float64(0.10010878058496377), np.uint8(2): np.float64(0.012080097449650211), np.uint8(4): np.float64(0.0915596969223934), np.uint8(5): np.float64(0.3882978723404255), np.uint8(7): np.float64(0.00014117622222984544), np.uint8(8): np.float64(0.02971575246239017), np.uint8(9): np.float64(0.001019303781158914), np.uint8(11): np.float64(0.014432753987674133), np.uint8(17): np.float64(0.05373932092004381), np.uint8(20): np.float64(0.25303366044106784), np.uint8(21): np.float64(0.2254205515268117), np.uint8(23): np.float64(0.007314868085805868), np.uint8(24): np.float64(0.45676046671242276), np.uint8(26): np.float64(0.1924208638175798), 'mean': np.float64(0.12173634435030786), 'weighted_mean': np.float64(0.037349814855430624)}\n"
     ]
    },
    {
     "data": {
      "application/vnd.jupyter.widget-view+json": {
       "model_id": "2d5af6f8a6354640a2ee0bbd9c1667a4",
       "version_major": 2,
       "version_minor": 0
      },
      "text/plain": [
       "finding centroids:   0%|          | 0/18 [00:00<?, ?it/s]"
      ]
     },
     "metadata": {},
     "output_type": "display_data"
    },
    {
     "data": {
      "application/vnd.jupyter.widget-view+json": {
       "model_id": "3ab448dceea14f89a615829d9cd74e78",
       "version_major": 2,
       "version_minor": 0
      },
      "text/plain": [
       "class growing:   0%|          | 0/108 [00:00<?, ?it/s]"
      ]
     },
     "metadata": {},
     "output_type": "display_data"
    },
    {
     "data": {
      "application/vnd.jupyter.widget-view+json": {
       "model_id": "5fb101e65fc94f5aba68b88fd0d4cca8",
       "version_major": 2,
       "version_minor": 0
      },
      "text/plain": [
       "calculating IoU:   0%|          | 0/18 [00:00<?, ?it/s]"
      ]
     },
     "metadata": {},
     "output_type": "display_data"
    },
    {
     "name": "stdout",
     "output_type": "stream",
     "text": [
      "{np.uint8(0): np.float64(0.0), np.uint8(1): np.float64(0.1450498437960056), np.uint8(2): np.float64(0.007731886874201568), np.uint8(4): np.float64(0.06554706807458997), np.uint8(5): np.float64(0.1534090909090909), np.uint8(7): np.float64(0.0004422156508241155), np.uint8(8): np.float64(0.24878048780487805), np.uint8(9): np.float64(0.014457274826789839), np.uint8(11): np.float64(0.0005110397482524698), np.uint8(12): np.float64(0.16711051930758988), np.uint8(17): np.float64(0.05290655777083834), np.uint8(20): np.float64(0.29815994759721315), np.uint8(21): np.float64(0.009707525673440085), np.uint8(23): np.float64(0.8710010827837386), np.uint8(24): np.float64(0.555956678700361), np.uint8(25): np.float64(0.04227129337539432), np.uint8(26): np.float64(0.006212615796326877), np.uint8(33): np.float64(0.022307904158633984), 'mean': np.float64(0.14786461293600936), 'weighted_mean': np.float64(0.037146671198564976)}\n"
     ]
    },
    {
     "data": {
      "application/vnd.jupyter.widget-view+json": {
       "model_id": "3fc6d68c3abf473f8d065f078e7ac578",
       "version_major": 2,
       "version_minor": 0
      },
      "text/plain": [
       "finding centroids:   0%|          | 0/18 [00:00<?, ?it/s]"
      ]
     },
     "metadata": {},
     "output_type": "display_data"
    },
    {
     "data": {
      "application/vnd.jupyter.widget-view+json": {
       "model_id": "96e25f35da514a089450fb073dce08e3",
       "version_major": 2,
       "version_minor": 0
      },
      "text/plain": [
       "class growing:   0%|          | 0/81 [00:00<?, ?it/s]"
      ]
     },
     "metadata": {},
     "output_type": "display_data"
    },
    {
     "data": {
      "application/vnd.jupyter.widget-view+json": {
       "model_id": "49386550e91f48febd0820861a3a066a",
       "version_major": 2,
       "version_minor": 0
      },
      "text/plain": [
       "calculating IoU:   0%|          | 0/17 [00:00<?, ?it/s]"
      ]
     },
     "metadata": {},
     "output_type": "display_data"
    },
    {
     "name": "stdout",
     "output_type": "stream",
     "text": [
      "{np.uint8(0): np.float64(0.0), np.uint8(1): np.float64(0.018863602899072362), np.uint8(2): np.float64(0.04531183736738911), np.uint8(4): np.float64(0.432261055614268), np.uint8(5): np.float64(0.08997867803837953), np.uint8(7): np.float64(0.00017297638979054907), np.uint8(8): np.float64(0.0014592900982874802), np.uint8(9): np.float64(0.002378996856325583), np.uint8(11): np.float64(0.03670832338348059), np.uint8(13): np.float64(0.1786711334450028), np.uint8(17): np.float64(0.12984028495920946), np.uint8(20): np.float64(0.06327930174563591), np.uint8(21): np.float64(0.07293520006871419), np.uint8(23): np.float64(0.621078431372549), np.uint8(24): np.float64(0.04200875182329652), np.uint8(26): np.float64(0.02566273809432166), np.uint8(33): np.float64(0.25938189845474613), 'mean': np.float64(0.11882308827120408), 'weighted_mean': np.float64(0.0830528978580101)}\n"
     ]
    },
    {
     "data": {
      "application/vnd.jupyter.widget-view+json": {
       "model_id": "ff85dd0c6f5142f78501c9d7a2f5532c",
       "version_major": 2,
       "version_minor": 0
      },
      "text/plain": [
       "finding centroids:   0%|          | 0/18 [00:00<?, ?it/s]"
      ]
     },
     "metadata": {},
     "output_type": "display_data"
    },
    {
     "data": {
      "application/vnd.jupyter.widget-view+json": {
       "model_id": "326657905f4645f699725aad28a8e510",
       "version_major": 2,
       "version_minor": 0
      },
      "text/plain": [
       "class growing:   0%|          | 0/184 [00:00<?, ?it/s]"
      ]
     },
     "metadata": {},
     "output_type": "display_data"
    },
    {
     "data": {
      "application/vnd.jupyter.widget-view+json": {
       "model_id": "b858fc60d3bd487d8510d3b1168de6b5",
       "version_major": 2,
       "version_minor": 0
      },
      "text/plain": [
       "calculating IoU:   0%|          | 0/18 [00:00<?, ?it/s]"
      ]
     },
     "metadata": {},
     "output_type": "display_data"
    },
    {
     "name": "stdout",
     "output_type": "stream",
     "text": [
      "{np.uint8(0): np.float64(0.0), np.uint8(1): np.float64(0.07560837577815506), np.uint8(2): np.float64(0.05030858425285207), np.uint8(4): np.float64(0.03892660161221892), np.uint8(5): np.float64(0.03191773504273504), np.uint8(7): np.float64(0.0006014568259660291), np.uint8(8): np.float64(0.007769758091094852), np.uint8(11): np.float64(0.013406941796987506), np.uint8(12): np.float64(0.04101137619913698), np.uint8(13): np.float64(0.004957743966343831), np.uint8(17): np.float64(0.05311811753796221), np.uint8(20): np.float64(0.3003269500233536), np.uint8(21): np.float64(0.010454081041510865), np.uint8(23): np.float64(0.004258898995741101), np.uint8(24): np.float64(0.10387600016082989), np.uint8(26): np.float64(0.4233226837060703), np.uint8(32): np.float64(0.19052044609665428), np.uint8(33): np.float64(0.10064846104667093), 'mean': np.float64(0.08061301178746019), 'weighted_mean': np.float64(0.01812716479773017)}\n"
     ]
    },
    {
     "data": {
      "application/vnd.jupyter.widget-view+json": {
       "model_id": "890c674b651540f7ae74537735d57c1c",
       "version_major": 2,
       "version_minor": 0
      },
      "text/plain": [
       "finding centroids:   0%|          | 0/17 [00:00<?, ?it/s]"
      ]
     },
     "metadata": {},
     "output_type": "display_data"
    },
    {
     "data": {
      "application/vnd.jupyter.widget-view+json": {
       "model_id": "3d55875b0c6844aba1890d0d71b8d1d3",
       "version_major": 2,
       "version_minor": 0
      },
      "text/plain": [
       "class growing:   0%|          | 0/157 [00:00<?, ?it/s]"
      ]
     },
     "metadata": {},
     "output_type": "display_data"
    },
    {
     "data": {
      "application/vnd.jupyter.widget-view+json": {
       "model_id": "dbbfe92c504f43afa4edc79e3fb5c1da",
       "version_major": 2,
       "version_minor": 0
      },
      "text/plain": [
       "calculating IoU:   0%|          | 0/17 [00:00<?, ?it/s]"
      ]
     },
     "metadata": {},
     "output_type": "display_data"
    },
    {
     "name": "stdout",
     "output_type": "stream",
     "text": [
      "{np.uint8(0): np.float64(0.0), np.uint8(1): np.float64(0.0764714147731736), np.uint8(2): np.float64(0.021378183289873412), np.uint8(4): np.float64(0.1822831720051342), np.uint8(5): np.float64(0.16558892920389717), np.uint8(7): np.float64(0.00026874182090110303), np.uint8(8): np.float64(0.007807089896214223), np.uint8(11): np.float64(0.05161499815093761), np.uint8(17): np.float64(0.028604240658429213), np.uint8(19): np.float64(0.3302292263610315), np.uint8(20): np.float64(0.09179477136982278), np.uint8(21): np.float64(0.00696612159569289), np.uint8(22): np.float64(0.06437926581811473), np.uint8(23): np.float64(0.8773534690846073), np.uint8(24): np.float64(0.07176492313374268), np.uint8(26): np.float64(0.24904576150329263), np.uint8(33): np.float64(0.20417633410672853), 'mean': np.float64(0.14292509663362316), 'weighted_mean': np.float64(0.07269685374637581)}\n"
     ]
    },
    {
     "data": {
      "application/vnd.jupyter.widget-view+json": {
       "model_id": "8100e095c05c47deb237b4f3e51b640d",
       "version_major": 2,
       "version_minor": 0
      },
      "text/plain": [
       "finding centroids:   0%|          | 0/18 [00:00<?, ?it/s]"
      ]
     },
     "metadata": {},
     "output_type": "display_data"
    },
    {
     "data": {
      "application/vnd.jupyter.widget-view+json": {
       "model_id": "eac5aaaaecf64e629d21571b7de4378c",
       "version_major": 2,
       "version_minor": 0
      },
      "text/plain": [
       "class growing:   0%|          | 0/195 [00:00<?, ?it/s]"
      ]
     },
     "metadata": {},
     "output_type": "display_data"
    },
    {
     "data": {
      "application/vnd.jupyter.widget-view+json": {
       "model_id": "8f20eff46cfc43acbd6bd8b2d383334b",
       "version_major": 2,
       "version_minor": 0
      },
      "text/plain": [
       "calculating IoU:   0%|          | 0/18 [00:00<?, ?it/s]"
      ]
     },
     "metadata": {},
     "output_type": "display_data"
    },
    {
     "name": "stdout",
     "output_type": "stream",
     "text": [
      "{np.uint8(0): np.float64(0.0), np.uint8(1): np.float64(0.16094207485671255), np.uint8(2): np.float64(0.03110164674613531), np.uint8(4): np.float64(0.0533564390281635), np.uint8(6): np.float64(0.17850953206239167), np.uint8(7): np.float64(0.0005449381879407974), np.uint8(8): np.float64(0.021350541329454374), np.uint8(11): np.float64(0.03623891352549889), np.uint8(13): np.float64(0.07234940905708699), np.uint8(17): np.float64(0.033222816158062114), np.uint8(19): np.float64(0.1877091572862793), np.uint8(20): np.float64(0.1837799383447949), np.uint8(21): np.float64(0.0030302491057968765), np.uint8(22): np.float64(0.012585310875962683), np.uint8(23): np.float64(0.558516819265522), np.uint8(24): np.float64(0.008583667265441481), np.uint8(25): np.float64(0.010688168010500656), np.uint8(33): np.float64(0.006140732364964773), 'mean': np.float64(0.08659168630392827), 'weighted_mean': np.float64(0.07340339088001727)}\n"
     ]
    },
    {
     "data": {
      "application/vnd.jupyter.widget-view+json": {
       "model_id": "999f4fa0f00f4f87bd3b08160959e794",
       "version_major": 2,
       "version_minor": 0
      },
      "text/plain": [
       "finding centroids:   0%|          | 0/18 [00:00<?, ?it/s]"
      ]
     },
     "metadata": {},
     "output_type": "display_data"
    },
    {
     "data": {
      "application/vnd.jupyter.widget-view+json": {
       "model_id": "393ec9d61bec4fbc89543cad89cf2d9b",
       "version_major": 2,
       "version_minor": 0
      },
      "text/plain": [
       "class growing:   0%|          | 0/253 [00:00<?, ?it/s]"
      ]
     },
     "metadata": {},
     "output_type": "display_data"
    },
    {
     "data": {
      "application/vnd.jupyter.widget-view+json": {
       "model_id": "182b2fe550d3435e82d5732252bf052e",
       "version_major": 2,
       "version_minor": 0
      },
      "text/plain": [
       "calculating IoU:   0%|          | 0/18 [00:00<?, ?it/s]"
      ]
     },
     "metadata": {},
     "output_type": "display_data"
    },
    {
     "name": "stdout",
     "output_type": "stream",
     "text": [
      "{np.uint8(0): np.float64(0.0), np.uint8(1): np.float64(0.08546237229730087), np.uint8(2): np.float64(0.018835173055345104), np.uint8(4): np.float64(0.032844750973200984), np.uint8(5): np.float64(0.4064825930372149), np.uint8(6): np.float64(0.15121512151215122), np.uint8(7): np.float64(0.004866712550070985), np.uint8(8): np.float64(0.024975292373579313), np.uint8(11): np.float64(0.03982418248645372), np.uint8(13): np.float64(0.007714484662651633), np.uint8(17): np.float64(0.057790797313724315), np.uint8(18): np.float64(0.12854889589905363), np.uint8(19): np.float64(0.07033831628638867), np.uint8(20): np.float64(0.06218392428309083), np.uint8(21): np.float64(0.019947333346273542), np.uint8(23): np.float64(0.7584071328563207), np.uint8(24): np.float64(0.05662606270697368), np.uint8(26): np.float64(0.03046328256119573), 'mean': np.float64(0.10869591267783277), 'weighted_mean': np.float64(0.06255125096357897)}\n"
     ]
    },
    {
     "data": {
      "application/vnd.jupyter.widget-view+json": {
       "model_id": "c84887708e8141d5bd9c3a97228515ac",
       "version_major": 2,
       "version_minor": 0
      },
      "text/plain": [
       "finding centroids:   0%|          | 0/19 [00:00<?, ?it/s]"
      ]
     },
     "metadata": {},
     "output_type": "display_data"
    },
    {
     "data": {
      "application/vnd.jupyter.widget-view+json": {
       "model_id": "f49e89243424445dbf966c11bc961a51",
       "version_major": 2,
       "version_minor": 0
      },
      "text/plain": [
       "class growing:   0%|          | 0/173 [00:00<?, ?it/s]"
      ]
     },
     "metadata": {},
     "output_type": "display_data"
    },
    {
     "data": {
      "application/vnd.jupyter.widget-view+json": {
       "model_id": "b482da8cd04548cab35868379e817dcd",
       "version_major": 2,
       "version_minor": 0
      },
      "text/plain": [
       "calculating IoU:   0%|          | 0/19 [00:00<?, ?it/s]"
      ]
     },
     "metadata": {},
     "output_type": "display_data"
    },
    {
     "name": "stdout",
     "output_type": "stream",
     "text": [
      "{np.uint8(0): np.float64(0.0), np.uint8(1): np.float64(0.1426278734785451), np.uint8(2): np.float64(0.0038970682820156), np.uint8(4): np.float64(0.2717594117001427), np.uint8(5): np.float64(0.006983883346124329), np.uint8(7): np.float64(0.3662022657266951), np.uint8(8): np.float64(0.006272340541201734), np.uint8(11): np.float64(0.03304175971343221), np.uint8(12): np.float64(0.13689610290176862), np.uint8(13): np.float64(0.027007512928090546), np.uint8(17): np.float64(0.04800409513607796), np.uint8(19): np.float64(0.48782627769247644), np.uint8(20): np.float64(0.03937289712935786), np.uint8(21): np.float64(0.2969468681488457), np.uint8(22): np.float64(0.14848265895953758), np.uint8(24): np.float64(0.07028939939256901), np.uint8(26): np.float64(0.005352665289524626), np.uint8(32): np.float64(0.351937984496124), np.uint8(33): np.float64(0.02027440671252116), 'mean': np.float64(0.1296408142934237), 'weighted_mean': np.float64(0.11032545719828085)}\n"
     ]
    },
    {
     "data": {
      "application/vnd.jupyter.widget-view+json": {
       "model_id": "a30f0189fde44004ac0dbb0defd584b0",
       "version_major": 2,
       "version_minor": 0
      },
      "text/plain": [
       "finding centroids:   0%|          | 0/22 [00:00<?, ?it/s]"
      ]
     },
     "metadata": {},
     "output_type": "display_data"
    },
    {
     "data": {
      "application/vnd.jupyter.widget-view+json": {
       "model_id": "404ed72b8af948dcb81b9c29b85c8e12",
       "version_major": 2,
       "version_minor": 0
      },
      "text/plain": [
       "class growing:   0%|          | 0/317 [00:00<?, ?it/s]"
      ]
     },
     "metadata": {},
     "output_type": "display_data"
    },
    {
     "data": {
      "application/vnd.jupyter.widget-view+json": {
       "model_id": "e87b435307c9468bb3ab2cbf94dcef6d",
       "version_major": 2,
       "version_minor": 0
      },
      "text/plain": [
       "calculating IoU:   0%|          | 0/22 [00:00<?, ?it/s]"
      ]
     },
     "metadata": {},
     "output_type": "display_data"
    },
    {
     "name": "stdout",
     "output_type": "stream",
     "text": [
      "{np.uint8(0): np.float64(0.0), np.uint8(1): np.float64(0.1014475033525282), np.uint8(2): np.float64(0.013379920579081054), np.uint8(4): np.float64(0.02927740505301976), np.uint8(5): np.float64(0.13893967093235832), np.uint8(7): np.float64(0.007204838425097407), np.uint8(8): np.float64(0.024242575399522383), np.uint8(9): np.float64(0.043523316062176166), np.uint8(11): np.float64(0.05055007587253414), np.uint8(12): np.float64(0.07686181898066784), np.uint8(15): np.float64(0.22249466950959487), np.uint8(17): np.float64(0.037461233764239876), np.uint8(19): np.float64(0.15118577075098813), np.uint8(20): np.float64(0.17994722955145118), np.uint8(21): np.float64(0.011041520693616271), np.uint8(22): np.float64(0.13621691413815365), np.uint8(23): np.float64(0.052564996575067725), np.uint8(24): np.float64(0.031875766244380876), np.uint8(25): np.float64(0.006913941760208231), np.uint8(26): np.float64(0.13728706624605677), np.uint8(28): np.float64(0.22746781115879827), np.uint8(33): np.float64(0.054111907606531263), 'mean': np.float64(0.0788179978480033), 'weighted_mean': np.float64(0.029934993299657705)}\n"
     ]
    },
    {
     "data": {
      "application/vnd.jupyter.widget-view+json": {
       "model_id": "7cd6a9b1088a406aac6c060c29f38264",
       "version_major": 2,
       "version_minor": 0
      },
      "text/plain": [
       "finding centroids:   0%|          | 0/20 [00:00<?, ?it/s]"
      ]
     },
     "metadata": {},
     "output_type": "display_data"
    },
    {
     "data": {
      "application/vnd.jupyter.widget-view+json": {
       "model_id": "8cddc22e806b4cd7bf9d1356ec928888",
       "version_major": 2,
       "version_minor": 0
      },
      "text/plain": [
       "class growing:   0%|          | 0/129 [00:00<?, ?it/s]"
      ]
     },
     "metadata": {},
     "output_type": "display_data"
    },
    {
     "data": {
      "application/vnd.jupyter.widget-view+json": {
       "model_id": "c41cdc5a065448c4a493743a76ebad45",
       "version_major": 2,
       "version_minor": 0
      },
      "text/plain": [
       "calculating IoU:   0%|          | 0/20 [00:00<?, ?it/s]"
      ]
     },
     "metadata": {},
     "output_type": "display_data"
    },
    {
     "name": "stdout",
     "output_type": "stream",
     "text": [
      "{np.uint8(0): np.float64(0.0), np.uint8(1): np.float64(0.10968624986651553), np.uint8(2): np.float64(0.028326599847086496), np.uint8(4): np.float64(0.07195275112253023), np.uint8(5): np.float64(0.13032482618498548), np.uint8(7): np.float64(0.0005005511849753631), np.uint8(8): np.float64(0.04149070995318733), np.uint8(11): np.float64(0.11057988245511961), np.uint8(13): np.float64(0.016804110357929277), np.uint8(17): np.float64(0.07072078425841033), np.uint8(19): np.float64(0.46195652173913043), np.uint8(20): np.float64(0.2598052235502435), np.uint8(21): np.float64(0.011053358415884649), np.uint8(22): np.float64(0.07120582120582121), np.uint8(23): np.float64(0.903592558933175), np.uint8(24): np.float64(0.03162650602409638), np.uint8(25): np.float64(0.1614853195164076), np.uint8(26): np.float64(0.2899338744554828), np.uint8(27): np.float64(0.004256568325260532), np.uint8(32): np.float64(0.020945945945945947), 'mean': np.float64(0.13981240816710938), 'weighted_mean': np.float64(0.06346868011164797)}\n"
     ]
    },
    {
     "data": {
      "application/vnd.jupyter.widget-view+json": {
       "model_id": "bc902e4a3e1f4c48a8ef9782f6575651",
       "version_major": 2,
       "version_minor": 0
      },
      "text/plain": [
       "finding centroids:   0%|          | 0/16 [00:00<?, ?it/s]"
      ]
     },
     "metadata": {},
     "output_type": "display_data"
    },
    {
     "data": {
      "application/vnd.jupyter.widget-view+json": {
       "model_id": "e9f975d7e5b0484d867b06b15f3c4473",
       "version_major": 2,
       "version_minor": 0
      },
      "text/plain": [
       "class growing:   0%|          | 0/182 [00:00<?, ?it/s]"
      ]
     },
     "metadata": {},
     "output_type": "display_data"
    },
    {
     "data": {
      "application/vnd.jupyter.widget-view+json": {
       "model_id": "2d7e15fdb97f431aa397517fd6775572",
       "version_major": 2,
       "version_minor": 0
      },
      "text/plain": [
       "calculating IoU:   0%|          | 0/16 [00:00<?, ?it/s]"
      ]
     },
     "metadata": {},
     "output_type": "display_data"
    },
    {
     "name": "stdout",
     "output_type": "stream",
     "text": [
      "{np.uint8(0): np.float64(0.0), np.uint8(1): np.float64(0.152157319899524), np.uint8(2): np.float64(0.007088724029674659), np.uint8(4): np.float64(0.034105405109888104), np.uint8(7): np.float64(0.00017559396567519696), np.uint8(8): np.float64(0.0028589551484174626), np.uint8(11): np.float64(0.1279884942283931), np.uint8(13): np.float64(0.337048969072165), np.uint8(17): np.float64(0.0914762791222429), np.uint8(19): np.float64(0.5056818181818182), np.uint8(20): np.float64(0.312), np.uint8(21): np.float64(0.004611237685717036), np.uint8(22): np.float64(0.2699724517906336), np.uint8(23): np.float64(0.0006937010234231148), np.uint8(24): np.float64(0.03956043956043956), np.uint8(26): np.float64(0.17822838847385272), 'mean': np.float64(0.12897798608074157), 'weighted_mean': np.float64(0.04600969375437104)}\n"
     ]
    },
    {
     "data": {
      "application/vnd.jupyter.widget-view+json": {
       "model_id": "9571b609339847eaad4d7fff291bf23d",
       "version_major": 2,
       "version_minor": 0
      },
      "text/plain": [
       "finding centroids:   0%|          | 0/21 [00:00<?, ?it/s]"
      ]
     },
     "metadata": {},
     "output_type": "display_data"
    },
    {
     "data": {
      "application/vnd.jupyter.widget-view+json": {
       "model_id": "49c4b1acafb84413959463565cb4288e",
       "version_major": 2,
       "version_minor": 0
      },
      "text/plain": [
       "class growing:   0%|          | 0/206 [00:00<?, ?it/s]"
      ]
     },
     "metadata": {},
     "output_type": "display_data"
    },
    {
     "data": {
      "application/vnd.jupyter.widget-view+json": {
       "model_id": "f500dc7373d54316bdcb27d95443833f",
       "version_major": 2,
       "version_minor": 0
      },
      "text/plain": [
       "calculating IoU:   0%|          | 0/21 [00:00<?, ?it/s]"
      ]
     },
     "metadata": {},
     "output_type": "display_data"
    },
    {
     "name": "stdout",
     "output_type": "stream",
     "text": [
      "{np.uint8(0): np.float64(0.0), np.uint8(1): np.float64(0.07851131876850317), np.uint8(2): np.float64(0.007099867121752951), np.uint8(4): np.float64(0.1835025070319188), np.uint8(6): np.float64(0.003102919735317208), np.uint8(7): np.float64(0.007247764345450029), np.uint8(8): np.float64(0.18262562355517703), np.uint8(11): np.float64(0.011635845273313555), np.uint8(12): np.float64(0.03663744661721735), np.uint8(13): np.float64(0.12724434035909446), np.uint8(17): np.float64(0.059997764405611345), np.uint8(19): np.float64(0.03190572003449267), np.uint8(20): np.float64(0.34045615242624283), np.uint8(21): np.float64(0.003816891339869281), np.uint8(22): np.float64(0.1027956242403195), np.uint8(23): np.float64(0.9466251873086194), np.uint8(24): np.float64(0.022534889041409288), np.uint8(25): np.float64(0.49261083743842365), np.uint8(26): np.float64(0.0027843734772957547), np.uint8(32): np.float64(0.4317343173431734), np.uint8(33): np.float64(0.6770833333333334), 'mean': np.float64(0.1785691772950731), 'weighted_mean': np.float64(0.04913096881264299)}\n"
     ]
    },
    {
     "data": {
      "application/vnd.jupyter.widget-view+json": {
       "model_id": "c45e71339bc346e4a45b0e15292f28ec",
       "version_major": 2,
       "version_minor": 0
      },
      "text/plain": [
       "finding centroids:   0%|          | 0/18 [00:00<?, ?it/s]"
      ]
     },
     "metadata": {},
     "output_type": "display_data"
    },
    {
     "data": {
      "application/vnd.jupyter.widget-view+json": {
       "model_id": "2b9b2519387045179af59abb6a618920",
       "version_major": 2,
       "version_minor": 0
      },
      "text/plain": [
       "class growing:   0%|          | 0/169 [00:00<?, ?it/s]"
      ]
     },
     "metadata": {},
     "output_type": "display_data"
    },
    {
     "data": {
      "application/vnd.jupyter.widget-view+json": {
       "model_id": "69ec66494425435e87d1e2e3a895adf6",
       "version_major": 2,
       "version_minor": 0
      },
      "text/plain": [
       "calculating IoU:   0%|          | 0/18 [00:00<?, ?it/s]"
      ]
     },
     "metadata": {},
     "output_type": "display_data"
    },
    {
     "name": "stdout",
     "output_type": "stream",
     "text": [
      "{np.uint8(0): np.float64(0.0), np.uint8(1): np.float64(0.150244591893133), np.uint8(2): np.float64(0.01878602371898191), np.uint8(4): np.float64(0.08921624779490939), np.uint8(7): np.float64(0.0002328552039811587), np.uint8(8): np.float64(0.019354884166619693), np.uint8(11): np.float64(0.0009209184139332608), np.uint8(13): np.float64(0.023973058005051624), np.uint8(17): np.float64(0.09258627412751023), np.uint8(19): np.float64(0.5833333333333334), np.uint8(20): np.float64(0.34778420038535646), np.uint8(21): np.float64(0.007601943812271664), np.uint8(22): np.float64(0.009293897591769932), np.uint8(23): np.float64(0.9329380747051795), np.uint8(24): np.float64(0.14705882352941177), np.uint8(25): np.float64(0.03853211009174312), np.uint8(26): np.float64(0.13727907932593506), np.uint8(33): np.float64(0.06101895734597156), 'mean': np.float64(0.14778640408028293), 'weighted_mean': np.float64(0.08123805895301134)}\n"
     ]
    },
    {
     "data": {
      "application/vnd.jupyter.widget-view+json": {
       "model_id": "9d58d6b971fa44c5b28fb16fbc2b252a",
       "version_major": 2,
       "version_minor": 0
      },
      "text/plain": [
       "finding centroids:   0%|          | 0/17 [00:00<?, ?it/s]"
      ]
     },
     "metadata": {},
     "output_type": "display_data"
    },
    {
     "data": {
      "application/vnd.jupyter.widget-view+json": {
       "model_id": "72805241b6c148cda026624b26c076c2",
       "version_major": 2,
       "version_minor": 0
      },
      "text/plain": [
       "class growing:   0%|          | 0/147 [00:00<?, ?it/s]"
      ]
     },
     "metadata": {},
     "output_type": "display_data"
    },
    {
     "data": {
      "application/vnd.jupyter.widget-view+json": {
       "model_id": "c258cbd58a91469c93384b9f4aed829d",
       "version_major": 2,
       "version_minor": 0
      },
      "text/plain": [
       "calculating IoU:   0%|          | 0/17 [00:00<?, ?it/s]"
      ]
     },
     "metadata": {},
     "output_type": "display_data"
    },
    {
     "name": "stdout",
     "output_type": "stream",
     "text": [
      "{np.uint8(0): np.float64(0.0), np.uint8(1): np.float64(0.13922531230748714), np.uint8(2): np.float64(0.006754759463896), np.uint8(4): np.float64(0.02328947909198431), np.uint8(6): np.float64(0.008546128500823723), np.uint8(7): np.float64(0.001138015410482956), np.uint8(8): np.float64(0.24436565797796198), np.uint8(11): np.float64(0.002311995610219623), np.uint8(13): np.float64(0.05310906431592679), np.uint8(17): np.float64(0.15691809825455297), np.uint8(19): np.float64(0.5294117647058824), np.uint8(20): np.float64(0.14873590894166575), np.uint8(21): np.float64(0.0013820728750629546), np.uint8(22): np.float64(0.09407328628057623), np.uint8(23): np.float64(0.505697520348287), np.uint8(24): np.float64(0.17729204614450517), np.uint8(26): np.float64(0.12957732995069648), 'mean': np.float64(0.1306957905988242), 'weighted_mean': np.float64(0.05484586373717925)}\n"
     ]
    },
    {
     "data": {
      "application/vnd.jupyter.widget-view+json": {
       "model_id": "f2fb46c99e3c4041900d6dbd9d3e5c56",
       "version_major": 2,
       "version_minor": 0
      },
      "text/plain": [
       "finding centroids:   0%|          | 0/19 [00:00<?, ?it/s]"
      ]
     },
     "metadata": {},
     "output_type": "display_data"
    },
    {
     "data": {
      "application/vnd.jupyter.widget-view+json": {
       "model_id": "0f65083bffa64114a3ff9e57ad85172e",
       "version_major": 2,
       "version_minor": 0
      },
      "text/plain": [
       "class growing:   0%|          | 0/141 [00:00<?, ?it/s]"
      ]
     },
     "metadata": {},
     "output_type": "display_data"
    },
    {
     "data": {
      "application/vnd.jupyter.widget-view+json": {
       "model_id": "8b896f9497b245c181a002553c807680",
       "version_major": 2,
       "version_minor": 0
      },
      "text/plain": [
       "calculating IoU:   0%|          | 0/19 [00:00<?, ?it/s]"
      ]
     },
     "metadata": {},
     "output_type": "display_data"
    },
    {
     "name": "stdout",
     "output_type": "stream",
     "text": [
      "{np.uint8(0): np.float64(0.0), np.uint8(1): np.float64(0.08658937902925247), np.uint8(2): np.float64(0.009912365074275942), np.uint8(4): np.float64(0.054223355821775246), np.uint8(6): np.float64(0.059449908163028066), np.uint8(7): np.float64(0.007409575683132238), np.uint8(8): np.float64(0.05074660424554627), np.uint8(11): np.float64(0.011220314168796727), np.uint8(12): np.float64(0.020694703220654777), np.uint8(13): np.float64(0.08926334965273824), np.uint8(17): np.float64(0.07422673148735293), np.uint8(19): np.float64(0.03297059204560176), np.uint8(20): np.float64(0.028503562945368172), np.uint8(21): np.float64(0.0005522229416867234), np.uint8(23): np.float64(0.9349977143025674), np.uint8(24): np.float64(0.07754130078880786), np.uint8(26): np.float64(0.020466901183242726), np.uint8(32): np.float64(0.034385113268608415), np.uint8(33): np.float64(0.07516040329972502), 'mean': np.float64(0.08780600512221902), 'weighted_mean': np.float64(0.049315450759362583)}\n"
     ]
    },
    {
     "data": {
      "application/vnd.jupyter.widget-view+json": {
       "model_id": "10e255b0fb4f4743902a3b39a2196543",
       "version_major": 2,
       "version_minor": 0
      },
      "text/plain": [
       "finding centroids:   0%|          | 0/20 [00:00<?, ?it/s]"
      ]
     },
     "metadata": {},
     "output_type": "display_data"
    },
    {
     "data": {
      "application/vnd.jupyter.widget-view+json": {
       "model_id": "79a9965526c940169810550436a625a1",
       "version_major": 2,
       "version_minor": 0
      },
      "text/plain": [
       "class growing:   0%|          | 0/127 [00:00<?, ?it/s]"
      ]
     },
     "metadata": {},
     "output_type": "display_data"
    },
    {
     "data": {
      "application/vnd.jupyter.widget-view+json": {
       "model_id": "bcb85dfc665f4350b417536fca8f2439",
       "version_major": 2,
       "version_minor": 0
      },
      "text/plain": [
       "calculating IoU:   0%|          | 0/19 [00:00<?, ?it/s]"
      ]
     },
     "metadata": {},
     "output_type": "display_data"
    },
    {
     "name": "stdout",
     "output_type": "stream",
     "text": [
      "{np.uint8(0): np.float64(0.000123955114726093), np.uint8(1): np.float64(0.10920707809073518), np.uint8(2): np.float64(0.011175082963496062), np.uint8(4): np.float64(0.018563342469116693), np.uint8(7): np.float64(0.005447127742244007), np.uint8(8): np.float64(0.02890357913835247), np.uint8(11): np.float64(0.013067890090597414), np.uint8(12): np.float64(0.23297819210920592), np.uint8(13): np.float64(0.08239550509344937), np.uint8(17): np.float64(0.0396623230920611), np.uint8(19): np.float64(0.2470997679814385), np.uint8(20): np.float64(0.12547528517110265), np.uint8(21): np.float64(0.0008775607364404431), np.uint8(22): np.float64(0.06315595654575584), np.uint8(23): np.float64(0.4041955318142615), np.uint8(24): np.float64(0.06224798387096774), np.uint8(25): np.float64(0.037889039242219216), np.uint8(26): np.float64(0.01323021858622012), np.uint8(33): np.float64(0.10679196924391286), 'mean': np.float64(0.08434144153138438), 'weighted_mean': np.float64(0.03205087362894043)}\n"
     ]
    },
    {
     "data": {
      "application/vnd.jupyter.widget-view+json": {
       "model_id": "ed9a7e263dbf449399d54c22db3ffacc",
       "version_major": 2,
       "version_minor": 0
      },
      "text/plain": [
       "finding centroids:   0%|          | 0/16 [00:00<?, ?it/s]"
      ]
     },
     "metadata": {},
     "output_type": "display_data"
    },
    {
     "data": {
      "application/vnd.jupyter.widget-view+json": {
       "model_id": "ca1939722e354c77b603222a04a6131b",
       "version_major": 2,
       "version_minor": 0
      },
      "text/plain": [
       "class growing:   0%|          | 0/90 [00:00<?, ?it/s]"
      ]
     },
     "metadata": {},
     "output_type": "display_data"
    },
    {
     "data": {
      "application/vnd.jupyter.widget-view+json": {
       "model_id": "3858d4d9ce1c4f12a08d9567b98bc9b1",
       "version_major": 2,
       "version_minor": 0
      },
      "text/plain": [
       "calculating IoU:   0%|          | 0/16 [00:00<?, ?it/s]"
      ]
     },
     "metadata": {},
     "output_type": "display_data"
    },
    {
     "name": "stdout",
     "output_type": "stream",
     "text": [
      "{np.uint8(0): np.float64(0.0), np.uint8(1): np.float64(0.13769740301821445), np.uint8(2): np.float64(0.01585093984886077), np.uint8(4): np.float64(0.05422425407590185), np.uint8(7): np.float64(0.00012675758785005048), np.uint8(8): np.float64(0.08738710824984795), np.uint8(11): np.float64(0.14245337548511908), np.uint8(12): np.float64(0.15052013529899802), np.uint8(13): np.float64(0.028203262743247408), np.uint8(17): np.float64(0.031188050052400974), np.uint8(19): np.float64(0.10025250163658468), np.uint8(20): np.float64(0.04494557982930076), np.uint8(21): np.float64(0.009423969167868603), np.uint8(23): np.float64(0.0023330165039315647), np.uint8(24): np.float64(0.006780542443395472), np.uint8(26): np.float64(0.039050377573187134), 'mean': np.float64(0.0531523295946693), 'weighted_mean': np.float64(0.05248319345803236)}\n"
     ]
    },
    {
     "data": {
      "application/vnd.jupyter.widget-view+json": {
       "model_id": "dbe6b8ad6d3341d1bdcb4ed64fee5d39",
       "version_major": 2,
       "version_minor": 0
      },
      "text/plain": [
       "finding centroids:   0%|          | 0/20 [00:00<?, ?it/s]"
      ]
     },
     "metadata": {},
     "output_type": "display_data"
    },
    {
     "data": {
      "application/vnd.jupyter.widget-view+json": {
       "model_id": "14edbb98c8e245528a8bd4d308c3cfeb",
       "version_major": 2,
       "version_minor": 0
      },
      "text/plain": [
       "class growing:   0%|          | 0/204 [00:00<?, ?it/s]"
      ]
     },
     "metadata": {},
     "output_type": "display_data"
    },
    {
     "data": {
      "application/vnd.jupyter.widget-view+json": {
       "model_id": "72a53245675f4746870dfda1b64290b8",
       "version_major": 2,
       "version_minor": 0
      },
      "text/plain": [
       "calculating IoU:   0%|          | 0/18 [00:00<?, ?it/s]"
      ]
     },
     "metadata": {},
     "output_type": "display_data"
    },
    {
     "name": "stdout",
     "output_type": "stream",
     "text": [
      "{np.uint8(0): np.float64(2.8688427462558484e-05), np.uint8(1): np.float64(0.08323008339461176), np.uint8(2): np.float64(0.011763530201150656), np.uint8(4): np.float64(0.02509764624161609), np.uint8(7): np.float64(0.0004300381658872225), np.uint8(8): np.float64(0.09818464512333487), np.uint8(9): np.float64(0.15109343936381708), np.uint8(11): np.float64(0.013286307396118456), np.uint8(12): np.float64(0.5574362915117655), np.uint8(13): np.float64(0.013975894438203317), np.uint8(17): np.float64(0.07545194173262296), np.uint8(19): np.float64(0.09181258873639375), np.uint8(20): np.float64(0.13986510472133476), np.uint8(21): np.float64(0.01619297726709151), np.uint8(22): np.float64(0.035284182699368484), np.uint8(24): np.float64(0.12668038080658278), np.uint8(26): np.float64(0.005166830641325523), np.uint8(32): np.float64(0.07027589796980739), 'mean': np.float64(0.08418091493547195), 'weighted_mean': np.float64(0.02892849906683029)}\n"
     ]
    },
    {
     "data": {
      "application/vnd.jupyter.widget-view+json": {
       "model_id": "011f63e9f1c9461cb384fb19128619cf",
       "version_major": 2,
       "version_minor": 0
      },
      "text/plain": [
       "finding centroids:   0%|          | 0/17 [00:00<?, ?it/s]"
      ]
     },
     "metadata": {},
     "output_type": "display_data"
    },
    {
     "data": {
      "application/vnd.jupyter.widget-view+json": {
       "model_id": "39412c6755514233b783a55a9ebfd1c3",
       "version_major": 2,
       "version_minor": 0
      },
      "text/plain": [
       "class growing:   0%|          | 0/117 [00:00<?, ?it/s]"
      ]
     },
     "metadata": {},
     "output_type": "display_data"
    },
    {
     "data": {
      "application/vnd.jupyter.widget-view+json": {
       "model_id": "67d6a73705604e00906e04875e5084da",
       "version_major": 2,
       "version_minor": 0
      },
      "text/plain": [
       "calculating IoU:   0%|          | 0/17 [00:00<?, ?it/s]"
      ]
     },
     "metadata": {},
     "output_type": "display_data"
    },
    {
     "name": "stdout",
     "output_type": "stream",
     "text": [
      "{np.uint8(0): np.float64(0.0), np.uint8(1): np.float64(0.08611262208053856), np.uint8(2): np.float64(0.12664985546466573), np.uint8(4): np.float64(0.10973552760971925), np.uint8(5): np.float64(0.47392638036809814), np.uint8(7): np.float64(0.009632081655445912), np.uint8(8): np.float64(0.09442625466823554), np.uint8(11): np.float64(0.11247402199089969), np.uint8(12): np.float64(0.09471638098603993), np.uint8(17): np.float64(0.11903964553440326), np.uint8(19): np.float64(0.0936057086889604), np.uint8(20): np.float64(0.12358887331218181), np.uint8(21): np.float64(0.012611461669270676), np.uint8(22): np.float64(0.13410596026490065), np.uint8(24): np.float64(0.022484397708814226), np.uint8(26): np.float64(0.1317675598191642), np.uint8(30): np.float64(0.3248078770413064), 'mean': np.float64(0.12174615346250847), 'weighted_mean': np.float64(0.06506590335380107)}\n"
     ]
    },
    {
     "data": {
      "application/vnd.jupyter.widget-view+json": {
       "model_id": "be1e2d35b9af47a8b37912fc4ae6a58f",
       "version_major": 2,
       "version_minor": 0
      },
      "text/plain": [
       "finding centroids:   0%|          | 0/14 [00:00<?, ?it/s]"
      ]
     },
     "metadata": {},
     "output_type": "display_data"
    },
    {
     "data": {
      "application/vnd.jupyter.widget-view+json": {
       "model_id": "fa140b41969044eda2993814966ac392",
       "version_major": 2,
       "version_minor": 0
      },
      "text/plain": [
       "class growing:   0%|          | 0/127 [00:00<?, ?it/s]"
      ]
     },
     "metadata": {},
     "output_type": "display_data"
    },
    {
     "data": {
      "application/vnd.jupyter.widget-view+json": {
       "model_id": "4b981bb1d1b74b8bb10b810d560bb201",
       "version_major": 2,
       "version_minor": 0
      },
      "text/plain": [
       "calculating IoU:   0%|          | 0/14 [00:00<?, ?it/s]"
      ]
     },
     "metadata": {},
     "output_type": "display_data"
    },
    {
     "name": "stdout",
     "output_type": "stream",
     "text": [
      "{np.uint8(0): np.float64(0.0), np.uint8(1): np.float64(0.056978214273753304), np.uint8(2): np.float64(0.013006416498806078), np.uint8(4): np.float64(0.26633372612835043), np.uint8(5): np.float64(0.5652517275419546), np.uint8(7): np.float64(0.0004773492922812942), np.uint8(8): np.float64(0.19448197786948107), np.uint8(11): np.float64(0.009166762431664834), np.uint8(17): np.float64(0.10369192722133899), np.uint8(20): np.float64(0.2945326278659612), np.uint8(21): np.float64(0.003627286864704775), np.uint8(24): np.float64(0.02775414717141642), np.uint8(26): np.float64(0.0389836212699125), np.uint8(33): np.float64(0.13272410791993036), 'mean': np.float64(0.12192927802496827), 'weighted_mean': np.float64(0.03233815326233774)}\n"
     ]
    },
    {
     "data": {
      "application/vnd.jupyter.widget-view+json": {
       "model_id": "6063f3611249446ab2709d31cb927cc5",
       "version_major": 2,
       "version_minor": 0
      },
      "text/plain": [
       "finding centroids:   0%|          | 0/16 [00:00<?, ?it/s]"
      ]
     },
     "metadata": {},
     "output_type": "display_data"
    },
    {
     "data": {
      "application/vnd.jupyter.widget-view+json": {
       "model_id": "79d275c253a2473587a963df3b8fd0fa",
       "version_major": 2,
       "version_minor": 0
      },
      "text/plain": [
       "class growing:   0%|          | 0/147 [00:00<?, ?it/s]"
      ]
     },
     "metadata": {},
     "output_type": "display_data"
    },
    {
     "data": {
      "application/vnd.jupyter.widget-view+json": {
       "model_id": "26d914dae23644a59755e796bd53fdf3",
       "version_major": 2,
       "version_minor": 0
      },
      "text/plain": [
       "calculating IoU:   0%|          | 0/16 [00:00<?, ?it/s]"
      ]
     },
     "metadata": {},
     "output_type": "display_data"
    },
    {
     "name": "stdout",
     "output_type": "stream",
     "text": [
      "{np.uint8(0): np.float64(0.0), np.uint8(1): np.float64(0.06943609015060327), np.uint8(2): np.float64(0.0027107667917981543), np.uint8(4): np.float64(0.010639791134443166), np.uint8(6): np.float64(0.0008622782563561628), np.uint8(7): np.float64(0.004709241887203637), np.uint8(8): np.float64(0.11614800294045577), np.uint8(11): np.float64(0.012660305372423563), np.uint8(17): np.float64(0.08118565151813234), np.uint8(19): np.float64(0.08837209302325581), np.uint8(20): np.float64(0.20396237172177878), np.uint8(21): np.float64(0.0024937353242766042), np.uint8(22): np.float64(0.010271206001154068), np.uint8(23): np.float64(0.001248733595645925), np.uint8(24): np.float64(0.05513541464675845), np.uint8(26): np.float64(0.011712315990426938), 'mean': np.float64(0.04197174989716954), 'weighted_mean': np.float64(0.012330846733182948)}\n"
     ]
    },
    {
     "data": {
      "application/vnd.jupyter.widget-view+json": {
       "model_id": "c8ebe3dea4f24c2db1fe572ba604e4b5",
       "version_major": 2,
       "version_minor": 0
      },
      "text/plain": [
       "finding centroids:   0%|          | 0/18 [00:00<?, ?it/s]"
      ]
     },
     "metadata": {},
     "output_type": "display_data"
    },
    {
     "data": {
      "application/vnd.jupyter.widget-view+json": {
       "model_id": "c72ed5b44bcf4c31bf3202fe276bbebe",
       "version_major": 2,
       "version_minor": 0
      },
      "text/plain": [
       "class growing:   0%|          | 0/212 [00:00<?, ?it/s]"
      ]
     },
     "metadata": {},
     "output_type": "display_data"
    },
    {
     "data": {
      "application/vnd.jupyter.widget-view+json": {
       "model_id": "2cc3c322f33a4e56898b04fb5864f856",
       "version_major": 2,
       "version_minor": 0
      },
      "text/plain": [
       "calculating IoU:   0%|          | 0/17 [00:00<?, ?it/s]"
      ]
     },
     "metadata": {},
     "output_type": "display_data"
    },
    {
     "name": "stdout",
     "output_type": "stream",
     "text": [
      "{np.uint8(0): np.float64(1.1259914002406807e-05), np.uint8(1): np.float64(0.02649137874083372), np.uint8(2): np.float64(0.03327478389394945), np.uint8(4): np.float64(0.01715679138156937), np.uint8(7): np.float64(0.0014548568591163634), np.uint8(8): np.float64(0.03377333273265156), np.uint8(11): np.float64(0.02688248716486024), np.uint8(12): np.float64(0.3144144144144144), np.uint8(17): np.float64(0.05211200191456264), np.uint8(19): np.float64(0.16510105323085683), np.uint8(20): np.float64(0.27462271644162034), np.uint8(21): np.float64(0.019170709144218014), np.uint8(23): np.float64(0.011036116293206447), np.uint8(24): np.float64(0.27698066126013726), np.uint8(26): np.float64(0.05645252946642866), np.uint8(32): np.float64(0.2581011938601478), np.uint8(33): np.float64(0.18916913946587538), 'mean': np.float64(0.10330620153990888), 'weighted_mean': np.float64(0.019355306111217926)}\n"
     ]
    },
    {
     "data": {
      "application/vnd.jupyter.widget-view+json": {
       "model_id": "53e0ad4281e74f1194fe187cff34d909",
       "version_major": 2,
       "version_minor": 0
      },
      "text/plain": [
       "finding centroids:   0%|          | 0/21 [00:00<?, ?it/s]"
      ]
     },
     "metadata": {},
     "output_type": "display_data"
    },
    {
     "data": {
      "application/vnd.jupyter.widget-view+json": {
       "model_id": "096db61078f94575a7d1c33cfa37220e",
       "version_major": 2,
       "version_minor": 0
      },
      "text/plain": [
       "class growing:   0%|          | 0/199 [00:00<?, ?it/s]"
      ]
     },
     "metadata": {},
     "output_type": "display_data"
    },
    {
     "data": {
      "application/vnd.jupyter.widget-view+json": {
       "model_id": "581808bd59af47999e7f9c3c877fc518",
       "version_major": 2,
       "version_minor": 0
      },
      "text/plain": [
       "calculating IoU:   0%|          | 0/21 [00:00<?, ?it/s]"
      ]
     },
     "metadata": {},
     "output_type": "display_data"
    },
    {
     "name": "stdout",
     "output_type": "stream",
     "text": [
      "{np.uint8(0): np.float64(0.0), np.uint8(1): np.float64(0.08935250738670311), np.uint8(2): np.float64(0.03453981653994069), np.uint8(4): np.float64(0.044512529070459654), np.uint8(5): np.float64(0.020053638912592955), np.uint8(7): np.float64(0.04897676942500707), np.uint8(8): np.float64(0.09857530727235571), np.uint8(9): np.float64(0.11307420494699646), np.uint8(10): np.float64(0.11391880695940348), np.uint8(11): np.float64(0.019527909564809934), np.uint8(12): np.float64(0.07573543427155474), np.uint8(13): np.float64(0.46218487394957986), np.uint8(17): np.float64(0.07332254032697776), np.uint8(19): np.float64(0.06138253046350074), np.uint8(20): np.float64(0.16379382130069114), np.uint8(21): np.float64(0.027028516943356087), np.uint8(22): np.float64(0.4473684210526316), np.uint8(23): np.float64(0.0010127785140913751), np.uint8(24): np.float64(0.021644533945445073), np.uint8(26): np.float64(0.15142458657103008), np.uint8(33): np.float64(0.034683349796948745), 'mean': np.float64(0.10010061320067029), 'weighted_mean': np.float64(0.044170688549378265)}\n"
     ]
    },
    {
     "data": {
      "application/vnd.jupyter.widget-view+json": {
       "model_id": "74e760a1f6454b6ca65876ef881573fc",
       "version_major": 2,
       "version_minor": 0
      },
      "text/plain": [
       "finding centroids:   0%|          | 0/21 [00:00<?, ?it/s]"
      ]
     },
     "metadata": {},
     "output_type": "display_data"
    },
    {
     "data": {
      "application/vnd.jupyter.widget-view+json": {
       "model_id": "cbb480f860e84658ad9fd8f0cd3acf5c",
       "version_major": 2,
       "version_minor": 0
      },
      "text/plain": [
       "class growing:   0%|          | 0/179 [00:00<?, ?it/s]"
      ]
     },
     "metadata": {},
     "output_type": "display_data"
    },
    {
     "data": {
      "application/vnd.jupyter.widget-view+json": {
       "model_id": "4de1f76f53db47f2aa311d41e0c9990a",
       "version_major": 2,
       "version_minor": 0
      },
      "text/plain": [
       "calculating IoU:   0%|          | 0/20 [00:00<?, ?it/s]"
      ]
     },
     "metadata": {},
     "output_type": "display_data"
    },
    {
     "name": "stdout",
     "output_type": "stream",
     "text": [
      "{np.uint8(0): np.float64(0.0), np.uint8(1): np.float64(0.07739717618170656), np.uint8(2): np.float64(0.025444584989219917), np.uint8(4): np.float64(0.038513198129113996), np.uint8(5): np.float64(0.45625), np.uint8(7): np.float64(0.03480717063784747), np.uint8(8): np.float64(0.07729789100451875), np.uint8(9): np.float64(0.14637146371463713), np.uint8(10): np.float64(0.07452574525745258), np.uint8(11): np.float64(0.052565217684460354), np.uint8(12): np.float64(0.1451145038167939), np.uint8(17): np.float64(0.058276594186982944), np.uint8(19): np.float64(0.06528798495983593), np.uint8(20): np.float64(0.24921398187534677), np.uint8(21): np.float64(0.05581741559646977), np.uint8(23): np.float64(0.0010350511775304445), np.uint8(24): np.float64(0.06987219188108777), np.uint8(26): np.float64(0.22553649846714724), np.uint8(31): np.float64(0.09128030022894817), np.uint8(33): np.float64(0.05679938237564795), 'mean': np.float64(0.1000703176082374), 'weighted_mean': np.float64(0.050995736150052984)}\n"
     ]
    },
    {
     "data": {
      "application/vnd.jupyter.widget-view+json": {
       "model_id": "3e8cb6580e5543e6b1a349694e0b1344",
       "version_major": 2,
       "version_minor": 0
      },
      "text/plain": [
       "finding centroids:   0%|          | 0/17 [00:00<?, ?it/s]"
      ]
     },
     "metadata": {},
     "output_type": "display_data"
    },
    {
     "data": {
      "application/vnd.jupyter.widget-view+json": {
       "model_id": "dce24d488ff34f218f527b4efe75f47a",
       "version_major": 2,
       "version_minor": 0
      },
      "text/plain": [
       "class growing:   0%|          | 0/141 [00:00<?, ?it/s]"
      ]
     },
     "metadata": {},
     "output_type": "display_data"
    },
    {
     "data": {
      "application/vnd.jupyter.widget-view+json": {
       "model_id": "de29dbdef92d4f3a9774b4cb31b947c2",
       "version_major": 2,
       "version_minor": 0
      },
      "text/plain": [
       "calculating IoU:   0%|          | 0/17 [00:00<?, ?it/s]"
      ]
     },
     "metadata": {},
     "output_type": "display_data"
    },
    {
     "name": "stdout",
     "output_type": "stream",
     "text": [
      "{np.uint8(0): np.float64(0.0), np.uint8(1): np.float64(0.08824902411712313), np.uint8(2): np.float64(0.007391973670241002), np.uint8(4): np.float64(0.019239534781138344), np.uint8(7): np.float64(0.03195559869916857), np.uint8(8): np.float64(0.06574280835413109), np.uint8(10): np.float64(0.0874189364461738), np.uint8(11): np.float64(0.05115227720553831), np.uint8(12): np.float64(0.1564446784241467), np.uint8(17): np.float64(0.05730612703924201), np.uint8(19): np.float64(0.02056898155460784), np.uint8(20): np.float64(0.2846194225721785), np.uint8(21): np.float64(0.006582490575070313), np.uint8(23): np.float64(0.0010869565217391304), np.uint8(24): np.float64(0.02674506256595809), np.uint8(26): np.float64(0.016866377686842054), np.uint8(31): np.float64(0.16289386724949914), 'mean': np.float64(0.06378024220369401), 'weighted_mean': np.float64(0.036833923291764936)}\n"
     ]
    },
    {
     "data": {
      "application/vnd.jupyter.widget-view+json": {
       "model_id": "aa75e355325e4331abacbb7115c8b529",
       "version_major": 2,
       "version_minor": 0
      },
      "text/plain": [
       "finding centroids:   0%|          | 0/17 [00:00<?, ?it/s]"
      ]
     },
     "metadata": {},
     "output_type": "display_data"
    },
    {
     "data": {
      "application/vnd.jupyter.widget-view+json": {
       "model_id": "e7727328da5b47749a69eeb59e376a47",
       "version_major": 2,
       "version_minor": 0
      },
      "text/plain": [
       "class growing:   0%|          | 0/85 [00:00<?, ?it/s]"
      ]
     },
     "metadata": {},
     "output_type": "display_data"
    },
    {
     "data": {
      "application/vnd.jupyter.widget-view+json": {
       "model_id": "4a2314faf4bd4a0b9719716fcbfcb817",
       "version_major": 2,
       "version_minor": 0
      },
      "text/plain": [
       "calculating IoU:   0%|          | 0/17 [00:00<?, ?it/s]"
      ]
     },
     "metadata": {},
     "output_type": "display_data"
    },
    {
     "name": "stdout",
     "output_type": "stream",
     "text": [
      "{np.uint8(0): np.float64(0.0), np.uint8(1): np.float64(0.11796329690356341), np.uint8(2): np.float64(0.00747662368082857), np.uint8(4): np.float64(0.06806249221787192), np.uint8(5): np.float64(0.10654685494223363), np.uint8(7): np.float64(0.003762546458059778), np.uint8(8): np.float64(0.011306788777894523), np.uint8(11): np.float64(0.0033141788932551357), np.uint8(17): np.float64(0.1459158548335296), np.uint8(19): np.float64(0.14160033514872225), np.uint8(20): np.float64(0.31402720698333814), np.uint8(21): np.float64(0.0017803649960696), np.uint8(22): np.float64(6.697531122589936e-05), np.uint8(23): np.float64(0.3239130434782609), np.uint8(24): np.float64(0.054104477611940295), np.uint8(26): np.float64(0.2544898809799472), np.uint8(28): np.float64(0.00038081447283053285), 'mean': np.float64(0.09145363151115127), 'weighted_mean': np.float64(0.031850507023962575)}\n"
     ]
    },
    {
     "data": {
      "application/vnd.jupyter.widget-view+json": {
       "model_id": "0859085870bc40368fbac9b606d2ba41",
       "version_major": 2,
       "version_minor": 0
      },
      "text/plain": [
       "finding centroids:   0%|          | 0/19 [00:00<?, ?it/s]"
      ]
     },
     "metadata": {},
     "output_type": "display_data"
    },
    {
     "data": {
      "application/vnd.jupyter.widget-view+json": {
       "model_id": "e630a73385d54a99b4f249d4a5a06fe4",
       "version_major": 2,
       "version_minor": 0
      },
      "text/plain": [
       "class growing:   0%|          | 0/187 [00:00<?, ?it/s]"
      ]
     },
     "metadata": {},
     "output_type": "display_data"
    },
    {
     "data": {
      "application/vnd.jupyter.widget-view+json": {
       "model_id": "c136bdd405b549ab85594aac02dbe538",
       "version_major": 2,
       "version_minor": 0
      },
      "text/plain": [
       "calculating IoU:   0%|          | 0/18 [00:00<?, ?it/s]"
      ]
     },
     "metadata": {},
     "output_type": "display_data"
    },
    {
     "name": "stdout",
     "output_type": "stream",
     "text": [
      "{np.uint8(0): np.float64(3.557527647649525e-05), np.uint8(1): np.float64(0.1230823668089207), np.uint8(2): np.float64(0.015285360766601681), np.uint8(4): np.float64(0.03505182760501909), np.uint8(5): np.float64(0.09287280701754386), np.uint8(7): np.float64(0.00011891122088248914), np.uint8(8): np.float64(0.005719210278909433), np.uint8(9): np.float64(0.5459770114942529), np.uint8(11): np.float64(0.010518151208511363), np.uint8(17): np.float64(0.08797089751102953), np.uint8(19): np.float64(0.4637096774193548), np.uint8(20): np.float64(0.16890707188778492), np.uint8(21): np.float64(0.0033012462823184038), np.uint8(22): np.float64(0.05734580734580735), np.uint8(23): np.float64(0.9073009065211034), np.uint8(24): np.float64(0.06376021798365122), np.uint8(26): np.float64(0.0021032351288432206), np.uint8(33): np.float64(0.08145491803278689), 'mean': np.float64(0.14802862221054433), 'weighted_mean': np.float64(0.02276865304831085)}\n"
     ]
    },
    {
     "data": {
      "application/vnd.jupyter.widget-view+json": {
       "model_id": "0eee74f75b84418b8b0f9d4013992f96",
       "version_major": 2,
       "version_minor": 0
      },
      "text/plain": [
       "finding centroids:   0%|          | 0/18 [00:00<?, ?it/s]"
      ]
     },
     "metadata": {},
     "output_type": "display_data"
    },
    {
     "data": {
      "application/vnd.jupyter.widget-view+json": {
       "model_id": "13659e414d964715b850ea20a2addf89",
       "version_major": 2,
       "version_minor": 0
      },
      "text/plain": [
       "class growing:   0%|          | 0/200 [00:00<?, ?it/s]"
      ]
     },
     "metadata": {},
     "output_type": "display_data"
    },
    {
     "data": {
      "application/vnd.jupyter.widget-view+json": {
       "model_id": "c2d99f4752ab45cd8d35f59053d78c39",
       "version_major": 2,
       "version_minor": 0
      },
      "text/plain": [
       "calculating IoU:   0%|          | 0/18 [00:00<?, ?it/s]"
      ]
     },
     "metadata": {},
     "output_type": "display_data"
    },
    {
     "name": "stdout",
     "output_type": "stream",
     "text": [
      "{np.uint8(0): np.float64(0.0), np.uint8(1): np.float64(0.11687484896281303), np.uint8(2): np.float64(0.012843271739422792), np.uint8(4): np.float64(0.18002079892334985), np.uint8(7): np.float64(0.00015399942202686055), np.uint8(8): np.float64(0.31248062358829), np.uint8(9): np.float64(0.05276134122287968), np.uint8(11): np.float64(0.12161890407194952), np.uint8(12): np.float64(0.5041734982858846), np.uint8(13): np.float64(0.08232810615199035), np.uint8(17): np.float64(0.08580961974313775), np.uint8(19): np.float64(0.5139949109414759), np.uint8(20): np.float64(0.18463324946777626), np.uint8(21): np.float64(0.024882156665430855), np.uint8(23): np.float64(0.9072445157838416), np.uint8(24): np.float64(0.08986291032574519), np.uint8(26): np.float64(0.09613384731683074), np.uint8(33): np.float64(0.12727272727272726), 'mean': np.float64(0.1896160738825318), 'weighted_mean': np.float64(0.11458288521344095)}\n"
     ]
    },
    {
     "data": {
      "application/vnd.jupyter.widget-view+json": {
       "model_id": "a817c84b00154501946bcda12a05c41e",
       "version_major": 2,
       "version_minor": 0
      },
      "text/plain": [
       "finding centroids:   0%|          | 0/17 [00:00<?, ?it/s]"
      ]
     },
     "metadata": {},
     "output_type": "display_data"
    },
    {
     "data": {
      "application/vnd.jupyter.widget-view+json": {
       "model_id": "fb6c4461eb3d45c88103e2bbda23d12b",
       "version_major": 2,
       "version_minor": 0
      },
      "text/plain": [
       "class growing:   0%|          | 0/142 [00:00<?, ?it/s]"
      ]
     },
     "metadata": {},
     "output_type": "display_data"
    },
    {
     "data": {
      "application/vnd.jupyter.widget-view+json": {
       "model_id": "5bd95f61d6634a7daadc2bde264e1e84",
       "version_major": 2,
       "version_minor": 0
      },
      "text/plain": [
       "calculating IoU:   0%|          | 0/17 [00:00<?, ?it/s]"
      ]
     },
     "metadata": {},
     "output_type": "display_data"
    },
    {
     "name": "stdout",
     "output_type": "stream",
     "text": [
      "{np.uint8(0): np.float64(0.0), np.uint8(1): np.float64(0.10430781721229557), np.uint8(2): np.float64(0.007395134567202781), np.uint8(4): np.float64(0.13702881086275065), np.uint8(5): np.float64(0.1743549648162627), np.uint8(7): np.float64(0.00013829783030461085), np.uint8(8): np.float64(0.16618438371012698), np.uint8(11): np.float64(0.028162471574653354), np.uint8(12): np.float64(0.04889502762430939), np.uint8(13): np.float64(0.028028028028028028), np.uint8(17): np.float64(0.1220649726600193), np.uint8(20): np.float64(0.26063418406805877), np.uint8(21): np.float64(0.02994020095732708), np.uint8(23): np.float64(0.09968374446552815), np.uint8(24): np.float64(0.355556711217432), np.uint8(26): np.float64(0.013488645543058987), np.uint8(27): np.float64(0.4129032258064516), 'mean': np.float64(0.11698627182022411), 'weighted_mean': np.float64(0.03760231449342705)}\n"
     ]
    },
    {
     "data": {
      "application/vnd.jupyter.widget-view+json": {
       "model_id": "df6d7ff4e5924627b5bf63d93ca22299",
       "version_major": 2,
       "version_minor": 0
      },
      "text/plain": [
       "finding centroids:   0%|          | 0/17 [00:00<?, ?it/s]"
      ]
     },
     "metadata": {},
     "output_type": "display_data"
    },
    {
     "data": {
      "application/vnd.jupyter.widget-view+json": {
       "model_id": "05a035b9b31c492cbb24a2ba35271587",
       "version_major": 2,
       "version_minor": 0
      },
      "text/plain": [
       "class growing:   0%|          | 0/175 [00:00<?, ?it/s]"
      ]
     },
     "metadata": {},
     "output_type": "display_data"
    },
    {
     "data": {
      "application/vnd.jupyter.widget-view+json": {
       "model_id": "296c5d5e480d4338a7a5778dcc38eb9e",
       "version_major": 2,
       "version_minor": 0
      },
      "text/plain": [
       "calculating IoU:   0%|          | 0/17 [00:00<?, ?it/s]"
      ]
     },
     "metadata": {},
     "output_type": "display_data"
    },
    {
     "name": "stdout",
     "output_type": "stream",
     "text": [
      "{np.uint8(0): np.float64(0.0), np.uint8(1): np.float64(0.12837741977762435), np.uint8(2): np.float64(0.008288705293468607), np.uint8(4): np.float64(0.03798940194037328), np.uint8(6): np.float64(0.03225703782682729), np.uint8(7): np.float64(0.005101969286221369), np.uint8(8): np.float64(0.26366000255765376), np.uint8(11): np.float64(0.19940407113508765), np.uint8(17): np.float64(0.08004554229988614), np.uint8(19): np.float64(0.18541297062881923), np.uint8(20): np.float64(0.15798327180972851), np.uint8(21): np.float64(0.12919282226872106), np.uint8(23): np.float64(0.9047256989121535), np.uint8(24): np.float64(0.06408625933093724), np.uint8(26): np.float64(0.014625932162617272), np.uint8(27): np.float64(0.09818181818181818), np.uint8(33): np.float64(0.014037854889589906), 'mean': np.float64(0.13666886931185454), 'weighted_mean': np.float64(0.11099688340666262)}\n"
     ]
    },
    {
     "data": {
      "application/vnd.jupyter.widget-view+json": {
       "model_id": "07b25657c53f46248e12332bbea2f5e7",
       "version_major": 2,
       "version_minor": 0
      },
      "text/plain": [
       "finding centroids:   0%|          | 0/20 [00:00<?, ?it/s]"
      ]
     },
     "metadata": {},
     "output_type": "display_data"
    },
    {
     "data": {
      "application/vnd.jupyter.widget-view+json": {
       "model_id": "486914438b9648d59c6098d223bb4f93",
       "version_major": 2,
       "version_minor": 0
      },
      "text/plain": [
       "class growing:   0%|          | 0/133 [00:00<?, ?it/s]"
      ]
     },
     "metadata": {},
     "output_type": "display_data"
    },
    {
     "data": {
      "application/vnd.jupyter.widget-view+json": {
       "model_id": "25b0e7fcc24942bf9f3d1d2b5d41a261",
       "version_major": 2,
       "version_minor": 0
      },
      "text/plain": [
       "calculating IoU:   0%|          | 0/20 [00:00<?, ?it/s]"
      ]
     },
     "metadata": {},
     "output_type": "display_data"
    },
    {
     "name": "stdout",
     "output_type": "stream",
     "text": [
      "{np.uint8(0): np.float64(0.0), np.uint8(1): np.float64(0.09767997461597328), np.uint8(2): np.float64(0.012312696015797422), np.uint8(4): np.float64(0.42231954377894704), np.uint8(5): np.float64(0.12927078021417643), np.uint8(6): np.float64(0.0705060343002329), np.uint8(7): np.float64(0.00021918486438258846), np.uint8(8): np.float64(0.004250331260829681), np.uint8(9): np.float64(0.11012658227848102), np.uint8(11): np.float64(0.08248396116056675), np.uint8(12): np.float64(0.20698725852856556), np.uint8(17): np.float64(0.0488974113135187), np.uint8(19): np.float64(0.12788104089219332), np.uint8(20): np.float64(0.2533191715347849), np.uint8(21): np.float64(0.06814523599981472), np.uint8(22): np.float64(0.015378533306977664), np.uint8(23): np.float64(0.7611894543225015), np.uint8(24): np.float64(0.11949137780874412), np.uint8(26): np.float64(0.10614047585126087), np.uint8(27): np.float64(0.0005530712315277582), 'mean': np.float64(0.13185760596396384), 'weighted_mean': np.float64(0.05466835412882522)}\n"
     ]
    },
    {
     "data": {
      "application/vnd.jupyter.widget-view+json": {
       "model_id": "da0e17e7e1c9408299c12bf313fddef8",
       "version_major": 2,
       "version_minor": 0
      },
      "text/plain": [
       "finding centroids:   0%|          | 0/18 [00:00<?, ?it/s]"
      ]
     },
     "metadata": {},
     "output_type": "display_data"
    },
    {
     "data": {
      "application/vnd.jupyter.widget-view+json": {
       "model_id": "f27579df13de479c8caa466ff172d72c",
       "version_major": 2,
       "version_minor": 0
      },
      "text/plain": [
       "class growing:   0%|          | 0/144 [00:00<?, ?it/s]"
      ]
     },
     "metadata": {},
     "output_type": "display_data"
    },
    {
     "data": {
      "application/vnd.jupyter.widget-view+json": {
       "model_id": "b7ac7c1e15394b09844013ea5d635084",
       "version_major": 2,
       "version_minor": 0
      },
      "text/plain": [
       "calculating IoU:   0%|          | 0/18 [00:00<?, ?it/s]"
      ]
     },
     "metadata": {},
     "output_type": "display_data"
    },
    {
     "name": "stdout",
     "output_type": "stream",
     "text": [
      "{np.uint8(0): np.float64(0.0), np.uint8(1): np.float64(0.16686043194202732), np.uint8(2): np.float64(0.0025985490604735133), np.uint8(4): np.float64(0.03433690469064863), np.uint8(5): np.float64(0.08280757097791798), np.uint8(6): np.float64(0.30300632911392406), np.uint8(7): np.float64(0.0018218569132757755), np.uint8(8): np.float64(0.3031189083820663), np.uint8(11): np.float64(0.1370605601774717), np.uint8(13): np.float64(0.08965980577780493), np.uint8(17): np.float64(0.05134425409528573), np.uint8(19): np.float64(0.25503643377625373), np.uint8(20): np.float64(0.12476368317888169), np.uint8(21): np.float64(0.11483967188665176), np.uint8(23): np.float64(0.11077573196498641), np.uint8(24): np.float64(0.02563540753724803), np.uint8(26): np.float64(0.0023171174399034497), np.uint8(32): np.float64(0.37662337662337664), 'mean': np.float64(0.12125592186323322), 'weighted_mean': np.float64(0.06343383093430321)}\n"
     ]
    },
    {
     "data": {
      "application/vnd.jupyter.widget-view+json": {
       "model_id": "a3b5e0618c624b4288abce10af45500b",
       "version_major": 2,
       "version_minor": 0
      },
      "text/plain": [
       "finding centroids:   0%|          | 0/19 [00:00<?, ?it/s]"
      ]
     },
     "metadata": {},
     "output_type": "display_data"
    },
    {
     "data": {
      "application/vnd.jupyter.widget-view+json": {
       "model_id": "6600cde630c44ca0aa64be00c0e44272",
       "version_major": 2,
       "version_minor": 0
      },
      "text/plain": [
       "class growing:   0%|          | 0/85 [00:00<?, ?it/s]"
      ]
     },
     "metadata": {},
     "output_type": "display_data"
    },
    {
     "data": {
      "application/vnd.jupyter.widget-view+json": {
       "model_id": "cd736fe970e741aba84cc9dd08607a2e",
       "version_major": 2,
       "version_minor": 0
      },
      "text/plain": [
       "calculating IoU:   0%|          | 0/19 [00:00<?, ?it/s]"
      ]
     },
     "metadata": {},
     "output_type": "display_data"
    },
    {
     "name": "stdout",
     "output_type": "stream",
     "text": [
      "{np.uint8(0): np.float64(0.0), np.uint8(1): np.float64(0.09163006065703407), np.uint8(2): np.float64(0.007668049358160715), np.uint8(4): np.float64(0.011192555064496425), np.uint8(5): np.float64(0.2781832927818329), np.uint8(6): np.float64(0.0007423020527859238), np.uint8(7): np.float64(0.00017858835824383705), np.uint8(8): np.float64(0.4470198675496689), np.uint8(11): np.float64(0.023640786232427526), np.uint8(12): np.float64(0.00031620252200083814), np.uint8(13): np.float64(0.006999511661977071), np.uint8(17): np.float64(0.0851518026565465), np.uint8(19): np.float64(0.331945889698231), np.uint8(20): np.float64(0.5414781297134238), np.uint8(21): np.float64(0.030786960816595325), np.uint8(23): np.float64(0.0016684518414764769), np.uint8(24): np.float64(0.06009941256213285), np.uint8(26): np.float64(0.04639613822368257), np.uint8(28): np.float64(0.04909332153914197), 'mean': np.float64(0.10601006964683467), 'weighted_mean': np.float64(0.020747975138676555)}\n"
     ]
    },
    {
     "data": {
      "application/vnd.jupyter.widget-view+json": {
       "model_id": "c12ec1d8bb5340ebbafb0bb6114c44d2",
       "version_major": 2,
       "version_minor": 0
      },
      "text/plain": [
       "finding centroids:   0%|          | 0/20 [00:00<?, ?it/s]"
      ]
     },
     "metadata": {},
     "output_type": "display_data"
    },
    {
     "data": {
      "application/vnd.jupyter.widget-view+json": {
       "model_id": "285f51eaed3b4600bb5f6939703f7492",
       "version_major": 2,
       "version_minor": 0
      },
      "text/plain": [
       "class growing:   0%|          | 0/107 [00:00<?, ?it/s]"
      ]
     },
     "metadata": {},
     "output_type": "display_data"
    },
    {
     "data": {
      "application/vnd.jupyter.widget-view+json": {
       "model_id": "a1429d38f9bc40bb80ad5027280b36ed",
       "version_major": 2,
       "version_minor": 0
      },
      "text/plain": [
       "calculating IoU:   0%|          | 0/19 [00:00<?, ?it/s]"
      ]
     },
     "metadata": {},
     "output_type": "display_data"
    },
    {
     "name": "stdout",
     "output_type": "stream",
     "text": [
      "{np.uint8(0): np.float64(0.0), np.uint8(1): np.float64(0.10308153642802186), np.uint8(2): np.float64(0.01177075559847739), np.uint8(4): np.float64(0.11271266163879012), np.uint8(6): np.float64(0.0008490922051239046), np.uint8(7): np.float64(0.0027867372879832293), np.uint8(8): np.float64(0.21971644042232277), np.uint8(11): np.float64(0.019581909118327134), np.uint8(12): np.float64(0.00041861330466779677), np.uint8(13): np.float64(0.0023593149248514506), np.uint8(17): np.float64(0.055800139762403916), np.uint8(19): np.float64(0.15688735487919675), np.uint8(20): np.float64(0.16187536175959868), np.uint8(21): np.float64(0.09876901146426026), np.uint8(23): np.float64(0.8743397093080482), np.uint8(24): np.float64(0.3269565217391304), np.uint8(26): np.float64(0.16965632725922766), np.uint8(28): np.float64(0.33029612756264237), np.uint8(33): np.float64(0.20777591973244147), 'mean': np.float64(0.15029650181029028), 'weighted_mean': np.float64(0.0567885017913143)}\n"
     ]
    },
    {
     "data": {
      "application/vnd.jupyter.widget-view+json": {
       "model_id": "b4714800ad5d4d8b83cbaa00ccde4e72",
       "version_major": 2,
       "version_minor": 0
      },
      "text/plain": [
       "finding centroids:   0%|          | 0/15 [00:00<?, ?it/s]"
      ]
     },
     "metadata": {},
     "output_type": "display_data"
    },
    {
     "data": {
      "application/vnd.jupyter.widget-view+json": {
       "model_id": "4ecf7ee482cd4dd588905c255389ae0c",
       "version_major": 2,
       "version_minor": 0
      },
      "text/plain": [
       "class growing:   0%|          | 0/126 [00:00<?, ?it/s]"
      ]
     },
     "metadata": {},
     "output_type": "display_data"
    },
    {
     "data": {
      "application/vnd.jupyter.widget-view+json": {
       "model_id": "cc1a21821d5349c08adbbf950fe656f1",
       "version_major": 2,
       "version_minor": 0
      },
      "text/plain": [
       "calculating IoU:   0%|          | 0/15 [00:00<?, ?it/s]"
      ]
     },
     "metadata": {},
     "output_type": "display_data"
    },
    {
     "name": "stdout",
     "output_type": "stream",
     "text": [
      "{np.uint8(0): np.float64(0.0), np.uint8(1): np.float64(0.08384492349976903), np.uint8(2): np.float64(0.017373335374253788), np.uint8(4): np.float64(0.017388349805630227), np.uint8(7): np.float64(0.0010278607647832949), np.uint8(8): np.float64(0.004754919318124336), np.uint8(11): np.float64(0.2115606044642454), np.uint8(13): np.float64(0.014543543017347118), np.uint8(17): np.float64(0.04767207551171916), np.uint8(19): np.float64(0.32959101844426625), np.uint8(20): np.float64(0.13327172646550686), np.uint8(21): np.float64(0.022767604304323202), np.uint8(23): np.float64(0.0009666563238418025), np.uint8(24): np.float64(0.15558317795732338), np.uint8(26): np.float64(0.0938020609313568), 'mean': np.float64(0.0756098570788327), 'weighted_mean': np.float64(0.07363648127601864)}\n"
     ]
    },
    {
     "data": {
      "application/vnd.jupyter.widget-view+json": {
       "model_id": "deb294212a8944e7a55cb29e2a81a542",
       "version_major": 2,
       "version_minor": 0
      },
      "text/plain": [
       "finding centroids:   0%|          | 0/16 [00:00<?, ?it/s]"
      ]
     },
     "metadata": {},
     "output_type": "display_data"
    },
    {
     "data": {
      "application/vnd.jupyter.widget-view+json": {
       "model_id": "d6c26ce190c8414dab360975ece3b6a9",
       "version_major": 2,
       "version_minor": 0
      },
      "text/plain": [
       "class growing:   0%|          | 0/125 [00:00<?, ?it/s]"
      ]
     },
     "metadata": {},
     "output_type": "display_data"
    },
    {
     "data": {
      "application/vnd.jupyter.widget-view+json": {
       "model_id": "539852548795489f82411d11cafcd4d9",
       "version_major": 2,
       "version_minor": 0
      },
      "text/plain": [
       "calculating IoU:   0%|          | 0/16 [00:00<?, ?it/s]"
      ]
     },
     "metadata": {},
     "output_type": "display_data"
    },
    {
     "name": "stdout",
     "output_type": "stream",
     "text": [
      "{np.uint8(0): np.float64(0.0), np.uint8(1): np.float64(0.009843430005945696), np.uint8(2): np.float64(0.042618365426779686), np.uint8(4): np.float64(0.04094893532768148), np.uint8(7): np.float64(0.006392200697686403), np.uint8(8): np.float64(0.00644674835061263), np.uint8(11): np.float64(0.008530513265701454), np.uint8(12): np.float64(0.024187553101104504), np.uint8(13): np.float64(0.12371914817784906), np.uint8(17): np.float64(0.04729531857925783), np.uint8(19): np.float64(0.36382943963404674), np.uint8(20): np.float64(0.16896220371556694), np.uint8(21): np.float64(0.11887266178539035), np.uint8(23): np.float64(0.01559259543743759), np.uint8(24): np.float64(0.04594063727629856), np.uint8(26): np.float64(0.008413471615537465), 'mean': np.float64(0.06447457639980603), 'weighted_mean': np.float64(0.026198942896436015)}\n"
     ]
    },
    {
     "data": {
      "application/vnd.jupyter.widget-view+json": {
       "model_id": "c19820a3eaed4690bc093db1a26eb346",
       "version_major": 2,
       "version_minor": 0
      },
      "text/plain": [
       "finding centroids:   0%|          | 0/18 [00:00<?, ?it/s]"
      ]
     },
     "metadata": {},
     "output_type": "display_data"
    },
    {
     "data": {
      "application/vnd.jupyter.widget-view+json": {
       "model_id": "9d2d4e6dfb7c4422958d21a4cfc22cc3",
       "version_major": 2,
       "version_minor": 0
      },
      "text/plain": [
       "class growing:   0%|          | 0/83 [00:00<?, ?it/s]"
      ]
     },
     "metadata": {},
     "output_type": "display_data"
    },
    {
     "data": {
      "application/vnd.jupyter.widget-view+json": {
       "model_id": "4145ad6abbf547d7a60fb9ed0e96ab42",
       "version_major": 2,
       "version_minor": 0
      },
      "text/plain": [
       "calculating IoU:   0%|          | 0/18 [00:00<?, ?it/s]"
      ]
     },
     "metadata": {},
     "output_type": "display_data"
    },
    {
     "name": "stdout",
     "output_type": "stream",
     "text": [
      "{np.uint8(0): np.float64(0.0), np.uint8(1): np.float64(0.07695332110994238), np.uint8(2): np.float64(0.004111121594845597), np.uint8(4): np.float64(0.2751289667031421), np.uint8(5): np.float64(0.0896967089696709), np.uint8(7): np.float64(0.00010151571739026904), np.uint8(8): np.float64(0.23196312070313124), np.uint8(9): np.float64(0.4299146294786241), np.uint8(11): np.float64(0.041465728838858344), np.uint8(17): np.float64(0.03144305620965731), np.uint8(19): np.float64(0.1473419840937631), np.uint8(20): np.float64(0.3108005286131913), np.uint8(21): np.float64(0.0027999187120373924), np.uint8(23): np.float64(0.005385617233975149), np.uint8(24): np.float64(0.29132452695465905), np.uint8(25): np.float64(0.031658092599920855), np.uint8(26): np.float64(0.038668000297009376), np.uint8(33): np.float64(0.027832351015062214), 'mean': np.float64(0.11314384382471558), 'weighted_mean': np.float64(0.0398329188042173)}\n"
     ]
    },
    {
     "data": {
      "application/vnd.jupyter.widget-view+json": {
       "model_id": "766cb21f304e4f43b1b06ca482a28d45",
       "version_major": 2,
       "version_minor": 0
      },
      "text/plain": [
       "finding centroids:   0%|          | 0/19 [00:00<?, ?it/s]"
      ]
     },
     "metadata": {},
     "output_type": "display_data"
    },
    {
     "data": {
      "application/vnd.jupyter.widget-view+json": {
       "model_id": "3df8f2520bc74dbe9e278b75b2ea6e47",
       "version_major": 2,
       "version_minor": 0
      },
      "text/plain": [
       "class growing:   0%|          | 0/100 [00:00<?, ?it/s]"
      ]
     },
     "metadata": {},
     "output_type": "display_data"
    },
    {
     "data": {
      "application/vnd.jupyter.widget-view+json": {
       "model_id": "3c94a3f077cf4040abf59f46899884a7",
       "version_major": 2,
       "version_minor": 0
      },
      "text/plain": [
       "calculating IoU:   0%|          | 0/19 [00:00<?, ?it/s]"
      ]
     },
     "metadata": {},
     "output_type": "display_data"
    },
    {
     "name": "stdout",
     "output_type": "stream",
     "text": [
      "{np.uint8(0): np.float64(0.0), np.uint8(1): np.float64(0.08273865977177836), np.uint8(2): np.float64(0.01243240446065875), np.uint8(4): np.float64(0.2731833630037223), np.uint8(5): np.float64(0.11974480615082611), np.uint8(7): np.float64(0.00022881406793902293), np.uint8(8): np.float64(0.004765116734480733), np.uint8(9): np.float64(0.0753455307941135), np.uint8(11): np.float64(0.021681870860626406), np.uint8(17): np.float64(0.03073831815655594), np.uint8(19): np.float64(0.12525933609958506), np.uint8(20): np.float64(0.3742857142857143), np.uint8(21): np.float64(0.013364695819523148), np.uint8(23): np.float64(0.9188458539121394), np.uint8(24): np.float64(0.03007872668149923), np.uint8(25): np.float64(0.41471571906354515), np.uint8(26): np.float64(0.04663038997900305), np.uint8(32): np.float64(0.38974358974358975), np.uint8(33): np.float64(0.01701837985023826), 'mean': np.float64(0.15530533102292304), 'weighted_mean': np.float64(0.040773251654967466)}\n"
     ]
    },
    {
     "data": {
      "application/vnd.jupyter.widget-view+json": {
       "model_id": "aaf28b83eb1046778abc888bfacf28e7",
       "version_major": 2,
       "version_minor": 0
      },
      "text/plain": [
       "finding centroids:   0%|          | 0/16 [00:00<?, ?it/s]"
      ]
     },
     "metadata": {},
     "output_type": "display_data"
    },
    {
     "data": {
      "application/vnd.jupyter.widget-view+json": {
       "model_id": "20dbbaf0ba56427e9e44c588fc2a1f12",
       "version_major": 2,
       "version_minor": 0
      },
      "text/plain": [
       "class growing:   0%|          | 0/146 [00:00<?, ?it/s]"
      ]
     },
     "metadata": {},
     "output_type": "display_data"
    },
    {
     "data": {
      "application/vnd.jupyter.widget-view+json": {
       "model_id": "3cfcb47833d24eb799efb375974f36c5",
       "version_major": 2,
       "version_minor": 0
      },
      "text/plain": [
       "calculating IoU:   0%|          | 0/16 [00:00<?, ?it/s]"
      ]
     },
     "metadata": {},
     "output_type": "display_data"
    },
    {
     "name": "stdout",
     "output_type": "stream",
     "text": [
      "{np.uint8(0): np.float64(0.0), np.uint8(1): np.float64(0.10449529505810433), np.uint8(2): np.float64(0.007503638329973163), np.uint8(4): np.float64(0.17776785838831619), np.uint8(5): np.float64(0.06959732119859191), np.uint8(6): np.float64(0.02652885443583118), np.uint8(7): np.float64(0.0006352512191094351), np.uint8(8): np.float64(0.016580519567698196), np.uint8(11): np.float64(0.04186533526139576), np.uint8(17): np.float64(0.049052624417457565), np.uint8(19): np.float64(0.18352582815078056), np.uint8(20): np.float64(0.2823744467962286), np.uint8(21): np.float64(0.07937218187450522), np.uint8(23): np.float64(0.7383113546840212), np.uint8(24): np.float64(0.035789927127831425), np.uint8(26): np.float64(0.4572460179171275), 'mean': np.float64(0.14191540340168576), 'weighted_mean': np.float64(0.1195261835448911)}\n"
     ]
    },
    {
     "data": {
      "application/vnd.jupyter.widget-view+json": {
       "model_id": "a3ca0e18652a4980bc1fcaf7ef26f29e",
       "version_major": 2,
       "version_minor": 0
      },
      "text/plain": [
       "finding centroids:   0%|          | 0/20 [00:00<?, ?it/s]"
      ]
     },
     "metadata": {},
     "output_type": "display_data"
    },
    {
     "data": {
      "application/vnd.jupyter.widget-view+json": {
       "model_id": "da1a654110fb440a8b6ee0463cfc978e",
       "version_major": 2,
       "version_minor": 0
      },
      "text/plain": [
       "class growing:   0%|          | 0/157 [00:00<?, ?it/s]"
      ]
     },
     "metadata": {},
     "output_type": "display_data"
    },
    {
     "data": {
      "application/vnd.jupyter.widget-view+json": {
       "model_id": "69da247f22b54e0b93ca45eaaece990c",
       "version_major": 2,
       "version_minor": 0
      },
      "text/plain": [
       "calculating IoU:   0%|          | 0/20 [00:00<?, ?it/s]"
      ]
     },
     "metadata": {},
     "output_type": "display_data"
    },
    {
     "name": "stdout",
     "output_type": "stream",
     "text": [
      "{np.uint8(0): np.float64(0.0), np.uint8(1): np.float64(0.10267119447974665), np.uint8(2): np.float64(0.006168254052476587), np.uint8(4): np.float64(0.06454376360553199), np.uint8(5): np.float64(0.09023673597068452), np.uint8(7): np.float64(0.0006013094936617071), np.uint8(8): np.float64(0.1744065512594589), np.uint8(9): np.float64(0.1417192167275141), np.uint8(11): np.float64(0.028840401221205486), np.uint8(13): np.float64(0.3612565445026178), np.uint8(17): np.float64(0.034863635257767076), np.uint8(19): np.float64(0.14296599016416153), np.uint8(20): np.float64(0.1047648136835675), np.uint8(21): np.float64(0.19019871507545197), np.uint8(23): np.float64(0.902205281786006), np.uint8(24): np.float64(0.2121096051856217), np.uint8(25): np.float64(0.19411764705882353), np.uint8(26): np.float64(0.04691734417344173), np.uint8(32): np.float64(0.10521989313604603), np.uint8(33): np.float64(0.17543859649122806), 'mean': np.float64(0.15396227466625065), 'weighted_mean': np.float64(0.04374466340031293)}\n"
     ]
    },
    {
     "data": {
      "application/vnd.jupyter.widget-view+json": {
       "model_id": "57dd4555b8004a95b43f762755aa7a0d",
       "version_major": 2,
       "version_minor": 0
      },
      "text/plain": [
       "finding centroids:   0%|          | 0/15 [00:00<?, ?it/s]"
      ]
     },
     "metadata": {},
     "output_type": "display_data"
    },
    {
     "data": {
      "application/vnd.jupyter.widget-view+json": {
       "model_id": "d6eb59af2c104377bef7edd9ef82074f",
       "version_major": 2,
       "version_minor": 0
      },
      "text/plain": [
       "class growing:   0%|          | 0/75 [00:00<?, ?it/s]"
      ]
     },
     "metadata": {},
     "output_type": "display_data"
    },
    {
     "data": {
      "application/vnd.jupyter.widget-view+json": {
       "model_id": "81622a4856fa4d72852c72bb411ef378",
       "version_major": 2,
       "version_minor": 0
      },
      "text/plain": [
       "calculating IoU:   0%|          | 0/15 [00:00<?, ?it/s]"
      ]
     },
     "metadata": {},
     "output_type": "display_data"
    },
    {
     "name": "stdout",
     "output_type": "stream",
     "text": [
      "{np.uint8(0): np.float64(0.0), np.uint8(1): np.float64(0.11375002541218565), np.uint8(2): np.float64(0.00519179327702302), np.uint8(4): np.float64(0.11695605689461504), np.uint8(7): np.float64(0.00011514300630538803), np.uint8(8): np.float64(0.00883464109270561), np.uint8(11): np.float64(0.008409546426827008), np.uint8(17): np.float64(0.10621430132026592), np.uint8(19): np.float64(0.3873626373626374), np.uint8(20): np.float64(0.057942708333333336), np.uint8(23): np.float64(0.857602382725242), np.uint8(24): np.float64(0.1765675057208238), np.uint8(26): np.float64(0.005812146536220989), np.uint8(27): np.float64(0.01278209283835851), np.uint8(33): np.float64(0.1984732824427481), 'mean': np.float64(0.13706761755928612), 'weighted_mean': np.float64(0.037804342741964245)}\n"
     ]
    },
    {
     "data": {
      "application/vnd.jupyter.widget-view+json": {
       "model_id": "e3ad9605ba024df499a24e43899615b8",
       "version_major": 2,
       "version_minor": 0
      },
      "text/plain": [
       "finding centroids:   0%|          | 0/16 [00:00<?, ?it/s]"
      ]
     },
     "metadata": {},
     "output_type": "display_data"
    },
    {
     "data": {
      "application/vnd.jupyter.widget-view+json": {
       "model_id": "6ab55d252b7d4df59ceaf754e7fbb8f1",
       "version_major": 2,
       "version_minor": 0
      },
      "text/plain": [
       "class growing:   0%|          | 0/104 [00:00<?, ?it/s]"
      ]
     },
     "metadata": {},
     "output_type": "display_data"
    },
    {
     "data": {
      "application/vnd.jupyter.widget-view+json": {
       "model_id": "7310e56b64974247b11a16b6d038166c",
       "version_major": 2,
       "version_minor": 0
      },
      "text/plain": [
       "calculating IoU:   0%|          | 0/16 [00:00<?, ?it/s]"
      ]
     },
     "metadata": {},
     "output_type": "display_data"
    },
    {
     "name": "stdout",
     "output_type": "stream",
     "text": [
      "{np.uint8(0): np.float64(0.0), np.uint8(1): np.float64(0.12159725038572992), np.uint8(2): np.float64(0.0848736424394319), np.uint8(4): np.float64(0.0822930245917939), np.uint8(5): np.float64(0.027317073170731707), np.uint8(7): np.float64(0.0002685078634445723), np.uint8(8): np.float64(0.08217929390316586), np.uint8(11): np.float64(0.017375855223743245), np.uint8(17): np.float64(0.2566807886589539), np.uint8(20): np.float64(0.1392323406085367), np.uint8(23): np.float64(0.0014510148146821202), np.uint8(24): np.float64(0.17675688509021842), np.uint8(26): np.float64(0.012348050859298588), np.uint8(27): np.float64(0.6459838171968328), np.uint8(32): np.float64(0.5454545454545454), np.uint8(33): np.float64(0.04005461993627674), 'mean': np.float64(0.1396166693873366), 'weighted_mean': np.float64(0.056886773894919876)}\n"
     ]
    },
    {
     "data": {
      "application/vnd.jupyter.widget-view+json": {
       "model_id": "15365e262fe4438882473939bd1d456c",
       "version_major": 2,
       "version_minor": 0
      },
      "text/plain": [
       "finding centroids:   0%|          | 0/17 [00:00<?, ?it/s]"
      ]
     },
     "metadata": {},
     "output_type": "display_data"
    },
    {
     "data": {
      "application/vnd.jupyter.widget-view+json": {
       "model_id": "5c7e600c31b44b71b772f0ffba8f9987",
       "version_major": 2,
       "version_minor": 0
      },
      "text/plain": [
       "class growing:   0%|          | 0/123 [00:00<?, ?it/s]"
      ]
     },
     "metadata": {},
     "output_type": "display_data"
    },
    {
     "data": {
      "application/vnd.jupyter.widget-view+json": {
       "model_id": "2cb9f31842ac4f179f36e80b1131e7bd",
       "version_major": 2,
       "version_minor": 0
      },
      "text/plain": [
       "calculating IoU:   0%|          | 0/17 [00:00<?, ?it/s]"
      ]
     },
     "metadata": {},
     "output_type": "display_data"
    },
    {
     "name": "stdout",
     "output_type": "stream",
     "text": [
      "{np.uint8(0): np.float64(0.0), np.uint8(1): np.float64(0.12589639305259806), np.uint8(2): np.float64(0.006114620652985783), np.uint8(4): np.float64(0.0583011054450871), np.uint8(5): np.float64(0.01551095680482082), np.uint8(6): np.float64(0.026324778539384693), np.uint8(7): np.float64(0.00015192553158369914), np.uint8(8): np.float64(0.23547094188376755), np.uint8(11): np.float64(0.01885657419136389), np.uint8(17): np.float64(0.1024408014571949), np.uint8(19): np.float64(0.3517877739331027), np.uint8(20): np.float64(0.3655234657039711), np.uint8(21): np.float64(0.2190673016443526), np.uint8(23): np.float64(0.016371517619383113), np.uint8(24): np.float64(0.08289715272258913), np.uint8(26): np.float64(0.0012125064019103918), np.uint8(33): np.float64(0.3778501628664495), 'mean': np.float64(0.11786929285003206), 'weighted_mean': np.float64(0.01737822606411693)}\n"
     ]
    },
    {
     "data": {
      "application/vnd.jupyter.widget-view+json": {
       "model_id": "4d6dede9494a46ef86482349f0ef8b83",
       "version_major": 2,
       "version_minor": 0
      },
      "text/plain": [
       "finding centroids:   0%|          | 0/18 [00:00<?, ?it/s]"
      ]
     },
     "metadata": {},
     "output_type": "display_data"
    },
    {
     "data": {
      "application/vnd.jupyter.widget-view+json": {
       "model_id": "7a1da974255749fe8b83f0c9bb2d0070",
       "version_major": 2,
       "version_minor": 0
      },
      "text/plain": [
       "class growing:   0%|          | 0/165 [00:00<?, ?it/s]"
      ]
     },
     "metadata": {},
     "output_type": "display_data"
    },
    {
     "data": {
      "application/vnd.jupyter.widget-view+json": {
       "model_id": "0f60d43ef6144ba7a06a7e342a7da74d",
       "version_major": 2,
       "version_minor": 0
      },
      "text/plain": [
       "calculating IoU:   0%|          | 0/18 [00:00<?, ?it/s]"
      ]
     },
     "metadata": {},
     "output_type": "display_data"
    },
    {
     "name": "stdout",
     "output_type": "stream",
     "text": [
      "{np.uint8(0): np.float64(0.0), np.uint8(1): np.float64(0.34789381289509036), np.uint8(2): np.float64(0.046199277262818965), np.uint8(4): np.float64(0.14555189164273305), np.uint8(5): np.float64(0.25757575757575757), np.uint8(7): np.float64(9.851761397636551e-05), np.uint8(8): np.float64(0.07202670343226181), np.uint8(10): np.float64(0.24427379849066597), np.uint8(11): np.float64(0.037793976192664974), np.uint8(12): np.float64(0.14339569952527226), np.uint8(17): np.float64(0.08863807884405023), np.uint8(19): np.float64(0.40464104423495284), np.uint8(20): np.float64(0.06903262736119062), np.uint8(21): np.float64(0.23254301340726954), np.uint8(23): np.float64(0.9024139596542972), np.uint8(24): np.float64(0.07484824189668995), np.uint8(26): np.float64(0.12575225677031093), np.uint8(33): np.float64(0.12597896621168048), 'mean': np.float64(0.1843698679450935), 'weighted_mean': np.float64(0.10609955766171959)}\n"
     ]
    },
    {
     "data": {
      "application/vnd.jupyter.widget-view+json": {
       "model_id": "72ccb561da6b47869e8eebe644db2e54",
       "version_major": 2,
       "version_minor": 0
      },
      "text/plain": [
       "finding centroids:   0%|          | 0/20 [00:00<?, ?it/s]"
      ]
     },
     "metadata": {},
     "output_type": "display_data"
    },
    {
     "data": {
      "application/vnd.jupyter.widget-view+json": {
       "model_id": "0bedca2d39124c0da0c129ac20b7bb8a",
       "version_major": 2,
       "version_minor": 0
      },
      "text/plain": [
       "class growing:   0%|          | 0/145 [00:00<?, ?it/s]"
      ]
     },
     "metadata": {},
     "output_type": "display_data"
    },
    {
     "data": {
      "application/vnd.jupyter.widget-view+json": {
       "model_id": "3c591221495743079de68136815e1051",
       "version_major": 2,
       "version_minor": 0
      },
      "text/plain": [
       "calculating IoU:   0%|          | 0/20 [00:00<?, ?it/s]"
      ]
     },
     "metadata": {},
     "output_type": "display_data"
    },
    {
     "name": "stdout",
     "output_type": "stream",
     "text": [
      "{np.uint8(0): np.float64(0.0), np.uint8(1): np.float64(0.20872296129009493), np.uint8(2): np.float64(0.003095298078464604), np.uint8(4): np.float64(0.030471943515421776), np.uint8(6): np.float64(0.05623625510524662), np.uint8(7): np.float64(0.19008653068714196), np.uint8(8): np.float64(0.12343541549316653), np.uint8(11): np.float64(0.0625), np.uint8(12): np.float64(0.08537131595449252), np.uint8(17): np.float64(0.023442505268195538), np.uint8(18): np.float64(0.03663744661721735), np.uint8(19): np.float64(0.3460764587525151), np.uint8(20): np.float64(0.0275792936822084), np.uint8(21): np.float64(0.000498639729006737), np.uint8(22): np.float64(0.027777777777777776), np.uint8(23): np.float64(0.3840304182509506), np.uint8(24): np.float64(0.15067703831748774), np.uint8(26): np.float64(0.19909502262443438), np.uint8(28): np.float64(0.15759065765212046), np.uint8(33): np.float64(0.02336316533207725), 'mean': np.float64(0.106834407206401), 'weighted_mean': np.float64(0.09146165447193953)}\n"
     ]
    },
    {
     "data": {
      "application/vnd.jupyter.widget-view+json": {
       "model_id": "1902239e8a924a6abde906a4d847c465",
       "version_major": 2,
       "version_minor": 0
      },
      "text/plain": [
       "finding centroids:   0%|          | 0/21 [00:00<?, ?it/s]"
      ]
     },
     "metadata": {},
     "output_type": "display_data"
    },
    {
     "data": {
      "application/vnd.jupyter.widget-view+json": {
       "model_id": "563a97c739124ea6b3cf14d7dab0a232",
       "version_major": 2,
       "version_minor": 0
      },
      "text/plain": [
       "class growing:   0%|          | 0/137 [00:00<?, ?it/s]"
      ]
     },
     "metadata": {},
     "output_type": "display_data"
    },
    {
     "data": {
      "application/vnd.jupyter.widget-view+json": {
       "model_id": "8ccba2be78f14761ae8ed1279dc691d9",
       "version_major": 2,
       "version_minor": 0
      },
      "text/plain": [
       "calculating IoU:   0%|          | 0/20 [00:00<?, ?it/s]"
      ]
     },
     "metadata": {},
     "output_type": "display_data"
    },
    {
     "name": "stdout",
     "output_type": "stream",
     "text": [
      "{np.uint8(0): np.float64(0.00015193192292276505), np.uint8(1): np.float64(0.11613279577733138), np.uint8(2): np.float64(0.011119988073440086), np.uint8(4): np.float64(0.058480842482635), np.uint8(5): np.float64(0.37518037518037517), np.uint8(6): np.float64(0.0007672823414129088), np.uint8(7): np.float64(0.018739289655771617), np.uint8(8): np.float64(0.08228971085242208), np.uint8(11): np.float64(0.02374567282756846), np.uint8(12): np.float64(0.0008558206368996049), np.uint8(13): np.float64(0.005534298988794753), np.uint8(17): np.float64(0.026792009400705055), np.uint8(19): np.float64(0.10095613048368954), np.uint8(20): np.float64(0.18422549453327436), np.uint8(21): np.float64(0.05793588189647985), np.uint8(23): np.float64(0.9158308258107656), np.uint8(24): np.float64(0.14834862385321101), np.uint8(26): np.float64(0.008762040732825225), np.uint8(32): np.float64(0.07476635514018691), np.uint8(33): np.float64(0.07986536107711138), 'mean': np.float64(0.11452403658339114), 'weighted_mean': np.float64(0.047793783553335814)}\n"
     ]
    },
    {
     "data": {
      "application/vnd.jupyter.widget-view+json": {
       "model_id": "e0344d55d31d4f3bb641b18b0e2e5c4f",
       "version_major": 2,
       "version_minor": 0
      },
      "text/plain": [
       "finding centroids:   0%|          | 0/16 [00:00<?, ?it/s]"
      ]
     },
     "metadata": {},
     "output_type": "display_data"
    },
    {
     "data": {
      "application/vnd.jupyter.widget-view+json": {
       "model_id": "8a28c00eab2a4a4abcf88e7bc5565ca1",
       "version_major": 2,
       "version_minor": 0
      },
      "text/plain": [
       "class growing:   0%|          | 0/81 [00:00<?, ?it/s]"
      ]
     },
     "metadata": {},
     "output_type": "display_data"
    },
    {
     "data": {
      "application/vnd.jupyter.widget-view+json": {
       "model_id": "85e97e90381b4c0dbc28ae60f2ca8a6e",
       "version_major": 2,
       "version_minor": 0
      },
      "text/plain": [
       "calculating IoU:   0%|          | 0/16 [00:00<?, ?it/s]"
      ]
     },
     "metadata": {},
     "output_type": "display_data"
    },
    {
     "name": "stdout",
     "output_type": "stream",
     "text": [
      "{np.uint8(0): np.float64(0.0), np.uint8(1): np.float64(0.09245764580887285), np.uint8(2): np.float64(0.015916825209678714), np.uint8(4): np.float64(0.016786522905674305), np.uint8(7): np.float64(0.0008186831510141223), np.uint8(8): np.float64(0.2059639752853702), np.uint8(11): np.float64(0.0526108709950202), np.uint8(12): np.float64(0.1413314346742613), np.uint8(17): np.float64(0.030641439778495615), np.uint8(19): np.float64(0.12122762148337596), np.uint8(20): np.float64(0.07563025210084033), np.uint8(21): np.float64(0.020408238174417025), np.uint8(23): np.float64(0.8829099654291297), np.uint8(24): np.float64(0.3631123919308357), np.uint8(26): np.float64(0.011202425833046044), np.uint8(28): np.float64(0.000494967827091239), 'mean': np.float64(0.1269695787866952), 'weighted_mean': np.float64(0.04201777456769651)}\n"
     ]
    },
    {
     "data": {
      "application/vnd.jupyter.widget-view+json": {
       "model_id": "5c352f6c7bba4503bc8616dac42e2558",
       "version_major": 2,
       "version_minor": 0
      },
      "text/plain": [
       "finding centroids:   0%|          | 0/20 [00:00<?, ?it/s]"
      ]
     },
     "metadata": {},
     "output_type": "display_data"
    },
    {
     "data": {
      "application/vnd.jupyter.widget-view+json": {
       "model_id": "ee7d7893f7ff479e8c16c7eb9df47ec9",
       "version_major": 2,
       "version_minor": 0
      },
      "text/plain": [
       "class growing:   0%|          | 0/215 [00:00<?, ?it/s]"
      ]
     },
     "metadata": {},
     "output_type": "display_data"
    },
    {
     "data": {
      "application/vnd.jupyter.widget-view+json": {
       "model_id": "b0a9a6cc421e40b5b6abb9f3d23a17ab",
       "version_major": 2,
       "version_minor": 0
      },
      "text/plain": [
       "calculating IoU:   0%|          | 0/20 [00:00<?, ?it/s]"
      ]
     },
     "metadata": {},
     "output_type": "display_data"
    },
    {
     "name": "stdout",
     "output_type": "stream",
     "text": [
      "{np.uint8(0): np.float64(0.0), np.uint8(1): np.float64(0.11615527918376366), np.uint8(2): np.float64(0.014298786312582329), np.uint8(4): np.float64(0.17438679170686192), np.uint8(5): np.float64(0.030137250800495584), np.uint8(7): np.float64(0.014328492959308558), np.uint8(8): np.float64(0.015166332015947505), np.uint8(10): np.float64(0.03982926799266886), np.uint8(11): np.float64(0.031222665746522715), np.uint8(12): np.float64(0.4957482993197279), np.uint8(13): np.float64(0.038916644754141465), np.uint8(17): np.float64(0.03954268622647264), np.uint8(19): np.float64(0.04764847236525918), np.uint8(20): np.float64(0.06069881146400604), np.uint8(21): np.float64(0.03036983474718259), np.uint8(23): np.float64(0.5044185138170101), np.uint8(24): np.float64(0.04179955501789234), np.uint8(26): np.float64(0.015344118387758284), np.uint8(31): np.float64(0.03640256959314775), np.uint8(33): np.float64(0.3015075376884422), 'mean': np.float64(0.10239609550495958), 'weighted_mean': np.float64(0.043789462373723595)}\n"
     ]
    },
    {
     "data": {
      "application/vnd.jupyter.widget-view+json": {
       "model_id": "a4d83d7b0e80491785accf9b34861931",
       "version_major": 2,
       "version_minor": 0
      },
      "text/plain": [
       "finding centroids:   0%|          | 0/19 [00:00<?, ?it/s]"
      ]
     },
     "metadata": {},
     "output_type": "display_data"
    },
    {
     "data": {
      "application/vnd.jupyter.widget-view+json": {
       "model_id": "633c47d7cb4047f0b57bee686c61b69b",
       "version_major": 2,
       "version_minor": 0
      },
      "text/plain": [
       "class growing:   0%|          | 0/202 [00:00<?, ?it/s]"
      ]
     },
     "metadata": {},
     "output_type": "display_data"
    },
    {
     "data": {
      "application/vnd.jupyter.widget-view+json": {
       "model_id": "57c5a50a30a445ea8a0092feb789f987",
       "version_major": 2,
       "version_minor": 0
      },
      "text/plain": [
       "calculating IoU:   0%|          | 0/19 [00:00<?, ?it/s]"
      ]
     },
     "metadata": {},
     "output_type": "display_data"
    },
    {
     "name": "stdout",
     "output_type": "stream",
     "text": [
      "{np.uint8(0): np.float64(0.0), np.uint8(1): np.float64(0.20938515750782222), np.uint8(2): np.float64(0.06090324918757489), np.uint8(4): np.float64(0.15920900285222106), np.uint8(5): np.float64(0.17627577901550504), np.uint8(7): np.float64(0.00010029823620113784), np.uint8(8): np.float64(0.23848943550930307), np.uint8(11): np.float64(0.029535221219006726), np.uint8(13): np.float64(0.039309807991696935), np.uint8(17): np.float64(0.06037223156042884), np.uint8(19): np.float64(0.027100871363166443), np.uint8(20): np.float64(0.1250846692255588), np.uint8(21): np.float64(0.005974815688196758), np.uint8(23): np.float64(0.6586682663467307), np.uint8(24): np.float64(0.04362482649216736), np.uint8(25): np.float64(0.0725319006044325), np.uint8(26): np.float64(0.4482852911017432), np.uint8(31): np.float64(0.1081386586284853), np.uint8(33): np.float64(0.14458161865569272), 'mean': np.float64(0.13724058427294386), 'weighted_mean': np.float64(0.05295411313640756)}\n"
     ]
    },
    {
     "data": {
      "application/vnd.jupyter.widget-view+json": {
       "model_id": "a5b8a0be4dca4a3da514c6cd8bf031a5",
       "version_major": 2,
       "version_minor": 0
      },
      "text/plain": [
       "finding centroids:   0%|          | 0/18 [00:00<?, ?it/s]"
      ]
     },
     "metadata": {},
     "output_type": "display_data"
    },
    {
     "data": {
      "application/vnd.jupyter.widget-view+json": {
       "model_id": "c61ed50fc58d48a2a969043779c4c660",
       "version_major": 2,
       "version_minor": 0
      },
      "text/plain": [
       "class growing:   0%|          | 0/162 [00:00<?, ?it/s]"
      ]
     },
     "metadata": {},
     "output_type": "display_data"
    },
    {
     "data": {
      "application/vnd.jupyter.widget-view+json": {
       "model_id": "fe2f2cf80d7a421493b95bc2380645e5",
       "version_major": 2,
       "version_minor": 0
      },
      "text/plain": [
       "calculating IoU:   0%|          | 0/18 [00:00<?, ?it/s]"
      ]
     },
     "metadata": {},
     "output_type": "display_data"
    },
    {
     "name": "stdout",
     "output_type": "stream",
     "text": [
      "{np.uint8(0): np.float64(0.0), np.uint8(1): np.float64(0.11274900670700591), np.uint8(2): np.float64(0.007691703947884781), np.uint8(4): np.float64(0.07835160948001416), np.uint8(6): np.float64(0.00606706567188653), np.uint8(7): np.float64(0.0002243541532287877), np.uint8(8): np.float64(0.47054206194352866), np.uint8(11): np.float64(0.026692934539267483), np.uint8(12): np.float64(0.029420029830742957), np.uint8(13): np.float64(0.07133727432497204), np.uint8(17): np.float64(0.0575272589873691), np.uint8(19): np.float64(0.37651277454056475), np.uint8(20): np.float64(0.21027460660290034), np.uint8(21): np.float64(0.02190599031569154), np.uint8(24): np.float64(0.12242101869761444), np.uint8(25): np.float64(0.10893440189967349), np.uint8(26): np.float64(0.3606923192319232), np.uint8(33): np.float64(0.12841059337313193), 'mean': np.float64(0.12165305579152225), 'weighted_mean': np.float64(0.041290559852833995)}\n"
     ]
    },
    {
     "data": {
      "application/vnd.jupyter.widget-view+json": {
       "model_id": "d6c9cc3cdad34400a186d0658b19e286",
       "version_major": 2,
       "version_minor": 0
      },
      "text/plain": [
       "finding centroids:   0%|          | 0/21 [00:00<?, ?it/s]"
      ]
     },
     "metadata": {},
     "output_type": "display_data"
    },
    {
     "data": {
      "application/vnd.jupyter.widget-view+json": {
       "model_id": "f96909f1929e44c688d19d53934cb8de",
       "version_major": 2,
       "version_minor": 0
      },
      "text/plain": [
       "class growing:   0%|          | 0/222 [00:00<?, ?it/s]"
      ]
     },
     "metadata": {},
     "output_type": "display_data"
    },
    {
     "data": {
      "application/vnd.jupyter.widget-view+json": {
       "model_id": "c82131a5c50d4b81829f5576d75921f3",
       "version_major": 2,
       "version_minor": 0
      },
      "text/plain": [
       "calculating IoU:   0%|          | 0/20 [00:00<?, ?it/s]"
      ]
     },
     "metadata": {},
     "output_type": "display_data"
    },
    {
     "name": "stdout",
     "output_type": "stream",
     "text": [
      "{np.uint8(0): np.float64(4.034560041313895e-06), np.uint8(1): np.float64(0.1987593710179238), np.uint8(2): np.float64(0.0028457568017297113), np.uint8(4): np.float64(0.058284986361307654), np.uint8(5): np.float64(0.41992709599027944), np.uint8(7): np.float64(0.0009082702131407433), np.uint8(8): np.float64(0.030610011748715703), np.uint8(10): np.float64(0.05822487346348518), np.uint8(11): np.float64(0.006516903103460851), np.uint8(12): np.float64(0.4134948096885813), np.uint8(17): np.float64(0.030378593322839865), np.uint8(19): np.float64(0.11178174794785128), np.uint8(20): np.float64(0.0399804271486961), np.uint8(21): np.float64(0.010597319605928818), np.uint8(23): np.float64(0.08840505354966972), np.uint8(24): np.float64(0.14173111975959407), np.uint8(25): np.float64(0.0987603305785124), np.uint8(26): np.float64(0.1995125280296383), np.uint8(31): np.float64(0.1317966101694915), np.uint8(33): np.float64(0.01891364340041731), 'mean': np.float64(0.10307167432306526), 'weighted_mean': np.float64(0.030576769965331225)}\n"
     ]
    },
    {
     "data": {
      "application/vnd.jupyter.widget-view+json": {
       "model_id": "732165d2db774210b0cee099e41aa46b",
       "version_major": 2,
       "version_minor": 0
      },
      "text/plain": [
       "finding centroids:   0%|          | 0/20 [00:00<?, ?it/s]"
      ]
     },
     "metadata": {},
     "output_type": "display_data"
    },
    {
     "data": {
      "application/vnd.jupyter.widget-view+json": {
       "model_id": "d967e436d8844336abe7a4786ea928a4",
       "version_major": 2,
       "version_minor": 0
      },
      "text/plain": [
       "class growing:   0%|          | 0/109 [00:00<?, ?it/s]"
      ]
     },
     "metadata": {},
     "output_type": "display_data"
    },
    {
     "data": {
      "application/vnd.jupyter.widget-view+json": {
       "model_id": "b96e0650c9164e7ba1846b11a6a04cbf",
       "version_major": 2,
       "version_minor": 0
      },
      "text/plain": [
       "calculating IoU:   0%|          | 0/20 [00:00<?, ?it/s]"
      ]
     },
     "metadata": {},
     "output_type": "display_data"
    },
    {
     "name": "stdout",
     "output_type": "stream",
     "text": [
      "{np.uint8(0): np.float64(0.0), np.uint8(1): np.float64(0.11264075151821862), np.uint8(2): np.float64(0.00798322886667796), np.uint8(4): np.float64(0.09279651210535353), np.uint8(6): np.float64(0.21035950375803678), np.uint8(7): np.float64(0.00022005728312842986), np.uint8(8): np.float64(0.35723807449357436), np.uint8(10): np.float64(0.3800382812283281), np.uint8(11): np.float64(0.009790328353710227), np.uint8(12): np.float64(0.11369549543901446), np.uint8(17): np.float64(0.020756930212490563), np.uint8(19): np.float64(0.17460567823343848), np.uint8(20): np.float64(0.22768166089965397), np.uint8(21): np.float64(0.0050771110093143995), np.uint8(23): np.float64(0.8672794651940124), np.uint8(24): np.float64(0.153719324588909), np.uint8(25): np.float64(0.44398340248962653), np.uint8(26): np.float64(0.08222495054907578), np.uint8(31): np.float64(0.22635580334515965), np.uint8(33): np.float64(0.013452106174264282), 'mean': np.float64(0.17499493328709936), 'weighted_mean': np.float64(0.08669310502282825)}\n"
     ]
    },
    {
     "data": {
      "application/vnd.jupyter.widget-view+json": {
       "model_id": "e6bc3f238ef44b7da75b355a0611d517",
       "version_major": 2,
       "version_minor": 0
      },
      "text/plain": [
       "finding centroids:   0%|          | 0/21 [00:00<?, ?it/s]"
      ]
     },
     "metadata": {},
     "output_type": "display_data"
    },
    {
     "data": {
      "application/vnd.jupyter.widget-view+json": {
       "model_id": "11f479ed95ff47f3b3dfabbe3ef59f7f",
       "version_major": 2,
       "version_minor": 0
      },
      "text/plain": [
       "class growing:   0%|          | 0/167 [00:00<?, ?it/s]"
      ]
     },
     "metadata": {},
     "output_type": "display_data"
    },
    {
     "data": {
      "application/vnd.jupyter.widget-view+json": {
       "model_id": "87e7633f1ed8470c9b2237cb7027d4c8",
       "version_major": 2,
       "version_minor": 0
      },
      "text/plain": [
       "calculating IoU:   0%|          | 0/21 [00:00<?, ?it/s]"
      ]
     },
     "metadata": {},
     "output_type": "display_data"
    },
    {
     "name": "stdout",
     "output_type": "stream",
     "text": [
      "{np.uint8(0): np.float64(0.0), np.uint8(1): np.float64(0.1059527743579212), np.uint8(2): np.float64(0.00989052169490618), np.uint8(4): np.float64(0.2554759898904802), np.uint8(5): np.float64(0.00984251968503937), np.uint8(6): np.float64(0.1508235508235508), np.uint8(7): np.float64(0.00321929998022543), np.uint8(8): np.float64(0.23228642837784938), np.uint8(10): np.float64(0.07356948228882834), np.uint8(11): np.float64(0.14315750776364966), np.uint8(12): np.float64(0.31493212669683257), np.uint8(17): np.float64(0.09193257932035187), np.uint8(19): np.float64(0.233292164127899), np.uint8(20): np.float64(0.15689622462530828), np.uint8(21): np.float64(0.049276939377451964), np.uint8(23): np.float64(0.45327024955852463), np.uint8(24): np.float64(0.18997912317327767), np.uint8(26): np.float64(0.11873713109128346), np.uint8(28): np.float64(0.3860708773596106), np.uint8(31): np.float64(0.373015873015873), np.uint8(33): np.float64(0.07089783281733746), 'mean': np.float64(0.16297710457267622), 'weighted_mean': np.float64(0.09916904941509452)}\n"
     ]
    },
    {
     "data": {
      "application/vnd.jupyter.widget-view+json": {
       "model_id": "bfc35ea71fd44735ab20130f29386068",
       "version_major": 2,
       "version_minor": 0
      },
      "text/plain": [
       "finding centroids:   0%|          | 0/22 [00:00<?, ?it/s]"
      ]
     },
     "metadata": {},
     "output_type": "display_data"
    },
    {
     "data": {
      "application/vnd.jupyter.widget-view+json": {
       "model_id": "3c13c64fdc7343a0b706d2a9d0eeb080",
       "version_major": 2,
       "version_minor": 0
      },
      "text/plain": [
       "class growing:   0%|          | 0/279 [00:00<?, ?it/s]"
      ]
     },
     "metadata": {},
     "output_type": "display_data"
    },
    {
     "data": {
      "application/vnd.jupyter.widget-view+json": {
       "model_id": "137faec5f0424a64b0e2debea31a855d",
       "version_major": 2,
       "version_minor": 0
      },
      "text/plain": [
       "calculating IoU:   0%|          | 0/22 [00:00<?, ?it/s]"
      ]
     },
     "metadata": {},
     "output_type": "display_data"
    },
    {
     "name": "stdout",
     "output_type": "stream",
     "text": [
      "{np.uint8(0): np.float64(0.0), np.uint8(1): np.float64(0.10451148949754073), np.uint8(2): np.float64(0.00873222082340021), np.uint8(4): np.float64(0.08852817453715807), np.uint8(5): np.float64(0.1956521739130435), np.uint8(6): np.float64(0.1602700163540833), np.uint8(7): np.float64(0.0077538004094565155), np.uint8(8): np.float64(0.2910413918205805), np.uint8(10): np.float64(0.03343934575193094), np.uint8(11): np.float64(0.04476328567574858), np.uint8(12): np.float64(0.19234560742244128), np.uint8(13): np.float64(0.1154213644181158), np.uint8(17): np.float64(0.10075099331965244), np.uint8(19): np.float64(0.20124509405873595), np.uint8(20): np.float64(0.1588628762541806), np.uint8(21): np.float64(0.036882562355906), np.uint8(22): np.float64(0.24757804090419805), np.uint8(23): np.float64(0.1546943866943867), np.uint8(24): np.float64(0.028705656759348035), np.uint8(26): np.float64(0.08426669484361791), np.uint8(27): np.float64(0.2030360531309298), np.uint8(33): np.float64(0.030437539632213063), 'mean': np.float64(0.11313267129893947), 'weighted_mean': np.float64(0.04323454946656956)}\n"
     ]
    },
    {
     "data": {
      "application/vnd.jupyter.widget-view+json": {
       "model_id": "8129e9de32e54179a6f73ce8efe1308b",
       "version_major": 2,
       "version_minor": 0
      },
      "text/plain": [
       "finding centroids:   0%|          | 0/22 [00:00<?, ?it/s]"
      ]
     },
     "metadata": {},
     "output_type": "display_data"
    },
    {
     "data": {
      "application/vnd.jupyter.widget-view+json": {
       "model_id": "ed8a07c9e8494d2b84fffaac4da6c93c",
       "version_major": 2,
       "version_minor": 0
      },
      "text/plain": [
       "class growing:   0%|          | 0/197 [00:00<?, ?it/s]"
      ]
     },
     "metadata": {},
     "output_type": "display_data"
    },
    {
     "data": {
      "application/vnd.jupyter.widget-view+json": {
       "model_id": "1e34e1702a8547f7b70a64126cb801a8",
       "version_major": 2,
       "version_minor": 0
      },
      "text/plain": [
       "calculating IoU:   0%|          | 0/22 [00:00<?, ?it/s]"
      ]
     },
     "metadata": {},
     "output_type": "display_data"
    },
    {
     "name": "stdout",
     "output_type": "stream",
     "text": [
      "{np.uint8(0): np.float64(0.0), np.uint8(1): np.float64(0.10824552492618462), np.uint8(2): np.float64(0.00568638261006537), np.uint8(4): np.float64(0.10514806378132119), np.uint8(6): np.float64(0.18148342977380327), np.uint8(7): np.float64(0.002503492256301245), np.uint8(8): np.float64(0.0248896124719406), np.uint8(10): np.float64(0.015036850175594797), np.uint8(11): np.float64(0.051381652785161554), np.uint8(12): np.float64(0.3753662206033732), np.uint8(13): np.float64(0.2570093457943925), np.uint8(17): np.float64(0.08182284541723667), np.uint8(19): np.float64(0.1607079013228459), np.uint8(20): np.float64(0.19760137064534553), np.uint8(21): np.float64(0.005283065526873381), np.uint8(22): np.float64(0.09489222118088098), np.uint8(23): np.float64(0.8104516628745704), np.uint8(24): np.float64(0.5049751243781094), np.uint8(25): np.float64(0.30026851998104565), np.uint8(26): np.float64(0.0803786894375348), np.uint8(28): np.float64(0.3656957928802589), np.uint8(33): np.float64(0.024766910255948738), 'mean': np.float64(0.17061793995812677), 'weighted_mean': np.float64(0.059861507226256445)}\n"
     ]
    },
    {
     "data": {
      "application/vnd.jupyter.widget-view+json": {
       "model_id": "aad1b5cbc6af40c1800c6aab80b18d16",
       "version_major": 2,
       "version_minor": 0
      },
      "text/plain": [
       "finding centroids:   0%|          | 0/21 [00:00<?, ?it/s]"
      ]
     },
     "metadata": {},
     "output_type": "display_data"
    },
    {
     "data": {
      "application/vnd.jupyter.widget-view+json": {
       "model_id": "154e8bd90c1f4e90a7d0365fcbb4bb02",
       "version_major": 2,
       "version_minor": 0
      },
      "text/plain": [
       "class growing:   0%|          | 0/200 [00:00<?, ?it/s]"
      ]
     },
     "metadata": {},
     "output_type": "display_data"
    },
    {
     "data": {
      "application/vnd.jupyter.widget-view+json": {
       "model_id": "40f72b6e2744400bb53b76a3ee214cdd",
       "version_major": 2,
       "version_minor": 0
      },
      "text/plain": [
       "calculating IoU:   0%|          | 0/21 [00:00<?, ?it/s]"
      ]
     },
     "metadata": {},
     "output_type": "display_data"
    },
    {
     "name": "stdout",
     "output_type": "stream",
     "text": [
      "{np.uint8(0): np.float64(0.0), np.uint8(1): np.float64(0.13481342155644377), np.uint8(2): np.float64(0.022298343027733564), np.uint8(4): np.float64(0.1104888970490733), np.uint8(5): np.float64(0.31465806798334006), np.uint8(6): np.float64(0.007009345794392523), np.uint8(7): np.float64(0.0005884738533267916), np.uint8(8): np.float64(0.42574488645514574), np.uint8(11): np.float64(0.10599748642734563), np.uint8(12): np.float64(0.28731788870312874), np.uint8(13): np.float64(0.027146240798785935), np.uint8(17): np.float64(0.05337272722166364), np.uint8(18): np.float64(0.17555555555555555), np.uint8(19): np.float64(0.32436328688130706), np.uint8(20): np.float64(0.4206257242178447), np.uint8(21): np.float64(0.006862858506185067), np.uint8(22): np.float64(0.040385956754243196), np.uint8(23): np.float64(0.05465909090909091), np.uint8(24): np.float64(0.03601763251263305), np.uint8(26): np.float64(0.31201434548714885), np.uint8(31): np.float64(0.48483460093466507), 'mean': np.float64(0.1592740395537644), 'weighted_mean': np.float64(0.0728652466687225)}\n"
     ]
    },
    {
     "data": {
      "application/vnd.jupyter.widget-view+json": {
       "model_id": "bf5c00a5cdb94e43bb8309e1beb63eff",
       "version_major": 2,
       "version_minor": 0
      },
      "text/plain": [
       "finding centroids:   0%|          | 0/15 [00:00<?, ?it/s]"
      ]
     },
     "metadata": {},
     "output_type": "display_data"
    },
    {
     "data": {
      "application/vnd.jupyter.widget-view+json": {
       "model_id": "964cc083cda64fa8b34d946fc2e63b8e",
       "version_major": 2,
       "version_minor": 0
      },
      "text/plain": [
       "class growing:   0%|          | 0/94 [00:00<?, ?it/s]"
      ]
     },
     "metadata": {},
     "output_type": "display_data"
    },
    {
     "data": {
      "application/vnd.jupyter.widget-view+json": {
       "model_id": "0d5e9b819ed54ddb9a7db0fc2ee6139b",
       "version_major": 2,
       "version_minor": 0
      },
      "text/plain": [
       "calculating IoU:   0%|          | 0/15 [00:00<?, ?it/s]"
      ]
     },
     "metadata": {},
     "output_type": "display_data"
    },
    {
     "name": "stdout",
     "output_type": "stream",
     "text": [
      "{np.uint8(0): np.float64(0.0), np.uint8(1): np.float64(0.10098308779652267), np.uint8(2): np.float64(0.006225399630492409), np.uint8(4): np.float64(0.07979588016826095), np.uint8(6): np.float64(0.4956280443983071), np.uint8(7): np.float64(0.00012561435526627356), np.uint8(8): np.float64(0.3805082674920583), np.uint8(11): np.float64(0.04263918843358096), np.uint8(17): np.float64(0.3581316183520236), np.uint8(19): np.float64(0.35110294117647056), np.uint8(20): np.float64(0.21426758060421427), np.uint8(21): np.float64(0.04167618077389212), np.uint8(22): np.float64(0.010876785121222185), np.uint8(23): np.float64(0.8238602451678068), np.uint8(26): np.float64(0.015298830089463747), 'mean': np.float64(0.19474131090397215), 'weighted_mean': np.float64(0.0939642855384796)}\n"
     ]
    },
    {
     "data": {
      "application/vnd.jupyter.widget-view+json": {
       "model_id": "738e9bf54e9446a2806b0f13b604c36f",
       "version_major": 2,
       "version_minor": 0
      },
      "text/plain": [
       "finding centroids:   0%|          | 0/16 [00:00<?, ?it/s]"
      ]
     },
     "metadata": {},
     "output_type": "display_data"
    },
    {
     "data": {
      "application/vnd.jupyter.widget-view+json": {
       "model_id": "68422f0a80494ce5a8953d802add79e2",
       "version_major": 2,
       "version_minor": 0
      },
      "text/plain": [
       "class growing:   0%|          | 0/78 [00:00<?, ?it/s]"
      ]
     },
     "metadata": {},
     "output_type": "display_data"
    },
    {
     "data": {
      "application/vnd.jupyter.widget-view+json": {
       "model_id": "55815334efec49fb9b1ac32c402cddb8",
       "version_major": 2,
       "version_minor": 0
      },
      "text/plain": [
       "calculating IoU:   0%|          | 0/15 [00:00<?, ?it/s]"
      ]
     },
     "metadata": {},
     "output_type": "display_data"
    },
    {
     "name": "stdout",
     "output_type": "stream",
     "text": [
      "{np.uint8(0): np.float64(0.0), np.uint8(1): np.float64(0.08203460326774277), np.uint8(2): np.float64(0.06515913121158384), np.uint8(4): np.float64(0.06386922622426637), np.uint8(7): np.float64(0.00012261860017539792), np.uint8(8): np.float64(0.6451900021797573), np.uint8(11): np.float64(0.012444051569046122), np.uint8(17): np.float64(0.2503333278464552), np.uint8(19): np.float64(0.5526315789473685), np.uint8(20): np.float64(0.07854999062089664), np.uint8(21): np.float64(0.0061817043242193715), np.uint8(22): np.float64(0.20432868672046955), np.uint8(23): np.float64(0.002040250875292814), np.uint8(26): np.float64(0.03986153362005664), np.uint8(27): np.float64(0.5298039541605489), 'mean': np.float64(0.1688367106778586), 'weighted_mean': np.float64(0.08010476226781599)}\n"
     ]
    },
    {
     "data": {
      "application/vnd.jupyter.widget-view+json": {
       "model_id": "5c0f2f35f4f547af9071b700d90d1911",
       "version_major": 2,
       "version_minor": 0
      },
      "text/plain": [
       "finding centroids:   0%|          | 0/18 [00:00<?, ?it/s]"
      ]
     },
     "metadata": {},
     "output_type": "display_data"
    },
    {
     "data": {
      "application/vnd.jupyter.widget-view+json": {
       "model_id": "46df02e936274572947ea2386571ff57",
       "version_major": 2,
       "version_minor": 0
      },
      "text/plain": [
       "class growing:   0%|          | 0/143 [00:00<?, ?it/s]"
      ]
     },
     "metadata": {},
     "output_type": "display_data"
    },
    {
     "data": {
      "application/vnd.jupyter.widget-view+json": {
       "model_id": "b07aad4556f24e61b1d844e400b80e2f",
       "version_major": 2,
       "version_minor": 0
      },
      "text/plain": [
       "calculating IoU:   0%|          | 0/17 [00:00<?, ?it/s]"
      ]
     },
     "metadata": {},
     "output_type": "display_data"
    },
    {
     "name": "stdout",
     "output_type": "stream",
     "text": [
      "{np.uint8(0): np.float64(0.00012505158377830856), np.uint8(1): np.float64(0.07905945571255482), np.uint8(2): np.float64(0.012417078929615471), np.uint8(4): np.float64(0.10887106204831958), np.uint8(5): np.float64(0.06649937264742785), np.uint8(6): np.float64(0.06484641638225255), np.uint8(7): np.float64(0.00139588811676354), np.uint8(8): np.float64(0.0009256075952714675), np.uint8(11): np.float64(0.30784791159393143), np.uint8(17): np.float64(0.0695055805595397), np.uint8(19): np.float64(0.024227924771913836), np.uint8(20): np.float64(0.25563806380638066), np.uint8(21): np.float64(0.0032834837604585284), np.uint8(22): np.float64(0.18988365144644803), np.uint8(24): np.float64(0.027812214918949266), np.uint8(26): np.float64(0.19619467806424928), np.uint8(27): np.float64(0.5100688647746243), 'mean': np.float64(0.11285895921838109), 'weighted_mean': np.float64(0.02675338069746895)}\n"
     ]
    },
    {
     "data": {
      "application/vnd.jupyter.widget-view+json": {
       "model_id": "a49f43d42a45484087e1e5481ca5f02b",
       "version_major": 2,
       "version_minor": 0
      },
      "text/plain": [
       "finding centroids:   0%|          | 0/21 [00:00<?, ?it/s]"
      ]
     },
     "metadata": {},
     "output_type": "display_data"
    },
    {
     "data": {
      "application/vnd.jupyter.widget-view+json": {
       "model_id": "be382c3b644840c89919030e340320e5",
       "version_major": 2,
       "version_minor": 0
      },
      "text/plain": [
       "class growing:   0%|          | 0/241 [00:00<?, ?it/s]"
      ]
     },
     "metadata": {},
     "output_type": "display_data"
    },
    {
     "data": {
      "application/vnd.jupyter.widget-view+json": {
       "model_id": "d7113d0b9e5344ed80c1f17e3016f773",
       "version_major": 2,
       "version_minor": 0
      },
      "text/plain": [
       "calculating IoU:   0%|          | 0/20 [00:00<?, ?it/s]"
      ]
     },
     "metadata": {},
     "output_type": "display_data"
    },
    {
     "name": "stdout",
     "output_type": "stream",
     "text": [
      "{np.uint8(0): np.float64(0.00012709189732669254), np.uint8(1): np.float64(0.08142766687772852), np.uint8(2): np.float64(0.013212486417070039), np.uint8(4): np.float64(0.06729831902803204), np.uint8(6): np.float64(0.149233234149691), np.uint8(7): np.float64(0.0024776835458281484), np.uint8(8): np.float64(0.01303845345660853), np.uint8(11): np.float64(0.07583141762452107), np.uint8(12): np.float64(0.003756314494192824), np.uint8(17): np.float64(0.09098971849029333), np.uint8(19): np.float64(0.20884225012902116), np.uint8(20): np.float64(0.112303395560782), np.uint8(21): np.float64(0.004713351132457044), np.uint8(22): np.float64(0.014072836794549735), np.uint8(23): np.float64(0.8854495834530307), np.uint8(24): np.float64(0.33076923076923076), np.uint8(25): np.float64(0.050724637681159424), np.uint8(26): np.float64(0.1685031571127894), np.uint8(27): np.float64(0.1858108108108108), np.uint8(33): np.float64(0.23684210526315788), 'mean': np.float64(0.13477118723441406), 'weighted_mean': np.float64(0.02303759070770767)}\n"
     ]
    },
    {
     "data": {
      "application/vnd.jupyter.widget-view+json": {
       "model_id": "4717909f569b4747b9e8362704a6de08",
       "version_major": 2,
       "version_minor": 0
      },
      "text/plain": [
       "finding centroids:   0%|          | 0/19 [00:00<?, ?it/s]"
      ]
     },
     "metadata": {},
     "output_type": "display_data"
    },
    {
     "data": {
      "application/vnd.jupyter.widget-view+json": {
       "model_id": "c8f98cf8e01f4405907ca0e4954a7f24",
       "version_major": 2,
       "version_minor": 0
      },
      "text/plain": [
       "class growing:   0%|          | 0/226 [00:00<?, ?it/s]"
      ]
     },
     "metadata": {},
     "output_type": "display_data"
    },
    {
     "data": {
      "application/vnd.jupyter.widget-view+json": {
       "model_id": "b828ea43ca044da3b2347fb2245d3c64",
       "version_major": 2,
       "version_minor": 0
      },
      "text/plain": [
       "calculating IoU:   0%|          | 0/18 [00:00<?, ?it/s]"
      ]
     },
     "metadata": {},
     "output_type": "display_data"
    },
    {
     "name": "stdout",
     "output_type": "stream",
     "text": [
      "{np.uint8(0): np.float64(0.0003033902747801257), np.uint8(1): np.float64(0.13953700757289283), np.uint8(2): np.float64(0.0046106938350561465), np.uint8(4): np.float64(0.16116095300338662), np.uint8(5): np.float64(0.1299897645854657), np.uint8(6): np.float64(0.12668614142108428), np.uint8(7): np.float64(0.00014964522787015312), np.uint8(8): np.float64(0.36184376261746104), np.uint8(11): np.float64(0.10105983889011191), np.uint8(12): np.float64(0.5338501291989665), np.uint8(17): np.float64(0.20772561052498845), np.uint8(19): np.float64(0.08169596690796277), np.uint8(20): np.float64(0.20506164828033743), np.uint8(21): np.float64(0.02216363449999076), np.uint8(22): np.float64(0.05345028438292332), np.uint8(23): np.float64(0.9075869078315861), np.uint8(24): np.float64(0.03615090377259431), np.uint8(26): np.float64(0.09147396570709454), 'mean': np.float64(0.1758055693630307), 'weighted_mean': np.float64(0.09052904105340896)}\n"
     ]
    },
    {
     "data": {
      "application/vnd.jupyter.widget-view+json": {
       "model_id": "08f5f6445585465c8ca728a88b07f505",
       "version_major": 2,
       "version_minor": 0
      },
      "text/plain": [
       "finding centroids:   0%|          | 0/18 [00:00<?, ?it/s]"
      ]
     },
     "metadata": {},
     "output_type": "display_data"
    },
    {
     "data": {
      "application/vnd.jupyter.widget-view+json": {
       "model_id": "e064d048c3b349128a165110a986b180",
       "version_major": 2,
       "version_minor": 0
      },
      "text/plain": [
       "class growing:   0%|          | 0/163 [00:00<?, ?it/s]"
      ]
     },
     "metadata": {},
     "output_type": "display_data"
    },
    {
     "data": {
      "application/vnd.jupyter.widget-view+json": {
       "model_id": "a8b4a0d6b0924f259f3f153fca52761e",
       "version_major": 2,
       "version_minor": 0
      },
      "text/plain": [
       "calculating IoU:   0%|          | 0/18 [00:00<?, ?it/s]"
      ]
     },
     "metadata": {},
     "output_type": "display_data"
    },
    {
     "name": "stdout",
     "output_type": "stream",
     "text": [
      "{np.uint8(0): np.float64(0.0), np.uint8(1): np.float64(0.10123343635498815), np.uint8(2): np.float64(0.005489595301927741), np.uint8(4): np.float64(0.031082455959852304), np.uint8(7): np.float64(0.005693967978724734), np.uint8(8): np.float64(0.005516008167935172), np.uint8(11): np.float64(0.07039589116894542), np.uint8(12): np.float64(0.09559360803126092), np.uint8(13): np.float64(0.0385303285809188), np.uint8(17): np.float64(0.02570284959456341), np.uint8(19): np.float64(0.17222448149654332), np.uint8(20): np.float64(0.15733574839453318), np.uint8(21): np.float64(0.09258615787977383), np.uint8(23): np.float64(0.18258027099699478), np.uint8(24): np.float64(0.20238095238095238), np.uint8(25): np.float64(0.0061548698328204275), np.uint8(26): np.float64(0.0010555399482321752), np.uint8(33): np.float64(0.026510766381106738), 'mean': np.float64(0.0677814960250041), 'weighted_mean': np.float64(0.038989854093859494)}\n"
     ]
    },
    {
     "data": {
      "application/vnd.jupyter.widget-view+json": {
       "model_id": "be9d78a055274094b21ae6e758a00080",
       "version_major": 2,
       "version_minor": 0
      },
      "text/plain": [
       "finding centroids:   0%|          | 0/18 [00:00<?, ?it/s]"
      ]
     },
     "metadata": {},
     "output_type": "display_data"
    },
    {
     "data": {
      "application/vnd.jupyter.widget-view+json": {
       "model_id": "462019f7bc3c4cfc93f44525a4e402c2",
       "version_major": 2,
       "version_minor": 0
      },
      "text/plain": [
       "class growing:   0%|          | 0/133 [00:00<?, ?it/s]"
      ]
     },
     "metadata": {},
     "output_type": "display_data"
    },
    {
     "data": {
      "application/vnd.jupyter.widget-view+json": {
       "model_id": "7b77e511c87242e08587b7353707e191",
       "version_major": 2,
       "version_minor": 0
      },
      "text/plain": [
       "calculating IoU:   0%|          | 0/18 [00:00<?, ?it/s]"
      ]
     },
     "metadata": {},
     "output_type": "display_data"
    },
    {
     "name": "stdout",
     "output_type": "stream",
     "text": [
      "{np.uint8(0): np.float64(0.0), np.uint8(1): np.float64(0.10923853048968958), np.uint8(2): np.float64(0.016056209917148376), np.uint8(4): np.float64(0.02725183761774863), np.uint8(6): np.float64(0.0045507669076504595), np.uint8(7): np.float64(0.013782751574422025), np.uint8(8): np.float64(0.1960906489430444), np.uint8(9): np.float64(0.22583343290715738), np.uint8(11): np.float64(0.08912745528323825), np.uint8(17): np.float64(0.03070666588082749), np.uint8(19): np.float64(0.19010561423012784), np.uint8(20): np.float64(0.16404302767939133), np.uint8(21): np.float64(0.000992257140998113), np.uint8(22): np.float64(0.008364479668572972), np.uint8(23): np.float64(0.908550302839613), np.uint8(25): np.float64(0.0670287944309672), np.uint8(26): np.float64(0.31451042870446205), np.uint8(33): np.float64(0.2118941068636437), 'mean': np.float64(0.14322929505992796), 'weighted_mean': np.float64(0.08221006395300741)}\n"
     ]
    },
    {
     "data": {
      "application/vnd.jupyter.widget-view+json": {
       "model_id": "3d974f7326c24718995ced755cbdec9d",
       "version_major": 2,
       "version_minor": 0
      },
      "text/plain": [
       "finding centroids:   0%|          | 0/18 [00:00<?, ?it/s]"
      ]
     },
     "metadata": {},
     "output_type": "display_data"
    },
    {
     "data": {
      "application/vnd.jupyter.widget-view+json": {
       "model_id": "7bd8938c7c4945ff92b0c4126e419cd1",
       "version_major": 2,
       "version_minor": 0
      },
      "text/plain": [
       "class growing:   0%|          | 0/149 [00:00<?, ?it/s]"
      ]
     },
     "metadata": {},
     "output_type": "display_data"
    },
    {
     "data": {
      "application/vnd.jupyter.widget-view+json": {
       "model_id": "a579e6c44cde4c76826d2c36acc4c239",
       "version_major": 2,
       "version_minor": 0
      },
      "text/plain": [
       "calculating IoU:   0%|          | 0/18 [00:00<?, ?it/s]"
      ]
     },
     "metadata": {},
     "output_type": "display_data"
    },
    {
     "name": "stdout",
     "output_type": "stream",
     "text": [
      "{np.uint8(0): np.float64(0.0), np.uint8(1): np.float64(0.35885908732519056), np.uint8(2): np.float64(0.014667223268985593), np.uint8(4): np.float64(0.24430924875247795), np.uint8(5): np.float64(0.15093209054593876), np.uint8(7): np.float64(0.3765193740776427), np.uint8(8): np.float64(0.002487334432033205), np.uint8(11): np.float64(0.12820668177356614), np.uint8(12): np.float64(0.03931402685649571), np.uint8(13): np.float64(0.0604650667575222), np.uint8(17): np.float64(0.02483843776341669), np.uint8(19): np.float64(0.5429362880886427), np.uint8(20): np.float64(0.10971398543652879), np.uint8(21): np.float64(0.007964611294679855), np.uint8(22): np.float64(0.3111111111111111), np.uint8(23): np.float64(0.015472657905892327), np.uint8(24): np.float64(0.03712086917157085), np.uint8(26): np.float64(0.16105092765533557), 'mean': np.float64(0.14366494567872398), 'weighted_mean': np.float64(0.18631667921022627)}\n"
     ]
    },
    {
     "data": {
      "application/vnd.jupyter.widget-view+json": {
       "model_id": "210d421041ef43b3a8dc13dfb97ac984",
       "version_major": 2,
       "version_minor": 0
      },
      "text/plain": [
       "finding centroids:   0%|          | 0/19 [00:00<?, ?it/s]"
      ]
     },
     "metadata": {},
     "output_type": "display_data"
    },
    {
     "data": {
      "application/vnd.jupyter.widget-view+json": {
       "model_id": "db841813191d47d99878b04d86ba8761",
       "version_major": 2,
       "version_minor": 0
      },
      "text/plain": [
       "class growing:   0%|          | 0/110 [00:00<?, ?it/s]"
      ]
     },
     "metadata": {},
     "output_type": "display_data"
    },
    {
     "data": {
      "application/vnd.jupyter.widget-view+json": {
       "model_id": "1a26178417c2438fa3499b6a959bb672",
       "version_major": 2,
       "version_minor": 0
      },
      "text/plain": [
       "calculating IoU:   0%|          | 0/19 [00:00<?, ?it/s]"
      ]
     },
     "metadata": {},
     "output_type": "display_data"
    },
    {
     "name": "stdout",
     "output_type": "stream",
     "text": [
      "{np.uint8(0): np.float64(0.0), np.uint8(1): np.float64(0.0810074301482446), np.uint8(2): np.float64(0.016994963478627747), np.uint8(4): np.float64(0.027270982939305733), np.uint8(5): np.float64(0.4627450980392157), np.uint8(6): np.float64(0.05907509423021166), np.uint8(7): np.float64(0.0001306414815381282), np.uint8(8): np.float64(0.0032984760010101584), np.uint8(11): np.float64(0.22276352054158563), np.uint8(12): np.float64(0.05084006109535239), np.uint8(13): np.float64(0.011808871232277581), np.uint8(17): np.float64(0.036198575040220636), np.uint8(20): np.float64(0.2656939430405134), np.uint8(21): np.float64(0.0008169860886678162), np.uint8(22): np.float64(0.22377622377622378), np.uint8(23): np.float64(0.8480305880924925), np.uint8(25): np.float64(0.05158264947245018), np.uint8(26): np.float64(0.022439742934866537), np.uint8(33): np.float64(0.24701195219123506), 'mean': np.float64(0.13849925262231783), 'weighted_mean': np.float64(0.03945270596095869)}\n"
     ]
    },
    {
     "data": {
      "application/vnd.jupyter.widget-view+json": {
       "model_id": "0fc2711186ff4b1ca6f5f469623d7fff",
       "version_major": 2,
       "version_minor": 0
      },
      "text/plain": [
       "finding centroids:   0%|          | 0/17 [00:00<?, ?it/s]"
      ]
     },
     "metadata": {},
     "output_type": "display_data"
    },
    {
     "data": {
      "application/vnd.jupyter.widget-view+json": {
       "model_id": "46ff1e77caa24dfda8eb451e5599a31f",
       "version_major": 2,
       "version_minor": 0
      },
      "text/plain": [
       "class growing:   0%|          | 0/146 [00:00<?, ?it/s]"
      ]
     },
     "metadata": {},
     "output_type": "display_data"
    },
    {
     "data": {
      "application/vnd.jupyter.widget-view+json": {
       "model_id": "ad96e633195e4575b214cb229d3800a1",
       "version_major": 2,
       "version_minor": 0
      },
      "text/plain": [
       "calculating IoU:   0%|          | 0/17 [00:00<?, ?it/s]"
      ]
     },
     "metadata": {},
     "output_type": "display_data"
    },
    {
     "name": "stdout",
     "output_type": "stream",
     "text": [
      "{np.uint8(0): np.float64(0.0), np.uint8(1): np.float64(0.08812940469671744), np.uint8(2): np.float64(0.00689975013250549), np.uint8(4): np.float64(0.05447869311085577), np.uint8(6): np.float64(0.00899984348098294), np.uint8(7): np.float64(0.00030454370631120364), np.uint8(8): np.float64(0.0035632042949215823), np.uint8(11): np.float64(0.11927010380490051), np.uint8(17): np.float64(0.0985466275234678), np.uint8(19): np.float64(0.26776859504132233), np.uint8(20): np.float64(0.16288147622427254), np.uint8(21): np.float64(0.0003704931213037325), np.uint8(23): np.float64(0.8498845265588915), np.uint8(24): np.float64(0.25038560411311056), np.uint8(25): np.float64(0.30374361883153717), np.uint8(26): np.float64(0.01733889973739142), np.uint8(33): np.float64(0.07097680955727337), 'mean': np.float64(0.1355024819962215), 'weighted_mean': np.float64(0.024061823966456487)}\n"
     ]
    },
    {
     "data": {
      "application/vnd.jupyter.widget-view+json": {
       "model_id": "7de52fc963b546af959f7aaa13ec510d",
       "version_major": 2,
       "version_minor": 0
      },
      "text/plain": [
       "finding centroids:   0%|          | 0/22 [00:00<?, ?it/s]"
      ]
     },
     "metadata": {},
     "output_type": "display_data"
    },
    {
     "data": {
      "application/vnd.jupyter.widget-view+json": {
       "model_id": "f28353e850064b57aab308d172793991",
       "version_major": 2,
       "version_minor": 0
      },
      "text/plain": [
       "class growing:   0%|          | 0/216 [00:00<?, ?it/s]"
      ]
     },
     "metadata": {},
     "output_type": "display_data"
    },
    {
     "data": {
      "application/vnd.jupyter.widget-view+json": {
       "model_id": "fe18e94ad14b49838da20d41c5f131b8",
       "version_major": 2,
       "version_minor": 0
      },
      "text/plain": [
       "calculating IoU:   0%|          | 0/22 [00:00<?, ?it/s]"
      ]
     },
     "metadata": {},
     "output_type": "display_data"
    },
    {
     "name": "stdout",
     "output_type": "stream",
     "text": [
      "{np.uint8(0): np.float64(0.0), np.uint8(1): np.float64(0.11196798719487795), np.uint8(2): np.float64(0.008396508364617123), np.uint8(4): np.float64(0.018585715359908907), np.uint8(5): np.float64(0.08586296617519515), np.uint8(6): np.float64(0.028462192013593884), np.uint8(7): np.float64(0.0002748590365798112), np.uint8(8): np.float64(0.1478923311325546), np.uint8(11): np.float64(0.09414990390775144), np.uint8(12): np.float64(0.4889867841409692), np.uint8(13): np.float64(0.030336662967073623), np.uint8(17): np.float64(0.05969070400030435), np.uint8(19): np.float64(0.04488942677962372), np.uint8(20): np.float64(0.2611069277108434), np.uint8(21): np.float64(0.0020279997120852228), np.uint8(22): np.float64(0.12978000885870367), np.uint8(23): np.float64(0.9354598698895397), np.uint8(24): np.float64(0.026738985631363593), np.uint8(25): np.float64(0.1429572529782761), np.uint8(26): np.float64(0.3117786327315774), np.uint8(32): np.float64(0.1610337972166998), np.uint8(33): np.float64(0.3645200486026732), 'mean': np.float64(0.1570408892911278), 'weighted_mean': np.float64(0.046457023200844695)}\n"
     ]
    },
    {
     "data": {
      "application/vnd.jupyter.widget-view+json": {
       "model_id": "700cd12a10cb4a638896f18375dcf489",
       "version_major": 2,
       "version_minor": 0
      },
      "text/plain": [
       "finding centroids:   0%|          | 0/22 [00:00<?, ?it/s]"
      ]
     },
     "metadata": {},
     "output_type": "display_data"
    },
    {
     "data": {
      "application/vnd.jupyter.widget-view+json": {
       "model_id": "24e96ba92c1546e3a21644827691fc61",
       "version_major": 2,
       "version_minor": 0
      },
      "text/plain": [
       "class growing:   0%|          | 0/165 [00:00<?, ?it/s]"
      ]
     },
     "metadata": {},
     "output_type": "display_data"
    },
    {
     "data": {
      "application/vnd.jupyter.widget-view+json": {
       "model_id": "53d59e824bef473cb98269fb7a4561a4",
       "version_major": 2,
       "version_minor": 0
      },
      "text/plain": [
       "calculating IoU:   0%|          | 0/21 [00:00<?, ?it/s]"
      ]
     },
     "metadata": {},
     "output_type": "display_data"
    },
    {
     "name": "stdout",
     "output_type": "stream",
     "text": [
      "{np.uint8(0): np.float64(4.171864114042077e-06), np.uint8(1): np.float64(0.13767362362413896), np.uint8(2): np.float64(0.012352277546187021), np.uint8(4): np.float64(0.064983696759731), np.uint8(5): np.float64(0.058981444926964076), np.uint8(6): np.float64(0.019597338145725243), np.uint8(7): np.float64(0.00018010430501117555), np.uint8(8): np.float64(0.001338057366853869), np.uint8(11): np.float64(0.10128573753594097), np.uint8(12): np.float64(0.020681703538228725), np.uint8(13): np.float64(0.24006555610435096), np.uint8(17): np.float64(0.03237725212356683), np.uint8(19): np.float64(0.3983371126228269), np.uint8(20): np.float64(0.19659150893597768), np.uint8(21): np.float64(0.001171520057623884), np.uint8(22): np.float64(0.026054525397909336), np.uint8(23): np.float64(0.85703125), np.uint8(24): np.float64(0.023903518285540756), np.uint8(25): np.float64(0.07542310522442973), np.uint8(26): np.float64(0.05068435205607759), np.uint8(33): np.float64(0.11203243044039064), 'mean': np.float64(0.1157500136600757), 'weighted_mean': np.float64(0.03588449638790069)}\n"
     ]
    },
    {
     "data": {
      "application/vnd.jupyter.widget-view+json": {
       "model_id": "2df8000ba2a94bf7946a17be8a6a0cf8",
       "version_major": 2,
       "version_minor": 0
      },
      "text/plain": [
       "finding centroids:   0%|          | 0/21 [00:00<?, ?it/s]"
      ]
     },
     "metadata": {},
     "output_type": "display_data"
    },
    {
     "data": {
      "application/vnd.jupyter.widget-view+json": {
       "model_id": "536234dab78c4515a03d8e57f0184d41",
       "version_major": 2,
       "version_minor": 0
      },
      "text/plain": [
       "class growing:   0%|          | 0/168 [00:00<?, ?it/s]"
      ]
     },
     "metadata": {},
     "output_type": "display_data"
    },
    {
     "data": {
      "application/vnd.jupyter.widget-view+json": {
       "model_id": "6870f6c75fcf4e83a3ee65b3444f11d6",
       "version_major": 2,
       "version_minor": 0
      },
      "text/plain": [
       "calculating IoU:   0%|          | 0/20 [00:00<?, ?it/s]"
      ]
     },
     "metadata": {},
     "output_type": "display_data"
    },
    {
     "name": "stdout",
     "output_type": "stream",
     "text": [
      "{np.uint8(0): np.float64(1.2313845441537556e-06), np.uint8(1): np.float64(0.08726317591691687), np.uint8(2): np.float64(0.09815592283573364), np.uint8(4): np.float64(0.050553576851928544), np.uint8(5): np.float64(0.49064599483204135), np.uint8(6): np.float64(0.047158125588038204), np.uint8(7): np.float64(0.00012650184590911934), np.uint8(8): np.float64(0.02174948404508652), np.uint8(11): np.float64(0.1287616501851944), np.uint8(13): np.float64(0.0047672785057921285), np.uint8(17): np.float64(0.049092746787312895), np.uint8(19): np.float64(0.22390019697964544), np.uint8(20): np.float64(0.3335872048743336), np.uint8(21): np.float64(0.0005339309202513762), np.uint8(22): np.float64(0.009496130776281137), np.uint8(23): np.float64(0.7266332856461611), np.uint8(24): np.float64(0.050973611006691226), np.uint8(25): np.float64(0.017341395291734448), np.uint8(26): np.float64(0.013068804142188589), np.uint8(33): np.float64(0.04735622498420055), 'mean': np.float64(0.12005832366999927), 'weighted_mean': np.float64(0.0287230361271021)}\n"
     ]
    },
    {
     "data": {
      "application/vnd.jupyter.widget-view+json": {
       "model_id": "2ccc6aa5f06b4ac29e5dfc78188b3201",
       "version_major": 2,
       "version_minor": 0
      },
      "text/plain": [
       "finding centroids:   0%|          | 0/20 [00:00<?, ?it/s]"
      ]
     },
     "metadata": {},
     "output_type": "display_data"
    },
    {
     "data": {
      "application/vnd.jupyter.widget-view+json": {
       "model_id": "75ffe8c468334667b6302da7f65820df",
       "version_major": 2,
       "version_minor": 0
      },
      "text/plain": [
       "class growing:   0%|          | 0/184 [00:00<?, ?it/s]"
      ]
     },
     "metadata": {},
     "output_type": "display_data"
    },
    {
     "data": {
      "application/vnd.jupyter.widget-view+json": {
       "model_id": "933d09c5c6764952b0c94fad5f7f490f",
       "version_major": 2,
       "version_minor": 0
      },
      "text/plain": [
       "calculating IoU:   0%|          | 0/20 [00:00<?, ?it/s]"
      ]
     },
     "metadata": {},
     "output_type": "display_data"
    },
    {
     "name": "stdout",
     "output_type": "stream",
     "text": [
      "{np.uint8(0): np.float64(0.0), np.uint8(1): np.float64(0.1207261815990618), np.uint8(2): np.float64(0.00451309546882609), np.uint8(4): np.float64(0.3077007640301215), np.uint8(6): np.float64(0.13676286072772897), np.uint8(7): np.float64(0.00013693566918123603), np.uint8(8): np.float64(0.1281583529774103), np.uint8(11): np.float64(0.0367197881087637), np.uint8(12): np.float64(0.01250633767111712), np.uint8(17): np.float64(0.09383928382468096), np.uint8(19): np.float64(0.12537384854647685), np.uint8(20): np.float64(0.2082913940613991), np.uint8(21): np.float64(0.001477311778152968), np.uint8(22): np.float64(0.03453389226338153), np.uint8(23): np.float64(0.0030702751876279283), np.uint8(24): np.float64(0.31822565091610416), np.uint8(25): np.float64(0.04430379746835443), np.uint8(26): np.float64(0.011212689482731677), np.uint8(28): np.float64(0.048004042445679636), np.uint8(33): np.float64(0.13399922168893502), 'mean': np.float64(0.08847778619578675), 'weighted_mean': np.float64(0.02151769581620221)}\n"
     ]
    },
    {
     "data": {
      "application/vnd.jupyter.widget-view+json": {
       "model_id": "391f32276a164a45828722dc89c08f04",
       "version_major": 2,
       "version_minor": 0
      },
      "text/plain": [
       "finding centroids:   0%|          | 0/18 [00:00<?, ?it/s]"
      ]
     },
     "metadata": {},
     "output_type": "display_data"
    },
    {
     "data": {
      "application/vnd.jupyter.widget-view+json": {
       "model_id": "754771b2cc06461a9d87833f4024df2f",
       "version_major": 2,
       "version_minor": 0
      },
      "text/plain": [
       "class growing:   0%|          | 0/152 [00:00<?, ?it/s]"
      ]
     },
     "metadata": {},
     "output_type": "display_data"
    },
    {
     "ename": "KeyboardInterrupt",
     "evalue": "",
     "output_type": "error",
     "traceback": [
      "\u001b[1;31m---------------------------------------------------------------------------\u001b[0m",
      "\u001b[1;31mKeyboardInterrupt\u001b[0m                         Traceback (most recent call last)",
      "Cell \u001b[1;32mIn[66], line 5\u001b[0m\n\u001b[0;32m      2\u001b[0m criteria \u001b[38;5;241m=\u001b[39m \u001b[38;5;28;01mlambda\u001b[39;00m x, y: \u001b[38;5;28mmax\u001b[39m(x[\u001b[38;5;241m1\u001b[39m], y[\u001b[38;5;241m1\u001b[39m]) \u001b[38;5;241m-\u001b[39m \u001b[38;5;28mmin\u001b[39m(x[\u001b[38;5;241m1\u001b[39m], y[\u001b[38;5;241m1\u001b[39m]) \u001b[38;5;241m<\u001b[39m\u001b[38;5;241m=\u001b[39m \u001b[38;5;241m3\u001b[39m\n\u001b[0;32m      4\u001b[0m \u001b[38;5;28;01mfor\u001b[39;00m n \u001b[38;5;129;01min\u001b[39;00m trange(\u001b[38;5;241m500\u001b[39m):\n\u001b[1;32m----> 5\u001b[0m     img_res \u001b[38;5;241m=\u001b[39m \u001b[43mprocess_image\u001b[49m\u001b[43m(\u001b[49m\u001b[43mRGB2HSL\u001b[49m\u001b[43m(\u001b[49m\u001b[43mnp\u001b[49m\u001b[38;5;241;43m.\u001b[39;49m\u001b[43marray\u001b[49m\u001b[43m(\u001b[49m\u001b[43mds\u001b[49m\u001b[43m[\u001b[49m\u001b[38;5;124;43m'\u001b[39;49m\u001b[38;5;124;43mvalidation\u001b[39;49m\u001b[38;5;124;43m'\u001b[39;49m\u001b[43m]\u001b[49m\u001b[38;5;241;43m.\u001b[39;49m\u001b[43mselect\u001b[49m\u001b[43m(\u001b[49m\u001b[43m[\u001b[49m\u001b[43mn\u001b[49m\u001b[43m]\u001b[49m\u001b[43m)\u001b[49m\u001b[43m[\u001b[49m\u001b[38;5;124;43m'\u001b[39;49m\u001b[38;5;124;43mimage\u001b[39;49m\u001b[38;5;124;43m'\u001b[39;49m\u001b[43m]\u001b[49m\u001b[43m[\u001b[49m\u001b[38;5;241;43m0\u001b[39;49m\u001b[43m]\u001b[49m\u001b[43m)\u001b[49m\u001b[43m)\u001b[49m\u001b[43m,\u001b[49m\n\u001b[0;32m      6\u001b[0m \u001b[43m                            \u001b[49m\u001b[43mimg_map\u001b[49m\u001b[43m \u001b[49m\u001b[38;5;241;43m:=\u001b[39;49m\u001b[43m \u001b[49m\u001b[43mRGB2gray\u001b[49m\u001b[43m(\u001b[49m\u001b[43mnp\u001b[49m\u001b[38;5;241;43m.\u001b[39;49m\u001b[43marray\u001b[49m\u001b[43m(\u001b[49m\u001b[43mds\u001b[49m\u001b[43m[\u001b[49m\u001b[38;5;124;43m'\u001b[39;49m\u001b[38;5;124;43mvalidation\u001b[39;49m\u001b[38;5;124;43m'\u001b[39;49m\u001b[43m]\u001b[49m\u001b[38;5;241;43m.\u001b[39;49m\u001b[43mselect\u001b[49m\u001b[43m(\u001b[49m\u001b[43m[\u001b[49m\u001b[43mn\u001b[49m\u001b[43m]\u001b[49m\u001b[43m)\u001b[49m\u001b[43m[\u001b[49m\u001b[38;5;124;43m'\u001b[39;49m\u001b[38;5;124;43msemantic_segmentation\u001b[39;49m\u001b[38;5;124;43m'\u001b[39;49m\u001b[43m]\u001b[49m\u001b[43m)\u001b[49m\u001b[43m[\u001b[49m\u001b[38;5;241;43m0\u001b[39;49m\u001b[43m]\u001b[49m\u001b[43m)\u001b[49m\u001b[43m,\u001b[49m\u001b[43m \u001b[49m\u001b[43mcriteria\u001b[49m\u001b[43m)\u001b[49m\n\u001b[0;32m      7\u001b[0m     results[n] \u001b[38;5;241m=\u001b[39m intersection_over_union(img_res, img_map)\n\u001b[0;32m      8\u001b[0m     \u001b[38;5;28mprint\u001b[39m(results[n])\n",
      "Cell \u001b[1;32mIn[64], line 9\u001b[0m, in \u001b[0;36mprocess_image\u001b[1;34m(img, class_map, criteria)\u001b[0m\n\u001b[0;32m      6\u001b[0m     \u001b[38;5;28;01mif\u001b[39;00m l:\n\u001b[0;32m      7\u001b[0m         label_dict \u001b[38;5;241m|\u001b[39m\u001b[38;5;241m=\u001b[39m {\u001b[38;5;28mtuple\u001b[39m(seed\u001b[38;5;241m.\u001b[39mtolist()): l \u001b[38;5;28;01mfor\u001b[39;00m seed \u001b[38;5;129;01min\u001b[39;00m curr}\n\u001b[1;32m----> 9\u001b[0m \u001b[38;5;28;01mreturn\u001b[39;00m \u001b[43mregional_growth\u001b[49m\u001b[43m(\u001b[49m\u001b[43mimg\u001b[49m\u001b[43m,\u001b[49m\u001b[43m \u001b[49m\u001b[43mlabel_dict\u001b[49m\u001b[43m,\u001b[49m\u001b[43m \u001b[49m\u001b[43mcriteria\u001b[49m\u001b[43m)\u001b[49m\n",
      "Cell \u001b[1;32mIn[63], line 17\u001b[0m, in \u001b[0;36mregional_growth\u001b[1;34m(img, labels, grow_criteria)\u001b[0m\n\u001b[0;32m     15\u001b[0m \u001b[38;5;28;01mfor\u001b[39;00m direction \u001b[38;5;129;01min\u001b[39;00m random\u001b[38;5;241m.\u001b[39msample(directions, \u001b[38;5;241m6\u001b[39m):\n\u001b[0;32m     16\u001b[0m     new_point \u001b[38;5;241m=\u001b[39m tuple_sum(current_point, direction)\n\u001b[1;32m---> 17\u001b[0m     \u001b[38;5;28;01mif\u001b[39;00m \u001b[43mis_inside\u001b[49m\u001b[43m(\u001b[49m\u001b[43mnew_point\u001b[49m\u001b[43m,\u001b[49m\u001b[43m \u001b[49m\u001b[43mimg\u001b[49m\u001b[38;5;241;43m.\u001b[39;49m\u001b[43mshape\u001b[49m\u001b[43m)\u001b[49m \u001b[38;5;129;01mand\u001b[39;00m \u001b[38;5;129;01mnot\u001b[39;00m mask[\u001b[38;5;241m*\u001b[39mnew_point] \u001b[38;5;129;01mand\u001b[39;00m grow_criteria(img[\u001b[38;5;241m*\u001b[39mnew_point], img[\u001b[38;5;241m*\u001b[39mcurrent_point]):\n\u001b[0;32m     18\u001b[0m         current_class\u001b[38;5;241m.\u001b[39mappend(new_point)\n\u001b[0;32m     19\u001b[0m         mask[\u001b[38;5;241m*\u001b[39mnew_point] \u001b[38;5;241m=\u001b[39m label\n",
      "Cell \u001b[1;32mIn[4], line 1\u001b[0m, in \u001b[0;36mis_inside\u001b[1;34m(coord, shape)\u001b[0m\n\u001b[1;32m----> 1\u001b[0m \u001b[38;5;28;01mdef\u001b[39;00m \u001b[38;5;21mis_inside\u001b[39m(coord, shape):\n\u001b[0;32m      2\u001b[0m     \u001b[38;5;28;01mreturn\u001b[39;00m coord[\u001b[38;5;241m0\u001b[39m] \u001b[38;5;241m>\u001b[39m\u001b[38;5;241m=\u001b[39m \u001b[38;5;241m0\u001b[39m \u001b[38;5;129;01mand\u001b[39;00m coord[\u001b[38;5;241m0\u001b[39m] \u001b[38;5;241m<\u001b[39m shape[\u001b[38;5;241m0\u001b[39m] \u001b[38;5;129;01mand\u001b[39;00m coord[\u001b[38;5;241m1\u001b[39m] \u001b[38;5;241m>\u001b[39m\u001b[38;5;241m=\u001b[39m \u001b[38;5;241m0\u001b[39m \u001b[38;5;129;01mand\u001b[39;00m coord[\u001b[38;5;241m1\u001b[39m] \u001b[38;5;241m<\u001b[39m shape[\u001b[38;5;241m1\u001b[39m]\n\u001b[0;32m      5\u001b[0m \u001b[38;5;28;01mdef\u001b[39;00m \u001b[38;5;21mtuple_sum\u001b[39m(t1, t2):\n",
      "\u001b[1;31mKeyboardInterrupt\u001b[0m: "
     ]
    }
   ],
   "source": [
    "results = {}\n",
    "criteria = lambda x, y: max(x[1], y[1]) - min(x[1], y[1]) <= 3\n",
    "\n",
    "for n in trange(500):\n",
    "    img_res = process_image(RGB2HSL(np.array(ds['validation'].select([n])['image'][0])),\n",
    "                            img_map := RGB2gray(np.array(ds['validation'].select([n])['semantic_segmentation'])[0]), criteria)\n",
    "    results[n] = intersection_over_union(img_res, img_map)\n",
    "    print(results[n])"
   ]
  },
  {
   "cell_type": "code",
   "execution_count": 69,
   "id": "59147112-8cbc-495d-a620-c00509222cac",
   "metadata": {},
   "outputs": [],
   "source": [
    "import pandas as pd"
   ]
  },
  {
   "cell_type": "code",
   "execution_count": 101,
   "id": "be393b79-754e-459a-ae1d-5efc2d2810e6",
   "metadata": {},
   "outputs": [],
   "source": [
    "df = pd.DataFrame(results).transpose()\n",
    "df.to_csv('results.csv')"
   ]
  },
  {
   "cell_type": "code",
   "execution_count": 114,
   "id": "17017839-8685-43c8-925b-d18140e37138",
   "metadata": {},
   "outputs": [
    {
     "name": "stderr",
     "output_type": "stream",
     "text": [
      "C:\\Users\\User\\AppData\\Local\\Temp\\ipykernel_137492\\2257573036.py:1: FutureWarning: Series.__getitem__ treating keys as positions is deprecated. In a future version, integer keys will always be treated as labels (consistent with DataFrame behavior). To access a value by position, use `ser.iloc[pos]`\n",
      "  df.loc[df['mean'] == df[['mean']].max()[0]]\n"
     ]
    },
    {
     "data": {
      "text/html": [
       "<div>\n",
       "<style scoped>\n",
       "    .dataframe tbody tr th:only-of-type {\n",
       "        vertical-align: middle;\n",
       "    }\n",
       "\n",
       "    .dataframe tbody tr th {\n",
       "        vertical-align: top;\n",
       "    }\n",
       "\n",
       "    .dataframe thead th {\n",
       "        text-align: right;\n",
       "    }\n",
       "</style>\n",
       "<table border=\"1\" class=\"dataframe\">\n",
       "  <thead>\n",
       "    <tr style=\"text-align: right;\">\n",
       "      <th></th>\n",
       "      <th>0</th>\n",
       "      <th>1</th>\n",
       "      <th>2</th>\n",
       "      <th>4</th>\n",
       "      <th>7</th>\n",
       "      <th>8</th>\n",
       "      <th>11</th>\n",
       "      <th>13</th>\n",
       "      <th>17</th>\n",
       "      <th>20</th>\n",
       "      <th>...</th>\n",
       "      <th>27</th>\n",
       "      <th>32</th>\n",
       "      <th>31</th>\n",
       "      <th>28</th>\n",
       "      <th>6</th>\n",
       "      <th>10</th>\n",
       "      <th>12</th>\n",
       "      <th>18</th>\n",
       "      <th>15</th>\n",
       "      <th>30</th>\n",
       "    </tr>\n",
       "  </thead>\n",
       "  <tbody>\n",
       "    <tr>\n",
       "      <th>149</th>\n",
       "      <td>0.0</td>\n",
       "      <td>0.100983</td>\n",
       "      <td>0.006225</td>\n",
       "      <td>0.079796</td>\n",
       "      <td>0.000126</td>\n",
       "      <td>0.380508</td>\n",
       "      <td>0.042639</td>\n",
       "      <td>NaN</td>\n",
       "      <td>0.358132</td>\n",
       "      <td>0.214268</td>\n",
       "      <td>...</td>\n",
       "      <td>NaN</td>\n",
       "      <td>NaN</td>\n",
       "      <td>NaN</td>\n",
       "      <td>NaN</td>\n",
       "      <td>0.495628</td>\n",
       "      <td>NaN</td>\n",
       "      <td>NaN</td>\n",
       "      <td>NaN</td>\n",
       "      <td>NaN</td>\n",
       "      <td>NaN</td>\n",
       "    </tr>\n",
       "  </tbody>\n",
       "</table>\n",
       "<p>1 rows × 32 columns</p>\n",
       "</div>"
      ],
      "text/plain": [
       "      0         1         2         4         7         8         11  13  \\\n",
       "149  0.0  0.100983  0.006225  0.079796  0.000126  0.380508  0.042639 NaN   \n",
       "\n",
       "           17        20  ...  27  32  31  28        6   10  12  18  15  30  \n",
       "149  0.358132  0.214268  ... NaN NaN NaN NaN  0.495628 NaN NaN NaN NaN NaN  \n",
       "\n",
       "[1 rows x 32 columns]"
      ]
     },
     "execution_count": 114,
     "metadata": {},
     "output_type": "execute_result"
    }
   ],
   "source": [
    "df.loc[df['mean'] == df[['mean']].max()[0]]"
   ]
  },
  {
   "cell_type": "code",
   "execution_count": 75,
   "id": "61a15b72-4818-41c8-906a-f83aa6ec9485",
   "metadata": {},
   "outputs": [
    {
     "data": {
      "text/html": [
       "<div>\n",
       "<style scoped>\n",
       "    .dataframe tbody tr th:only-of-type {\n",
       "        vertical-align: middle;\n",
       "    }\n",
       "\n",
       "    .dataframe tbody tr th {\n",
       "        vertical-align: top;\n",
       "    }\n",
       "\n",
       "    .dataframe thead th {\n",
       "        text-align: right;\n",
       "    }\n",
       "</style>\n",
       "<table border=\"1\" class=\"dataframe\">\n",
       "  <thead>\n",
       "    <tr style=\"text-align: right;\">\n",
       "      <th></th>\n",
       "      <th>Unnamed: 0</th>\n",
       "      <th>0</th>\n",
       "      <th>1</th>\n",
       "      <th>2</th>\n",
       "      <th>4</th>\n",
       "      <th>7</th>\n",
       "      <th>8</th>\n",
       "      <th>11</th>\n",
       "      <th>13</th>\n",
       "      <th>17</th>\n",
       "      <th>...</th>\n",
       "      <th>27</th>\n",
       "      <th>32</th>\n",
       "      <th>31</th>\n",
       "      <th>28</th>\n",
       "      <th>6</th>\n",
       "      <th>10</th>\n",
       "      <th>12</th>\n",
       "      <th>18</th>\n",
       "      <th>15</th>\n",
       "      <th>30</th>\n",
       "    </tr>\n",
       "  </thead>\n",
       "  <tbody>\n",
       "    <tr>\n",
       "      <th>0</th>\n",
       "      <td>0</td>\n",
       "      <td>0.000000</td>\n",
       "      <td>0.149717</td>\n",
       "      <td>0.023092</td>\n",
       "      <td>0.188801</td>\n",
       "      <td>0.000264</td>\n",
       "      <td>0.069938</td>\n",
       "      <td>0.068939</td>\n",
       "      <td>0.037500</td>\n",
       "      <td>0.051681</td>\n",
       "      <td>...</td>\n",
       "      <td>NaN</td>\n",
       "      <td>NaN</td>\n",
       "      <td>NaN</td>\n",
       "      <td>NaN</td>\n",
       "      <td>NaN</td>\n",
       "      <td>NaN</td>\n",
       "      <td>NaN</td>\n",
       "      <td>NaN</td>\n",
       "      <td>NaN</td>\n",
       "      <td>NaN</td>\n",
       "    </tr>\n",
       "    <tr>\n",
       "      <th>1</th>\n",
       "      <td>1</td>\n",
       "      <td>0.000000</td>\n",
       "      <td>0.110056</td>\n",
       "      <td>0.028342</td>\n",
       "      <td>0.005549</td>\n",
       "      <td>0.000112</td>\n",
       "      <td>0.054326</td>\n",
       "      <td>0.100591</td>\n",
       "      <td>0.241253</td>\n",
       "      <td>0.050987</td>\n",
       "      <td>...</td>\n",
       "      <td>NaN</td>\n",
       "      <td>NaN</td>\n",
       "      <td>NaN</td>\n",
       "      <td>NaN</td>\n",
       "      <td>NaN</td>\n",
       "      <td>NaN</td>\n",
       "      <td>NaN</td>\n",
       "      <td>NaN</td>\n",
       "      <td>NaN</td>\n",
       "      <td>NaN</td>\n",
       "    </tr>\n",
       "    <tr>\n",
       "      <th>2</th>\n",
       "      <td>2</td>\n",
       "      <td>0.000000</td>\n",
       "      <td>0.099415</td>\n",
       "      <td>0.036189</td>\n",
       "      <td>0.451519</td>\n",
       "      <td>0.003989</td>\n",
       "      <td>0.144118</td>\n",
       "      <td>0.002527</td>\n",
       "      <td>NaN</td>\n",
       "      <td>0.007274</td>\n",
       "      <td>...</td>\n",
       "      <td>NaN</td>\n",
       "      <td>NaN</td>\n",
       "      <td>NaN</td>\n",
       "      <td>NaN</td>\n",
       "      <td>NaN</td>\n",
       "      <td>NaN</td>\n",
       "      <td>NaN</td>\n",
       "      <td>NaN</td>\n",
       "      <td>NaN</td>\n",
       "      <td>NaN</td>\n",
       "    </tr>\n",
       "    <tr>\n",
       "      <th>3</th>\n",
       "      <td>3</td>\n",
       "      <td>0.000000</td>\n",
       "      <td>0.112787</td>\n",
       "      <td>0.012471</td>\n",
       "      <td>0.488938</td>\n",
       "      <td>0.000219</td>\n",
       "      <td>0.123388</td>\n",
       "      <td>0.096170</td>\n",
       "      <td>0.278405</td>\n",
       "      <td>0.087824</td>\n",
       "      <td>...</td>\n",
       "      <td>NaN</td>\n",
       "      <td>NaN</td>\n",
       "      <td>NaN</td>\n",
       "      <td>NaN</td>\n",
       "      <td>NaN</td>\n",
       "      <td>NaN</td>\n",
       "      <td>NaN</td>\n",
       "      <td>NaN</td>\n",
       "      <td>NaN</td>\n",
       "      <td>NaN</td>\n",
       "    </tr>\n",
       "    <tr>\n",
       "      <th>4</th>\n",
       "      <td>4</td>\n",
       "      <td>0.000000</td>\n",
       "      <td>0.127515</td>\n",
       "      <td>0.011580</td>\n",
       "      <td>0.169452</td>\n",
       "      <td>0.000102</td>\n",
       "      <td>0.090969</td>\n",
       "      <td>0.063301</td>\n",
       "      <td>NaN</td>\n",
       "      <td>0.091628</td>\n",
       "      <td>...</td>\n",
       "      <td>0.05156</td>\n",
       "      <td>NaN</td>\n",
       "      <td>NaN</td>\n",
       "      <td>NaN</td>\n",
       "      <td>NaN</td>\n",
       "      <td>NaN</td>\n",
       "      <td>NaN</td>\n",
       "      <td>NaN</td>\n",
       "      <td>NaN</td>\n",
       "      <td>NaN</td>\n",
       "    </tr>\n",
       "    <tr>\n",
       "      <th>...</th>\n",
       "      <td>...</td>\n",
       "      <td>...</td>\n",
       "      <td>...</td>\n",
       "      <td>...</td>\n",
       "      <td>...</td>\n",
       "      <td>...</td>\n",
       "      <td>...</td>\n",
       "      <td>...</td>\n",
       "      <td>...</td>\n",
       "      <td>...</td>\n",
       "      <td>...</td>\n",
       "      <td>...</td>\n",
       "      <td>...</td>\n",
       "      <td>...</td>\n",
       "      <td>...</td>\n",
       "      <td>...</td>\n",
       "      <td>...</td>\n",
       "      <td>...</td>\n",
       "      <td>...</td>\n",
       "      <td>...</td>\n",
       "      <td>...</td>\n",
       "    </tr>\n",
       "    <tr>\n",
       "      <th>158</th>\n",
       "      <td>158</td>\n",
       "      <td>0.000000</td>\n",
       "      <td>0.088129</td>\n",
       "      <td>0.006900</td>\n",
       "      <td>0.054479</td>\n",
       "      <td>0.000305</td>\n",
       "      <td>0.003563</td>\n",
       "      <td>0.119270</td>\n",
       "      <td>NaN</td>\n",
       "      <td>0.098547</td>\n",
       "      <td>...</td>\n",
       "      <td>NaN</td>\n",
       "      <td>NaN</td>\n",
       "      <td>NaN</td>\n",
       "      <td>NaN</td>\n",
       "      <td>0.009000</td>\n",
       "      <td>NaN</td>\n",
       "      <td>NaN</td>\n",
       "      <td>NaN</td>\n",
       "      <td>NaN</td>\n",
       "      <td>NaN</td>\n",
       "    </tr>\n",
       "    <tr>\n",
       "      <th>159</th>\n",
       "      <td>159</td>\n",
       "      <td>0.000000</td>\n",
       "      <td>0.111968</td>\n",
       "      <td>0.008397</td>\n",
       "      <td>0.018586</td>\n",
       "      <td>0.000275</td>\n",
       "      <td>0.147892</td>\n",
       "      <td>0.094150</td>\n",
       "      <td>0.030337</td>\n",
       "      <td>0.059691</td>\n",
       "      <td>...</td>\n",
       "      <td>NaN</td>\n",
       "      <td>0.161034</td>\n",
       "      <td>NaN</td>\n",
       "      <td>NaN</td>\n",
       "      <td>0.028462</td>\n",
       "      <td>NaN</td>\n",
       "      <td>0.488987</td>\n",
       "      <td>NaN</td>\n",
       "      <td>NaN</td>\n",
       "      <td>NaN</td>\n",
       "    </tr>\n",
       "    <tr>\n",
       "      <th>160</th>\n",
       "      <td>160</td>\n",
       "      <td>0.000004</td>\n",
       "      <td>0.137674</td>\n",
       "      <td>0.012352</td>\n",
       "      <td>0.064984</td>\n",
       "      <td>0.000180</td>\n",
       "      <td>0.001338</td>\n",
       "      <td>0.101286</td>\n",
       "      <td>0.240066</td>\n",
       "      <td>0.032377</td>\n",
       "      <td>...</td>\n",
       "      <td>NaN</td>\n",
       "      <td>NaN</td>\n",
       "      <td>NaN</td>\n",
       "      <td>NaN</td>\n",
       "      <td>0.019597</td>\n",
       "      <td>NaN</td>\n",
       "      <td>0.020682</td>\n",
       "      <td>NaN</td>\n",
       "      <td>NaN</td>\n",
       "      <td>NaN</td>\n",
       "    </tr>\n",
       "    <tr>\n",
       "      <th>161</th>\n",
       "      <td>161</td>\n",
       "      <td>0.000001</td>\n",
       "      <td>0.087263</td>\n",
       "      <td>0.098156</td>\n",
       "      <td>0.050554</td>\n",
       "      <td>0.000127</td>\n",
       "      <td>0.021749</td>\n",
       "      <td>0.128762</td>\n",
       "      <td>0.004767</td>\n",
       "      <td>0.049093</td>\n",
       "      <td>...</td>\n",
       "      <td>NaN</td>\n",
       "      <td>NaN</td>\n",
       "      <td>NaN</td>\n",
       "      <td>NaN</td>\n",
       "      <td>0.047158</td>\n",
       "      <td>NaN</td>\n",
       "      <td>NaN</td>\n",
       "      <td>NaN</td>\n",
       "      <td>NaN</td>\n",
       "      <td>NaN</td>\n",
       "    </tr>\n",
       "    <tr>\n",
       "      <th>162</th>\n",
       "      <td>162</td>\n",
       "      <td>0.000000</td>\n",
       "      <td>0.120726</td>\n",
       "      <td>0.004513</td>\n",
       "      <td>0.307701</td>\n",
       "      <td>0.000137</td>\n",
       "      <td>0.128158</td>\n",
       "      <td>0.036720</td>\n",
       "      <td>NaN</td>\n",
       "      <td>0.093839</td>\n",
       "      <td>...</td>\n",
       "      <td>NaN</td>\n",
       "      <td>NaN</td>\n",
       "      <td>NaN</td>\n",
       "      <td>0.048004</td>\n",
       "      <td>0.136763</td>\n",
       "      <td>NaN</td>\n",
       "      <td>0.012506</td>\n",
       "      <td>NaN</td>\n",
       "      <td>NaN</td>\n",
       "      <td>NaN</td>\n",
       "    </tr>\n",
       "  </tbody>\n",
       "</table>\n",
       "<p>163 rows × 33 columns</p>\n",
       "</div>"
      ],
      "text/plain": [
       "     Unnamed: 0         0         1         2         4         7         8  \\\n",
       "0             0  0.000000  0.149717  0.023092  0.188801  0.000264  0.069938   \n",
       "1             1  0.000000  0.110056  0.028342  0.005549  0.000112  0.054326   \n",
       "2             2  0.000000  0.099415  0.036189  0.451519  0.003989  0.144118   \n",
       "3             3  0.000000  0.112787  0.012471  0.488938  0.000219  0.123388   \n",
       "4             4  0.000000  0.127515  0.011580  0.169452  0.000102  0.090969   \n",
       "..          ...       ...       ...       ...       ...       ...       ...   \n",
       "158         158  0.000000  0.088129  0.006900  0.054479  0.000305  0.003563   \n",
       "159         159  0.000000  0.111968  0.008397  0.018586  0.000275  0.147892   \n",
       "160         160  0.000004  0.137674  0.012352  0.064984  0.000180  0.001338   \n",
       "161         161  0.000001  0.087263  0.098156  0.050554  0.000127  0.021749   \n",
       "162         162  0.000000  0.120726  0.004513  0.307701  0.000137  0.128158   \n",
       "\n",
       "           11        13        17  ...       27        32  31        28  \\\n",
       "0    0.068939  0.037500  0.051681  ...      NaN       NaN NaN       NaN   \n",
       "1    0.100591  0.241253  0.050987  ...      NaN       NaN NaN       NaN   \n",
       "2    0.002527       NaN  0.007274  ...      NaN       NaN NaN       NaN   \n",
       "3    0.096170  0.278405  0.087824  ...      NaN       NaN NaN       NaN   \n",
       "4    0.063301       NaN  0.091628  ...  0.05156       NaN NaN       NaN   \n",
       "..        ...       ...       ...  ...      ...       ...  ..       ...   \n",
       "158  0.119270       NaN  0.098547  ...      NaN       NaN NaN       NaN   \n",
       "159  0.094150  0.030337  0.059691  ...      NaN  0.161034 NaN       NaN   \n",
       "160  0.101286  0.240066  0.032377  ...      NaN       NaN NaN       NaN   \n",
       "161  0.128762  0.004767  0.049093  ...      NaN       NaN NaN       NaN   \n",
       "162  0.036720       NaN  0.093839  ...      NaN       NaN NaN  0.048004   \n",
       "\n",
       "            6  10        12  18  15  30  \n",
       "0         NaN NaN       NaN NaN NaN NaN  \n",
       "1         NaN NaN       NaN NaN NaN NaN  \n",
       "2         NaN NaN       NaN NaN NaN NaN  \n",
       "3         NaN NaN       NaN NaN NaN NaN  \n",
       "4         NaN NaN       NaN NaN NaN NaN  \n",
       "..        ...  ..       ...  ..  ..  ..  \n",
       "158  0.009000 NaN       NaN NaN NaN NaN  \n",
       "159  0.028462 NaN  0.488987 NaN NaN NaN  \n",
       "160  0.019597 NaN  0.020682 NaN NaN NaN  \n",
       "161  0.047158 NaN       NaN NaN NaN NaN  \n",
       "162  0.136763 NaN  0.012506 NaN NaN NaN  \n",
       "\n",
       "[163 rows x 33 columns]"
      ]
     },
     "execution_count": 75,
     "metadata": {},
     "output_type": "execute_result"
    }
   ],
   "source": [
    "pd.read_csv('results.csv')"
   ]
  },
  {
   "cell_type": "code",
   "execution_count": 96,
   "id": "f5820024-3e7c-4b9d-b0bd-bd177cdf1b28",
   "metadata": {
    "scrolled": true
   },
   "outputs": [
    {
     "data": {
      "application/vnd.jupyter.widget-view+json": {
       "model_id": "66dcd36930dc4313bad4310787c4d40f",
       "version_major": 2,
       "version_minor": 0
      },
      "text/plain": [
       "finding centroids:   0%|          | 0/13 [00:00<?, ?it/s]"
      ]
     },
     "metadata": {},
     "output_type": "display_data"
    },
    {
     "data": {
      "application/vnd.jupyter.widget-view+json": {
       "model_id": "a8f451eb0e2940808a4b0d12041ce40a",
       "version_major": 2,
       "version_minor": 0
      },
      "text/plain": [
       "class growing:   0%|          | 0/81 [00:00<?, ?it/s]"
      ]
     },
     "metadata": {},
     "output_type": "display_data"
    }
   ],
   "source": [
    "img_res = process_image(img := RGB2HSL(imgRGB := np.array(ds['validation'].select([467])['image'][0])),\n",
    "                        img_map := RGB2gray(np.array(ds['validation'].select([467])['semantic_segmentation'])[0]), criteria)"
   ]
  },
  {
   "cell_type": "code",
   "execution_count": 97,
   "id": "67b0386e-3021-4b5a-b87c-3ea3db1d52e0",
   "metadata": {},
   "outputs": [],
   "source": [
    "show_image(imgRGB[:, :, ::-1])\n",
    "show_image(img_map)"
   ]
  },
  {
   "cell_type": "code",
   "execution_count": 98,
   "id": "8a7260c7-fec8-46e1-9977-ab02cc77430e",
   "metadata": {},
   "outputs": [],
   "source": [
    "show_image(img_res)\n",
    "show_image(imgRGB[:, :, ::-1] * np.array([bl := (img_res == 0), bl, bl]).transpose(1,2,0))"
   ]
  },
  {
   "cell_type": "code",
   "execution_count": 99,
   "id": "7a8bd4fc-518a-4a3d-8812-0be223e393f0",
   "metadata": {},
   "outputs": [
    {
     "data": {
      "application/vnd.jupyter.widget-view+json": {
       "model_id": "d0e91e972a6847b9ab6bb9840d0a4789",
       "version_major": 2,
       "version_minor": 0
      },
      "text/plain": [
       "calculating IoU:   0%|          | 0/13 [00:00<?, ?it/s]"
      ]
     },
     "metadata": {},
     "output_type": "display_data"
    }
   ],
   "source": [
    "results[467] = intersection_over_union(img_res, img_map) "
   ]
  },
  {
   "cell_type": "code",
   "execution_count": 100,
   "id": "5938a7ea-fee5-4afd-92df-b47eae4b0eeb",
   "metadata": {},
   "outputs": [
    {
     "data": {
      "text/plain": [
       "{np.uint8(0): np.float64(0.0),\n",
       " np.uint8(1): np.float64(0.06611614526106291),\n",
       " np.uint8(4): np.float64(0.30271457535480967),\n",
       " np.uint8(7): np.float64(0.0005304551025593063),\n",
       " np.uint8(8): np.float64(0.04494591570309586),\n",
       " np.uint8(11): np.float64(0.10049220156346379),\n",
       " np.uint8(13): np.float64(0.0023958244202960553),\n",
       " np.uint8(17): np.float64(0.05053902544200086),\n",
       " np.uint8(20): np.float64(0.21052631578947367),\n",
       " np.uint8(24): np.float64(0.018175880039191742),\n",
       " np.uint8(25): np.float64(0.0021279863106860013),\n",
       " np.uint8(26): np.float64(0.18384957419549325),\n",
       " np.uint8(33): np.float64(0.03564533815194057),\n",
       " 'mean': np.float64(0.07831224902569799),\n",
       " 'weighted_mean': np.float64(0.05327988613481331)}"
      ]
     },
     "execution_count": 100,
     "metadata": {},
     "output_type": "execute_result"
    }
   ],
   "source": [
    "results[467]"
   ]
  },
  {
   "cell_type": "code",
   "execution_count": 31,
   "id": "0aa6f52e-9e5a-430e-bdc6-dd64841584fc",
   "metadata": {
    "scrolled": true
   },
   "outputs": [
    {
     "name": "stdout",
     "output_type": "stream",
     "text": [
      "[275 798]\n",
      "[315 793]\n",
      "[ 950 1319]\n",
      "[114   9]\n",
      "[  12 1597]\n",
      "[ 917 2040]\n",
      "[1000  731]\n",
      "[ 44 963]\n",
      "[ 221 1792]\n",
      "[ 238 1234]\n",
      "[317 788]\n",
      "[317 775]\n",
      "[348 667]\n",
      "[328 707]\n",
      "[331 791]\n",
      "[379 994]\n",
      "[378 960]\n",
      "[371 628]\n",
      "[384 656]\n",
      "[395 672]\n",
      "[396 684]\n",
      "[401 748]\n",
      "[395 698]\n",
      "[395 722]\n",
      "[397 666]\n",
      "[415 484]\n",
      "[ 414 1138]\n",
      "[ 415 1154]\n",
      "[419 965]\n",
      "[418 971]\n",
      "[732 985]\n",
      "[591 209]\n",
      "[ 420 1296]\n",
      "[ 426 1419]\n",
      "[ 439 1777]\n",
      "[  32 1046]\n",
      "[ 173 1244]\n",
      "[ 187 1409]\n",
      "[ 178 1722]\n",
      "[ 149 1040]\n",
      "[  96 1091]\n",
      "[ 160 1094]\n",
      "[ 219 1097]\n",
      "[ 286 1045]\n",
      "[ 278 1100]\n",
      "[ 242 1387]\n",
      "[ 249 1427]\n",
      "[262 975]\n",
      "[ 271 1787]\n",
      "[ 231 1236]\n",
      "[ 269 1238]\n",
      "[269 820]\n",
      "[293 861]\n",
      "[341 771]\n",
      "[ 346 1292]\n",
      "[367 682]\n",
      "[336 935]\n",
      "[370 748]\n",
      "[381 937]\n",
      "[273 813]\n",
      "[272 827]\n",
      "[381 611]\n",
      "[326 935]\n",
      "[355 934]\n",
      "[349 976]\n",
      "[232 417]\n",
      "[ 14 903]\n",
      "[275 995]\n",
      "[ 357 1823]\n",
      "[345 776]\n",
      "[344 694]\n",
      "[357 696]\n",
      "[359 680]\n",
      "[ 385 1417]\n",
      "[ 385 1475]\n",
      "[ 389 1331]\n",
      "[379 684]\n",
      "[379 697]\n",
      "[ 410 1745]\n",
      "[ 410 1309]\n",
      "[ 412 1419]\n",
      "[ 529 1703]\n",
      "[545 163]\n",
      "[123 933]\n",
      "[254 805]\n",
      "[458 615]\n",
      "[428 903]\n",
      "[396 846]\n",
      "[ 351 1184]\n",
      "[ 360 1104]\n",
      "[ 369 1045]\n"
     ]
    }
   ],
   "source": [
    "c_img = img_map.copy()\n",
    "\n",
    "seeds = []\n",
    "for l in np.unique(img_map):\n",
    "    seeds += find_centroids(get_same_color_pixels(img_map, l))\n",
    "\n",
    "for c in seeds:\n",
    "    print(c)\n",
    "    if c_img[*c] == 0:\n",
    "        for x in range(-2, 3):\n",
    "            for y in range(-2, 3):\n",
    "                c_img[c[0] + x, c[1] + y] = 255\n",
    "show_image(c_img)"
   ]
  },
  {
   "cell_type": "code",
   "execution_count": null,
   "id": "0d2f9fe3-5a74-4512-9822-08d2ff41e28e",
   "metadata": {},
   "outputs": [],
   "source": [
    "cv2.imwrite('source.jpg', imgRGB)\n",
    "cv2.imwrite('mask.jpg', img_res)\n",
    "cv2.imwrite('compare.jpg', img[:, :, 0] * (img_res == 0))"
   ]
  },
  {
   "cell_type": "code",
   "execution_count": null,
   "id": "d0b6a345-4342-404d-acd3-435b638ac669",
   "metadata": {},
   "outputs": [],
   "source": [
    "cv2.imwrite('centroids.jpg', c_img)"
   ]
  }
 ],
 "metadata": {
  "kernelspec": {
   "display_name": "Python 3 (ipykernel)",
   "language": "python",
   "name": "python3"
  },
  "language_info": {
   "codemirror_mode": {
    "name": "ipython",
    "version": 3
   },
   "file_extension": ".py",
   "mimetype": "text/x-python",
   "name": "python",
   "nbconvert_exporter": "python",
   "pygments_lexer": "ipython3",
   "version": "3.12.3"
  }
 },
 "nbformat": 4,
 "nbformat_minor": 5
}
